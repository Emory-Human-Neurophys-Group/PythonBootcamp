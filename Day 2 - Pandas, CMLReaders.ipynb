{
 "cells": [
  {
   "cell_type": "markdown",
   "metadata": {},
   "source": [
    "## Working with Pandas\n",
    "\n",
    "Pandas is a Python module built on top of Numpy, allowing users to store and manipulate flexible data array objects with row and column headers. Essentially, it provides some Excel-like functionality to Python. The core of pandas is the <b>DataFrame</b>, which you can think of as a table (or numpy recarray) that supports any kind of data and has explicit labels for rows and columns. \n",
    "\n",
    "Before getting into DataFrames, let's first discuss the <b>Series</b> object -- pandas' version of an array, but it has some unique properties. For example, it can be indexed by non-integer data (unlike numpy arrays): "
   ]
  },
  {
   "cell_type": "code",
   "execution_count": 1,
   "metadata": {
    "collapsed": false,
    "jupyter": {
     "outputs_hidden": false
    }
   },
   "outputs": [
    {
     "data": {
      "text/plain": [
       "a    0.25\n",
       "b    0.50\n",
       "c    0.75\n",
       "d    1.00\n",
       "dtype: float64"
      ]
     },
     "execution_count": 1,
     "metadata": {},
     "output_type": "execute_result"
    }
   ],
   "source": [
    "import pandas as pd\n",
    "import numpy as np\n",
    "\n",
    "#Create a new Series object with strings as indices. By default, Series will come with standard integer indices.\n",
    "data = pd.Series([0.25, 0.5, 0.75, 1.0],\n",
    "                 index=['a', 'b', 'c', 'd'])\n",
    "data"
   ]
  },
  {
   "cell_type": "code",
   "execution_count": 2,
   "metadata": {
    "collapsed": false,
    "jupyter": {
     "outputs_hidden": false
    }
   },
   "outputs": [
    {
     "data": {
      "text/plain": [
       "0.5"
      ]
     },
     "execution_count": 2,
     "metadata": {},
     "output_type": "execute_result"
    }
   ],
   "source": [
    "#data can be retrieved via string indices (like a Python dictionary)\n",
    "data['b']"
   ]
  },
  {
   "cell_type": "code",
   "execution_count": 3,
   "metadata": {
    "collapsed": false,
    "jupyter": {
     "outputs_hidden": false
    }
   },
   "outputs": [
    {
     "data": {
      "text/plain": [
       "California    38332521\n",
       "Texas         26448193\n",
       "New York      19651127\n",
       "Florida       19552860\n",
       "Illinois      12882135\n",
       "dtype: int64"
      ]
     },
     "execution_count": 3,
     "metadata": {},
     "output_type": "execute_result"
    }
   ],
   "source": [
    "#or even more dramatically:\n",
    "population_dict = {'California': 38332521,\n",
    "                   'Texas': 26448193,\n",
    "                   'New York': 19651127,\n",
    "                   'Florida': 19552860,\n",
    "                   'Illinois': 12882135}\n",
    "population = pd.Series(population_dict)\n",
    "population"
   ]
  },
  {
   "cell_type": "code",
   "execution_count": 4,
   "metadata": {
    "collapsed": false,
    "jupyter": {
     "outputs_hidden": false
    }
   },
   "outputs": [
    {
     "data": {
      "text/plain": [
       "California    38332521\n",
       "Texas         26448193\n",
       "New York      19651127\n",
       "dtype: int64"
      ]
     },
     "execution_count": 4,
     "metadata": {},
     "output_type": "execute_result"
    }
   ],
   "source": [
    "#Series objects can be sliced, just like numpy arrays\n",
    "population['California':'New York']"
   ]
  },
  {
   "cell_type": "markdown",
   "metadata": {},
   "source": [
    "A DataFrame is a sequence of of aligned Series objects, essentially turning indexed lists into indexed 2D arrays, or tables. For example, let's create a table of information about our states: "
   ]
  },
  {
   "cell_type": "code",
   "execution_count": 5,
   "metadata": {
    "collapsed": false,
    "jupyter": {
     "outputs_hidden": false
    }
   },
   "outputs": [
    {
     "data": {
      "text/plain": [
       "California    423967\n",
       "Texas         695662\n",
       "New York      141297\n",
       "Florida       170312\n",
       "Illinois      149995\n",
       "dtype: int64"
      ]
     },
     "execution_count": 5,
     "metadata": {},
     "output_type": "execute_result"
    }
   ],
   "source": [
    "#Create a new Series object with info about state areas\n",
    "area_dict = {'California': 423967, 'Texas': 695662, 'New York': 141297,\n",
    "             'Florida': 170312, 'Illinois': 149995}\n",
    "area = pd.Series(area_dict)\n",
    "area"
   ]
  },
  {
   "cell_type": "code",
   "execution_count": 6,
   "metadata": {
    "collapsed": false,
    "jupyter": {
     "outputs_hidden": false
    }
   },
   "outputs": [
    {
     "data": {
      "text/html": [
       "<div>\n",
       "<style scoped>\n",
       "    .dataframe tbody tr th:only-of-type {\n",
       "        vertical-align: middle;\n",
       "    }\n",
       "\n",
       "    .dataframe tbody tr th {\n",
       "        vertical-align: top;\n",
       "    }\n",
       "\n",
       "    .dataframe thead th {\n",
       "        text-align: right;\n",
       "    }\n",
       "</style>\n",
       "<table border=\"1\" class=\"dataframe\">\n",
       "  <thead>\n",
       "    <tr style=\"text-align: right;\">\n",
       "      <th></th>\n",
       "      <th>population</th>\n",
       "      <th>area</th>\n",
       "    </tr>\n",
       "  </thead>\n",
       "  <tbody>\n",
       "    <tr>\n",
       "      <th>California</th>\n",
       "      <td>38332521</td>\n",
       "      <td>423967</td>\n",
       "    </tr>\n",
       "    <tr>\n",
       "      <th>Texas</th>\n",
       "      <td>26448193</td>\n",
       "      <td>695662</td>\n",
       "    </tr>\n",
       "    <tr>\n",
       "      <th>New York</th>\n",
       "      <td>19651127</td>\n",
       "      <td>141297</td>\n",
       "    </tr>\n",
       "    <tr>\n",
       "      <th>Florida</th>\n",
       "      <td>19552860</td>\n",
       "      <td>170312</td>\n",
       "    </tr>\n",
       "    <tr>\n",
       "      <th>Illinois</th>\n",
       "      <td>12882135</td>\n",
       "      <td>149995</td>\n",
       "    </tr>\n",
       "  </tbody>\n",
       "</table>\n",
       "</div>"
      ],
      "text/plain": [
       "            population    area\n",
       "California    38332521  423967\n",
       "Texas         26448193  695662\n",
       "New York      19651127  141297\n",
       "Florida       19552860  170312\n",
       "Illinois      12882135  149995"
      ]
     },
     "execution_count": 6,
     "metadata": {},
     "output_type": "execute_result"
    }
   ],
   "source": [
    "states = pd.DataFrame({'population': population,\n",
    "                       'area': area})\n",
    "states"
   ]
  },
  {
   "cell_type": "code",
   "execution_count": 7,
   "metadata": {
    "collapsed": false,
    "jupyter": {
     "outputs_hidden": false
    }
   },
   "outputs": [
    {
     "name": "stdout",
     "output_type": "stream",
     "text": [
      "Index(['California', 'Texas', 'New York', 'Florida', 'Illinois'], dtype='object')\n",
      "Index(['population', 'area'], dtype='object')\n"
     ]
    }
   ],
   "source": [
    "#See which indices we're using\n",
    "print(states.index)\n",
    "\n",
    "#See our column headers\n",
    "print(states.columns)"
   ]
  },
  {
   "cell_type": "markdown",
   "metadata": {},
   "source": [
    "Do note that indexing into DataFrames works a little differently than arrays. In many ways, pandas objects are more like dictionaries than arrays (but really, more of a dictionary-array hybrid):"
   ]
  },
  {
   "cell_type": "code",
   "execution_count": 8,
   "metadata": {},
   "outputs": [],
   "source": [
    "#Try running states[0]"
   ]
  },
  {
   "cell_type": "code",
   "execution_count": 9,
   "metadata": {
    "collapsed": false,
    "jupyter": {
     "outputs_hidden": false
    }
   },
   "outputs": [
    {
     "data": {
      "text/plain": [
       "California    38332521\n",
       "Texas         26448193\n",
       "New York      19651127\n",
       "Florida       19552860\n",
       "Illinois      12882135\n",
       "Name: population, dtype: int64"
      ]
     },
     "execution_count": 9,
     "metadata": {},
     "output_type": "execute_result"
    }
   ],
   "source": [
    "#But now try\n",
    "states['population']"
   ]
  },
  {
   "cell_type": "code",
   "execution_count": 10,
   "metadata": {
    "collapsed": false,
    "jupyter": {
     "outputs_hidden": false
    }
   },
   "outputs": [
    {
     "data": {
      "text/plain": [
       "California    38332521\n",
       "Texas         26448193\n",
       "New York      19651127\n",
       "Florida       19552860\n",
       "Illinois      12882135\n",
       "Name: population, dtype: int64"
      ]
     },
     "execution_count": 10,
     "metadata": {},
     "output_type": "execute_result"
    }
   ],
   "source": [
    "#Also note that using a column name as an attribute will work\n",
    "states.population\n",
    "\n",
    "#though in general the dictionary-style indexing is safer and can work with non-strings."
   ]
  },
  {
   "cell_type": "markdown",
   "metadata": {},
   "source": [
    "Sometimes you really want to go back to the implicit integer index. There's a really easy way to do this, the iloc indexer: "
   ]
  },
  {
   "cell_type": "code",
   "execution_count": 11,
   "metadata": {
    "collapsed": false,
    "jupyter": {
     "outputs_hidden": false
    }
   },
   "outputs": [
    {
     "data": {
      "text/plain": [
       "population    38332521\n",
       "area            423967\n",
       "Name: California, dtype: int64"
      ]
     },
     "execution_count": 11,
     "metadata": {},
     "output_type": "execute_result"
    }
   ],
   "source": [
    "#Get the data for 'California' without using the explicit index\n",
    "states.iloc[0]"
   ]
  },
  {
   "cell_type": "code",
   "execution_count": 12,
   "metadata": {
    "collapsed": false,
    "jupyter": {
     "outputs_hidden": false
    }
   },
   "outputs": [
    {
     "data": {
      "text/html": [
       "<div>\n",
       "<style scoped>\n",
       "    .dataframe tbody tr th:only-of-type {\n",
       "        vertical-align: middle;\n",
       "    }\n",
       "\n",
       "    .dataframe tbody tr th {\n",
       "        vertical-align: top;\n",
       "    }\n",
       "\n",
       "    .dataframe thead th {\n",
       "        text-align: right;\n",
       "    }\n",
       "</style>\n",
       "<table border=\"1\" class=\"dataframe\">\n",
       "  <thead>\n",
       "    <tr style=\"text-align: right;\">\n",
       "      <th></th>\n",
       "      <th>population</th>\n",
       "      <th>area</th>\n",
       "      <th>density</th>\n",
       "    </tr>\n",
       "  </thead>\n",
       "  <tbody>\n",
       "    <tr>\n",
       "      <th>California</th>\n",
       "      <td>38332521</td>\n",
       "      <td>423967</td>\n",
       "      <td>90.413926</td>\n",
       "    </tr>\n",
       "    <tr>\n",
       "      <th>Texas</th>\n",
       "      <td>26448193</td>\n",
       "      <td>695662</td>\n",
       "      <td>38.018740</td>\n",
       "    </tr>\n",
       "    <tr>\n",
       "      <th>New York</th>\n",
       "      <td>19651127</td>\n",
       "      <td>141297</td>\n",
       "      <td>139.076746</td>\n",
       "    </tr>\n",
       "    <tr>\n",
       "      <th>Florida</th>\n",
       "      <td>19552860</td>\n",
       "      <td>170312</td>\n",
       "      <td>114.806121</td>\n",
       "    </tr>\n",
       "    <tr>\n",
       "      <th>Illinois</th>\n",
       "      <td>12882135</td>\n",
       "      <td>149995</td>\n",
       "      <td>85.883763</td>\n",
       "    </tr>\n",
       "  </tbody>\n",
       "</table>\n",
       "</div>"
      ],
      "text/plain": [
       "            population    area     density\n",
       "California    38332521  423967   90.413926\n",
       "Texas         26448193  695662   38.018740\n",
       "New York      19651127  141297  139.076746\n",
       "Florida       19552860  170312  114.806121\n",
       "Illinois      12882135  149995   85.883763"
      ]
     },
     "execution_count": 12,
     "metadata": {},
     "output_type": "execute_result"
    }
   ],
   "source": [
    "#Want to add a new column? It's easy! Just as if you were manipulating a Python dictionary\n",
    "states['density'] = states['population'] / states['area']\n",
    "states"
   ]
  },
  {
   "cell_type": "code",
   "execution_count": 13,
   "metadata": {
    "collapsed": false,
    "jupyter": {
     "outputs_hidden": false
    }
   },
   "outputs": [
    {
     "data": {
      "text/html": [
       "<div>\n",
       "<style scoped>\n",
       "    .dataframe tbody tr th:only-of-type {\n",
       "        vertical-align: middle;\n",
       "    }\n",
       "\n",
       "    .dataframe tbody tr th {\n",
       "        vertical-align: top;\n",
       "    }\n",
       "\n",
       "    .dataframe thead th {\n",
       "        text-align: right;\n",
       "    }\n",
       "</style>\n",
       "<table border=\"1\" class=\"dataframe\">\n",
       "  <thead>\n",
       "    <tr style=\"text-align: right;\">\n",
       "      <th></th>\n",
       "      <th>population</th>\n",
       "      <th>density</th>\n",
       "    </tr>\n",
       "  </thead>\n",
       "  <tbody>\n",
       "    <tr>\n",
       "      <th>New York</th>\n",
       "      <td>19651127</td>\n",
       "      <td>139.076746</td>\n",
       "    </tr>\n",
       "    <tr>\n",
       "      <th>Florida</th>\n",
       "      <td>19552860</td>\n",
       "      <td>114.806121</td>\n",
       "    </tr>\n",
       "  </tbody>\n",
       "</table>\n",
       "</div>"
      ],
      "text/plain": [
       "          population     density\n",
       "New York    19651127  139.076746\n",
       "Florida     19552860  114.806121"
      ]
     },
     "execution_count": 13,
     "metadata": {},
     "output_type": "execute_result"
    }
   ],
   "source": [
    "#Pandas methods even support combinations of indexing/slicing/masking. The 'loc' method lets us only refer to explicit indices (the opposite of the iloc method)\n",
    "states.loc[states['density']>100, ['population', 'density']]"
   ]
  },
  {
   "cell_type": "markdown",
   "metadata": {},
   "source": [
    "### Manipulating pandas DataFrames"
   ]
  },
  {
   "cell_type": "markdown",
   "metadata": {},
   "source": [
    "Pandas has some fantastic string methods for finding and manipulating data in a DataFrame."
   ]
  },
  {
   "cell_type": "code",
   "execution_count": 14,
   "metadata": {
    "collapsed": false,
    "jupyter": {
     "outputs_hidden": false
    }
   },
   "outputs": [
    {
     "data": {
      "text/plain": [
       "0     peter\n",
       "1      Paul\n",
       "2      MARY\n",
       "3    gEORGE\n",
       "4      mark\n",
       "dtype: object"
      ]
     },
     "execution_count": 14,
     "metadata": {},
     "output_type": "execute_result"
    }
   ],
   "source": [
    "data = ['peter', 'Paul', 'MARY', 'gEORGE', 'mark']\n",
    "names = pd.Series(data)\n",
    "names"
   ]
  },
  {
   "cell_type": "code",
   "execution_count": 15,
   "metadata": {
    "collapsed": false,
    "jupyter": {
     "outputs_hidden": false
    }
   },
   "outputs": [
    {
     "data": {
      "text/plain": [
       "0     Peter\n",
       "1      Paul\n",
       "2      Mary\n",
       "3    George\n",
       "4      Mark\n",
       "dtype: object"
      ]
     },
     "execution_count": 15,
     "metadata": {},
     "output_type": "execute_result"
    }
   ],
   "source": [
    "names.str.capitalize()"
   ]
  },
  {
   "cell_type": "code",
   "execution_count": 16,
   "metadata": {
    "collapsed": false,
    "jupyter": {
     "outputs_hidden": false
    }
   },
   "outputs": [
    {
     "data": {
      "text/plain": [
       "0    False\n",
       "1     True\n",
       "2    False\n",
       "3    False\n",
       "4    False\n",
       "dtype: bool"
      ]
     },
     "execution_count": 16,
     "metadata": {},
     "output_type": "execute_result"
    }
   ],
   "source": [
    "names.str.endswith('l')"
   ]
  },
  {
   "cell_type": "markdown",
   "metadata": {},
   "source": [
    "Particularly useful is the .contains() method, which can be used to find strings where they appear in a column. "
   ]
  },
  {
   "cell_type": "code",
   "execution_count": 17,
   "metadata": {
    "collapsed": false,
    "jupyter": {
     "outputs_hidden": false
    }
   },
   "outputs": [
    {
     "data": {
      "text/plain": [
       "0    False\n",
       "1    False\n",
       "2     True\n",
       "3    False\n",
       "4     True\n",
       "dtype: bool"
      ]
     },
     "execution_count": 17,
     "metadata": {},
     "output_type": "execute_result"
    }
   ],
   "source": [
    "names.loc[:] = names.str.capitalize()  #first lets standardize the capitalization\n",
    "names.str.contains('ar')"
   ]
  },
  {
   "cell_type": "markdown",
   "metadata": {},
   "source": [
    "Masking and the .query() method are your friends. You'll find yourself using these often to access subarrays of a dataframe. For example..."
   ]
  },
  {
   "cell_type": "code",
   "execution_count": 18,
   "metadata": {
    "collapsed": false,
    "jupyter": {
     "outputs_hidden": false
    }
   },
   "outputs": [
    {
     "data": {
      "text/html": [
       "<div>\n",
       "<style scoped>\n",
       "    .dataframe tbody tr th:only-of-type {\n",
       "        vertical-align: middle;\n",
       "    }\n",
       "\n",
       "    .dataframe tbody tr th {\n",
       "        vertical-align: top;\n",
       "    }\n",
       "\n",
       "    .dataframe thead th {\n",
       "        text-align: right;\n",
       "    }\n",
       "</style>\n",
       "<table border=\"1\" class=\"dataframe\">\n",
       "  <thead>\n",
       "    <tr style=\"text-align: right;\">\n",
       "      <th></th>\n",
       "      <th>population</th>\n",
       "      <th>area</th>\n",
       "      <th>density</th>\n",
       "    </tr>\n",
       "  </thead>\n",
       "  <tbody>\n",
       "    <tr>\n",
       "      <th>New York</th>\n",
       "      <td>19651127</td>\n",
       "      <td>141297</td>\n",
       "      <td>139.076746</td>\n",
       "    </tr>\n",
       "    <tr>\n",
       "      <th>Florida</th>\n",
       "      <td>19552860</td>\n",
       "      <td>170312</td>\n",
       "      <td>114.806121</td>\n",
       "    </tr>\n",
       "  </tbody>\n",
       "</table>\n",
       "</div>"
      ],
      "text/plain": [
       "          population    area     density\n",
       "New York    19651127  141297  139.076746\n",
       "Florida     19552860  170312  114.806121"
      ]
     },
     "execution_count": 18,
     "metadata": {},
     "output_type": "execute_result"
    }
   ],
   "source": [
    "#Similar to an example we looked at before\n",
    "states[states['density']>100]"
   ]
  },
  {
   "cell_type": "code",
   "execution_count": 19,
   "metadata": {
    "collapsed": false,
    "jupyter": {
     "outputs_hidden": false
    }
   },
   "outputs": [
    {
     "data": {
      "text/html": [
       "<div>\n",
       "<style scoped>\n",
       "    .dataframe tbody tr th:only-of-type {\n",
       "        vertical-align: middle;\n",
       "    }\n",
       "\n",
       "    .dataframe tbody tr th {\n",
       "        vertical-align: top;\n",
       "    }\n",
       "\n",
       "    .dataframe thead th {\n",
       "        text-align: right;\n",
       "    }\n",
       "</style>\n",
       "<table border=\"1\" class=\"dataframe\">\n",
       "  <thead>\n",
       "    <tr style=\"text-align: right;\">\n",
       "      <th></th>\n",
       "      <th>population</th>\n",
       "      <th>area</th>\n",
       "      <th>density</th>\n",
       "    </tr>\n",
       "  </thead>\n",
       "  <tbody>\n",
       "    <tr>\n",
       "      <th>New York</th>\n",
       "      <td>19651127</td>\n",
       "      <td>141297</td>\n",
       "      <td>139.076746</td>\n",
       "    </tr>\n",
       "    <tr>\n",
       "      <th>Florida</th>\n",
       "      <td>19552860</td>\n",
       "      <td>170312</td>\n",
       "      <td>114.806121</td>\n",
       "    </tr>\n",
       "  </tbody>\n",
       "</table>\n",
       "</div>"
      ],
      "text/plain": [
       "          population    area     density\n",
       "New York    19651127  141297  139.076746\n",
       "Florida     19552860  170312  114.806121"
      ]
     },
     "execution_count": 19,
     "metadata": {},
     "output_type": "execute_result"
    }
   ],
   "source": [
    "#Which could also be written as:\n",
    "states.query('density>100')"
   ]
  },
  {
   "cell_type": "markdown",
   "metadata": {},
   "source": [
    "This is just a taste of some of the most useful functionality in Pandas. For a full overview of all pandas functionality, check out this tutorial: https://jakevdp.github.io/PythonDataScienceHandbook/03.00-introduction-to-pandas.html"
   ]
  },
  {
   "cell_type": "markdown",
   "metadata": {},
   "source": [
    "## Explore the RAM database"
   ]
  },
  {
   "cell_type": "markdown",
   "metadata": {},
   "source": [
    "The CML's database of intracranial and scalp EEG comes in a pandas dataframe format. All the pertinent data about each experimental session is recorded in a row of a dataframe. The distributed example data consists of 20 intracranial EEG participants in FR1 (a non-stimulation free-recall experiment) and catFR1 (a non-stimulation categorized free-recall experiment).\n",
    "\n",
    "Let's load the example database to get a better sense of this data format. We're going to use the **CMLLoad** class found in the CMLLoad.py file in this repository, which is a small helper class which will load the example data."
   ]
  },
  {
   "cell_type": "code",
   "execution_count": 20,
   "metadata": {},
   "outputs": [],
   "source": [
    "# First, our import statements.\n",
    "# The CMLLoad class is your gateway to the experimental data, including channels, events, and eeg data.\n",
    "from CMLLoad import CMLLoad\n",
    "\n",
    "# We need to tell CMLLoad what directory contains the experimental data files.\n",
    "# Point this to where they are on your system.\n",
    "load = CMLLoad('./CMLExamples')\n",
    "\n",
    "df = load.Index()"
   ]
  },
  {
   "cell_type": "code",
   "execution_count": 21,
   "metadata": {
    "collapsed": false,
    "jupyter": {
     "outputs_hidden": false
    }
   },
   "outputs": [
    {
     "data": {
      "text/html": [
       "<div>\n",
       "<style scoped>\n",
       "    .dataframe tbody tr th:only-of-type {\n",
       "        vertical-align: middle;\n",
       "    }\n",
       "\n",
       "    .dataframe tbody tr th {\n",
       "        vertical-align: top;\n",
       "    }\n",
       "\n",
       "    .dataframe thead th {\n",
       "        text-align: right;\n",
       "    }\n",
       "</style>\n",
       "<table border=\"1\" class=\"dataframe\">\n",
       "  <thead>\n",
       "    <tr style=\"text-align: right;\">\n",
       "      <th></th>\n",
       "      <th>channels_file</th>\n",
       "      <th>eeg_file</th>\n",
       "      <th>events_file</th>\n",
       "      <th>experiment</th>\n",
       "      <th>session</th>\n",
       "      <th>subject</th>\n",
       "    </tr>\n",
       "  </thead>\n",
       "  <tbody>\n",
       "    <tr>\n",
       "      <th>0</th>\n",
       "      <td>subjects/R1380D/R1380D_FR1_1_channels.csv</td>\n",
       "      <td>subjects/R1380D/R1380D_FR1_1_eeg.h5</td>\n",
       "      <td>subjects/R1380D/R1380D_FR1_1_events.csv</td>\n",
       "      <td>FR1</td>\n",
       "      <td>1</td>\n",
       "      <td>R1380D</td>\n",
       "    </tr>\n",
       "    <tr>\n",
       "      <th>1</th>\n",
       "      <td>subjects/R1380D/R1380D_catFR1_1_channels.csv</td>\n",
       "      <td>subjects/R1380D/R1380D_catFR1_1_eeg.h5</td>\n",
       "      <td>subjects/R1380D/R1380D_catFR1_1_events.csv</td>\n",
       "      <td>catFR1</td>\n",
       "      <td>1</td>\n",
       "      <td>R1380D</td>\n",
       "    </tr>\n",
       "    <tr>\n",
       "      <th>2</th>\n",
       "      <td>subjects/R1380D/R1380D_catFR1_2_channels.csv</td>\n",
       "      <td>subjects/R1380D/R1380D_catFR1_2_eeg.h5</td>\n",
       "      <td>subjects/R1380D/R1380D_catFR1_2_events.csv</td>\n",
       "      <td>catFR1</td>\n",
       "      <td>2</td>\n",
       "      <td>R1380D</td>\n",
       "    </tr>\n",
       "    <tr>\n",
       "      <th>3</th>\n",
       "      <td>subjects/R1380D/R1380D_catFR1_3_channels.csv</td>\n",
       "      <td>subjects/R1380D/R1380D_catFR1_3_eeg.h5</td>\n",
       "      <td>subjects/R1380D/R1380D_catFR1_3_events.csv</td>\n",
       "      <td>catFR1</td>\n",
       "      <td>3</td>\n",
       "      <td>R1380D</td>\n",
       "    </tr>\n",
       "    <tr>\n",
       "      <th>4</th>\n",
       "      <td>subjects/R1380D/R1380D_catFR1_4_channels.csv</td>\n",
       "      <td>subjects/R1380D/R1380D_catFR1_4_eeg.h5</td>\n",
       "      <td>subjects/R1380D/R1380D_catFR1_4_events.csv</td>\n",
       "      <td>catFR1</td>\n",
       "      <td>4</td>\n",
       "      <td>R1380D</td>\n",
       "    </tr>\n",
       "    <tr>\n",
       "      <th>5</th>\n",
       "      <td>subjects/R1111M/R1111M_FR1_0_channels.csv</td>\n",
       "      <td>subjects/R1111M/R1111M_FR1_0_eeg.h5</td>\n",
       "      <td>subjects/R1111M/R1111M_FR1_0_events.csv</td>\n",
       "      <td>FR1</td>\n",
       "      <td>0</td>\n",
       "      <td>R1111M</td>\n",
       "    </tr>\n",
       "    <tr>\n",
       "      <th>6</th>\n",
       "      <td>subjects/R1111M/R1111M_FR1_1_channels.csv</td>\n",
       "      <td>subjects/R1111M/R1111M_FR1_1_eeg.h5</td>\n",
       "      <td>subjects/R1111M/R1111M_FR1_1_events.csv</td>\n",
       "      <td>FR1</td>\n",
       "      <td>1</td>\n",
       "      <td>R1111M</td>\n",
       "    </tr>\n",
       "    <tr>\n",
       "      <th>7</th>\n",
       "      <td>subjects/R1111M/R1111M_FR1_2_channels.csv</td>\n",
       "      <td>subjects/R1111M/R1111M_FR1_2_eeg.h5</td>\n",
       "      <td>subjects/R1111M/R1111M_FR1_2_events.csv</td>\n",
       "      <td>FR1</td>\n",
       "      <td>2</td>\n",
       "      <td>R1111M</td>\n",
       "    </tr>\n",
       "    <tr>\n",
       "      <th>8</th>\n",
       "      <td>subjects/R1111M/R1111M_FR1_3_channels.csv</td>\n",
       "      <td>subjects/R1111M/R1111M_FR1_3_eeg.h5</td>\n",
       "      <td>subjects/R1111M/R1111M_FR1_3_events.csv</td>\n",
       "      <td>FR1</td>\n",
       "      <td>3</td>\n",
       "      <td>R1111M</td>\n",
       "    </tr>\n",
       "    <tr>\n",
       "      <th>9</th>\n",
       "      <td>subjects/R1111M/R1111M_catFR1_0_channels.csv</td>\n",
       "      <td>subjects/R1111M/R1111M_catFR1_0_eeg.h5</td>\n",
       "      <td>subjects/R1111M/R1111M_catFR1_0_events.csv</td>\n",
       "      <td>catFR1</td>\n",
       "      <td>0</td>\n",
       "      <td>R1111M</td>\n",
       "    </tr>\n",
       "  </tbody>\n",
       "</table>\n",
       "</div>"
      ],
      "text/plain": [
       "                                  channels_file  \\\n",
       "0     subjects/R1380D/R1380D_FR1_1_channels.csv   \n",
       "1  subjects/R1380D/R1380D_catFR1_1_channels.csv   \n",
       "2  subjects/R1380D/R1380D_catFR1_2_channels.csv   \n",
       "3  subjects/R1380D/R1380D_catFR1_3_channels.csv   \n",
       "4  subjects/R1380D/R1380D_catFR1_4_channels.csv   \n",
       "5     subjects/R1111M/R1111M_FR1_0_channels.csv   \n",
       "6     subjects/R1111M/R1111M_FR1_1_channels.csv   \n",
       "7     subjects/R1111M/R1111M_FR1_2_channels.csv   \n",
       "8     subjects/R1111M/R1111M_FR1_3_channels.csv   \n",
       "9  subjects/R1111M/R1111M_catFR1_0_channels.csv   \n",
       "\n",
       "                                 eeg_file  \\\n",
       "0     subjects/R1380D/R1380D_FR1_1_eeg.h5   \n",
       "1  subjects/R1380D/R1380D_catFR1_1_eeg.h5   \n",
       "2  subjects/R1380D/R1380D_catFR1_2_eeg.h5   \n",
       "3  subjects/R1380D/R1380D_catFR1_3_eeg.h5   \n",
       "4  subjects/R1380D/R1380D_catFR1_4_eeg.h5   \n",
       "5     subjects/R1111M/R1111M_FR1_0_eeg.h5   \n",
       "6     subjects/R1111M/R1111M_FR1_1_eeg.h5   \n",
       "7     subjects/R1111M/R1111M_FR1_2_eeg.h5   \n",
       "8     subjects/R1111M/R1111M_FR1_3_eeg.h5   \n",
       "9  subjects/R1111M/R1111M_catFR1_0_eeg.h5   \n",
       "\n",
       "                                  events_file experiment  session subject  \n",
       "0     subjects/R1380D/R1380D_FR1_1_events.csv        FR1        1  R1380D  \n",
       "1  subjects/R1380D/R1380D_catFR1_1_events.csv     catFR1        1  R1380D  \n",
       "2  subjects/R1380D/R1380D_catFR1_2_events.csv     catFR1        2  R1380D  \n",
       "3  subjects/R1380D/R1380D_catFR1_3_events.csv     catFR1        3  R1380D  \n",
       "4  subjects/R1380D/R1380D_catFR1_4_events.csv     catFR1        4  R1380D  \n",
       "5     subjects/R1111M/R1111M_FR1_0_events.csv        FR1        0  R1111M  \n",
       "6     subjects/R1111M/R1111M_FR1_1_events.csv        FR1        1  R1111M  \n",
       "7     subjects/R1111M/R1111M_FR1_2_events.csv        FR1        2  R1111M  \n",
       "8     subjects/R1111M/R1111M_FR1_3_events.csv        FR1        3  R1111M  \n",
       "9  subjects/R1111M/R1111M_catFR1_0_events.csv     catFR1        0  R1111M  "
      ]
     },
     "execution_count": 21,
     "metadata": {},
     "output_type": "execute_result"
    }
   ],
   "source": [
    "# This dataframe contains index information about the experimental sessions in the example dataset.\n",
    "df[:10]"
   ]
  },
  {
   "cell_type": "code",
   "execution_count": 22,
   "metadata": {
    "collapsed": false,
    "jupyter": {
     "outputs_hidden": false
    }
   },
   "outputs": [
    {
     "data": {
      "text/plain": [
       "array(['FR1', 'catFR1'], dtype=object)"
      ]
     },
     "execution_count": 22,
     "metadata": {},
     "output_type": "execute_result"
    }
   ],
   "source": [
    "# Let's see what experiments we have access to\n",
    "df['experiment'].unique()"
   ]
  },
  {
   "cell_type": "markdown",
   "metadata": {},
   "source": [
    "**Exercise: How many RAM sessions were run on Jefferson subjects?**"
   ]
  },
  {
   "cell_type": "code",
   "execution_count": 23,
   "metadata": {
    "collapsed": false,
    "jupyter": {
     "outputs_hidden": false
    }
   },
   "outputs": [
    {
     "data": {
      "text/plain": [
       "26"
      ]
     },
     "execution_count": 23,
     "metadata": {},
     "output_type": "execute_result"
    }
   ],
   "source": [
    "np.sum(df['subject'].str.endswith('J'))"
   ]
  },
  {
   "cell_type": "markdown",
   "metadata": {},
   "source": [
    "## Overview of the CML experiment types\n",
    "\n",
    "### Verbal free-recall tasks (no-stim)\n",
    "* FR1\n",
    "* catFR1\n",
    "\n",
    "### Paired-associates tasks\n",
    "* PAL1\n",
    "* PAL2 (open-loop stim)\n",
    "* PAL3 (closed-loop stim)\n",
    "* PAL5 (closed-loop stim)\n",
    "\n",
    "### Spatial navigation tasks\n",
    "* YC1\n",
    "* TH1\n",
    "* THR\n",
    "* THR1\n",
    "* YC2 (open-loop stim)\n",
    "* TH3 (closed-loop stim)\n",
    "\n",
    "### Verbal free-recall w/ stim\n",
    "(Basically, any FR task with a number above 1 somewhere)\n",
    "* FR2 (open-loop)\n",
    "* catFR2\n",
    "* FR3 (closed-loop)\n",
    "* catFR3\n",
    "* FR5 (closed-loop)\n",
    "* catFR5\n",
    "* PS4_FR (closed-loop)\n",
    "* PS4_catFR (closed-loop)\n",
    "* PS5_catFR (closed-loop)\n",
    "* FR6 (multi-target stim)\n",
    "* catFR6 (multi-target stim)\n",
    "* TICL_FR (encoding/math/retrieval stim)\n",
    "\n",
    "### No-task stimulation (\"parameter search\")\n",
    "* PS1\n",
    "* PS2/PS2.1\n",
    "* PS3\n",
    "* LocationSearch\n"
   ]
  },
  {
   "cell_type": "code",
   "execution_count": 24,
   "metadata": {
    "collapsed": false,
    "jupyter": {
     "outputs_hidden": false
    }
   },
   "outputs": [
    {
     "data": {
      "text/plain": [
       "array(['R1380D', 'R1111M', 'R1332M', 'R1377M', 'R1065J', 'R1385E',\n",
       "       'R1189M', 'R1390M', 'R1391T', 'R1401J', 'R1361C', 'R1060M',\n",
       "       'R1350D', 'R1378T', 'R1375C', 'R1383J', 'R1354E', 'R1292E'],\n",
       "      dtype=object)"
      ]
     },
     "execution_count": 24,
     "metadata": {},
     "output_type": "execute_result"
    }
   ],
   "source": [
    "# And now let's find all the subjects who did the FR1 task\n",
    "fr1_df = df.query('experiment == \"FR1\"')\n",
    "fr1_df['subject'].unique()"
   ]
  },
  {
   "cell_type": "markdown",
   "metadata": {},
   "source": [
    "### Load data from an example subject\n",
    "Here, let's go through an example of loading experimental events and EEG from one subject"
   ]
  },
  {
   "cell_type": "code",
   "execution_count": 25,
   "metadata": {},
   "outputs": [],
   "source": [
    "from CMLLoad import CMLLoad\n",
    "load = CMLLoad('./CMLExamples')\n",
    "df = load.Index()\n",
    "\n",
    "#Specify which subject and experiment we want\n",
    "sub = 'R1111M'\n",
    "exp = 'FR1'\n",
    "\n",
    "#Find out the sessions for this subject\n",
    "sessions = list(df[(df['subject']==sub) & (df['experiment']==exp)]['session'])\n"
   ]
  },
  {
   "cell_type": "code",
   "execution_count": 26,
   "metadata": {
    "collapsed": false,
    "jupyter": {
     "outputs_hidden": false
    }
   },
   "outputs": [
    {
     "name": "stdout",
     "output_type": "stream",
     "text": [
      "R1111M sessions: [0, 1, 2, 3]\n"
     ]
    }
   ],
   "source": [
    "print(sub+' sessions: '+str(sessions))"
   ]
  },
  {
   "cell_type": "markdown",
   "metadata": {},
   "source": [
    "#### Load experimental events"
   ]
  },
  {
   "cell_type": "markdown",
   "metadata": {},
   "source": [
    "This subject completed four sessions of FR1. Let's load data from the first session. First, we'll need to select out the dataframes we want, then pass one row into the CMLLoad object we created."
   ]
  },
  {
   "cell_type": "code",
   "execution_count": 27,
   "metadata": {
    "collapsed": false,
    "jupyter": {
     "outputs_hidden": false
    }
   },
   "outputs": [
    {
     "name": "stdout",
     "output_type": "stream",
     "text": [
      "channels_file    subjects/R1111M/R1111M_FR1_0_channels.csv\n",
      "eeg_file               subjects/R1111M/R1111M_FR1_0_eeg.h5\n",
      "events_file        subjects/R1111M/R1111M_FR1_0_events.csv\n",
      "experiment                                             FR1\n",
      "session                                                  0\n",
      "subject                                             R1111M\n",
      "Name: 5, dtype: object\n"
     ]
    }
   ],
   "source": [
    "df_select = df[(df['subject']==sub) & (df['experiment']==exp)]\n",
    "print(df_select.iloc[0])"
   ]
  },
  {
   "cell_type": "code",
   "execution_count": 28,
   "metadata": {},
   "outputs": [
    {
     "name": "stdout",
     "output_type": "stream",
     "text": [
      "     eegoffset  answer                    eegfile  exp_version experiment  \\\n",
      "100     230205    -999  R1111M_FR1_0_22Jan16_1638         1.05        FR1   \n",
      "101     231472    -999  R1111M_FR1_0_22Jan16_1638         1.05        FR1   \n",
      "102     232280    -999  R1111M_FR1_0_22Jan16_1638         1.05        FR1   \n",
      "\n",
      "     intrusion  is_stim  iscorrect item_name  item_num  ...  protocol  \\\n",
      "100       -999        0       -999      DOLL        78  ...        r1   \n",
      "101       -999        0       -999       BED        18  ...        r1   \n",
      "102       -999        0       -999         X      -999  ...        r1   \n",
      "\n",
      "     recalled  rectime  serialpos session  stim_list  stim_params  subject  \\\n",
      "100         0     -999         11       0          0           []   R1111M   \n",
      "101         0     -999         12       0          0           []   R1111M   \n",
      "102         0     -999       -999       0          0           []   R1111M   \n",
      "\n",
      "          test            type  \n",
      "100  [0, 0, 0]            WORD  \n",
      "101  [0, 0, 0]            WORD  \n",
      "102  [0, 0, 0]  DISTRACT_START  \n",
      "\n",
      "[3 rows x 24 columns]\n"
     ]
    }
   ],
   "source": [
    "evs = load.Load(df_select.iloc[0], 'events')\n",
    "print(evs[100:103])"
   ]
  },
  {
   "cell_type": "markdown",
   "metadata": {},
   "source": [
    "The events dataframe contains information about everything that happened during an experimental session. It indicates the time at which every word appeared on the screen, and when those words were later recalled. It also contains information about events that you might not care about, such as when the countdown timer starts and ends.\n",
    "<center>\n",
    "<img src=\"https://github.com/esolomon/PythonBootcamp2019/blob/master/figures/task_design-01.jpg?raw=true\" width=650>\n",
    "</center>\n",
    "Let's take a look at all the columns in this dataframe."
   ]
  },
  {
   "cell_type": "code",
   "execution_count": 29,
   "metadata": {
    "collapsed": false,
    "jupyter": {
     "outputs_hidden": false
    }
   },
   "outputs": [
    {
     "data": {
      "text/plain": [
       "Index(['eegoffset', 'answer', 'eegfile', 'exp_version', 'experiment',\n",
       "       'intrusion', 'is_stim', 'iscorrect', 'item_name', 'item_num', 'list',\n",
       "       'montage', 'msoffset', 'mstime', 'protocol', 'recalled', 'rectime',\n",
       "       'serialpos', 'session', 'stim_list', 'stim_params', 'subject', 'test',\n",
       "       'type'],\n",
       "      dtype='object')"
      ]
     },
     "execution_count": 29,
     "metadata": {},
     "output_type": "execute_result"
    }
   ],
   "source": [
    "evs.columns"
   ]
  },
  {
   "cell_type": "markdown",
   "metadata": {},
   "source": [
    "* 'eegoffset' indicates where (in samples) in the EEG file this event occurred. CMLReaders needs this info, but usually you won't need to deal with it directly.\n",
    "* 'eegfile' is the path to the corresponding file where raw EEG is saved.\n",
    "* 'experiment' is the behavioral task we're looking at. \n",
    "* 'intrusion' is an indicator of intrusion events during the recall period. -1 indicates an extra-list intrusion, otherwise, it's the list number from which the word came.\n",
    "* 'is_stim' flags whether stimulation occurred during this event. We won't be dealing with stimulation data in this bootcamp. \n",
    "* <b>'item_name'</b> is the word that was presented or recalled.\n",
    "* 'item_num' is the index for this word in the word pool. \n",
    "* 'list' is the list number. \n",
    "* 'montage' is the subject montage, which you loaded earlier.\n",
    "* 'mstime' is a time indicator, in ms. Good for comparing between events, but the absolute value is meaningless. \n",
    "* <b>'recalled'</b> is a indicator of whether an encoding word was later recalled successfully.\n",
    "* 'rectime' is the time, in ms, when a word was recalled relative to the start of the recall period for that list.\n",
    "* <b>'serialpos'</b> is the serial position of a presented/recalled word\n",
    "* 'stim_list' is an indicator of whether stimulation was active during this list. \n",
    "* 'stim_params' is a dictionary of stimulation parameters.\n",
    "* 'subject' is the subject you're analyzing!\n",
    "* <b>'type'</b> is the type of event, e.g. 'WORD' or 'REC_WORD'\n",
    "\n",
    "Please see https://pennmem.github.io/cmlreaders/html/events.html for even more information!\n",
    "\n",
    "Say we're just interested in analyzing word encoding events. To filter by event type, use handy pandas functionality:"
   ]
  },
  {
   "cell_type": "code",
   "execution_count": 30,
   "metadata": {},
   "outputs": [],
   "source": [
    "pd.set_option('display.max_columns', 100)  #an optional command that lets us view the full dataframe within Jupyter notebooks"
   ]
  },
  {
   "cell_type": "code",
   "execution_count": 31,
   "metadata": {
    "collapsed": false,
    "jupyter": {
     "outputs_hidden": false
    }
   },
   "outputs": [
    {
     "data": {
      "text/html": [
       "<div>\n",
       "<style scoped>\n",
       "    .dataframe tbody tr th:only-of-type {\n",
       "        vertical-align: middle;\n",
       "    }\n",
       "\n",
       "    .dataframe tbody tr th {\n",
       "        vertical-align: top;\n",
       "    }\n",
       "\n",
       "    .dataframe thead th {\n",
       "        text-align: right;\n",
       "    }\n",
       "</style>\n",
       "<table border=\"1\" class=\"dataframe\">\n",
       "  <thead>\n",
       "    <tr style=\"text-align: right;\">\n",
       "      <th></th>\n",
       "      <th>eegoffset</th>\n",
       "      <th>answer</th>\n",
       "      <th>eegfile</th>\n",
       "      <th>exp_version</th>\n",
       "      <th>experiment</th>\n",
       "      <th>intrusion</th>\n",
       "      <th>is_stim</th>\n",
       "      <th>iscorrect</th>\n",
       "      <th>item_name</th>\n",
       "      <th>item_num</th>\n",
       "      <th>list</th>\n",
       "      <th>montage</th>\n",
       "      <th>msoffset</th>\n",
       "      <th>mstime</th>\n",
       "      <th>protocol</th>\n",
       "      <th>recalled</th>\n",
       "      <th>rectime</th>\n",
       "      <th>serialpos</th>\n",
       "      <th>session</th>\n",
       "      <th>stim_list</th>\n",
       "      <th>stim_params</th>\n",
       "      <th>subject</th>\n",
       "      <th>test</th>\n",
       "      <th>type</th>\n",
       "    </tr>\n",
       "  </thead>\n",
       "  <tbody>\n",
       "    <tr>\n",
       "      <th>27</th>\n",
       "      <td>100520</td>\n",
       "      <td>-999</td>\n",
       "      <td>R1111M_FR1_0_22Jan16_1638</td>\n",
       "      <td>1.05</td>\n",
       "      <td>FR1</td>\n",
       "      <td>-999</td>\n",
       "      <td>0</td>\n",
       "      <td>-999</td>\n",
       "      <td>BEAR</td>\n",
       "      <td>17</td>\n",
       "      <td>1</td>\n",
       "      <td>0</td>\n",
       "      <td>1</td>\n",
       "      <td>1453499295325</td>\n",
       "      <td>r1</td>\n",
       "      <td>1</td>\n",
       "      <td>5210</td>\n",
       "      <td>1</td>\n",
       "      <td>0</td>\n",
       "      <td>0</td>\n",
       "      <td>[]</td>\n",
       "      <td>R1111M</td>\n",
       "      <td>[0, 0, 0]</td>\n",
       "      <td>WORD</td>\n",
       "    </tr>\n",
       "    <tr>\n",
       "      <th>28</th>\n",
       "      <td>101829</td>\n",
       "      <td>-999</td>\n",
       "      <td>R1111M_FR1_0_22Jan16_1638</td>\n",
       "      <td>1.05</td>\n",
       "      <td>FR1</td>\n",
       "      <td>-999</td>\n",
       "      <td>0</td>\n",
       "      <td>-999</td>\n",
       "      <td>WING</td>\n",
       "      <td>294</td>\n",
       "      <td>1</td>\n",
       "      <td>0</td>\n",
       "      <td>1</td>\n",
       "      <td>1453499297942</td>\n",
       "      <td>r1</td>\n",
       "      <td>1</td>\n",
       "      <td>5748</td>\n",
       "      <td>2</td>\n",
       "      <td>0</td>\n",
       "      <td>0</td>\n",
       "      <td>[]</td>\n",
       "      <td>R1111M</td>\n",
       "      <td>[0, 0, 0]</td>\n",
       "      <td>WORD</td>\n",
       "    </tr>\n",
       "    <tr>\n",
       "      <th>29</th>\n",
       "      <td>103113</td>\n",
       "      <td>-999</td>\n",
       "      <td>R1111M_FR1_0_22Jan16_1638</td>\n",
       "      <td>1.05</td>\n",
       "      <td>FR1</td>\n",
       "      <td>-999</td>\n",
       "      <td>0</td>\n",
       "      <td>-999</td>\n",
       "      <td>DOOR</td>\n",
       "      <td>79</td>\n",
       "      <td>1</td>\n",
       "      <td>0</td>\n",
       "      <td>1</td>\n",
       "      <td>1453499300510</td>\n",
       "      <td>r1</td>\n",
       "      <td>1</td>\n",
       "      <td>7882</td>\n",
       "      <td>3</td>\n",
       "      <td>0</td>\n",
       "      <td>0</td>\n",
       "      <td>[]</td>\n",
       "      <td>R1111M</td>\n",
       "      <td>[0, 0, 0]</td>\n",
       "      <td>WORD</td>\n",
       "    </tr>\n",
       "    <tr>\n",
       "      <th>30</th>\n",
       "      <td>104329</td>\n",
       "      <td>-999</td>\n",
       "      <td>R1111M_FR1_0_22Jan16_1638</td>\n",
       "      <td>1.05</td>\n",
       "      <td>FR1</td>\n",
       "      <td>-999</td>\n",
       "      <td>0</td>\n",
       "      <td>-999</td>\n",
       "      <td>PLANT</td>\n",
       "      <td>188</td>\n",
       "      <td>1</td>\n",
       "      <td>0</td>\n",
       "      <td>1</td>\n",
       "      <td>1453499302943</td>\n",
       "      <td>r1</td>\n",
       "      <td>1</td>\n",
       "      <td>6815</td>\n",
       "      <td>4</td>\n",
       "      <td>0</td>\n",
       "      <td>0</td>\n",
       "      <td>[]</td>\n",
       "      <td>R1111M</td>\n",
       "      <td>[0, 0, 0]</td>\n",
       "      <td>WORD</td>\n",
       "    </tr>\n",
       "    <tr>\n",
       "      <th>31</th>\n",
       "      <td>105638</td>\n",
       "      <td>-999</td>\n",
       "      <td>R1111M_FR1_0_22Jan16_1638</td>\n",
       "      <td>1.05</td>\n",
       "      <td>FR1</td>\n",
       "      <td>-999</td>\n",
       "      <td>0</td>\n",
       "      <td>-999</td>\n",
       "      <td>ROOT</td>\n",
       "      <td>204</td>\n",
       "      <td>1</td>\n",
       "      <td>0</td>\n",
       "      <td>1</td>\n",
       "      <td>1453499305561</td>\n",
       "      <td>r1</td>\n",
       "      <td>0</td>\n",
       "      <td>-999</td>\n",
       "      <td>5</td>\n",
       "      <td>0</td>\n",
       "      <td>0</td>\n",
       "      <td>[]</td>\n",
       "      <td>R1111M</td>\n",
       "      <td>[0, 0, 0]</td>\n",
       "      <td>WORD</td>\n",
       "    </tr>\n",
       "    <tr>\n",
       "      <th>32</th>\n",
       "      <td>106897</td>\n",
       "      <td>-999</td>\n",
       "      <td>R1111M_FR1_0_22Jan16_1638</td>\n",
       "      <td>1.05</td>\n",
       "      <td>FR1</td>\n",
       "      <td>-999</td>\n",
       "      <td>0</td>\n",
       "      <td>-999</td>\n",
       "      <td>LEAF</td>\n",
       "      <td>146</td>\n",
       "      <td>1</td>\n",
       "      <td>0</td>\n",
       "      <td>1</td>\n",
       "      <td>1453499308078</td>\n",
       "      <td>r1</td>\n",
       "      <td>0</td>\n",
       "      <td>-999</td>\n",
       "      <td>6</td>\n",
       "      <td>0</td>\n",
       "      <td>0</td>\n",
       "      <td>[]</td>\n",
       "      <td>R1111M</td>\n",
       "      <td>[0, 0, 0]</td>\n",
       "      <td>WORD</td>\n",
       "    </tr>\n",
       "    <tr>\n",
       "      <th>33</th>\n",
       "      <td>108105</td>\n",
       "      <td>-999</td>\n",
       "      <td>R1111M_FR1_0_22Jan16_1638</td>\n",
       "      <td>1.05</td>\n",
       "      <td>FR1</td>\n",
       "      <td>-999</td>\n",
       "      <td>0</td>\n",
       "      <td>-999</td>\n",
       "      <td>SNOW</td>\n",
       "      <td>236</td>\n",
       "      <td>1</td>\n",
       "      <td>0</td>\n",
       "      <td>1</td>\n",
       "      <td>1453499310495</td>\n",
       "      <td>r1</td>\n",
       "      <td>0</td>\n",
       "      <td>-999</td>\n",
       "      <td>7</td>\n",
       "      <td>0</td>\n",
       "      <td>0</td>\n",
       "      <td>[]</td>\n",
       "      <td>R1111M</td>\n",
       "      <td>[0, 0, 0]</td>\n",
       "      <td>WORD</td>\n",
       "    </tr>\n",
       "    <tr>\n",
       "      <th>34</th>\n",
       "      <td>109372</td>\n",
       "      <td>-999</td>\n",
       "      <td>R1111M_FR1_0_22Jan16_1638</td>\n",
       "      <td>1.05</td>\n",
       "      <td>FR1</td>\n",
       "      <td>-999</td>\n",
       "      <td>0</td>\n",
       "      <td>-999</td>\n",
       "      <td>BLOOM</td>\n",
       "      <td>22</td>\n",
       "      <td>1</td>\n",
       "      <td>0</td>\n",
       "      <td>1</td>\n",
       "      <td>1453499313029</td>\n",
       "      <td>r1</td>\n",
       "      <td>0</td>\n",
       "      <td>-999</td>\n",
       "      <td>8</td>\n",
       "      <td>0</td>\n",
       "      <td>0</td>\n",
       "      <td>[]</td>\n",
       "      <td>R1111M</td>\n",
       "      <td>[0, 0, 0]</td>\n",
       "      <td>WORD</td>\n",
       "    </tr>\n",
       "    <tr>\n",
       "      <th>35</th>\n",
       "      <td>110580</td>\n",
       "      <td>-999</td>\n",
       "      <td>R1111M_FR1_0_22Jan16_1638</td>\n",
       "      <td>1.05</td>\n",
       "      <td>FR1</td>\n",
       "      <td>-999</td>\n",
       "      <td>0</td>\n",
       "      <td>-999</td>\n",
       "      <td>STRAW</td>\n",
       "      <td>257</td>\n",
       "      <td>1</td>\n",
       "      <td>0</td>\n",
       "      <td>1</td>\n",
       "      <td>1453499315446</td>\n",
       "      <td>r1</td>\n",
       "      <td>0</td>\n",
       "      <td>-999</td>\n",
       "      <td>9</td>\n",
       "      <td>0</td>\n",
       "      <td>0</td>\n",
       "      <td>[]</td>\n",
       "      <td>R1111M</td>\n",
       "      <td>[0, 0, 0]</td>\n",
       "      <td>WORD</td>\n",
       "    </tr>\n",
       "    <tr>\n",
       "      <th>36</th>\n",
       "      <td>111813</td>\n",
       "      <td>-999</td>\n",
       "      <td>R1111M_FR1_0_22Jan16_1638</td>\n",
       "      <td>1.05</td>\n",
       "      <td>FR1</td>\n",
       "      <td>-999</td>\n",
       "      <td>0</td>\n",
       "      <td>-999</td>\n",
       "      <td>BUSH</td>\n",
       "      <td>38</td>\n",
       "      <td>1</td>\n",
       "      <td>0</td>\n",
       "      <td>1</td>\n",
       "      <td>1453499317912</td>\n",
       "      <td>r1</td>\n",
       "      <td>0</td>\n",
       "      <td>-999</td>\n",
       "      <td>10</td>\n",
       "      <td>0</td>\n",
       "      <td>0</td>\n",
       "      <td>[]</td>\n",
       "      <td>R1111M</td>\n",
       "      <td>[0, 0, 0]</td>\n",
       "      <td>WORD</td>\n",
       "    </tr>\n",
       "  </tbody>\n",
       "</table>\n",
       "</div>"
      ],
      "text/plain": [
       "    eegoffset  answer                    eegfile  exp_version experiment  \\\n",
       "27     100520    -999  R1111M_FR1_0_22Jan16_1638         1.05        FR1   \n",
       "28     101829    -999  R1111M_FR1_0_22Jan16_1638         1.05        FR1   \n",
       "29     103113    -999  R1111M_FR1_0_22Jan16_1638         1.05        FR1   \n",
       "30     104329    -999  R1111M_FR1_0_22Jan16_1638         1.05        FR1   \n",
       "31     105638    -999  R1111M_FR1_0_22Jan16_1638         1.05        FR1   \n",
       "32     106897    -999  R1111M_FR1_0_22Jan16_1638         1.05        FR1   \n",
       "33     108105    -999  R1111M_FR1_0_22Jan16_1638         1.05        FR1   \n",
       "34     109372    -999  R1111M_FR1_0_22Jan16_1638         1.05        FR1   \n",
       "35     110580    -999  R1111M_FR1_0_22Jan16_1638         1.05        FR1   \n",
       "36     111813    -999  R1111M_FR1_0_22Jan16_1638         1.05        FR1   \n",
       "\n",
       "    intrusion  is_stim  iscorrect item_name  item_num  list  montage  \\\n",
       "27       -999        0       -999      BEAR        17     1        0   \n",
       "28       -999        0       -999      WING       294     1        0   \n",
       "29       -999        0       -999      DOOR        79     1        0   \n",
       "30       -999        0       -999     PLANT       188     1        0   \n",
       "31       -999        0       -999      ROOT       204     1        0   \n",
       "32       -999        0       -999      LEAF       146     1        0   \n",
       "33       -999        0       -999      SNOW       236     1        0   \n",
       "34       -999        0       -999     BLOOM        22     1        0   \n",
       "35       -999        0       -999     STRAW       257     1        0   \n",
       "36       -999        0       -999      BUSH        38     1        0   \n",
       "\n",
       "    msoffset         mstime protocol  recalled  rectime  serialpos  session  \\\n",
       "27         1  1453499295325       r1         1     5210          1        0   \n",
       "28         1  1453499297942       r1         1     5748          2        0   \n",
       "29         1  1453499300510       r1         1     7882          3        0   \n",
       "30         1  1453499302943       r1         1     6815          4        0   \n",
       "31         1  1453499305561       r1         0     -999          5        0   \n",
       "32         1  1453499308078       r1         0     -999          6        0   \n",
       "33         1  1453499310495       r1         0     -999          7        0   \n",
       "34         1  1453499313029       r1         0     -999          8        0   \n",
       "35         1  1453499315446       r1         0     -999          9        0   \n",
       "36         1  1453499317912       r1         0     -999         10        0   \n",
       "\n",
       "    stim_list stim_params subject       test  type  \n",
       "27          0          []  R1111M  [0, 0, 0]  WORD  \n",
       "28          0          []  R1111M  [0, 0, 0]  WORD  \n",
       "29          0          []  R1111M  [0, 0, 0]  WORD  \n",
       "30          0          []  R1111M  [0, 0, 0]  WORD  \n",
       "31          0          []  R1111M  [0, 0, 0]  WORD  \n",
       "32          0          []  R1111M  [0, 0, 0]  WORD  \n",
       "33          0          []  R1111M  [0, 0, 0]  WORD  \n",
       "34          0          []  R1111M  [0, 0, 0]  WORD  \n",
       "35          0          []  R1111M  [0, 0, 0]  WORD  \n",
       "36          0          []  R1111M  [0, 0, 0]  WORD  "
      ]
     },
     "execution_count": 31,
     "metadata": {},
     "output_type": "execute_result"
    }
   ],
   "source": [
    "word_evs = evs[evs['type']=='WORD']\n",
    "word_evs[:10]"
   ]
  },
  {
   "cell_type": "markdown",
   "metadata": {},
   "source": [
    "Applying these kinds of filters are useful if you're only interested in analyzing one kind of event. For instance, we could also just find recall events:"
   ]
  },
  {
   "cell_type": "code",
   "execution_count": 32,
   "metadata": {
    "collapsed": false,
    "jupyter": {
     "outputs_hidden": false
    }
   },
   "outputs": [
    {
     "data": {
      "text/html": [
       "<div>\n",
       "<style scoped>\n",
       "    .dataframe tbody tr th:only-of-type {\n",
       "        vertical-align: middle;\n",
       "    }\n",
       "\n",
       "    .dataframe tbody tr th {\n",
       "        vertical-align: top;\n",
       "    }\n",
       "\n",
       "    .dataframe thead th {\n",
       "        text-align: right;\n",
       "    }\n",
       "</style>\n",
       "<table border=\"1\" class=\"dataframe\">\n",
       "  <thead>\n",
       "    <tr style=\"text-align: right;\">\n",
       "      <th></th>\n",
       "      <th>eegoffset</th>\n",
       "      <th>answer</th>\n",
       "      <th>eegfile</th>\n",
       "      <th>exp_version</th>\n",
       "      <th>experiment</th>\n",
       "      <th>intrusion</th>\n",
       "      <th>is_stim</th>\n",
       "      <th>iscorrect</th>\n",
       "      <th>item_name</th>\n",
       "      <th>item_num</th>\n",
       "      <th>list</th>\n",
       "      <th>montage</th>\n",
       "      <th>msoffset</th>\n",
       "      <th>mstime</th>\n",
       "      <th>protocol</th>\n",
       "      <th>recalled</th>\n",
       "      <th>rectime</th>\n",
       "      <th>serialpos</th>\n",
       "      <th>session</th>\n",
       "      <th>stim_list</th>\n",
       "      <th>stim_params</th>\n",
       "      <th>subject</th>\n",
       "      <th>test</th>\n",
       "      <th>type</th>\n",
       "    </tr>\n",
       "  </thead>\n",
       "  <tbody>\n",
       "    <tr>\n",
       "      <th>47</th>\n",
       "      <td>130521</td>\n",
       "      <td>-999</td>\n",
       "      <td>R1111M_FR1_0_22Jan16_1638</td>\n",
       "      <td>1.05</td>\n",
       "      <td>FR1</td>\n",
       "      <td>0</td>\n",
       "      <td>0</td>\n",
       "      <td>-999</td>\n",
       "      <td>BEAR</td>\n",
       "      <td>17</td>\n",
       "      <td>1</td>\n",
       "      <td>0</td>\n",
       "      <td>20</td>\n",
       "      <td>1453499355330</td>\n",
       "      <td>r1</td>\n",
       "      <td>1</td>\n",
       "      <td>5210</td>\n",
       "      <td>-999</td>\n",
       "      <td>0</td>\n",
       "      <td>0</td>\n",
       "      <td>[]</td>\n",
       "      <td>R1111M</td>\n",
       "      <td>[0, 0, 0]</td>\n",
       "      <td>REC_WORD</td>\n",
       "    </tr>\n",
       "    <tr>\n",
       "      <th>48</th>\n",
       "      <td>130790</td>\n",
       "      <td>-999</td>\n",
       "      <td>R1111M_FR1_0_22Jan16_1638</td>\n",
       "      <td>1.05</td>\n",
       "      <td>FR1</td>\n",
       "      <td>0</td>\n",
       "      <td>0</td>\n",
       "      <td>-999</td>\n",
       "      <td>WING</td>\n",
       "      <td>294</td>\n",
       "      <td>1</td>\n",
       "      <td>0</td>\n",
       "      <td>20</td>\n",
       "      <td>1453499355868</td>\n",
       "      <td>r1</td>\n",
       "      <td>1</td>\n",
       "      <td>5748</td>\n",
       "      <td>-999</td>\n",
       "      <td>0</td>\n",
       "      <td>0</td>\n",
       "      <td>[]</td>\n",
       "      <td>R1111M</td>\n",
       "      <td>[0, 0, 0]</td>\n",
       "      <td>REC_WORD</td>\n",
       "    </tr>\n",
       "    <tr>\n",
       "      <th>49</th>\n",
       "      <td>131324</td>\n",
       "      <td>-999</td>\n",
       "      <td>R1111M_FR1_0_22Jan16_1638</td>\n",
       "      <td>1.05</td>\n",
       "      <td>FR1</td>\n",
       "      <td>0</td>\n",
       "      <td>0</td>\n",
       "      <td>-999</td>\n",
       "      <td>PLANT</td>\n",
       "      <td>188</td>\n",
       "      <td>1</td>\n",
       "      <td>0</td>\n",
       "      <td>20</td>\n",
       "      <td>1453499356935</td>\n",
       "      <td>r1</td>\n",
       "      <td>1</td>\n",
       "      <td>6815</td>\n",
       "      <td>-999</td>\n",
       "      <td>0</td>\n",
       "      <td>0</td>\n",
       "      <td>[]</td>\n",
       "      <td>R1111M</td>\n",
       "      <td>[0, 0, 0]</td>\n",
       "      <td>REC_WORD</td>\n",
       "    </tr>\n",
       "    <tr>\n",
       "      <th>50</th>\n",
       "      <td>131857</td>\n",
       "      <td>-999</td>\n",
       "      <td>R1111M_FR1_0_22Jan16_1638</td>\n",
       "      <td>1.05</td>\n",
       "      <td>FR1</td>\n",
       "      <td>0</td>\n",
       "      <td>0</td>\n",
       "      <td>-999</td>\n",
       "      <td>DOOR</td>\n",
       "      <td>79</td>\n",
       "      <td>1</td>\n",
       "      <td>0</td>\n",
       "      <td>20</td>\n",
       "      <td>1453499358002</td>\n",
       "      <td>r1</td>\n",
       "      <td>1</td>\n",
       "      <td>7882</td>\n",
       "      <td>-999</td>\n",
       "      <td>0</td>\n",
       "      <td>0</td>\n",
       "      <td>[]</td>\n",
       "      <td>R1111M</td>\n",
       "      <td>[0, 0, 0]</td>\n",
       "      <td>REC_WORD</td>\n",
       "    </tr>\n",
       "    <tr>\n",
       "      <th>51</th>\n",
       "      <td>135459</td>\n",
       "      <td>-999</td>\n",
       "      <td>R1111M_FR1_0_22Jan16_1638</td>\n",
       "      <td>1.05</td>\n",
       "      <td>FR1</td>\n",
       "      <td>0</td>\n",
       "      <td>0</td>\n",
       "      <td>-999</td>\n",
       "      <td>TOY</td>\n",
       "      <td>277</td>\n",
       "      <td>1</td>\n",
       "      <td>0</td>\n",
       "      <td>20</td>\n",
       "      <td>1453499365206</td>\n",
       "      <td>r1</td>\n",
       "      <td>1</td>\n",
       "      <td>15086</td>\n",
       "      <td>-999</td>\n",
       "      <td>0</td>\n",
       "      <td>0</td>\n",
       "      <td>[]</td>\n",
       "      <td>R1111M</td>\n",
       "      <td>[0, 0, 0]</td>\n",
       "      <td>REC_WORD</td>\n",
       "    </tr>\n",
       "    <tr>\n",
       "      <th>78</th>\n",
       "      <td>180505</td>\n",
       "      <td>-999</td>\n",
       "      <td>R1111M_FR1_0_22Jan16_1638</td>\n",
       "      <td>1.05</td>\n",
       "      <td>FR1</td>\n",
       "      <td>0</td>\n",
       "      <td>0</td>\n",
       "      <td>-999</td>\n",
       "      <td>DEER</td>\n",
       "      <td>72</td>\n",
       "      <td>2</td>\n",
       "      <td>0</td>\n",
       "      <td>20</td>\n",
       "      <td>1453499455303</td>\n",
       "      <td>r1</td>\n",
       "      <td>1</td>\n",
       "      <td>2863</td>\n",
       "      <td>-999</td>\n",
       "      <td>0</td>\n",
       "      <td>0</td>\n",
       "      <td>[]</td>\n",
       "      <td>R1111M</td>\n",
       "      <td>[0, 0, 0]</td>\n",
       "      <td>REC_WORD</td>\n",
       "    </tr>\n",
       "    <tr>\n",
       "      <th>79</th>\n",
       "      <td>181022</td>\n",
       "      <td>-999</td>\n",
       "      <td>R1111M_FR1_0_22Jan16_1638</td>\n",
       "      <td>1.05</td>\n",
       "      <td>FR1</td>\n",
       "      <td>0</td>\n",
       "      <td>0</td>\n",
       "      <td>-999</td>\n",
       "      <td>MULE</td>\n",
       "      <td>163</td>\n",
       "      <td>2</td>\n",
       "      <td>0</td>\n",
       "      <td>20</td>\n",
       "      <td>1453499456338</td>\n",
       "      <td>r1</td>\n",
       "      <td>1</td>\n",
       "      <td>3898</td>\n",
       "      <td>-999</td>\n",
       "      <td>0</td>\n",
       "      <td>0</td>\n",
       "      <td>[]</td>\n",
       "      <td>R1111M</td>\n",
       "      <td>[0, 0, 0]</td>\n",
       "      <td>REC_WORD</td>\n",
       "    </tr>\n",
       "    <tr>\n",
       "      <th>80</th>\n",
       "      <td>181875</td>\n",
       "      <td>-999</td>\n",
       "      <td>R1111M_FR1_0_22Jan16_1638</td>\n",
       "      <td>1.05</td>\n",
       "      <td>FR1</td>\n",
       "      <td>0</td>\n",
       "      <td>0</td>\n",
       "      <td>-999</td>\n",
       "      <td>SLUSH</td>\n",
       "      <td>231</td>\n",
       "      <td>2</td>\n",
       "      <td>0</td>\n",
       "      <td>20</td>\n",
       "      <td>1453499458043</td>\n",
       "      <td>r1</td>\n",
       "      <td>1</td>\n",
       "      <td>5603</td>\n",
       "      <td>-999</td>\n",
       "      <td>0</td>\n",
       "      <td>0</td>\n",
       "      <td>[]</td>\n",
       "      <td>R1111M</td>\n",
       "      <td>[0, 0, 0]</td>\n",
       "      <td>REC_WORD</td>\n",
       "    </tr>\n",
       "    <tr>\n",
       "      <th>81</th>\n",
       "      <td>182389</td>\n",
       "      <td>-999</td>\n",
       "      <td>R1111M_FR1_0_22Jan16_1638</td>\n",
       "      <td>1.05</td>\n",
       "      <td>FR1</td>\n",
       "      <td>0</td>\n",
       "      <td>0</td>\n",
       "      <td>-999</td>\n",
       "      <td>PIPE</td>\n",
       "      <td>185</td>\n",
       "      <td>2</td>\n",
       "      <td>0</td>\n",
       "      <td>20</td>\n",
       "      <td>1453499459071</td>\n",
       "      <td>r1</td>\n",
       "      <td>1</td>\n",
       "      <td>6631</td>\n",
       "      <td>-999</td>\n",
       "      <td>0</td>\n",
       "      <td>0</td>\n",
       "      <td>[]</td>\n",
       "      <td>R1111M</td>\n",
       "      <td>[0, 0, 0]</td>\n",
       "      <td>REC_WORD</td>\n",
       "    </tr>\n",
       "    <tr>\n",
       "      <th>82</th>\n",
       "      <td>184110</td>\n",
       "      <td>-999</td>\n",
       "      <td>R1111M_FR1_0_22Jan16_1638</td>\n",
       "      <td>1.05</td>\n",
       "      <td>FR1</td>\n",
       "      <td>0</td>\n",
       "      <td>0</td>\n",
       "      <td>-999</td>\n",
       "      <td>SPRING</td>\n",
       "      <td>244</td>\n",
       "      <td>2</td>\n",
       "      <td>0</td>\n",
       "      <td>20</td>\n",
       "      <td>1453499462514</td>\n",
       "      <td>r1</td>\n",
       "      <td>1</td>\n",
       "      <td>10074</td>\n",
       "      <td>-999</td>\n",
       "      <td>0</td>\n",
       "      <td>0</td>\n",
       "      <td>[]</td>\n",
       "      <td>R1111M</td>\n",
       "      <td>[0, 0, 0]</td>\n",
       "      <td>REC_WORD</td>\n",
       "    </tr>\n",
       "  </tbody>\n",
       "</table>\n",
       "</div>"
      ],
      "text/plain": [
       "    eegoffset  answer                    eegfile  exp_version experiment  \\\n",
       "47     130521    -999  R1111M_FR1_0_22Jan16_1638         1.05        FR1   \n",
       "48     130790    -999  R1111M_FR1_0_22Jan16_1638         1.05        FR1   \n",
       "49     131324    -999  R1111M_FR1_0_22Jan16_1638         1.05        FR1   \n",
       "50     131857    -999  R1111M_FR1_0_22Jan16_1638         1.05        FR1   \n",
       "51     135459    -999  R1111M_FR1_0_22Jan16_1638         1.05        FR1   \n",
       "78     180505    -999  R1111M_FR1_0_22Jan16_1638         1.05        FR1   \n",
       "79     181022    -999  R1111M_FR1_0_22Jan16_1638         1.05        FR1   \n",
       "80     181875    -999  R1111M_FR1_0_22Jan16_1638         1.05        FR1   \n",
       "81     182389    -999  R1111M_FR1_0_22Jan16_1638         1.05        FR1   \n",
       "82     184110    -999  R1111M_FR1_0_22Jan16_1638         1.05        FR1   \n",
       "\n",
       "    intrusion  is_stim  iscorrect item_name  item_num  list  montage  \\\n",
       "47          0        0       -999      BEAR        17     1        0   \n",
       "48          0        0       -999      WING       294     1        0   \n",
       "49          0        0       -999     PLANT       188     1        0   \n",
       "50          0        0       -999      DOOR        79     1        0   \n",
       "51          0        0       -999       TOY       277     1        0   \n",
       "78          0        0       -999      DEER        72     2        0   \n",
       "79          0        0       -999      MULE       163     2        0   \n",
       "80          0        0       -999     SLUSH       231     2        0   \n",
       "81          0        0       -999      PIPE       185     2        0   \n",
       "82          0        0       -999    SPRING       244     2        0   \n",
       "\n",
       "    msoffset         mstime protocol  recalled  rectime  serialpos  session  \\\n",
       "47        20  1453499355330       r1         1     5210       -999        0   \n",
       "48        20  1453499355868       r1         1     5748       -999        0   \n",
       "49        20  1453499356935       r1         1     6815       -999        0   \n",
       "50        20  1453499358002       r1         1     7882       -999        0   \n",
       "51        20  1453499365206       r1         1    15086       -999        0   \n",
       "78        20  1453499455303       r1         1     2863       -999        0   \n",
       "79        20  1453499456338       r1         1     3898       -999        0   \n",
       "80        20  1453499458043       r1         1     5603       -999        0   \n",
       "81        20  1453499459071       r1         1     6631       -999        0   \n",
       "82        20  1453499462514       r1         1    10074       -999        0   \n",
       "\n",
       "    stim_list stim_params subject       test      type  \n",
       "47          0          []  R1111M  [0, 0, 0]  REC_WORD  \n",
       "48          0          []  R1111M  [0, 0, 0]  REC_WORD  \n",
       "49          0          []  R1111M  [0, 0, 0]  REC_WORD  \n",
       "50          0          []  R1111M  [0, 0, 0]  REC_WORD  \n",
       "51          0          []  R1111M  [0, 0, 0]  REC_WORD  \n",
       "78          0          []  R1111M  [0, 0, 0]  REC_WORD  \n",
       "79          0          []  R1111M  [0, 0, 0]  REC_WORD  \n",
       "80          0          []  R1111M  [0, 0, 0]  REC_WORD  \n",
       "81          0          []  R1111M  [0, 0, 0]  REC_WORD  \n",
       "82          0          []  R1111M  [0, 0, 0]  REC_WORD  "
      ]
     },
     "execution_count": 32,
     "metadata": {},
     "output_type": "execute_result"
    }
   ],
   "source": [
    "rec_evs = evs[evs['type']=='REC_WORD']\n",
    "rec_evs[:10]"
   ]
  },
  {
   "cell_type": "markdown",
   "metadata": {},
   "source": [
    "**Exercise: What is R1111M's overall recall percent correct?**"
   ]
  },
  {
   "cell_type": "code",
   "execution_count": null,
   "metadata": {
    "collapsed": false,
    "jupyter": {
     "outputs_hidden": false
    }
   },
   "outputs": [],
   "source": []
  },
  {
   "cell_type": "markdown",
   "metadata": {},
   "source": [
    "**Exercise: What is R1111M's percent correct at each serial position?**"
   ]
  },
  {
   "cell_type": "code",
   "execution_count": null,
   "metadata": {
    "collapsed": false,
    "jupyter": {
     "outputs_hidden": false
    }
   },
   "outputs": [],
   "source": []
  },
  {
   "cell_type": "markdown",
   "metadata": {},
   "source": [
    "**Exercise: Plot the distribution of inter-response times for R1111M's recalled words**"
   ]
  },
  {
   "cell_type": "code",
   "execution_count": null,
   "metadata": {
    "collapsed": false,
    "jupyter": {
     "outputs_hidden": false
    }
   },
   "outputs": [],
   "source": []
  }
 ],
 "metadata": {
  "kernelspec": {
   "display_name": "environmentname",
   "language": "python",
   "name": "environmentname"
  },
  "language_info": {
   "codemirror_mode": {
    "name": "ipython",
    "version": 3
   },
   "file_extension": ".py",
   "mimetype": "text/x-python",
   "name": "python",
   "nbconvert_exporter": "python",
   "pygments_lexer": "ipython3",
   "version": "3.7.4"
  }
 },
 "nbformat": 4,
 "nbformat_minor": 4
}
