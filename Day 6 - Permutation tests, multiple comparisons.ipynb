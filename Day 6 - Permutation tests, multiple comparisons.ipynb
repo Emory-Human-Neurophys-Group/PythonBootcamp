{
 "cells": [
  {
   "cell_type": "markdown",
   "metadata": {},
   "source": [
    "## Multiple Comparisons in Statistical Tests\n",
    "\n",
    "While our goal with this course is not to teach you statistics, we do need to take a slight detour to address some common statistical issues that come up in ECoG analyses. First, we'll touch on the problem of **multiple comparisons** ( https://en.wikipedia.org/wiki/Multiple_comparisons_problem ). This refers to the idea that, if you run many statistical tests, you're more likely to get a false positive with increasing numbers of tests. For example, if a subject has 100 electrodes, and we'd like to test whether there's an increase in power at each electrode, some will -- purely by chance -- show an increase in power even if it's not meaningfully correlated with memory. \n",
    "\n",
    "The easiest way to correct for multiple comparisons is to set a more stringent threshold for determining significance. Typically, these thresholds are set as <i>p</i> values, which you're likely quite familiar with. The <i>p</i> value is the proportion of test statistic values that, under the null hypothesis, exceed the true test statistic. If too many null values exceed the true value, it's hard to say that the true value is \"significant.\" But if you set the <i>p</i> value to something very small -- as in, almost no null values exceed the true value -- it becomes quite difficult to find a \"significant\" result. \n",
    "\n",
    "<center>\n",
    "<img src=\"https://med.stanford.edu/news/all-news/2016/03/misleading-p-values-showing-up-more-often-in-journals/_jcr_content/main/image.img.620.high.jpg\" width=500>\n",
    "</center>\n",
    "\n",
    "Indeed, the **Bonferonni correction** is a common and simple way to account for the multiple comparisons problem. The basic idea is to take the <i>P</i> value you'd ordinarily use, and divide it by the number of tests you're running. So if usually you'd want a P<0.05 to declare significance, but you run 100 tests, now you'd need a P<0.0005 for significance. This is a very conservative way to control for multiple comparisons (strictly, Bonferonni correction controls for the \"familywise error\" rate). \n",
    "\n",
    "If a test survives Bonferonni correction (and assuming other assumptions about the test were also met), that's a strong indication that there's something real there (i.e. you're not looking at a false positive), and you can make some conclusions about it. Bonferonni falls under the category of **family-wise error rate (FWER) control**, or the probably that *any* test leads to a Type I (false positive) error. \n",
    "\n",
    "You'll also see \"False Discovery Rate\" controlling procedures, or **FDR correction**, in the ECoG literature. These are less conservative tests that let you screen for effects in large amounts of data, but do not offer the same kind of strict control that Bonferonni does (therefore, be more cautious in your interpretation of the \"significant\" effects.). A common FDR procedure is called \"Benjamini-Hochberg,\" though there are several algorithms with unique properties. FDR correction limits the total *proportion* of Type I errors across all tests.\n",
    "\n",
    "Many types of correction can be applied using the stats toolbox within MNE. Let's explore a few of these now, and use them on real data. \n",
    "\n",
    "<center>\n",
    "<img src=\"https://github.com/esolomon/PythonBootcamp2019/blob/master/figures/fwer.png?raw=true\" width=300>\n",
    "<center>"
   ]
  },
  {
   "cell_type": "code",
   "execution_count": 1,
   "metadata": {},
   "outputs": [],
   "source": [
    "# First, let's load up some data.\n",
    "import numpy as np\n",
    "import os\n",
    "# With dimensions [frequencies, electrodes, time bins].\n",
    "pvals = np.load(os.path.join('npy_files','R1001P_pvals.npy'))"
   ]
  },
  {
   "cell_type": "code",
   "execution_count": 2,
   "metadata": {},
   "outputs": [
    {
     "data": {
      "text/plain": [
       "Text(0, 0.5, 'Count')"
      ]
     },
     "execution_count": 2,
     "metadata": {},
     "output_type": "execute_result"
    },
    {
     "data": {
      "image/png": "[encoded data removed]",
      "text/plain": [
       "<Figure size 360x216 with 1 Axes>"
      ]
     },
     "metadata": {
      "needs_background": "light"
     },
     "output_type": "display_data"
    }
   ],
   "source": [
    "# Let's take a look at the distribution of these p-values.\n",
    "%matplotlib inline\n",
    "import matplotlib.pyplot as plt\n",
    "\n",
    "# Plot a histogram of pvalues on a log scale.\n",
    "plt.figure(figsize=(5, 3))\n",
    "ax = plt.subplot(111)\n",
    "_, bins, _ = plt.hist(pvals.ravel(), bins=13, alpha=0)\n",
    "logbins = np.logspace(np.log10(bins[0]),np.log10(bins[-1]),len(bins))\n",
    "plt.hist(pvals.ravel(), bins=logbins, color='C0')\n",
    "plt.vlines([0.1, 0.05, 0.01, 0.001], ymin=ax.get_ylim()[0], ymax=ax.get_ylim()[1], \n",
    "       colors=('C2', 'C3', 'C4', 'C5'),)\n",
    "plt.xscale('log')\n",
    "plt.xlabel('P-value')\n",
    "plt.ylabel('Count')"
   ]
  },
  {
   "cell_type": "markdown",
   "metadata": {},
   "source": [
    "It's clear that there aren't many P-values less than 0.001. Would any of these survive Bonferonni correction?\n",
    "\n",
    "(Perhaps testing individual P-values across all timepoints, frequencies, and electrodes isn't the best approach. What if we restricted ourselves to running tests at the electrode level, for a given time window of interest?)"
   ]
  },
  {
   "cell_type": "code",
   "execution_count": 3,
   "metadata": {},
   "outputs": [],
   "source": [
    "# Reload the raw power values so we can re-run some tests.\n",
    "rec = np.load(os.path.join('npy_files', 'R1001P_recalled.npy'))\n",
    "pows = np.load(os.path.join('npy_files', '/home1/esolo/bootcamp2019/R1001P_pows.npy'))\n",
    "\n",
    "# pows are dimensions [freqs, events, electrodes, time bins].\n",
    "\n",
    "# Let's average powers into across the 400-700 ms window.\n",
    "# This begins after ERP effects die out,\n",
    "# but not so long as to include irrelevant activity.\n",
    "# Furthermore, let's only analyze the theta frequencies,\n",
    "# which were the first 5 (trust me).\n",
    "avg_pow = np.mean(np.mean(pows[:5, :, :, 4:7], 0), -1)\n",
    "\n",
    "# avg_pow should be an events X electrodes array. Excellent!\n",
    "# Let's do our 2-sample T-test on these averaged values\n",
    "from scipy.stats import ttest_ind\n",
    "ts, ps = ttest_ind(avg_pow[rec==1, :], avg_pow[rec==0, :], axis=0, equal_var=False)"
   ]
  },
  {
   "cell_type": "code",
   "execution_count": 4,
   "metadata": {},
   "outputs": [
    {
     "name": "stdout",
     "output_type": "stream",
     "text": [
      "[False False False False False False  True  True False False False False\n",
      "  True False  True False False  True  True False  True False False False\n",
      " False False False False False False False False False False False False\n",
      "  True False False False  True False False False False False False False\n",
      " False False False False False False  True False False False False  True\n",
      "  True False  True False False False False False False False False False]\n"
     ]
    }
   ],
   "source": [
    "# If we did an uncorrected test, what would we find?\n",
    "sig_elecs = ps<0.05\n",
    "\n",
    "print(ps<0.05)"
   ]
  },
  {
   "cell_type": "code",
   "execution_count": 5,
   "metadata": {},
   "outputs": [
    {
     "name": "stdout",
     "output_type": "stream",
     "text": [
      "[False False False False False False False False False False False False\n",
      " False False False False False False False False False False False False\n",
      " False False False False False False False False False False False False\n",
      " False False False False False False False False False False False False\n",
      " False False False False False False False False False False False False\n",
      " False False False False False False False False False False False False]\n"
     ]
    }
   ],
   "source": [
    "# What about Bonferonni correction?\n",
    "\n",
    "from mne.stats import bonferroni_correction\n",
    "\n",
    "reject, pval_cor = bonferroni_correction(ps, 0.05)\n",
    "\n",
    "print(reject)"
   ]
  },
  {
   "cell_type": "markdown",
   "metadata": {},
   "source": [
    "No electrodes survive Bonferroni correction! Is it too conservative? Remember that Bonferonni assume **no statistical dependency between tests.** What about FDR correction (Benjamini-Hochberg)?"
   ]
  },
  {
   "cell_type": "code",
   "execution_count": 6,
   "metadata": {},
   "outputs": [
    {
     "name": "stdout",
     "output_type": "stream",
     "text": [
      "[False False False False False False  True False False False False False\n",
      "  True False  True False False False  True False False False False False\n",
      " False False False False False False False False False False False False\n",
      "  True False False False False False False False False False False False\n",
      " False False False False False False False False False False False  True\n",
      " False False False False False False False False False False False False]\n"
     ]
    }
   ],
   "source": [
    "from mne.stats import fdr_correction\n",
    "\n",
    "reject, pval_cor = fdr_correction(ps, 0.05)  #by default, this implements Benjamini-Hochberg with a 0.05 threshold. \n",
    "\n",
    "print(reject)"
   ]
  },
  {
   "cell_type": "markdown",
   "metadata": {},
   "source": [
    "A few electrodes are back! With this threshold, we would expect, on average, 5% of the significant tests to result in a Type I error. \n",
    "\n",
    "The significant electrodes should not be over-interpreted, since we used a less-conservative test. Some still might be false positives. But they may carry interesting signal, and combined with other information, these signals could teach us something about the brain. "
   ]
  },
  {
   "cell_type": "markdown",
   "metadata": {},
   "source": [
    "## Permutation testing\n",
    "\n",
    "The statistical tests we have discussed so far are **parametric**, meaning that they rely on models of data established by a finite number of parameters. For instance, the t-test models our data as normal distributions, with fixed means and standard deviations. These tests are often powerful and extremely fast, but they do have their drawbacks: Namely, they rely on a number of assumptions about the underlying data, including their distributional forms and **independence**. Many parametric tests assume that datapoints or distributions are uncorrelated or unrelated to each other; if this isn't actually true, you can end up with a false positive!\n",
    "\n",
    "There are several **nonparametric** tests that do not make assumptions about the distributional form of your data. Today, we're going to implement a general approach to nonparametric testing, called a **permutation test**. Permutation tests (also called randomization tests) make no assumptions about the data; instead, they literally create the null distribution against which to compare your test statistic, instead of modeling it based on parameters derived from your data. In fact, there are many ways in which the general idea of resampling statistics are applied throughout data science -- learning about permutation tests is a good way to get some initial exposure to these methods. \n",
    "\n",
    "How to do a permutation test: \n",
    "\n",
    "1. **Decide what you want to test**: Are you looking for the difference in means between two distributions? A difference in their variance? Whether the sum of one distribution is significantly greater than another? A permutation test can, in theory, handle anything you throw at it. \n",
    "2. **Compute your \"true\" statistic.** For whatever you decided in step (1), compute that number. It could be a difference score, a t-statistic, an F-statistic, or anything else. \n",
    "3. **Randomly shuffle your data.** For example, if you're testing something between two distributions, randomly swap data between those distributions, but <i>maintain the original size of the distributions</i>. Remember, a permnutation test is about keeping everything exactly the same, except for the data values themselves. \n",
    "4. For each random shuffle in step (3), **recompute your test statistic**. \n",
    "5. **Repeat steps 3-4 many times.** There's no strict rule on exactly how many times, and the more shuffles you do, the precise P-value you can get. But more shuffles means more compute time, and it may quickly become intractable. 1000 shuffles is common and a good rule-of-thumb, but typically you'll need at least several hundred. \n",
    "6. **Compare true statistic to null distribution.** Typically this takes the form of computing a p-value or a z-score.\n",
    "\n",
    "**WARNING: ONLY SHUFFLE OVER THE DIMENSION THAT REPRESENTS YOUR VARIABLE OF INTEREST. DO NOT SHUFFLE ALL OF YOUR DATA -- PERMUTATION TESTS MUST PRESERVE THE ORIGINAL STRUCTURE OF THE DATA AS MUCH AS POSSIBLE.**\n",
    "\n",
    "#### Example\n",
    "\n",
    "Let's try this out on our power data from R1001P. Yesterday, we ran a 2-sample (or \"independent\") t-test to ask whether there was a significant difference in power between remembered and not-remembered conditions. But in doing so, we violated an assumption of the test: The two distributions are not actually independent! Recalled and not-recalled trials can occur right after one another, and EEG data is autocorrelated in time. While, in practice, this violation might not be a huge deal, it was technically inappropriate to use this test for statistical inference. A permutation test allows us to keep everything above-board. "
   ]
  },
  {
   "cell_type": "code",
   "execution_count": 7,
   "metadata": {},
   "outputs": [],
   "source": [
    "# Reload the raw power values and recalled array.\n",
    "rec = np.load(os.path.join('npy_files', 'R1001P_recalled.npy'))\n",
    "pows = np.load(os.path.join('npy_files', 'R1001P_pows.npy'))\n",
    "\n",
    "# pows are dimensions [freqs, events, electrodes, time bins].\n",
    "\n",
    "# Let's average powers into across the 400-700 ms window.\n",
    "# This begins after ERP effects die out,\n",
    "# but not so long as to include irrelevant activity.\n",
    "# Furthermore, let's only analyze the theta frequencies,\n",
    "# which were the first 5 (trust me).\n",
    "avg_pow = np.mean(np.mean(pows[:5, :, :, 4:11], 0), -1)\n",
    "\n",
    "# Step 1: We'd like to test the difference in mean theta power\n",
    "# between rec and not-rec distributions.\n",
    "# Step 2: Compute the true difference in means.\n",
    "\n",
    "diff_mu = np.mean(avg_pow[rec==1, :], 0)-np.mean(avg_pow[rec==0, :], 0)\n",
    "\n",
    "# Step 3, 4, 5: Randomly shuffle data between rec and not-rec groups,\n",
    "# and recompute test statistic (x 1000)\n",
    "\n",
    "# We need to know how many data points fall in each group.\n",
    "num_rec = np.sum(rec)\n",
    "# Vector of indices for later shuffling.\n",
    "idx_vec = np.arange(len(rec))\n",
    "\n",
    "# Note that this function shuffles in-place.\n",
    "from numpy.random import shuffle\n",
    "\n",
    "# Number of random shuffles.\n",
    "numshuf = 1000\n",
    "null_mus = []\n",
    "# Iterating over shuffles.\n",
    "for i in range(numshuf):\n",
    "    shuffle(idx_vec)\n",
    "    # Creating null groups of 'rec' and 'not-rec'.\n",
    "    null_rec = idx_vec[:num_rec]\n",
    "    null_nrec = idx_vec[num_rec:]\n",
    "    diff_mu_null = np.mean(avg_pow[null_rec, :], 0)-np.mean(avg_pow[null_nrec, :], 0)  #recomputing the test statistic\n",
    "    null_mus.append(diff_mu_null)   \n",
    "null_mus = np.array(null_mus)"
   ]
  },
  {
   "cell_type": "code",
   "execution_count": 8,
   "metadata": {},
   "outputs": [
    {
     "data": {
      "text/plain": [
       "Text(0, 0.5, 'Count')"
      ]
     },
     "execution_count": 8,
     "metadata": {},
     "output_type": "execute_result"
    },
    {
     "data": {
      "image/png": "[encoded data removed]",
      "text/plain": [
       "<Figure size 252x216 with 1 Axes>"
      ]
     },
     "metadata": {
      "needs_background": "light"
     },
     "output_type": "display_data"
    }
   ],
   "source": [
    "# Inspect the null distribution to see that everything worked as intended.\n",
    "plt.figure(figsize=(3.5, 3))\n",
    "ax = plt.subplot(111)\n",
    "plt.hist(null_mus[:, 11], 20)\n",
    "plt.xlabel('Difference')\n",
    "plt.ylabel('Count')"
   ]
  },
  {
   "cell_type": "markdown",
   "metadata": {},
   "source": [
    "Looks pretty good! Null distributions don't *have* to look any particular way, but if you see very strange-looking distributions, or an unreasonable range of values, you may want to go back and check your code. (Or at least understand why the distribution should look that way.)"
   ]
  },
  {
   "cell_type": "code",
   "execution_count": 9,
   "metadata": {},
   "outputs": [
    {
     "name": "stdout",
     "output_type": "stream",
     "text": [
      "One-sided: 0.19999999999999996\n",
      "Two-sided: 0.3999999999999999\n",
      "-0.8397919451081097\n"
     ]
    },
    {
     "data": {
      "image/png": "[encoded data removed]",
      "text/plain": [
       "<Figure size 252x216 with 1 Axes>"
      ]
     },
     "metadata": {
      "needs_background": "light"
     },
     "output_type": "display_data"
    }
   ],
   "source": [
    "# Step 6: Get a p-vaue or z-score.\n",
    "\n",
    "# Plot where the true value falls relative to the null distribution.\n",
    "plt.figure(figsize=(3.5, 3))\n",
    "ax = plt.subplot(111)\n",
    "plt.hist(null_mus[:, 11], 20)\n",
    "plt.xlabel('Difference')\n",
    "plt.ylabel('Count')\n",
    "plt.vlines([diff_mu[11]], ymin=ax.get_ylim()[0], ymax=ax.get_ylim()[1], color='r', linewidths=3)\n",
    "\n",
    "# Quantify with a p-value.\n",
    "# If we're doing a 2-sided test, multiply the resulting p-value by 2. \n",
    "pval = np.sum(null_mus[:, 11]>diff_mu[11])/float(null_mus.shape[0])\n",
    "print('One-sided: '+str(1.-pval))\n",
    "print('Two-sided: '+str((1.-pval)*2))\n",
    "\n",
    "# Quantify with a z-score.\n",
    "Z = (diff_mu[11]-np.mean(null_mus[:, 11]))/np.std(null_mus[:, 11])\n",
    "print(Z)"
   ]
  },
  {
   "cell_type": "markdown",
   "metadata": {},
   "source": [
    "The true value falls pretty close to the middle, which is why it has a nonsignificant p-value and a z-score of -0.744. Nothing significant here!"
   ]
  },
  {
   "cell_type": "code",
   "execution_count": 10,
   "metadata": {},
   "outputs": [
    {
     "data": {
      "text/plain": [
       "Text(0, 0.5, 'T-stat')"
      ]
     },
     "execution_count": 10,
     "metadata": {},
     "output_type": "execute_result"
    },
    {
     "data": {
      "image/png": "[encoded data removed]",
      "text/plain": [
       "<Figure size 252x216 with 1 Axes>"
      ]
     },
     "metadata": {
      "needs_background": "light"
     },
     "output_type": "display_data"
    }
   ],
   "source": [
    "# How do the permutation results compare to our original t-test?\n",
    "# An easy way to check would be to compare the permutation z-score to the t-statistics \n",
    "# (with large enough samples, these statistics are essentially the same).\n",
    "\n",
    "# Compute z-score for each electrode.\n",
    "zs = []\n",
    "for i in range(len(diff_mu)):\n",
    "    zs.append((diff_mu[i]-np.mean(null_mus[:, i]))/np.std(null_mus[:, i]))\n",
    "\n",
    "# Plot results.\n",
    "plt.figure(figsize=(3.5, 3))\n",
    "ax = plt.subplot(111)\n",
    "plt.plot(zs, ts, 'o')\n",
    "plt.plot([-3.5, 3.5], [-3.5, 3.5], 'k--')\n",
    "plt.xlabel('Perm Z-score', fontsize=12)\n",
    "plt.ylabel('T-stat', fontsize=12)"
   ]
  },
  {
   "cell_type": "markdown",
   "metadata": {},
   "source": [
    "The t-stats and z-scores look very similar, meaning that the independence violation probably wasn't a big deal. There is a hint that the t-stats might have been slightly overstating our effects at the low end of the range. "
   ]
  },
  {
   "cell_type": "markdown",
   "metadata": {},
   "source": [
    "**Exercise: Generalize the approach above to run a permutation t-test. How do the results compare to the original parametric t-test? How do they compare to the difference in means permutation test?**"
   ]
  },
  {
   "cell_type": "markdown",
   "metadata": {},
   "source": [
    "**Exercise: How does the correlation of between the t-test and the permutation z-scores change as a function of the number of random shuffles?**"
   ]
  },
  {
   "cell_type": "markdown",
   "metadata": {},
   "source": [
    "**Exercise: Can you imagine a way to extend permutation tests to help correct for multiple comparisons?**"
   ]
  },
  {
   "cell_type": "markdown",
   "metadata": {},
   "source": [
    "### Cluster testing "
   ]
  },
  {
   "cell_type": "code",
   "execution_count": 11,
   "metadata": {},
   "outputs": [],
   "source": [
    "from mne.stats import permutation_cluster_test"
   ]
  },
  {
   "cell_type": "code",
   "execution_count": null,
   "metadata": {},
   "outputs": [],
   "source": []
  }
 ],
 "metadata": {
  "kernelspec": {
   "display_name": "environmentname",
   "language": "python",
   "name": "environmentname"
  },
  "language_info": {
   "codemirror_mode": {
    "name": "ipython",
    "version": 3
   },
   "file_extension": ".py",
   "mimetype": "text/x-python",
   "name": "python",
   "nbconvert_exporter": "python",
   "pygments_lexer": "ipython3",
   "version": "3.7.4"
  }
 },
 "nbformat": 4,
 "nbformat_minor": 4
}
