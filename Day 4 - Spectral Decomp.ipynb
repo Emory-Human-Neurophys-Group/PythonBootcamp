{
 "cells": [
  {
   "cell_type": "markdown",
   "metadata": {},
   "source": [
    "## Time-Frequency Decomposition\n",
    "\n",
    "Now we know how to load event data, electrode data, and EEG data. We're finally ready to start looking at some electrophysiology!\n",
    "\n",
    "Besides ERPs, the primary way neuroscientists understand EEG signals is to look for oscillations, or rhythmic fluctations in the voltage of an EEG signal. Some fluctuations occur very fast, cycling dozens of times in the span of a second, while others will see only 3 or 4 cycles a second. Breaking down EEG according to the contributions of oscillations at various frequencies is key to electrophysiological analysis. \n",
    "\n",
    "There are many ways to break down an EEG signal into its component frequencies and measure the contribution of each. In class, we'll switch gears to a short presentation on the Fourier Transform and time-frequency analysis ( https://github.com/pennmem/PythonBootcamp2018/blob/master/time_freq_analysis.pdf ). Don't worry if you don't get everything right away -- this is really meant to convey the big-picture ideas. \n",
    "\n",
    "<center>\n",
    "<img src=\"http://neurosky.com/wp-content/uploads/2015/05/Screen-Shot-2015-05-14-at-10.41.17-AM.png\" width=300>\n",
    "</center>\n",
    "\n",
    "Here's a few tips to keep in mind as you're analyzing spectral power in EEG signals: \n",
    "\n",
    "* We're often interested in **contrasts between conditions**, e.g. rememebered vs. not-remembered, or stimulus vs. baseline, etc. Interpreting raw power values can be difficult and should be done with care. \n",
    "* Many filters, like the Morlet wavelet, induce edge effects. Be sure to add an appropriately-sized **buffer** and remove it after filtering!\n",
    "* **Line noise** and harmonics (60 Hz, 120 Hz) can contaminate analyses of high-frequency activity. Re-referencing can mitigate it somewhat, but either avoid analyzing frequencies around 60 and 120 Hz or apply a notch filter to remove residual line noise. "
   ]
  },
  {
   "cell_type": "markdown",
   "metadata": {},
   "source": [
    "## Implementing time-frequency analyses in Python\n",
    "\n",
    "There are several Python toolboxes that have good implementations of various spectral decomposition methods. For the sake of the bootcamp, we're going to focus on two popular choices in the lab: MNE and PTSA (Python Time Series Analysis). \n",
    "\n",
    "* **MNE Python** is a suite of tools for analysis of neurophysiologic timeseries data. It's especially useful for EEG, but still has incredible functionality for ECoG/iEEG, which we're focusing on here. (https://martinos.org/mne/stable/index.html)\n",
    "\n",
    "* **PTSA** is another Python-based timeseries toolbox, designed by former members of the CML. It doesnt' have nearly the breadth of MNE, but does feature a very fast implementation of the Morlet Wavelet Transform. (https://github.com/pennmem/ptsa_new)\n",
    "\n",
    "Which toolbox you choose to use for your analyses is ultimately up to you. However, note that MNE is a well-documented and well-curated software suite with active professional backing, while PTSA is more of a home-grown approach to specific timeseries functionality. You may find that MNE's flexibility, and the wide variety of spectral analyses it supports, make it a better choice for most things."
   ]
  },
  {
   "cell_type": "markdown",
   "metadata": {},
   "source": [
    "### MNE Python\n",
    "Let's take a look at doing some basic spectral analyses with MNE! First, we'll load up the same dataset we've been working with the past few days. "
   ]
  },
  {
   "cell_type": "code",
   "execution_count": 266,
   "metadata": {},
   "outputs": [],
   "source": [
    "#First, our import statements\n",
    "from cmlreaders import CMLReader, get_data_index\n",
    "\n",
    "#The \"r1\" database corresponds to all of the RAM subjects\n",
    "df = get_data_index(\"r1\")\n",
    "\n",
    "#Specify which subject and experiment we want\n",
    "sub = 'R1001P'\n",
    "exp = 'FR1'\n",
    "\n",
    "#Find out the sessions, localization, and montage for this subject\n",
    "sessions = list(df[(df['subject']==sub) & (df['experiment']==exp)]['session'])\n",
    "mont = int(df[(df['subject']==sub) & (df['experiment']==exp)].iloc()[0]['montage'])      #note that *usually* mont and loc will be 0.\n",
    "loc = int(df[(df['subject']==sub) & (df['experiment']==exp)].iloc()[0]['localization'])\n",
    "\n",
    "#For first session...\n",
    "reader = CMLReader(sub, exp, sessions[0], montage=mont, localization=loc)   #reader for loading CML data\n",
    "evs = reader.load('task_events')\n",
    "word_evs = evs[evs['type']=='WORD']\n",
    "pairs = reader.load('pairs')"
   ]
  },
  {
   "cell_type": "code",
   "execution_count": 267,
   "metadata": {},
   "outputs": [
    {
     "name": "stderr",
     "output_type": "stream",
     "text": [
      "/home1/esolo/anaconda3/envs/CML/lib/python3.6/site-packages/cmlreaders/path_finder.py:238: MultiplePathsFoundWarning: Multiple files found: /protocols/r1/subjects/R1001P/experiments/FR1/sessions/0/ephys/current_processed/sources.json\n",
      "/data/eeg/R1001P/eeg.noreref/params.txt returning the first file found\n",
      "  warnings.warn(msg, MultiplePathsFoundWarning)\n"
     ]
    }
   ],
   "source": [
    "#Grab EEG for all events from the 70th electrode\n",
    "eeg_cml = reader.load_eeg(events=word_evs, rel_start=0, rel_stop=1000, scheme=pairs[70:71])"
   ]
  },
  {
   "cell_type": "markdown",
   "metadata": {},
   "source": [
    "First, we'll need to convert our CMLReaders data into an MNE format. Fortunately, this has been made ridiculously simple:"
   ]
  },
  {
   "cell_type": "code",
   "execution_count": 268,
   "metadata": {},
   "outputs": [],
   "source": [
    "import mne\n",
    "eeg = eeg_cml.to_mne()"
   ]
  },
  {
   "cell_type": "markdown",
   "metadata": {},
   "source": [
    "The basis of MNE is the **EpochsArray** structure. It's a Python object that nicely wraps up pertinent information about an EEG-type timeseries, including channel names, sample rates, and event information. Note how our eeg object has information about events and time, among others. It also supports more advanced functionality like filtering, re-referencing, and channel rejection, which we won't get in to right now.\n",
    "\n",
    "**(Tip: MNE functions can often take raw numpy arrays just as well as an EpochsArray -- just be sure you've got the array dimensions right!)**"
   ]
  },
  {
   "cell_type": "code",
   "execution_count": 269,
   "metadata": {},
   "outputs": [
    {
     "data": {
      "text/plain": [
       "\u001b[0;31mType:\u001b[0m        EpochsArray\n",
       "\u001b[0;31mString form:\u001b[0m\n",
       "<EpochsArray  |   300 events (all good), 0 - 0.998 sec, baseline off, ~1.2 MB, data loaded,\n",
       " '1': 300>\n",
       "\u001b[0;31mLength:\u001b[0m      300\n",
       "\u001b[0;31mFile:\u001b[0m        ~/anaconda3/envs/CML/lib/python3.6/site-packages/mne/epochs.py\n",
       "\u001b[0;31mDocstring:\u001b[0m  \n",
       "Epochs object from numpy array.\n",
       "\n",
       "Parameters\n",
       "----------\n",
       "data : array, shape (n_epochs, n_channels, n_times)\n",
       "    The channels' time series for each epoch. See notes for proper units of\n",
       "    measure.\n",
       "info : instance of Info\n",
       "    Info dictionary. Consider using ``create_info`` to populate\n",
       "    this structure.\n",
       "events : None | array of int, shape (n_events, 3)\n",
       "    The events typically returned by the read_events function.\n",
       "    If some events don't match the events of interest as specified\n",
       "    by event_id, they will be marked as 'IGNORED' in the drop log.\n",
       "    If None (default), all event values are set to 1 and event time-samples\n",
       "    are set to range(n_epochs).\n",
       "tmin : float\n",
       "    Start time before event. If nothing provided, defaults to 0.\n",
       "event_id : int | list of int | dict | None\n",
       "    The id of the event to consider. If dict,\n",
       "    the keys can later be used to access associated events. Example:\n",
       "    dict(auditory=1, visual=3). If int, a dict will be created with\n",
       "    the id as string. If a list, all events with the IDs specified\n",
       "    in the list are used. If None, all events will be used with\n",
       "    and a dict is created with string integer names corresponding\n",
       "    to the event id integers.\n",
       "reject : dict | None\n",
       "    Rejection parameters based on peak-to-peak amplitude.\n",
       "    Valid keys are 'grad' | 'mag' | 'eeg' | 'eog' | 'ecg'.\n",
       "    If reject is None then no rejection is done. Example::\n",
       "\n",
       "        reject = dict(grad=4000e-13, # T / m (gradiometers)\n",
       "                      mag=4e-12, # T (magnetometers)\n",
       "                      eeg=40e-6, # V (EEG channels)\n",
       "                      eog=250e-6 # V (EOG channels)\n",
       "                      )\n",
       "\n",
       "flat : dict | None\n",
       "    Rejection parameters based on flatness of signal.\n",
       "    Valid keys are 'grad' | 'mag' | 'eeg' | 'eog' | 'ecg', and values\n",
       "    are floats that set the minimum acceptable peak-to-peak amplitude.\n",
       "    If flat is None then no rejection is done.\n",
       "reject_tmin : scalar | None\n",
       "    Start of the time window used to reject epochs (with the default None,\n",
       "    the window will start with tmin).\n",
       "reject_tmax : scalar | None\n",
       "    End of the time window used to reject epochs (with the default None,\n",
       "    the window will end with tmax).\n",
       "baseline : None or tuple of length 2 (default None)\n",
       "    The time interval to apply baseline correction. If None do not apply\n",
       "    it. If baseline is (a, b) the interval is between \"a (s)\" and \"b (s)\".\n",
       "    If a is None the beginning of the data is used and if b is None then b\n",
       "    is set to the end of the interval. If baseline is equal to (None, None)\n",
       "    all the time interval is used. Correction is applied by computing mean\n",
       "    of the baseline period and subtracting it from the data. The baseline\n",
       "    (a, b) includes both endpoints, i.e. all timepoints t such that\n",
       "    a <= t <= b.\n",
       "proj : bool | 'delayed'\n",
       "    Apply SSP projection vectors. See :class:`mne.Epochs` for details.\n",
       "on_missing : str\n",
       "    See :class:`mne.Epochs` docstring for details.\n",
       "metadata : instance of pandas.DataFrame | None\n",
       "    See :class:`mne.Epochs` docstring for details.\n",
       "\n",
       "    .. versionadded:: 0.16\n",
       "selection : ndarray | None\n",
       "    The selection compared to the original set of epochs.\n",
       "    Can be None to use ``np.arange(len(events))``.\n",
       "\n",
       "    .. versionadded:: 0.16\n",
       "verbose : bool, str, int, or None\n",
       "    If not None, override default verbose level (see :func:`mne.verbose`\n",
       "    and :ref:`Logging documentation <tut_logging>` for more).\n",
       "\n",
       "Notes\n",
       "-----\n",
       "Proper units of measure:\n",
       "\n",
       "* V: eeg, eog, seeg, emg, ecg, bio, ecog\n",
       "* T: mag\n",
       "* T/m: grad\n",
       "* M: hbo, hbr\n",
       "* Am: dipole\n",
       "* AU: misc\n",
       "\n",
       "See Also\n",
       "--------\n",
       "create_info\n",
       "EvokedArray\n",
       "io.RawArray\n"
      ]
     },
     "metadata": {},
     "output_type": "display_data"
    }
   ],
   "source": [
    "eeg?"
   ]
  },
  {
   "cell_type": "code",
   "execution_count": 270,
   "metadata": {},
   "outputs": [
    {
     "data": {
      "text/plain": [
       "500.0"
      ]
     },
     "execution_count": 270,
     "metadata": {},
     "output_type": "execute_result"
    }
   ],
   "source": [
    "#Use this opportunity to tab-complete eeg's attributes.\n",
    "eeg.info['sfreq']"
   ]
  },
  {
   "cell_type": "code",
   "execution_count": 271,
   "metadata": {},
   "outputs": [
    {
     "name": "stdout",
     "output_type": "stream",
     "text": [
      "Effective window size : 0.512 (s)\n"
     ]
    }
   ],
   "source": [
    "#Let's take a look at the average power spectrum across these events (Welch's method)\n",
    "from mne import time_frequency\n",
    "\n",
    "psds, freqs = time_frequency.psd_welch(eeg, fmin=3, fmax=150)  #the output is size (events x channels x freqs)"
   ]
  },
  {
   "cell_type": "code",
   "execution_count": 272,
   "metadata": {},
   "outputs": [
    {
     "data": {
      "image/png": "[encoded data removed]",
      "text/plain": [
       "<Figure size 252x216 with 1 Axes>"
      ]
     },
     "metadata": {},
     "output_type": "display_data"
    }
   ],
   "source": [
    "#Plot our results\n",
    "%matplotlib inline\n",
    "from pylab import *\n",
    "\n",
    "figure(figsize=(3.5, 3)); ax=subplot(111)\n",
    "plot(freqs, np.mean(psds[:, 0, :], 0), linewidth=2)\n",
    "ylabel('PSD'); xlabel('Frequency (Hz)');"
   ]
  },
  {
   "cell_type": "markdown",
   "metadata": {},
   "source": [
    "Note how the power at high frequencies is significantly smaller than at low frequencies. This is a classic relationship found in many natural signals, called the **\"1/f\"** phenomenon. It means that the amplitude of high-frequency signals tends to be much smaller than the amplitude of low-frequency signals. \n",
    "\n",
    "Unfortunately, this relationship makes it difficult to visualize changes at high frequencies, or assess differences between frequency bands. This is why we almost always take the log of power values before going forward with our analyses. "
   ]
  },
  {
   "cell_type": "code",
   "execution_count": 273,
   "metadata": {},
   "outputs": [
    {
     "data": {
      "image/png": "[encoded data removed]",
      "text/plain": [
       "<Figure size 504x216 with 2 Axes>"
      ]
     },
     "metadata": {},
     "output_type": "display_data"
    }
   ],
   "source": [
    "log_psds = np.log10(psds)\n",
    "\n",
    "figure(figsize=(7, 3)); ax=subplot(121)\n",
    "plot(freqs, np.mean(log_psds[:, 0, :], 0), linewidth=2)\n",
    "ylabel('log(PSD)'); xlabel('Frequency (Hz)');\n",
    "\n",
    "#Plot on a log axis to better see low frequencies\n",
    "ax=subplot(122)\n",
    "semilogx(freqs, np.mean(log_psds[:, 0, :], 0), linewidth=2)\n",
    "ylabel('log(PSD)'); xlabel('Frequency (Hz)');\n",
    "\n",
    "tight_layout()  #This cleans up our plots a bit"
   ]
  },
  {
   "cell_type": "markdown",
   "metadata": {},
   "source": [
    "That's much better! We can definitely see more things going on at all points throughout our frequency range. Note that there are several other ways to normalize power values -- some of which we will discuss -- than can also be applied after an initial log transform."
   ]
  },
  {
   "cell_type": "markdown",
   "metadata": {},
   "source": [
    "**Exercise: Analyze 3 seconds of the power sectrum of the first channel. What do you notice?**"
   ]
  },
  {
   "cell_type": "code",
   "execution_count": 318,
   "metadata": {},
   "outputs": [
    {
     "name": "stderr",
     "output_type": "stream",
     "text": [
      "/home1/esolo/anaconda3/envs/CML/lib/python3.6/site-packages/cmlreaders/path_finder.py:238: MultiplePathsFoundWarning: Multiple files found: /protocols/r1/subjects/R1001P/experiments/FR1/sessions/0/ephys/current_processed/sources.json\n",
      "/data/eeg/R1001P/eeg.noreref/params.txt returning the first file found\n",
      "  warnings.warn(msg, MultiplePathsFoundWarning)\n"
     ]
    },
    {
     "name": "stdout",
     "output_type": "stream",
     "text": [
      "Effective window size : 0.512 (s)\n"
     ]
    },
    {
     "data": {
      "text/plain": [
       "[<matplotlib.lines.Line2D at 0x2ae4b0055160>]"
      ]
     },
     "execution_count": 318,
     "metadata": {},
     "output_type": "execute_result"
    },
    {
     "data": {
      "image/png": "[encoded data removed]",
      "text/plain": [
       "<Figure size 252x216 with 1 Axes>"
      ]
     },
     "metadata": {},
     "output_type": "display_data"
    }
   ],
   "source": [
    "eeg_cml = reader.load_eeg(events=word_evs, rel_start=0, rel_stop=3000, scheme=pairs[0:1])\n",
    "eeg = eeg_cml.to_mne()\n",
    "\n",
    "#Get power spectral densities\n",
    "psds, freqs = time_frequency.psd_welch(eeg, fmin=3, fmax=150)  #the output is size (events x channels x freqs)\n",
    "\n",
    "figure(figsize=(3.5, 3)); ax=subplot(111)\n",
    "plot(freqs, np.log10(np.mean(psds[:, 0, :], 0)), linewidth=2)"
   ]
  },
  {
   "cell_type": "code",
   "execution_count": 320,
   "metadata": {},
   "outputs": [
    {
     "name": "stdout",
     "output_type": "stream",
     "text": [
      "Setting up band-stop filter from 58 - 62 Hz\n",
      "Effective window size : 0.512 (s)\n"
     ]
    },
    {
     "data": {
      "text/plain": [
       "Text(0.5,1,'Notch Filtered Data')"
      ]
     },
     "execution_count": 320,
     "metadata": {},
     "output_type": "execute_result"
    },
    {
     "data": {
      "image/png": "[encoded data removed]",
      "text/plain": [
       "<Figure size 252x216 with 1 Axes>"
      ]
     },
     "metadata": {},
     "output_type": "display_data"
    }
   ],
   "source": [
    "#Here's a potential solution -- filtering out the 60 Hz electrical line noise and its harmonic at 120 Hz\n",
    "\n",
    "#Butterworth filtering\n",
    "filt_data = eeg.filter(l_freq=62., h_freq=58., method='iir')\n",
    "\n",
    "#Get power spectral densities\n",
    "psds, freqs = time_frequency.psd_welch(filt_data, fmin=3, fmax=150)  #the output is size (events x channels x freqs)\n",
    "\n",
    "figure(figsize=(3.5, 3)); ax=subplot(111)\n",
    "plot(freqs, np.log10(np.mean(psds[:, 0, :], 0)), linewidth=2)\n",
    "title('Notch Filtered Data')"
   ]
  },
  {
   "cell_type": "code",
   "execution_count": 310,
   "metadata": {},
   "outputs": [
    {
     "name": "stdout",
     "output_type": "stream",
     "text": [
      "Effective window size : 0.512 (s)\n"
     ]
    },
    {
     "data": {
      "text/plain": [
       "Text(0.5,1,'Notch Filtered Data')"
      ]
     },
     "execution_count": 310,
     "metadata": {},
     "output_type": "execute_result"
    },
    {
     "data": {
      "image/png": "[encoded data removed]",
      "text/plain": [
       "<Figure size 252x216 with 1 Axes>"
      ]
     },
     "metadata": {},
     "output_type": "display_data"
    }
   ],
   "source": [
    "#spectrum_fit method\n",
    "filt_data = mne.filter.notch_filter(eeg.get_data(), Fs=500., freqs=[60, 120], method='spectrum_fit')\n",
    "\n",
    "#Get power spectral densities\n",
    "psds, freqs = time_frequency.psd_array_welch(filt_data, sfreq=500., fmin=3, fmax=150)  #the output is size (events x channels x freqs)\n",
    "\n",
    "figure(figsize=(3.5, 3)); ax=subplot(111)\n",
    "plot(freqs, np.log10(np.mean(psds[:, 0, :], 0)), linewidth=2)\n",
    "title('Notch Filtered Data')"
   ]
  },
  {
   "cell_type": "markdown",
   "metadata": {},
   "source": [
    "**Exercise: Compare the power spectra for channel 31 between remembered and not-remembered items. Do you notice any differences?**"
   ]
  },
  {
   "cell_type": "code",
   "execution_count": 276,
   "metadata": {},
   "outputs": [
    {
     "name": "stdout",
     "output_type": "stream",
     "text": [
      "Effective window size : 0.512 (s)\n",
      "Effective window size : 0.512 (s)\n"
     ]
    },
    {
     "name": "stderr",
     "output_type": "stream",
     "text": [
      "/home1/esolo/anaconda3/envs/CML/lib/python3.6/site-packages/cmlreaders/path_finder.py:238: MultiplePathsFoundWarning: Multiple files found: /protocols/r1/subjects/R1001P/experiments/FR1/sessions/0/ephys/current_processed/sources.json\n",
      "/data/eeg/R1001P/eeg.noreref/params.txt returning the first file found\n",
      "  warnings.warn(msg, MultiplePathsFoundWarning)\n"
     ]
    },
    {
     "data": {
      "image/png": "[encoded data removed]",
      "text/plain": [
       "<Figure size 252x216 with 1 Axes>"
      ]
     },
     "metadata": {},
     "output_type": "display_data"
    }
   ],
   "source": [
    "#We can put the whole EEG-reading step on one line. Alternatively, you could filter the resulting EEG object. \n",
    "chan = 31\n",
    "eeg_rec = reader.load_eeg(events=word_evs[word_evs['recalled']==1], rel_start=0, rel_stop=1000, scheme=pairs[chan:chan+1]).to_mne()\n",
    "eeg_nrec = reader.load_eeg(events=word_evs[word_evs['recalled']==0], rel_start=0, rel_stop=1000, scheme=pairs[chan:chan+1]).to_mne()\n",
    "\n",
    "psds_rec, freqs = time_frequency.psd_welch(eeg_rec, fmin=3, fmax=150)\n",
    "psds_nrec, _ = time_frequency.psd_welch(eeg_nrec, fmin=3, fmax=150)\n",
    "\n",
    "figure(figsize=(3.5, 3)); ax=subplot(111)\n",
    "plot(freqs, np.mean(np.log10(psds_rec[:, 0, :]), 0), linewidth=2, label='Rec')\n",
    "plot(freqs, np.mean(np.log10(psds_nrec[:, 0, :]), 0), linewidth=2, label='NRec')\n",
    "legend()\n",
    "ylabel('log(PSD)'); xlabel('Frequency (Hz)');"
   ]
  },
  {
   "cell_type": "markdown",
   "metadata": {},
   "source": [
    "### Wavelet transform \n",
    "The wavelet transform is a powerful spectral decomposition method, since it explicitly lets us changes in the power spectrum over time. However, because this method involves convolving wavelets with our timeseries, we need to be sure to add buffers to either end of the signal (which we can clip off later). Otherwise, we'll end up eith edge effects that contaminate our results."
   ]
  },
  {
   "cell_type": "code",
   "execution_count": 382,
   "metadata": {},
   "outputs": [
    {
     "name": "stderr",
     "output_type": "stream",
     "text": [
      "/home1/esolo/anaconda3/envs/CML/lib/python3.6/site-packages/cmlreaders/path_finder.py:238: MultiplePathsFoundWarning: Multiple files found: /protocols/r1/subjects/R1001P/experiments/FR1/sessions/0/ephys/current_processed/sources.json\n",
      "/data/eeg/R1001P/eeg.noreref/params.txt returning the first file found\n",
      "  warnings.warn(msg, MultiplePathsFoundWarning)\n"
     ]
    },
    {
     "data": {
      "image/png": "[encoded data removed]",
      "text/plain": [
       "<Figure size 504x288 with 2 Axes>"
      ]
     },
     "metadata": {},
     "output_type": "display_data"
    }
   ],
   "source": [
    "##### Load EEG\n",
    "buf = 1000  #define the buffer (in ms) here. Should be at least half the total wavelet length at lowest frequency (i.e. 1/2f * n_cycles). With standard params, 1 sec usually suffices. \n",
    "sr = eeg_cml.samplerate #we'll need this soon\n",
    "eeg = reader.load_eeg(events=word_evs, rel_start=-1*buf, rel_stop=1000+buf, scheme=pairs[70:71]).to_mne()\n",
    "\n",
    "#Pre-define an array of frequencies. We can log-space them since wavelets are less sensitive to differences at higher frequencies\n",
    "myfreqs = np.logspace(np.log10(3), np.log10(150), num=15)\n",
    "\n",
    "#Run TF decomposition\n",
    "power = time_frequency.tfr_morlet(eeg, freqs=myfreqs, n_cycles=5, return_itc=False, average=True) #we're setting it to automatically average across trials\n",
    "\n",
    "#Plot results\n",
    "figure(figsize=(7., 4)); ax=subplot(111)\n",
    "matshow(np.log10(power.data[0, :, int(buf/1000.*sr):-1*int(buf/1000.*sr)]), fignum=0, aspect='auto', cmap='RdBu_r');  #we're cutting off the buffers manually here\n",
    "ax.invert_yaxis()\n",
    "yticks(np.arange(0, len(myfreqs)), np.round(myfreqs), fontsize=12)\n",
    "xlabel('Time (samples)', fontsize=14); ylabel('Frequency (Hz)', fontsize=14)\n",
    "cb = colorbar(); cb.set_label('log Power',)"
   ]
  },
  {
   "cell_type": "markdown",
   "metadata": {},
   "source": [
    "This is nice, but we're not seeing much interesting activity because our color scale is still getting squished by the difference between low and high frequency power (despite our log transform). What if we just look at low frequencies?"
   ]
  },
  {
   "cell_type": "code",
   "execution_count": 380,
   "metadata": {},
   "outputs": [
    {
     "data": {
      "image/png": "[encoded data removed]",
      "text/plain": [
       "<Figure size 504x288 with 2 Axes>"
      ]
     },
     "metadata": {},
     "output_type": "display_data"
    }
   ],
   "source": [
    "#Plot results\n",
    "figure(figsize=(7., 4)); ax=subplot(111)\n",
    "to_plot = power.data[0, 0:5, 500:-500]\n",
    "matshow(np.log10(to_plot), fignum=0, aspect='auto', cmap='RdBu_r');  #we're cutting off the buffers manually here\n",
    "ax.invert_yaxis()\n",
    "yticks(np.arange(0, len(myfreqs[0:5])), np.round(myfreqs[0:5]), fontsize=12)\n",
    "xticks(np.arange(0, to_plot.shape[1])[::100], np.arange(0, to_plot.shape[1])[::100]/500.)\n",
    "xlabel('Time (seconds)', fontsize=14); ylabel('Frequency (Hz)', fontsize=14)\n",
    "cb = colorbar(); cb.set_label('log Power',)"
   ]
  },
  {
   "cell_type": "markdown",
   "metadata": {},
   "source": [
    "Cool! looks like there's an increase in 7 Hz power shortly after word onset which dies out after a few hundred milliseconds.\n",
    "\n",
    "But what we *really* want to do is find the difference in power between rememebered and not-remembered trials, in order to isolate the neural activity specific to good episodic memory. Come back tomorrow to see how that's done!"
   ]
  },
  {
   "cell_type": "markdown",
   "metadata": {},
   "source": [
    "**Exercise: Try a different number of wavelet cycles. What happens to the 7 Hz effect?**"
   ]
  },
  {
   "cell_type": "markdown",
   "metadata": {},
   "source": [
    "**Exercise: Play around with the number of wavelet cycles, frequency, and buffer sizes. What happens as you adjust these parameters?**"
   ]
  },
  {
   "cell_type": "markdown",
   "metadata": {},
   "source": [
    "## PTSA\n",
    "\n",
    "PTSA is similar to MNE in its mission: To provide a general framework for timeseries analyses. While PTSA has much less institutional muscle behind it, it has a highly efficient implementation of the Morlet Wavelet Transform and the Butterworth Filter.\n",
    "\n",
    "The core of PTSA is the **TimeSeriesX object**, which is an elaborated form of the numpy recarray. In particular, the TimeSeriesX object enables users to keep track of dimension metadata even after filtering or transforming the data within the object. For example, TimeSeriesX objects in PTSA nicely wrap together EEG data or power data with event information. Let's take a look:"
   ]
  },
  {
   "cell_type": "code",
   "execution_count": 279,
   "metadata": {},
   "outputs": [
    {
     "name": "stderr",
     "output_type": "stream",
     "text": [
      "/home1/esolo/anaconda3/envs/CML/lib/python3.6/site-packages/cmlreaders/path_finder.py:238: MultiplePathsFoundWarning: Multiple files found: /protocols/r1/subjects/R1001P/experiments/FR1/sessions/0/ephys/current_processed/sources.json\n",
      "/data/eeg/R1001P/eeg.noreref/params.txt returning the first file found\n",
      "  warnings.warn(msg, MultiplePathsFoundWarning)\n"
     ]
    },
    {
     "data": {
      "text/plain": [
       "<xarray.TimeSeries (event: 300, channel: 1, time: 1500)>\n",
       "array([[[-2178, -2178, ..., -2280, -2283]],\n",
       "\n",
       "       [[-2193, -2199, ..., -2177, -2181]],\n",
       "\n",
       "       ...,\n",
       "\n",
       "       [[-2164, -2165, ..., -2124, -2121]],\n",
       "\n",
       "       [[-2190, -2186, ..., -2193, -2195]]], dtype=int16)\n",
       "Coordinates:\n",
       "  * event       (event) (numpy.record, [('index', '<i8'), ('eegfile', 'O'), ('eegoffset', '<i8'), ('exp_version', '<f8'), ('experiment', 'O'), ('intrusion', '<i8'), ('is_stim', '?'), ('item_name', 'O'), ('item_num', '<i8'), ('list', '<i8'), ('montage', '<i8'), ('msoffset', '<i8'), ('mstime', '<i8'), ('protocol', 'O'), ('recalled', '?'), ('rectime', '<i8'), ('serialpos', '<i8'), ('session', '<i8'), ('stim_list', '?'), ('stim_params', 'O'), ('subject', 'O'), ('type', 'O')]) (23, '/protocols/r1/subjects/R1001P/experiments/FR1/sessions/0/ephys/current_processed/noreref/R1001P_FR1_0_12Oct14_1034', 388959, 1.02, 'FR1', -999, False, 'HOUSE', 130, 1, 0, 1, 1413125314490, 'r1', False, -999, 1, 0, False, list([]), 'R1001P', 'WORD') ...\n",
       "  * channel     (channel) <U7 'RP6-RP7'\n",
       "  * time        (time) float64 -1e+03 -998.0 -996.0 -994.0 -992.0 -990.0 ...\n",
       "    samplerate  float64 500.0"
      ]
     },
     "execution_count": 279,
     "metadata": {},
     "output_type": "execute_result"
    }
   ],
   "source": [
    "#We need our data in the PTSA TimeseriesX format\n",
    "buf = 1000\n",
    "eeg_ptsa = reader.load_eeg(events=word_evs, rel_start=-1*buf, rel_stop=1000+buf, scheme=pairs[70:71]).to_ptsa()\n",
    "eeg_ptsa"
   ]
  },
  {
   "cell_type": "code",
   "execution_count": 280,
   "metadata": {},
   "outputs": [
    {
     "data": {
      "text/plain": [
       "array(['HOUSE', 'HAWK', 'WAND', 'GEESE', 'STAR'], dtype=object)"
      ]
     },
     "execution_count": 280,
     "metadata": {},
     "output_type": "execute_result"
    }
   ],
   "source": [
    "#We can access the original event information as follows: \n",
    "eeg_ptsa.event.data['item_name'][0:5]"
   ]
  },
  {
   "cell_type": "code",
   "execution_count": 281,
   "metadata": {},
   "outputs": [
    {
     "data": {
      "text/plain": [
       "(53, 1, 1500)"
      ]
     },
     "execution_count": 281,
     "metadata": {},
     "output_type": "execute_result"
    }
   ],
   "source": [
    "#And we can index our EEG data by information from the events structure!\n",
    "eeg_rec = eeg_ptsa[eeg_ptsa.event.data['recalled']==1]\n",
    "eeg_rec.shape"
   ]
  },
  {
   "cell_type": "markdown",
   "metadata": {},
   "source": [
    "(Note that MNE EpochsArray also supports events metadata, but the current implementation in CMLReaders discards events information.)"
   ]
  },
  {
   "cell_type": "code",
   "execution_count": 282,
   "metadata": {},
   "outputs": [
    {
     "data": {
      "text/plain": [
       "(1, 300, 1500)"
      ]
     },
     "execution_count": 282,
     "metadata": {},
     "output_type": "execute_result"
    }
   ],
   "source": [
    "#TimeSeriesX objects also support handy manipulations of the array structure, e.g.\n",
    "eeg_ptsa_alt = eeg_ptsa.transpose('channel', 'event', 'time')\n",
    "eeg_ptsa_alt.shape"
   ]
  },
  {
   "cell_type": "markdown",
   "metadata": {},
   "source": [
    "### Spectral Analysis"
   ]
  },
  {
   "cell_type": "code",
   "execution_count": 305,
   "metadata": {},
   "outputs": [],
   "source": [
    "from ptsa.data.filters import ButterworthFilter\n",
    "\n",
    "#Filter out line noise\n",
    "freq_range = [58., 62.]\n",
    "b_filter = ButterworthFilter(timeseries=eeg_ptsa, freq_range=freq_range, filt_type='stop', order=4)\n",
    "eeg_filtered = b_filter.filter()"
   ]
  },
  {
   "cell_type": "code",
   "execution_count": 284,
   "metadata": {},
   "outputs": [
    {
     "name": "stdout",
     "output_type": "stream",
     "text": [
      "CPP total time wavelet loop:  0.17738032341003418\n"
     ]
    }
   ],
   "source": [
    "from ptsa.data.filters import MorletWaveletFilter\n",
    "\n",
    "#Get spectral power\n",
    "myfreqs = np.logspace(np.log10(3), np.log10(150), 15)  #let's start with 3-170 Hz, 20 frequencies\n",
    "wf = MorletWaveletFilter(timeseries=eeg_filtered, freqs=myfreqs, width=5, output='power')\n",
    "pow_wavelet = wf.filter()  #output is freqs, events, elecs, and time\n",
    "pows = pow_wavelet.data[:, :, :, int((buf/1000.)*sr):-1*int((buf/1000.)*sr)]  #remove buffer period\n",
    "pows = np.log10(pows)   #take log of powers"
   ]
  },
  {
   "cell_type": "code",
   "execution_count": 285,
   "metadata": {},
   "outputs": [
    {
     "data": {
      "image/png": "[encoded data removed]",
      "text/plain": [
       "<Figure size 504x288 with 2 Axes>"
      ]
     },
     "metadata": {},
     "output_type": "display_data"
    }
   ],
   "source": [
    "#Plot results\n",
    "figure(figsize=(7., 4)); ax=subplot(111)\n",
    "matshow(np.mean(pows[:, :, 0, :], 1), fignum=0, aspect='auto', cmap='RdBu_r');  #we're cutting off the buffers manually here\n",
    "ax.invert_yaxis()\n",
    "yticks(np.arange(0, len(myfreqs)), np.round(myfreqs), fontsize=12)\n",
    "xlabel('Time (samples)', fontsize=14); ylabel('Frequency (Hz)', fontsize=14)\n",
    "colorbar();"
   ]
  },
  {
   "cell_type": "code",
   "execution_count": 287,
   "metadata": {},
   "outputs": [
    {
     "data": {
      "image/png": "[encoded data removed]",
      "text/plain": [
       "<Figure size 504x216 with 2 Axes>"
      ]
     },
     "metadata": {},
     "output_type": "display_data"
    }
   ],
   "source": [
    "#look at the average spectrum, and compare to our earlier results\n",
    "figure(figsize=(7, 3)); ax=subplot(121)\n",
    "plot(myfreqs, np.mean(np.mean(pows[:, :, 0, :], 1), 1), linewidth=2)\n",
    "ylabel('log Power'); xlabel('Frequency (Hz)')\n",
    "\n",
    "#Plot on a log axis to better see differences at low frequencies\n",
    "ax=subplot(122)\n",
    "semilogx(myfreqs, np.mean(np.mean(pows[:, :, 0, :], 1), 1), linewidth=2)\n",
    "ylabel('log Power'); xlabel('Frequency (Hz)')\n",
    "\n",
    "tight_layout()"
   ]
  },
  {
   "cell_type": "markdown",
   "metadata": {},
   "source": [
    "**Exercise: Compute the average time-frequency plot across all temporal cortex electrodes in subject R1111M**"
   ]
  },
  {
   "cell_type": "code",
   "execution_count": null,
   "metadata": {},
   "outputs": [],
   "source": []
  }
 ],
 "metadata": {
  "kernelspec": {
   "display_name": "CML",
   "language": "python",
   "name": "cml"
  },
  "language_info": {
   "codemirror_mode": {
    "name": "ipython",
    "version": 3
   },
   "file_extension": ".py",
   "mimetype": "text/x-python",
   "name": "python",
   "nbconvert_exporter": "python",
   "pygments_lexer": "ipython3",
   "version": "3.6.6"
  }
 },
 "nbformat": 4,
 "nbformat_minor": 2
}
