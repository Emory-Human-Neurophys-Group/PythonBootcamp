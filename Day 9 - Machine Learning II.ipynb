{
 "cells": [
  {
   "cell_type": "markdown",
   "metadata": {},
   "source": [
    "## Machine Learning II\n",
    "\n",
    "### Cross-validation\n",
    "\n",
    "Yesterday, we learned how to train a memory classifier on neural features. But we trained the classifier and tested its performance on the same dataset, which is very problematic in the machine-learning world. Why? \n",
    "\n",
    "If the purpose of machine learning methods is to make predictions on new data -- e.g. will this subject remember this word? -- then we want to test its performance on new data! Training a model involves finding a very particular set of weights on each feature, and those weights can end up being very specifically tuned to the training data. It'll do a great job predicting labels on data it already saw, but it will fail to predict labels for new and somewhat different data. \n",
    "\n",
    "\n",
    "<center>\n",
    "<img src=\"https://cdn-images-1.medium.com/max/800/1*tBErXYVvTw2jSUYK7thU2A.png\" width=500>\n",
    "</center>\n",
    "\n",
    "\n",
    "In ML parlance, we want our models to avoid **overfitting** the training data and to **generalize** to held-out datasets. Ensuring this generalizability by testing on held-out data is called **cross-validation**. Let's see how it's done!\n",
    "\n",
    "<center>\n",
    "<img src=\"https://cdn-images-1.medium.com/max/800/1*4G__SV580CxFj78o9yUXuQ.png\" width=650>\n",
    "</center>\n",
    "    \n",
    "<a href=\"https://towardsdatascience.com/train-test-split-and-cross-validation-in-python-80b61beca4b6\">Image source</a>\n"
   ]
  },
  {
   "cell_type": "markdown",
   "metadata": {},
   "source": [
    "The basic idea to break up our dataset into **train/test splits**. There are many ways to do this: For instance, we could break up R1111M's events into quarters, by session, training on 3 sessions and testing on the fourth. You always want your training set to be bigger than your testing set."
   ]
  },
  {
   "cell_type": "code",
   "execution_count": 143,
   "metadata": {},
   "outputs": [],
   "source": [
    "import numpy as np\n",
    "\n",
    "#Load the data\n",
    "feats = np.load('R1111M_feature_matrix.npy')\n",
    "Y = np.load('R1111M_recalled.npy')\n",
    "sessions = np.load('R1111M_sessions.npy')"
   ]
  },
  {
   "cell_type": "code",
   "execution_count": 144,
   "metadata": {},
   "outputs": [
    {
     "name": "stdout",
     "output_type": "stream",
     "text": [
      "[0. 1. 2. 3.]\n"
     ]
    }
   ],
   "source": [
    "print(np.unique(sessions))"
   ]
  },
  {
   "cell_type": "code",
   "execution_count": 145,
   "metadata": {},
   "outputs": [
    {
     "name": "stdout",
     "output_type": "stream",
     "text": [
      "Train:(780, 1128)\n",
      "Test:(240, 1128)\n"
     ]
    }
   ],
   "source": [
    "#Make our training data events from the first 3 sessions. Remember that the feature matrix is events X features in shape\n",
    "training_data = feats[sessions<3, :]\n",
    "training_Y = Y[sessions<3]\n",
    "\n",
    "#Make our testing data from the last session\n",
    "testing_data = feats[sessions==3, :]\n",
    "testing_Y = Y[sessions==3]\n",
    "\n",
    "print('Train:'+str(training_data.shape))\n",
    "print('Test:'+str(testing_data.shape))"
   ]
  },
  {
   "cell_type": "code",
   "execution_count": 146,
   "metadata": {},
   "outputs": [
    {
     "data": {
      "text/plain": [
       "LogisticRegression(C=0.00072, class_weight='balanced', dual=False,\n",
       "          fit_intercept=True, intercept_scaling=1, max_iter=100,\n",
       "          multi_class='ovr', n_jobs=1, penalty='l2', random_state=None,\n",
       "          solver='liblinear', tol=0.0001, verbose=0, warm_start=False)"
      ]
     },
     "execution_count": 146,
     "metadata": {},
     "output_type": "execute_result"
    }
   ],
   "source": [
    "from sklearn.linear_model import LogisticRegression\n",
    "from sklearn.metrics import roc_auc_score, roc_curve\n",
    "\n",
    "#Instantiate the classifier and fit to training data\n",
    "C_ = 7.2e-4\n",
    "lr_classifier = LogisticRegression(C=C_, penalty='l2', class_weight='balanced', solver='liblinear')\n",
    "lr_classifier.fit(training_data, training_Y)"
   ]
  },
  {
   "cell_type": "code",
   "execution_count": 147,
   "metadata": {},
   "outputs": [
    {
     "name": "stdout",
     "output_type": "stream",
     "text": [
      "0.7014260869565218\n"
     ]
    }
   ],
   "source": [
    "#Test the model on the held-out session\n",
    "recall_prob_array = lr_classifier.predict_proba(testing_data)[:,1]\n",
    "auc = roc_auc_score(testing_Y, recall_prob_array)\n",
    "print(auc)"
   ]
  },
  {
   "cell_type": "markdown",
   "metadata": {},
   "source": [
    "Pretty good, but not as good as our AUC from yesterday, when we trained and tested on the same dataset. Let's try all possible combinations of leave-one-session-out train/test splits, and compute the average AUC across all splits."
   ]
  },
  {
   "cell_type": "code",
   "execution_count": 153,
   "metadata": {},
   "outputs": [],
   "source": [
    "test_aucs = []\n",
    "test_rocs = []\n",
    "\n",
    "for test_sess in np.unique(sessions):  #loop through all possible sessions as the testing set\n",
    "    \n",
    "    #Make our train/test splits across sessions\n",
    "    training_data = feats[sessions!=test_sess, :]\n",
    "    training_Y = Y[sessions!=test_sess]\n",
    "    \n",
    "    testing_data = feats[sessions==test_sess, :]\n",
    "    testing_Y = Y[sessions==test_sess]\n",
    "    \n",
    "    #Fit the classfier to the training set\n",
    "    lr_classifier = LogisticRegression(C=C_, penalty='l2', class_weight='balanced', solver='liblinear')\n",
    "    lr_classifier.fit(training_data, training_Y)\n",
    "    \n",
    "    #Compute the AUC for each testing set\n",
    "    recall_prob_array = lr_classifier.predict_proba(testing_data)[:,1]\n",
    "    auc = roc_auc_score(testing_Y, recall_prob_array)\n",
    "    test_aucs.append(auc)\n",
    "    \n",
    "    #Compute the ROC for each testing set\n",
    "    roc_curve_data = roc_curve(testing_Y, recall_prob_array)\n",
    "    test_rocs.append(roc_curve_data)"
   ]
  },
  {
   "cell_type": "code",
   "execution_count": 179,
   "metadata": {},
   "outputs": [
    {
     "data": {
      "text/plain": [
       "[0.7425276073619632,\n",
       " 0.6675008160156675,\n",
       " 0.6980446788397433,\n",
       " 0.7014260869565218]"
      ]
     },
     "execution_count": 179,
     "metadata": {},
     "output_type": "execute_result"
    }
   ],
   "source": [
    "test_aucs"
   ]
  },
  {
   "cell_type": "markdown",
   "metadata": {},
   "source": [
    "While these are all quite good AUCs, indiciating the classifier can distinguish good vs. bad memories well above chance, none of them are quite as good as our training-set AUC of 0.77 from yesterday. That's to be expected -- essentially, the classifier was overfit to the training data. "
   ]
  },
  {
   "cell_type": "code",
   "execution_count": 155,
   "metadata": {},
   "outputs": [
    {
     "data": {
      "text/plain": [
       "Text(0,0.5,'TPR')"
      ]
     },
     "execution_count": 155,
     "metadata": {},
     "output_type": "execute_result"
    },
    {
     "data": {
      "image/png": "[encoded data removed]",
      "text/plain": [
       "<Figure size 324x324 with 1 Axes>"
      ]
     },
     "metadata": {},
     "output_type": "display_data"
    }
   ],
   "source": [
    "#Plot the ROC curve for each held-out session\n",
    "figure(figsize=(4.5, 4.5))\n",
    "\n",
    "for roc_ in test_rocs:\n",
    "    fpr = roc_[0]\n",
    "    tpr = roc_[1]\n",
    "    \n",
    "    plot(fpr, tpr)\n",
    "\n",
    "#Make the plot pretty\n",
    "plot((0.0,1.0),(0.,1.),'k--')\n",
    "xlabel('FPR', fontsize=14)\n",
    "ylabel('TPR', fontsize=14)"
   ]
  },
  {
   "cell_type": "markdown",
   "metadata": {},
   "source": [
    "Awesome! We've got a unique ROC curve for each held-out session. But how do we test the statistical significance of an AUC? What kind of predictability could we have achieved by chance? We could use a permutation test to answer this, but only if we have time!"
   ]
  },
  {
   "cell_type": "code",
   "execution_count": 174,
   "metadata": {},
   "outputs": [
    {
     "name": "stdout",
     "output_type": "stream",
     "text": [
      "[1 2 3]\n",
      "[0]\n",
      "[0 2 3]\n",
      "[1]\n",
      "[0 1 3]\n",
      "[2]\n",
      "[0 1 2]\n",
      "[3]\n"
     ]
    }
   ],
   "source": [
    "#Note that k-fold cross validation can be implemented directly in sklearn\n",
    "from sklearn.model_selection import KFold\n",
    "\n",
    "kf = KFold(n_splits=4)\n",
    "\n",
    "for train_index, test_index in kf.split([0, 1, 2, 3]):\n",
    "    print(train_index)\n",
    "    print(test_index)"
   ]
  },
  {
   "cell_type": "markdown",
   "metadata": {},
   "source": [
    "**Exercise: Implement k-fold cross validation at the *item level* instead of session level. How do the AUCs change? Why?**"
   ]
  },
  {
   "cell_type": "code",
   "execution_count": 177,
   "metadata": {},
   "outputs": [],
   "source": [
    "#Load the data fresh\n",
    "feats = np.load('R1111M_feature_matrix.npy')\n",
    "Y = np.load('R1111M_recalled.npy')\n",
    "\n",
    "kf = KFold(n_splits=4, shuffle=True)   #the shuffle flag items will not be grabbed from consecutive chunks (which would largely recapitulate our session-level analysis), but will first be scrambled\n",
    "\n",
    "item_auc = []\n",
    "item_roc = []\n",
    "\n",
    "for train_index, test_index in kf.split(feats, Y):\n",
    "    \n",
    "    lr_classifier = LogisticRegression(C=C_, penalty='l2', class_weight='balanced', solver='liblinear')\n",
    "    lr_classifier.fit(feats[train_index, :], Y[train_index])\n",
    "    \n",
    "    recall_prob_array = lr_classifier.predict_proba(feats[test_index, :])[:,1]\n",
    "    auc = roc_auc_score(Y[test_index], recall_prob_array)\n",
    "    item_auc.append(auc)\n",
    "    \n",
    "    roc_curve_data = roc_curve(Y[test_index], recall_prob_array)\n",
    "    item_roc.append(roc_curve_data)"
   ]
  },
  {
   "cell_type": "code",
   "execution_count": 186,
   "metadata": {},
   "outputs": [
    {
     "data": {
      "text/plain": [
       "Text(0,0.5,'AUC')"
      ]
     },
     "execution_count": 186,
     "metadata": {},
     "output_type": "execute_result"
    },
    {
     "data": {
      "image/png": "[encoded data removed]",
      "text/plain": [
       "<Figure size 165.6x165.6 with 1 Axes>"
      ]
     },
     "metadata": {},
     "output_type": "display_data"
    }
   ],
   "source": [
    "figure(figsize=(2.3, 2.3)); ax=subplot(111)\n",
    "bar([0, 1], [np.mean(test_aucs), np.mean(item_auc)], width=0.5, color=['C0', 'C3'])\n",
    "ylim(0.5, 0.75); xlim(-0.5, 1.5)\n",
    "xticks([0, 1], ['Sess', 'Item'])\n",
    "ylabel('AUC')"
   ]
  },
  {
   "cell_type": "markdown",
   "metadata": {},
   "source": [
    "### Other Machine Learning Models"
   ]
  },
  {
   "cell_type": "code",
   "execution_count": null,
   "metadata": {},
   "outputs": [],
   "source": []
  }
 ],
 "metadata": {
  "kernelspec": {
   "display_name": "CML",
   "language": "python",
   "name": "cml"
  },
  "language_info": {
   "codemirror_mode": {
    "name": "ipython",
    "version": 3
   },
   "file_extension": ".py",
   "mimetype": "text/x-python",
   "name": "python",
   "nbconvert_exporter": "python",
   "pygments_lexer": "ipython3",
   "version": "3.6.6"
  }
 },
 "nbformat": 4,
 "nbformat_minor": 2
}
