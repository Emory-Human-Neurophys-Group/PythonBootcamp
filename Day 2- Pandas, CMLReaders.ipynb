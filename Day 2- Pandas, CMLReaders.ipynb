{
 "cells": [
  {
   "cell_type": "markdown",
   "metadata": {},
   "source": [
    "## Working with Pandas\n",
    "\n",
    "Pandas is a Python module built on top of Numpy, allowing users to store and manipulate flexible data array objects with row and column headers. Essentially, it provides some Excel-like functionality to Python. The core of pandas is the <b>DataFrame</b>, which you can think of as a table (or numpy recarray) that supports any kind of data and has explicit labels for rows and columns. \n",
    "\n",
    "Before getting into DataFrames, let's first discuss the <b>Series</b> object -- pandas' version of an array, but it has some unique properties. For example, it can be indexed by non-integer data (unlike numpy arrays): "
   ]
  },
  {
   "cell_type": "code",
   "execution_count": 113,
   "metadata": {},
   "outputs": [
    {
     "data": {
      "text/plain": [
       "a    0.25\n",
       "b    0.50\n",
       "c    0.75\n",
       "d    1.00\n",
       "dtype: float64"
      ]
     },
     "execution_count": 113,
     "metadata": {},
     "output_type": "execute_result"
    }
   ],
   "source": [
    "import pandas as pd\n",
    "import numpy as np\n",
    "\n",
    "#Create a new Series object with strings as indices. By default, Series will come with standard integer indices.\n",
    "data = pd.Series([0.25, 0.5, 0.75, 1.0],\n",
    "                 index=['a', 'b', 'c', 'd'])\n",
    "data"
   ]
  },
  {
   "cell_type": "code",
   "execution_count": 115,
   "metadata": {},
   "outputs": [
    {
     "data": {
      "text/plain": [
       "0.5"
      ]
     },
     "execution_count": 115,
     "metadata": {},
     "output_type": "execute_result"
    }
   ],
   "source": [
    "#data can be retrieved via string indices (like a Python dictionary)\n",
    "data['b']"
   ]
  },
  {
   "cell_type": "code",
   "execution_count": 117,
   "metadata": {},
   "outputs": [
    {
     "data": {
      "text/plain": [
       "California    38332521\n",
       "Texas         26448193\n",
       "New York      19651127\n",
       "Florida       19552860\n",
       "Illinois      12882135\n",
       "dtype: int64"
      ]
     },
     "execution_count": 117,
     "metadata": {},
     "output_type": "execute_result"
    }
   ],
   "source": [
    "#or even more dramatically:\n",
    "population_dict = {'California': 38332521,\n",
    "                   'Texas': 26448193,\n",
    "                   'New York': 19651127,\n",
    "                   'Florida': 19552860,\n",
    "                   'Illinois': 12882135}\n",
    "population = pd.Series(population_dict)\n",
    "population"
   ]
  },
  {
   "cell_type": "code",
   "execution_count": 120,
   "metadata": {},
   "outputs": [
    {
     "data": {
      "text/plain": [
       "California    38332521\n",
       "Texas         26448193\n",
       "New York      19651127\n",
       "dtype: int64"
      ]
     },
     "execution_count": 120,
     "metadata": {},
     "output_type": "execute_result"
    }
   ],
   "source": [
    "#Series objects can be sliced, just like numpy arrays\n",
    "population['California':'New York']"
   ]
  },
  {
   "cell_type": "markdown",
   "metadata": {},
   "source": [
    "A DataFrame is a sequence of of aligned Series objects, essentially turning indexed lists into indexed 2D arrays, or tables. For example, let's create a table of information about our states: "
   ]
  },
  {
   "cell_type": "code",
   "execution_count": 122,
   "metadata": {},
   "outputs": [
    {
     "data": {
      "text/plain": [
       "California    423967\n",
       "Texas         695662\n",
       "New York      141297\n",
       "Florida       170312\n",
       "Illinois      149995\n",
       "dtype: int64"
      ]
     },
     "execution_count": 122,
     "metadata": {},
     "output_type": "execute_result"
    }
   ],
   "source": [
    "#Create a new Series object with info about state areas\n",
    "area_dict = {'California': 423967, 'Texas': 695662, 'New York': 141297,\n",
    "             'Florida': 170312, 'Illinois': 149995}\n",
    "area = pd.Series(area_dict)\n",
    "area"
   ]
  },
  {
   "cell_type": "code",
   "execution_count": 123,
   "metadata": {},
   "outputs": [
    {
     "data": {
      "text/html": [
       "<div>\n",
       "<style scoped>\n",
       "    .dataframe tbody tr th:only-of-type {\n",
       "        vertical-align: middle;\n",
       "    }\n",
       "\n",
       "    .dataframe tbody tr th {\n",
       "        vertical-align: top;\n",
       "    }\n",
       "\n",
       "    .dataframe thead th {\n",
       "        text-align: right;\n",
       "    }\n",
       "</style>\n",
       "<table border=\"1\" class=\"dataframe\">\n",
       "  <thead>\n",
       "    <tr style=\"text-align: right;\">\n",
       "      <th></th>\n",
       "      <th>population</th>\n",
       "      <th>area</th>\n",
       "    </tr>\n",
       "  </thead>\n",
       "  <tbody>\n",
       "    <tr>\n",
       "      <th>California</th>\n",
       "      <td>38332521</td>\n",
       "      <td>423967</td>\n",
       "    </tr>\n",
       "    <tr>\n",
       "      <th>Texas</th>\n",
       "      <td>26448193</td>\n",
       "      <td>695662</td>\n",
       "    </tr>\n",
       "    <tr>\n",
       "      <th>New York</th>\n",
       "      <td>19651127</td>\n",
       "      <td>141297</td>\n",
       "    </tr>\n",
       "    <tr>\n",
       "      <th>Florida</th>\n",
       "      <td>19552860</td>\n",
       "      <td>170312</td>\n",
       "    </tr>\n",
       "    <tr>\n",
       "      <th>Illinois</th>\n",
       "      <td>12882135</td>\n",
       "      <td>149995</td>\n",
       "    </tr>\n",
       "  </tbody>\n",
       "</table>\n",
       "</div>"
      ],
      "text/plain": [
       "            population    area\n",
       "California    38332521  423967\n",
       "Texas         26448193  695662\n",
       "New York      19651127  141297\n",
       "Florida       19552860  170312\n",
       "Illinois      12882135  149995"
      ]
     },
     "execution_count": 123,
     "metadata": {},
     "output_type": "execute_result"
    }
   ],
   "source": [
    "states = pd.DataFrame({'population': population,\n",
    "                       'area': area})\n",
    "states"
   ]
  },
  {
   "cell_type": "code",
   "execution_count": 125,
   "metadata": {},
   "outputs": [
    {
     "name": "stdout",
     "output_type": "stream",
     "text": [
      "Index(['California', 'Texas', 'New York', 'Florida', 'Illinois'], dtype='object')\n",
      "Index(['population', 'area'], dtype='object')\n"
     ]
    }
   ],
   "source": [
    "#See which indices we're using\n",
    "print(states.index)\n",
    "\n",
    "#See our column headers\n",
    "print(states.columns)"
   ]
  },
  {
   "cell_type": "markdown",
   "metadata": {},
   "source": [
    "Do note that indexing into DataFrames works a little differently than arrays. In many ways, pandas objects are more like dictionaries than arrays (but really, more of a dictionary-array hybrid):"
   ]
  },
  {
   "cell_type": "code",
   "execution_count": 127,
   "metadata": {},
   "outputs": [],
   "source": [
    "#Try running states[0]"
   ]
  },
  {
   "cell_type": "code",
   "execution_count": 129,
   "metadata": {},
   "outputs": [
    {
     "data": {
      "text/plain": [
       "California    38332521\n",
       "Texas         26448193\n",
       "New York      19651127\n",
       "Florida       19552860\n",
       "Illinois      12882135\n",
       "Name: population, dtype: int64"
      ]
     },
     "execution_count": 129,
     "metadata": {},
     "output_type": "execute_result"
    }
   ],
   "source": [
    "#But now try\n",
    "states['population']"
   ]
  },
  {
   "cell_type": "code",
   "execution_count": 138,
   "metadata": {},
   "outputs": [
    {
     "data": {
      "text/plain": [
       "California    38332521\n",
       "Texas         26448193\n",
       "New York      19651127\n",
       "Florida       19552860\n",
       "Illinois      12882135\n",
       "Name: population, dtype: int64"
      ]
     },
     "execution_count": 138,
     "metadata": {},
     "output_type": "execute_result"
    }
   ],
   "source": [
    "#Also note that using a column name as an attribute will work\n",
    "states.population\n",
    "\n",
    "#though in general the dictionary-style indexing is safer and can work with non-strings."
   ]
  },
  {
   "cell_type": "markdown",
   "metadata": {},
   "source": [
    "Sometimes you really want to go back to the implicit integer index. There's a really easy way to do this, the iloc indexer: "
   ]
  },
  {
   "cell_type": "code",
   "execution_count": 136,
   "metadata": {},
   "outputs": [
    {
     "data": {
      "text/plain": [
       "population    38332521\n",
       "area            423967\n",
       "Name: California, dtype: int64"
      ]
     },
     "execution_count": 136,
     "metadata": {},
     "output_type": "execute_result"
    }
   ],
   "source": [
    "#Get the data for 'California' without using the explicit index\n",
    "states.iloc[0]"
   ]
  },
  {
   "cell_type": "code",
   "execution_count": 142,
   "metadata": {},
   "outputs": [
    {
     "data": {
      "text/html": [
       "<div>\n",
       "<style scoped>\n",
       "    .dataframe tbody tr th:only-of-type {\n",
       "        vertical-align: middle;\n",
       "    }\n",
       "\n",
       "    .dataframe tbody tr th {\n",
       "        vertical-align: top;\n",
       "    }\n",
       "\n",
       "    .dataframe thead th {\n",
       "        text-align: right;\n",
       "    }\n",
       "</style>\n",
       "<table border=\"1\" class=\"dataframe\">\n",
       "  <thead>\n",
       "    <tr style=\"text-align: right;\">\n",
       "      <th></th>\n",
       "      <th>population</th>\n",
       "      <th>area</th>\n",
       "      <th>density</th>\n",
       "    </tr>\n",
       "  </thead>\n",
       "  <tbody>\n",
       "    <tr>\n",
       "      <th>California</th>\n",
       "      <td>38332521</td>\n",
       "      <td>423967</td>\n",
       "      <td>90.413926</td>\n",
       "    </tr>\n",
       "    <tr>\n",
       "      <th>Texas</th>\n",
       "      <td>26448193</td>\n",
       "      <td>695662</td>\n",
       "      <td>38.018740</td>\n",
       "    </tr>\n",
       "    <tr>\n",
       "      <th>New York</th>\n",
       "      <td>19651127</td>\n",
       "      <td>141297</td>\n",
       "      <td>139.076746</td>\n",
       "    </tr>\n",
       "    <tr>\n",
       "      <th>Florida</th>\n",
       "      <td>19552860</td>\n",
       "      <td>170312</td>\n",
       "      <td>114.806121</td>\n",
       "    </tr>\n",
       "    <tr>\n",
       "      <th>Illinois</th>\n",
       "      <td>12882135</td>\n",
       "      <td>149995</td>\n",
       "      <td>85.883763</td>\n",
       "    </tr>\n",
       "  </tbody>\n",
       "</table>\n",
       "</div>"
      ],
      "text/plain": [
       "            population    area     density\n",
       "California    38332521  423967   90.413926\n",
       "Texas         26448193  695662   38.018740\n",
       "New York      19651127  141297  139.076746\n",
       "Florida       19552860  170312  114.806121\n",
       "Illinois      12882135  149995   85.883763"
      ]
     },
     "execution_count": 142,
     "metadata": {},
     "output_type": "execute_result"
    }
   ],
   "source": [
    "#Want to add a new column? It's easy! Just as if you were manipulating a Python dictionary\n",
    "states['density'] = states['population'] / states['area']\n",
    "states"
   ]
  },
  {
   "cell_type": "code",
   "execution_count": 143,
   "metadata": {},
   "outputs": [
    {
     "data": {
      "text/html": [
       "<div>\n",
       "<style scoped>\n",
       "    .dataframe tbody tr th:only-of-type {\n",
       "        vertical-align: middle;\n",
       "    }\n",
       "\n",
       "    .dataframe tbody tr th {\n",
       "        vertical-align: top;\n",
       "    }\n",
       "\n",
       "    .dataframe thead th {\n",
       "        text-align: right;\n",
       "    }\n",
       "</style>\n",
       "<table border=\"1\" class=\"dataframe\">\n",
       "  <thead>\n",
       "    <tr style=\"text-align: right;\">\n",
       "      <th></th>\n",
       "      <th>population</th>\n",
       "      <th>density</th>\n",
       "    </tr>\n",
       "  </thead>\n",
       "  <tbody>\n",
       "    <tr>\n",
       "      <th>New York</th>\n",
       "      <td>19651127</td>\n",
       "      <td>139.076746</td>\n",
       "    </tr>\n",
       "    <tr>\n",
       "      <th>Florida</th>\n",
       "      <td>19552860</td>\n",
       "      <td>114.806121</td>\n",
       "    </tr>\n",
       "  </tbody>\n",
       "</table>\n",
       "</div>"
      ],
      "text/plain": [
       "          population     density\n",
       "New York    19651127  139.076746\n",
       "Florida     19552860  114.806121"
      ]
     },
     "execution_count": 143,
     "metadata": {},
     "output_type": "execute_result"
    }
   ],
   "source": [
    "#Pandas methods even support combinations of indexing/slicing/masking. The 'loc' method lets us only refer to explicit indices (the opposite of the iloc method)\n",
    "states.loc[states['density']>100, ['population', 'density']]"
   ]
  },
  {
   "cell_type": "markdown",
   "metadata": {},
   "source": [
    "### Manipulating pandas DataFrames"
   ]
  },
  {
   "cell_type": "markdown",
   "metadata": {},
   "source": [
    "Pandas has some fantastic string methods for finding and manipulating data in a DataFrame."
   ]
  },
  {
   "cell_type": "code",
   "execution_count": 157,
   "metadata": {},
   "outputs": [
    {
     "data": {
      "text/plain": [
       "0    peter\n",
       "1     Paul\n",
       "2     MARY\n",
       "3    gUIDO\n",
       "4     mark\n",
       "dtype: object"
      ]
     },
     "execution_count": 157,
     "metadata": {},
     "output_type": "execute_result"
    }
   ],
   "source": [
    "data = ['peter', 'Paul', 'MARY', 'gUIDO', 'mark']\n",
    "names = pd.Series(data)\n",
    "names"
   ]
  },
  {
   "cell_type": "code",
   "execution_count": 158,
   "metadata": {},
   "outputs": [
    {
     "data": {
      "text/plain": [
       "0    Peter\n",
       "1     Paul\n",
       "2     Mary\n",
       "3    Guido\n",
       "4     Mark\n",
       "dtype: object"
      ]
     },
     "execution_count": 158,
     "metadata": {},
     "output_type": "execute_result"
    }
   ],
   "source": [
    "names.str.capitalize()"
   ]
  },
  {
   "cell_type": "code",
   "execution_count": 159,
   "metadata": {},
   "outputs": [
    {
     "data": {
      "text/plain": [
       "0    False\n",
       "1     True\n",
       "2    False\n",
       "3    False\n",
       "4    False\n",
       "dtype: bool"
      ]
     },
     "execution_count": 159,
     "metadata": {},
     "output_type": "execute_result"
    }
   ],
   "source": [
    "names.str.endswith('l')"
   ]
  },
  {
   "cell_type": "markdown",
   "metadata": {},
   "source": [
    "Particularly useful is the .contains() method, which can be used to find strings where they appear in a column. "
   ]
  },
  {
   "cell_type": "code",
   "execution_count": 165,
   "metadata": {},
   "outputs": [
    {
     "data": {
      "text/plain": [
       "0    False\n",
       "1    False\n",
       "2     True\n",
       "3    False\n",
       "4     True\n",
       "dtype: bool"
      ]
     },
     "execution_count": 165,
     "metadata": {},
     "output_type": "execute_result"
    }
   ],
   "source": [
    "names.loc[:] = names.str.capitalize()  #first lets standardize the capitalization\n",
    "names.str.contains('ar')"
   ]
  },
  {
   "cell_type": "markdown",
   "metadata": {},
   "source": [
    "Masking and the .query() method are your friends. You'll find yourself using these often to access subarrays of a dataframe. For example..."
   ]
  },
  {
   "cell_type": "code",
   "execution_count": 167,
   "metadata": {},
   "outputs": [
    {
     "data": {
      "text/html": [
       "<div>\n",
       "<style scoped>\n",
       "    .dataframe tbody tr th:only-of-type {\n",
       "        vertical-align: middle;\n",
       "    }\n",
       "\n",
       "    .dataframe tbody tr th {\n",
       "        vertical-align: top;\n",
       "    }\n",
       "\n",
       "    .dataframe thead th {\n",
       "        text-align: right;\n",
       "    }\n",
       "</style>\n",
       "<table border=\"1\" class=\"dataframe\">\n",
       "  <thead>\n",
       "    <tr style=\"text-align: right;\">\n",
       "      <th></th>\n",
       "      <th>population</th>\n",
       "      <th>area</th>\n",
       "      <th>density</th>\n",
       "    </tr>\n",
       "  </thead>\n",
       "  <tbody>\n",
       "    <tr>\n",
       "      <th>New York</th>\n",
       "      <td>19651127</td>\n",
       "      <td>141297</td>\n",
       "      <td>139.076746</td>\n",
       "    </tr>\n",
       "    <tr>\n",
       "      <th>Florida</th>\n",
       "      <td>19552860</td>\n",
       "      <td>170312</td>\n",
       "      <td>114.806121</td>\n",
       "    </tr>\n",
       "  </tbody>\n",
       "</table>\n",
       "</div>"
      ],
      "text/plain": [
       "          population    area     density\n",
       "New York    19651127  141297  139.076746\n",
       "Florida     19552860  170312  114.806121"
      ]
     },
     "execution_count": 167,
     "metadata": {},
     "output_type": "execute_result"
    }
   ],
   "source": [
    "#Similar to an example we looked at before\n",
    "states[states['density']>100]"
   ]
  },
  {
   "cell_type": "code",
   "execution_count": 168,
   "metadata": {},
   "outputs": [
    {
     "data": {
      "text/html": [
       "<div>\n",
       "<style scoped>\n",
       "    .dataframe tbody tr th:only-of-type {\n",
       "        vertical-align: middle;\n",
       "    }\n",
       "\n",
       "    .dataframe tbody tr th {\n",
       "        vertical-align: top;\n",
       "    }\n",
       "\n",
       "    .dataframe thead th {\n",
       "        text-align: right;\n",
       "    }\n",
       "</style>\n",
       "<table border=\"1\" class=\"dataframe\">\n",
       "  <thead>\n",
       "    <tr style=\"text-align: right;\">\n",
       "      <th></th>\n",
       "      <th>population</th>\n",
       "      <th>area</th>\n",
       "      <th>density</th>\n",
       "    </tr>\n",
       "  </thead>\n",
       "  <tbody>\n",
       "    <tr>\n",
       "      <th>New York</th>\n",
       "      <td>19651127</td>\n",
       "      <td>141297</td>\n",
       "      <td>139.076746</td>\n",
       "    </tr>\n",
       "    <tr>\n",
       "      <th>Florida</th>\n",
       "      <td>19552860</td>\n",
       "      <td>170312</td>\n",
       "      <td>114.806121</td>\n",
       "    </tr>\n",
       "  </tbody>\n",
       "</table>\n",
       "</div>"
      ],
      "text/plain": [
       "          population    area     density\n",
       "New York    19651127  141297  139.076746\n",
       "Florida     19552860  170312  114.806121"
      ]
     },
     "execution_count": 168,
     "metadata": {},
     "output_type": "execute_result"
    }
   ],
   "source": [
    "#Which could also be written as:\n",
    "states.query('density>100')"
   ]
  },
  {
   "cell_type": "markdown",
   "metadata": {},
   "source": [
    "This is just a taste of some of the most useful functionality in Pandas. For a full overview of all pandas functionality, check out this tutorial: https://jakevdp.github.io/PythonDataScienceHandbook/03.00-introduction-to-pandas.html"
   ]
  },
  {
   "cell_type": "markdown",
   "metadata": {},
   "source": [
    "## Explore the RAM database"
   ]
  },
  {
   "cell_type": "markdown",
   "metadata": {},
   "source": [
    "The CML's database of intracranial and scalp EEG comes in a pandas dataframe format. All the pertinent data about each experimental session is recorded in a row of a large dataframe. These databases are organized around experimental protocols. For example, the <b>'r1'</b> database contains all DARPA RAM data, while the **'pyfr'** database includes all free-recall intracranial data collected in the years prior to RAM. \n",
    "\n",
    "Let's load the RAM database to get a better sense of these formats. We're going to use **CMLReaders**, which is a custom library with helper functions to load data for any experiments run by the CML. If you don't already have CMLReaders installed, please follow the instructions here: https://github.com/pennmem/cmlreaders"
   ]
  },
  {
   "cell_type": "code",
   "execution_count": 166,
   "metadata": {},
   "outputs": [],
   "source": [
    "#First, our import statements. The CMLReader class is your gateway to all experimental data, including electrodes and EEG. The get_data_index function specifically loads experimental databases. \n",
    "from cmlreaders import CMLReader, get_data_index\n",
    "\n",
    "#The \"r1\" database corresponds to all of the RAM subjects. Use \"pyfr\" for the pre-RAM iEEG data.\n",
    "df = get_data_index(\"r1\")"
   ]
  },
  {
   "cell_type": "code",
   "execution_count": 53,
   "metadata": {},
   "outputs": [
    {
     "data": {
      "text/html": [
       "<div>\n",
       "<style scoped>\n",
       "    .dataframe tbody tr th:only-of-type {\n",
       "        vertical-align: middle;\n",
       "    }\n",
       "\n",
       "    .dataframe tbody tr th {\n",
       "        vertical-align: top;\n",
       "    }\n",
       "\n",
       "    .dataframe thead th {\n",
       "        text-align: right;\n",
       "    }\n",
       "</style>\n",
       "<table border=\"1\" class=\"dataframe\">\n",
       "  <thead>\n",
       "    <tr style=\"text-align: right;\">\n",
       "      <th></th>\n",
       "      <th>Recognition</th>\n",
       "      <th>all_events</th>\n",
       "      <th>contacts</th>\n",
       "      <th>experiment</th>\n",
       "      <th>import_type</th>\n",
       "      <th>localization</th>\n",
       "      <th>math_events</th>\n",
       "      <th>montage</th>\n",
       "      <th>original_experiment</th>\n",
       "      <th>original_session</th>\n",
       "      <th>pairs</th>\n",
       "      <th>ps4_events</th>\n",
       "      <th>session</th>\n",
       "      <th>subject</th>\n",
       "      <th>subject_alias</th>\n",
       "      <th>system_version</th>\n",
       "      <th>task_events</th>\n",
       "    </tr>\n",
       "  </thead>\n",
       "  <tbody>\n",
       "    <tr>\n",
       "      <th>0</th>\n",
       "      <td>NaN</td>\n",
       "      <td>protocols/r1/subjects/R1001P/experiments/FR1/s...</td>\n",
       "      <td>protocols/r1/subjects/R1001P/localizations/0/m...</td>\n",
       "      <td>FR1</td>\n",
       "      <td>build</td>\n",
       "      <td>0</td>\n",
       "      <td>protocols/r1/subjects/R1001P/experiments/FR1/s...</td>\n",
       "      <td>0</td>\n",
       "      <td>NaN</td>\n",
       "      <td>0</td>\n",
       "      <td>protocols/r1/subjects/R1001P/localizations/0/m...</td>\n",
       "      <td>NaN</td>\n",
       "      <td>0</td>\n",
       "      <td>R1001P</td>\n",
       "      <td>R1001P</td>\n",
       "      <td>NaN</td>\n",
       "      <td>protocols/r1/subjects/R1001P/experiments/FR1/s...</td>\n",
       "    </tr>\n",
       "    <tr>\n",
       "      <th>1</th>\n",
       "      <td>NaN</td>\n",
       "      <td>protocols/r1/subjects/R1001P/experiments/FR1/s...</td>\n",
       "      <td>protocols/r1/subjects/R1001P/localizations/0/m...</td>\n",
       "      <td>FR1</td>\n",
       "      <td>build</td>\n",
       "      <td>0</td>\n",
       "      <td>protocols/r1/subjects/R1001P/experiments/FR1/s...</td>\n",
       "      <td>0</td>\n",
       "      <td>NaN</td>\n",
       "      <td>1</td>\n",
       "      <td>protocols/r1/subjects/R1001P/localizations/0/m...</td>\n",
       "      <td>NaN</td>\n",
       "      <td>1</td>\n",
       "      <td>R1001P</td>\n",
       "      <td>R1001P</td>\n",
       "      <td>NaN</td>\n",
       "      <td>protocols/r1/subjects/R1001P/experiments/FR1/s...</td>\n",
       "    </tr>\n",
       "    <tr>\n",
       "      <th>2</th>\n",
       "      <td>NaN</td>\n",
       "      <td>protocols/r1/subjects/R1001P/experiments/FR2/s...</td>\n",
       "      <td>protocols/r1/subjects/R1001P/localizations/0/m...</td>\n",
       "      <td>FR2</td>\n",
       "      <td>build</td>\n",
       "      <td>0</td>\n",
       "      <td>protocols/r1/subjects/R1001P/experiments/FR2/s...</td>\n",
       "      <td>0</td>\n",
       "      <td>NaN</td>\n",
       "      <td>0</td>\n",
       "      <td>protocols/r1/subjects/R1001P/localizations/0/m...</td>\n",
       "      <td>NaN</td>\n",
       "      <td>0</td>\n",
       "      <td>R1001P</td>\n",
       "      <td>R1001P</td>\n",
       "      <td>NaN</td>\n",
       "      <td>protocols/r1/subjects/R1001P/experiments/FR2/s...</td>\n",
       "    </tr>\n",
       "    <tr>\n",
       "      <th>3</th>\n",
       "      <td>NaN</td>\n",
       "      <td>protocols/r1/subjects/R1001P/experiments/FR2/s...</td>\n",
       "      <td>protocols/r1/subjects/R1001P/localizations/0/m...</td>\n",
       "      <td>FR2</td>\n",
       "      <td>build</td>\n",
       "      <td>0</td>\n",
       "      <td>protocols/r1/subjects/R1001P/experiments/FR2/s...</td>\n",
       "      <td>0</td>\n",
       "      <td>NaN</td>\n",
       "      <td>1</td>\n",
       "      <td>protocols/r1/subjects/R1001P/localizations/0/m...</td>\n",
       "      <td>NaN</td>\n",
       "      <td>1</td>\n",
       "      <td>R1001P</td>\n",
       "      <td>R1001P</td>\n",
       "      <td>NaN</td>\n",
       "      <td>protocols/r1/subjects/R1001P/experiments/FR2/s...</td>\n",
       "    </tr>\n",
       "    <tr>\n",
       "      <th>4</th>\n",
       "      <td>NaN</td>\n",
       "      <td>protocols/r1/subjects/R1001P/experiments/PAL1/...</td>\n",
       "      <td>protocols/r1/subjects/R1001P/localizations/0/m...</td>\n",
       "      <td>PAL1</td>\n",
       "      <td>build</td>\n",
       "      <td>0</td>\n",
       "      <td>protocols/r1/subjects/R1001P/experiments/PAL1/...</td>\n",
       "      <td>0</td>\n",
       "      <td>NaN</td>\n",
       "      <td>0</td>\n",
       "      <td>protocols/r1/subjects/R1001P/localizations/0/m...</td>\n",
       "      <td>NaN</td>\n",
       "      <td>0</td>\n",
       "      <td>R1001P</td>\n",
       "      <td>R1001P</td>\n",
       "      <td>NaN</td>\n",
       "      <td>protocols/r1/subjects/R1001P/experiments/PAL1/...</td>\n",
       "    </tr>\n",
       "    <tr>\n",
       "      <th>5</th>\n",
       "      <td>NaN</td>\n",
       "      <td>protocols/r1/subjects/R1001P/experiments/PAL1/...</td>\n",
       "      <td>protocols/r1/subjects/R1001P/localizations/0/m...</td>\n",
       "      <td>PAL1</td>\n",
       "      <td>build</td>\n",
       "      <td>0</td>\n",
       "      <td>protocols/r1/subjects/R1001P/experiments/PAL1/...</td>\n",
       "      <td>0</td>\n",
       "      <td>NaN</td>\n",
       "      <td>1</td>\n",
       "      <td>protocols/r1/subjects/R1001P/localizations/0/m...</td>\n",
       "      <td>NaN</td>\n",
       "      <td>1</td>\n",
       "      <td>R1001P</td>\n",
       "      <td>R1001P</td>\n",
       "      <td>NaN</td>\n",
       "      <td>protocols/r1/subjects/R1001P/experiments/PAL1/...</td>\n",
       "    </tr>\n",
       "    <tr>\n",
       "      <th>6</th>\n",
       "      <td>NaN</td>\n",
       "      <td>NaN</td>\n",
       "      <td>protocols/r1/subjects/R1001P/localizations/0/m...</td>\n",
       "      <td>YC1</td>\n",
       "      <td>conversion</td>\n",
       "      <td>0</td>\n",
       "      <td>NaN</td>\n",
       "      <td>0</td>\n",
       "      <td>NaN</td>\n",
       "      <td>0</td>\n",
       "      <td>protocols/r1/subjects/R1001P/localizations/0/m...</td>\n",
       "      <td>NaN</td>\n",
       "      <td>0</td>\n",
       "      <td>R1001P</td>\n",
       "      <td>R1001P</td>\n",
       "      <td>NaN</td>\n",
       "      <td>protocols/r1/subjects/R1001P/experiments/YC1/s...</td>\n",
       "    </tr>\n",
       "    <tr>\n",
       "      <th>7</th>\n",
       "      <td>NaN</td>\n",
       "      <td>NaN</td>\n",
       "      <td>protocols/r1/subjects/R1001P/localizations/0/m...</td>\n",
       "      <td>YC1</td>\n",
       "      <td>conversion</td>\n",
       "      <td>0</td>\n",
       "      <td>NaN</td>\n",
       "      <td>0</td>\n",
       "      <td>NaN</td>\n",
       "      <td>1</td>\n",
       "      <td>protocols/r1/subjects/R1001P/localizations/0/m...</td>\n",
       "      <td>NaN</td>\n",
       "      <td>1</td>\n",
       "      <td>R1001P</td>\n",
       "      <td>R1001P</td>\n",
       "      <td>NaN</td>\n",
       "      <td>protocols/r1/subjects/R1001P/experiments/YC1/s...</td>\n",
       "    </tr>\n",
       "    <tr>\n",
       "      <th>8</th>\n",
       "      <td>NaN</td>\n",
       "      <td>NaN</td>\n",
       "      <td>protocols/r1/subjects/R1001P/localizations/0/m...</td>\n",
       "      <td>YC1</td>\n",
       "      <td>conversion</td>\n",
       "      <td>0</td>\n",
       "      <td>NaN</td>\n",
       "      <td>0</td>\n",
       "      <td>NaN</td>\n",
       "      <td>2</td>\n",
       "      <td>protocols/r1/subjects/R1001P/localizations/0/m...</td>\n",
       "      <td>NaN</td>\n",
       "      <td>2</td>\n",
       "      <td>R1001P</td>\n",
       "      <td>R1001P</td>\n",
       "      <td>NaN</td>\n",
       "      <td>protocols/r1/subjects/R1001P/experiments/YC1/s...</td>\n",
       "    </tr>\n",
       "    <tr>\n",
       "      <th>9</th>\n",
       "      <td>NaN</td>\n",
       "      <td>protocols/r1/subjects/R1002P/experiments/FR1/s...</td>\n",
       "      <td>protocols/r1/subjects/R1002P/localizations/0/m...</td>\n",
       "      <td>FR1</td>\n",
       "      <td>build</td>\n",
       "      <td>0</td>\n",
       "      <td>protocols/r1/subjects/R1002P/experiments/FR1/s...</td>\n",
       "      <td>0</td>\n",
       "      <td>NaN</td>\n",
       "      <td>0</td>\n",
       "      <td>protocols/r1/subjects/R1002P/localizations/0/m...</td>\n",
       "      <td>NaN</td>\n",
       "      <td>0</td>\n",
       "      <td>R1002P</td>\n",
       "      <td>R1002P</td>\n",
       "      <td>NaN</td>\n",
       "      <td>protocols/r1/subjects/R1002P/experiments/FR1/s...</td>\n",
       "    </tr>\n",
       "  </tbody>\n",
       "</table>\n",
       "</div>"
      ],
      "text/plain": [
       "  Recognition                                         all_events  \\\n",
       "0         NaN  protocols/r1/subjects/R1001P/experiments/FR1/s...   \n",
       "1         NaN  protocols/r1/subjects/R1001P/experiments/FR1/s...   \n",
       "2         NaN  protocols/r1/subjects/R1001P/experiments/FR2/s...   \n",
       "3         NaN  protocols/r1/subjects/R1001P/experiments/FR2/s...   \n",
       "4         NaN  protocols/r1/subjects/R1001P/experiments/PAL1/...   \n",
       "5         NaN  protocols/r1/subjects/R1001P/experiments/PAL1/...   \n",
       "6         NaN                                                NaN   \n",
       "7         NaN                                                NaN   \n",
       "8         NaN                                                NaN   \n",
       "9         NaN  protocols/r1/subjects/R1002P/experiments/FR1/s...   \n",
       "\n",
       "                                            contacts experiment import_type  \\\n",
       "0  protocols/r1/subjects/R1001P/localizations/0/m...        FR1       build   \n",
       "1  protocols/r1/subjects/R1001P/localizations/0/m...        FR1       build   \n",
       "2  protocols/r1/subjects/R1001P/localizations/0/m...        FR2       build   \n",
       "3  protocols/r1/subjects/R1001P/localizations/0/m...        FR2       build   \n",
       "4  protocols/r1/subjects/R1001P/localizations/0/m...       PAL1       build   \n",
       "5  protocols/r1/subjects/R1001P/localizations/0/m...       PAL1       build   \n",
       "6  protocols/r1/subjects/R1001P/localizations/0/m...        YC1  conversion   \n",
       "7  protocols/r1/subjects/R1001P/localizations/0/m...        YC1  conversion   \n",
       "8  protocols/r1/subjects/R1001P/localizations/0/m...        YC1  conversion   \n",
       "9  protocols/r1/subjects/R1002P/localizations/0/m...        FR1       build   \n",
       "\n",
       "   localization                                        math_events  montage  \\\n",
       "0             0  protocols/r1/subjects/R1001P/experiments/FR1/s...        0   \n",
       "1             0  protocols/r1/subjects/R1001P/experiments/FR1/s...        0   \n",
       "2             0  protocols/r1/subjects/R1001P/experiments/FR2/s...        0   \n",
       "3             0  protocols/r1/subjects/R1001P/experiments/FR2/s...        0   \n",
       "4             0  protocols/r1/subjects/R1001P/experiments/PAL1/...        0   \n",
       "5             0  protocols/r1/subjects/R1001P/experiments/PAL1/...        0   \n",
       "6             0                                                NaN        0   \n",
       "7             0                                                NaN        0   \n",
       "8             0                                                NaN        0   \n",
       "9             0  protocols/r1/subjects/R1002P/experiments/FR1/s...        0   \n",
       "\n",
       "  original_experiment original_session  \\\n",
       "0                 NaN                0   \n",
       "1                 NaN                1   \n",
       "2                 NaN                0   \n",
       "3                 NaN                1   \n",
       "4                 NaN                0   \n",
       "5                 NaN                1   \n",
       "6                 NaN                0   \n",
       "7                 NaN                1   \n",
       "8                 NaN                2   \n",
       "9                 NaN                0   \n",
       "\n",
       "                                               pairs ps4_events  session  \\\n",
       "0  protocols/r1/subjects/R1001P/localizations/0/m...        NaN        0   \n",
       "1  protocols/r1/subjects/R1001P/localizations/0/m...        NaN        1   \n",
       "2  protocols/r1/subjects/R1001P/localizations/0/m...        NaN        0   \n",
       "3  protocols/r1/subjects/R1001P/localizations/0/m...        NaN        1   \n",
       "4  protocols/r1/subjects/R1001P/localizations/0/m...        NaN        0   \n",
       "5  protocols/r1/subjects/R1001P/localizations/0/m...        NaN        1   \n",
       "6  protocols/r1/subjects/R1001P/localizations/0/m...        NaN        0   \n",
       "7  protocols/r1/subjects/R1001P/localizations/0/m...        NaN        1   \n",
       "8  protocols/r1/subjects/R1001P/localizations/0/m...        NaN        2   \n",
       "9  protocols/r1/subjects/R1002P/localizations/0/m...        NaN        0   \n",
       "\n",
       "  subject subject_alias  system_version  \\\n",
       "0  R1001P        R1001P             NaN   \n",
       "1  R1001P        R1001P             NaN   \n",
       "2  R1001P        R1001P             NaN   \n",
       "3  R1001P        R1001P             NaN   \n",
       "4  R1001P        R1001P             NaN   \n",
       "5  R1001P        R1001P             NaN   \n",
       "6  R1001P        R1001P             NaN   \n",
       "7  R1001P        R1001P             NaN   \n",
       "8  R1001P        R1001P             NaN   \n",
       "9  R1002P        R1002P             NaN   \n",
       "\n",
       "                                         task_events  \n",
       "0  protocols/r1/subjects/R1001P/experiments/FR1/s...  \n",
       "1  protocols/r1/subjects/R1001P/experiments/FR1/s...  \n",
       "2  protocols/r1/subjects/R1001P/experiments/FR2/s...  \n",
       "3  protocols/r1/subjects/R1001P/experiments/FR2/s...  \n",
       "4  protocols/r1/subjects/R1001P/experiments/PAL1/...  \n",
       "5  protocols/r1/subjects/R1001P/experiments/PAL1/...  \n",
       "6  protocols/r1/subjects/R1001P/experiments/YC1/s...  \n",
       "7  protocols/r1/subjects/R1001P/experiments/YC1/s...  \n",
       "8  protocols/r1/subjects/R1001P/experiments/YC1/s...  \n",
       "9  protocols/r1/subjects/R1002P/experiments/FR1/s...  "
      ]
     },
     "execution_count": 53,
     "metadata": {},
     "output_type": "execute_result"
    }
   ],
   "source": [
    "#This dataframe contains all the information about every experimental sessions collected in the RAM project\n",
    "df[:10]"
   ]
  },
  {
   "cell_type": "code",
   "execution_count": 11,
   "metadata": {},
   "outputs": [
    {
     "data": {
      "text/plain": [
       "array(['FR1', 'FR2', 'PAL1', 'YC1', 'PAL2', 'catFR1', 'YC2', 'catFR2',\n",
       "       'PS1', 'PS3', 'PS2', 'TH1', 'FR3', 'PS2.1', 'PAL3', 'TH3',\n",
       "       'catFR3', 'FR5', 'PS4_catFR', 'THR', 'PS4_FR', 'PAL5', 'THR1',\n",
       "       'catFR5', 'FR6', 'PS5_catFR', 'catFR6', 'TICL_FR',\n",
       "       'LocationSearch', 'TICL_catFR', 'PS4_catFR5'], dtype=object)"
      ]
     },
     "execution_count": 11,
     "metadata": {},
     "output_type": "execute_result"
    }
   ],
   "source": [
    "#Let's see what experiments we have access to\n",
    "df['experiment'].unique()"
   ]
  },
  {
   "cell_type": "markdown",
   "metadata": {},
   "source": [
    "**Exercise: How many RAM sessions were run on Jefferson subjects?**"
   ]
  },
  {
   "cell_type": "code",
   "execution_count": 156,
   "metadata": {},
   "outputs": [
    {
     "data": {
      "text/plain": [
       "414"
      ]
     },
     "execution_count": 156,
     "metadata": {},
     "output_type": "execute_result"
    }
   ],
   "source": [
    "np.sum(df['subject'].str.endswith('J'))"
   ]
  },
  {
   "cell_type": "markdown",
   "metadata": {},
   "source": [
    "### Verbal free-recall tasks (no-stim)\n",
    "* FR1\n",
    "* catFR1\n",
    "\n",
    "### Paired-associates tasks\n",
    "* PAL1\n",
    "* PAL2 (open-loop stim)\n",
    "* PAL3 (closed-loop stim)\n",
    "* PAL5 (closed-loop stim)\n",
    "\n",
    "### Spatial navigation tasks\n",
    "* YC1\n",
    "* TH1\n",
    "* THR\n",
    "* THR1\n",
    "* YC2 (open-loop stim)\n",
    "* TH3 (closed-loop stim)\n",
    "\n",
    "### Verbal free-recall w/ stim\n",
    "(Basically, any FR task with a number above 1 somewhere)\n",
    "* FR2 (open-loop)\n",
    "* catFR2\n",
    "* FR3 (closed-loop)\n",
    "* catFR3\n",
    "* FR5 (closed-loop)\n",
    "* catFR5\n",
    "* PS4_FR (closed-loop)\n",
    "* PS4_catFR (closed-loop)\n",
    "* PS5_catFR (closed-loop)\n",
    "* FR6 (multi-target stim)\n",
    "* catFR6 (multi-target stim)\n",
    "* TICL_FR (encoding/math/retrieval stim)\n",
    "\n",
    "### No-task stimulation (\"parameter search\")\n",
    "* PS1\n",
    "* PS2/PS2.1\n",
    "* PS3\n",
    "* LocationSearch\n"
   ]
  },
  {
   "cell_type": "code",
   "execution_count": 30,
   "metadata": {},
   "outputs": [
    {
     "data": {
      "text/plain": [
       "array(['R1001P', 'R1002P', 'R1003P', 'R1006P', 'R1010J', 'R1015J',\n",
       "       'R1018P', 'R1020J', 'R1022J', 'R1023J', 'R1026D', 'R1027J',\n",
       "       'R1030J', 'R1031M', 'R1032D', 'R1033D', 'R1034D', 'R1035M',\n",
       "       'R1036M', 'R1039M', 'R1042M', 'R1044J', 'R1045E', 'R1048E',\n",
       "       'R1049J', 'R1050M', 'R1051J', 'R1052E', 'R1053M', 'R1054J',\n",
       "       'R1056M', 'R1057E', 'R1059J', 'R1060M', 'R1061T', 'R1062J',\n",
       "       'R1063C', 'R1065J', 'R1066P', 'R1067P', 'R1068J', 'R1069M',\n",
       "       'R1070T', 'R1074M', 'R1075J', 'R1076D', 'R1077T', 'R1080E',\n",
       "       'R1081J', 'R1083J', 'R1084T', 'R1086M', 'R1089P', 'R1092J',\n",
       "       'R1093J', 'R1094T', 'R1096E', 'R1098D', 'R1100D', 'R1101T',\n",
       "       'R1102P', 'R1104D', 'R1105E', 'R1106M', 'R1108J', 'R1111M',\n",
       "       'R1112M', 'R1113T', 'R1114C', 'R1115T', 'R1118N', 'R1120E',\n",
       "       'R1121M', 'R1122E', 'R1123C', 'R1124J', 'R1125T', 'R1127P',\n",
       "       'R1128E', 'R1129D', 'R1130M', 'R1131M', 'R1134T', 'R1135E',\n",
       "       'R1136N', 'R1137E', 'R1138T', 'R1142N', 'R1145J', 'R1146E',\n",
       "       'R1147P', 'R1148P', 'R1149N', 'R1150J', 'R1151E', 'R1153T',\n",
       "       'R1154D', 'R1155D', 'R1156D', 'R1158T', 'R1159P', 'R1161E',\n",
       "       'R1162N', 'R1163T', 'R1164E', 'R1166D', 'R1167M', 'R1168T',\n",
       "       'R1169P', 'R1170J', 'R1171M', 'R1172E', 'R1173J', 'R1174T',\n",
       "       'R1175N', 'R1176M', 'R1177M', 'R1178P', 'R1184M', 'R1185N',\n",
       "       'R1186P', 'R1187P', 'R1189M', 'R1191J', 'R1193T', 'R1195E',\n",
       "       'R1196N', 'R1198M', 'R1200T', 'R1201P', 'R1202M', 'R1203T',\n",
       "       'R1204T', 'R1207J', 'R1212P', 'R1214M', 'R1215M', 'R1216E',\n",
       "       'R1217T', 'R1221P', 'R1222M', 'R1223E', 'R1226D', 'R1228M',\n",
       "       'R1229M', 'R1230J', 'R1231M', 'R1232N', 'R1234D', 'R1236J',\n",
       "       'R1240T', 'R1241J', 'R1243T', 'R1247P', 'R1250N', 'R1251M',\n",
       "       'R1260D', 'R1264P', 'R1268T', 'R1274T', 'R1275D', 'R1277J',\n",
       "       'R1281E', 'R1283T', 'R1286J', 'R1288P', 'R1290M', 'R1291M',\n",
       "       'R1292E', 'R1293P', 'R1297T', 'R1298E', 'R1299T', 'R1302M',\n",
       "       'R1304N', 'R1306E', 'R1307N', 'R1308T', 'R1309M', 'R1310J',\n",
       "       'R1311T', 'R1313J', 'R1315T', 'R1316T', 'R1317D', 'R1318N',\n",
       "       'R1320D', 'R1321M', 'R1323T', 'R1324M', 'R1325C', 'R1328E',\n",
       "       'R1329T', 'R1330D', 'R1331T', 'R1332M', 'R1334T', 'R1336T',\n",
       "       'R1337E', 'R1338T', 'R1339D', 'R1341T', 'R1342M', 'R1345D',\n",
       "       'R1346T', 'R1347D', 'R1349T', 'R1350D', 'R1351M', 'R1354E',\n",
       "       'R1355T', 'R1358T', 'R1361C', 'R1363T', 'R1364C', 'R1367D',\n",
       "       'R1368T', 'R1373T', 'R1374T', 'R1375C', 'R1376D', 'R1377M',\n",
       "       'R1378T', 'R1379E', 'R1380D', 'R1381T', 'R1383J', 'R1384J',\n",
       "       'R1385E', 'R1386T', 'R1387E', 'R1390M', 'R1391T', 'R1393T',\n",
       "       'R1394E', 'R1395M', 'R1396T', 'R1397D', 'R1398J', 'R1401J',\n",
       "       'R1402E', 'R1404E', 'R1405E', 'R1406M', 'R1409D', 'R1412M',\n",
       "       'R1414E', 'R1415T', 'R1416T', 'R1420T', 'R1421M', 'R1422T',\n",
       "       'R1423E', 'R1425D', 'R1427T', 'R1431J', 'R1433E', 'R1436J',\n",
       "       'R1438M', 'R1441T', 'R1443D', 'R1446T', 'R1447M', 'R1448T',\n",
       "       'R1449T', 'R1454M', 'R1457T', 'R1459M', 'R1460M', 'R1461T',\n",
       "       'R1462M', 'R1463E', 'R1466J', 'R1467M'], dtype=object)"
      ]
     },
     "execution_count": 30,
     "metadata": {},
     "output_type": "execute_result"
    }
   ],
   "source": [
    "#And now let's find all the subjects who did the FR1 task\n",
    "fr1_df = df.query('experiment == \"FR1\"')\n",
    "fr1_df['subject'].unique()"
   ]
  },
  {
   "cell_type": "markdown",
   "metadata": {},
   "source": [
    "### Load data from an example subject\n",
    "Here, let's go through an example of loading experimental events and EEG from one subject"
   ]
  },
  {
   "cell_type": "code",
   "execution_count": 17,
   "metadata": {},
   "outputs": [],
   "source": [
    "#First, our import statements\n",
    "from cmlreaders import CMLReader, get_data_index\n",
    "\n",
    "#The \"r1\" database corresponds to all of the RAM subjects\n",
    "df = get_data_index(\"r1\")\n",
    "\n",
    "#Specify which subject and experiment we want\n",
    "sub = 'R1001P'\n",
    "exp = 'FR1'\n",
    "\n",
    "#Find out the sessions, localization, and montage for this subject\n",
    "sessions = list(df[(df['subject']==sub) & (df['experiment']==exp)]['session'])\n",
    "mont = int(df[(df['subject']==sub) & (df['experiment']==exp)].iloc()[0]['montage'])      #note that *usually* mont and loc will be 0.\n",
    "loc = int(df[(df['subject']==sub) & (df['experiment']==exp)].iloc()[0]['localization'])"
   ]
  },
  {
   "cell_type": "code",
   "execution_count": 18,
   "metadata": {},
   "outputs": [
    {
     "name": "stdout",
     "output_type": "stream",
     "text": [
      "R1001P sessions: [0, 1]\n",
      "R1001P montage: 0\n",
      "R1001P localization: 0\n"
     ]
    }
   ],
   "source": [
    "print(sub+' sessions: '+str(sessions))\n",
    "print(sub+' montage: '+str(mont))\n",
    "print(sub+' localization: '+str(loc))"
   ]
  },
  {
   "cell_type": "markdown",
   "metadata": {},
   "source": [
    "<i>Usually, montage and localization are both zero, meaning a subject had only one surgery and the subset of recorded electrodes did not change. But not always!</i>\n",
    "\n",
    "<b>Montage:</b> Refers to set of a subject's electrodes that were recorded in a given experimental session.\n",
    "\n",
    "<b>Localization:</b> A subject will get a new localization if they were reimplanted after another surgery. Therefore, electrodes may be in different places altogether. "
   ]
  },
  {
   "cell_type": "markdown",
   "metadata": {},
   "source": [
    "This subject completed two sessions of FR1, and only had one montage/localization. Let's load data from the first session. First, we'll need to instantiate an instance of the 'CMLReader' object, which is the object class for accessing any CML data. Think of it as a \"finder\" for any kind of experimental data. At a minimum, you'll need to give it a subject and experiment for it to find anything."
   ]
  },
  {
   "cell_type": "code",
   "execution_count": 52,
   "metadata": {},
   "outputs": [
    {
     "data": {
      "text/plain": [
       "dict_keys(['voxel_coordinates', 'jacksheet', 'classifier_excluded_leads', 'good_leads', 'leads', 'area', 'electrode_coordinates', 'prior_stim_results', 'target_selection_table', 'experiment_log', 'all_events', 'events', 'math_events', 'ps4_events', 'task_events', 'used_classifier', 'baseline_classifier', 'sources', 'eeg', 'matlab_contacts', 'matlab_pairs', 'pairs', 'contacts', 'localization', 'electrode_categories', 'classifier_summary', 'session_summary', 'math_summary'])"
      ]
     },
     "execution_count": 52,
     "metadata": {},
     "output_type": "execute_result"
    }
   ],
   "source": [
    "#For first session...\n",
    "reader = CMLReader(sub, exp, sessions[0], montage=mont, localization=loc)   #reader for loading CML data\n",
    "\n",
    "#What kind of data can the reader get for us?\n",
    "reader.reader_names.keys()"
   ]
  },
  {
   "cell_type": "markdown",
   "metadata": {},
   "source": [
    "Many of these readers aren't necessary for day-to-day analyses. We'll focus on how to reader experimental events, electrode information, and EEG. "
   ]
  },
  {
   "cell_type": "markdown",
   "metadata": {},
   "source": [
    "#### Load experimental events"
   ]
  },
  {
   "cell_type": "code",
   "execution_count": 59,
   "metadata": {},
   "outputs": [],
   "source": [
    "evs = reader.load('task_events')  #'events' will also do, but you'll get some extra stuff"
   ]
  },
  {
   "cell_type": "markdown",
   "metadata": {},
   "source": [
    "The events dataframe contains information about everything that happened during an experimental session. It indicates the time at which every word appeared on the screen, and when those words were later recalled. It also contains information about events that you might not care about, such as when the countdown timer starts and ends.\n",
    "<center>\n",
    "<img src=\"https://github.com/esolomon/PythonBootcamp2019/blob/master/figures/task_design-01.jpg?raw=true\" width=650>\n",
    "</center>\n",
    "Let's take a look at all the columns in this dataframe."
   ]
  },
  {
   "cell_type": "code",
   "execution_count": 60,
   "metadata": {},
   "outputs": [
    {
     "data": {
      "text/plain": [
       "Index(['eegoffset', 'eegfile', 'exp_version', 'experiment', 'intrusion',\n",
       "       'is_stim', 'item_name', 'item_num', 'list', 'montage', 'msoffset',\n",
       "       'mstime', 'protocol', 'recalled', 'rectime', 'serialpos', 'session',\n",
       "       'stim_list', 'stim_params', 'subject', 'type'],\n",
       "      dtype='object')"
      ]
     },
     "execution_count": 60,
     "metadata": {},
     "output_type": "execute_result"
    }
   ],
   "source": [
    "evs.columns"
   ]
  },
  {
   "cell_type": "markdown",
   "metadata": {},
   "source": [
    "* 'eegoffset' indicates where (in samples) in the EEG file this event occurred. CMLReaders needs this info, but usually you won't need to deal with it directly.\n",
    "* 'eegfile' is the path to the corresponding file where raw EEG is saved.\n",
    "* 'experiment' is the behavioral task we're looking at. \n",
    "* 'intrusion' is an indicator of intrusion events during the recall period. -1 indicates an extra-list intrusion, otherwise, it's the list number from which the word came.\n",
    "* 'is_stim' flags whether stimulation occurred during this event. We won't be dealing with stimulation data in this bootcamp. \n",
    "* <b>'item_name'</b> is the word that was presented or recalled.\n",
    "* 'item_num' is the index for this word in the word pool. \n",
    "* 'list' is the list number. \n",
    "* 'montage' is the subject montage, which you loaded earlier.\n",
    "* 'mstime' is a time indicator, in ms. Good for comparing between events, but the absolute value is meaningless. \n",
    "* <b>'recalled'</b> is a indicator of whether an encoding word was later recalled successfully.\n",
    "* 'rectime' is the time, in ms, when a word was recalled relative to the start of the recall period for that list.\n",
    "* <b>'serialpos'</b> is the serial position of a presented/recalled word\n",
    "* 'stim_list' is an indicator of whether stimulation was active during this list. \n",
    "* 'stim_params' is a dictionary of stimulation parameters.\n",
    "* 'subject' is the subject you're analyzing!\n",
    "* <b>'type'</b> is the type of event, e.g. 'WORD' or 'REC_WORD'\n",
    "\n",
    "Please see https://pennmem.github.io/cmlreaders/html/events.html for even more information!\n",
    "\n",
    "Say we're just interested in analyzing word encoding events. To filter by event type, use handy pandas functionality:"
   ]
  },
  {
   "cell_type": "code",
   "execution_count": 169,
   "metadata": {},
   "outputs": [],
   "source": [
    "pd.set_option('display.max_columns', 100)  #an optional command that lets us view the full dataframe within Jupyter notebooks"
   ]
  },
  {
   "cell_type": "code",
   "execution_count": 170,
   "metadata": {},
   "outputs": [
    {
     "data": {
      "text/html": [
       "<div>\n",
       "<style scoped>\n",
       "    .dataframe tbody tr th:only-of-type {\n",
       "        vertical-align: middle;\n",
       "    }\n",
       "\n",
       "    .dataframe tbody tr th {\n",
       "        vertical-align: top;\n",
       "    }\n",
       "\n",
       "    .dataframe thead th {\n",
       "        text-align: right;\n",
       "    }\n",
       "</style>\n",
       "<table border=\"1\" class=\"dataframe\">\n",
       "  <thead>\n",
       "    <tr style=\"text-align: right;\">\n",
       "      <th></th>\n",
       "      <th>eegoffset</th>\n",
       "      <th>eegfile</th>\n",
       "      <th>exp_version</th>\n",
       "      <th>experiment</th>\n",
       "      <th>intrusion</th>\n",
       "      <th>is_stim</th>\n",
       "      <th>item_name</th>\n",
       "      <th>item_num</th>\n",
       "      <th>list</th>\n",
       "      <th>montage</th>\n",
       "      <th>msoffset</th>\n",
       "      <th>mstime</th>\n",
       "      <th>protocol</th>\n",
       "      <th>recalled</th>\n",
       "      <th>rectime</th>\n",
       "      <th>serialpos</th>\n",
       "      <th>session</th>\n",
       "      <th>stim_list</th>\n",
       "      <th>stim_params</th>\n",
       "      <th>subject</th>\n",
       "      <th>type</th>\n",
       "    </tr>\n",
       "  </thead>\n",
       "  <tbody>\n",
       "    <tr>\n",
       "      <th>23</th>\n",
       "      <td>388959</td>\n",
       "      <td>R1001P_FR1_0_12Oct14_1034</td>\n",
       "      <td>1.02</td>\n",
       "      <td>FR1</td>\n",
       "      <td>-999</td>\n",
       "      <td>False</td>\n",
       "      <td>HOUSE</td>\n",
       "      <td>130</td>\n",
       "      <td>1</td>\n",
       "      <td>0</td>\n",
       "      <td>1</td>\n",
       "      <td>1413125314490</td>\n",
       "      <td>r1</td>\n",
       "      <td>False</td>\n",
       "      <td>-999</td>\n",
       "      <td>1</td>\n",
       "      <td>0</td>\n",
       "      <td>False</td>\n",
       "      <td>[]</td>\n",
       "      <td>R1001P</td>\n",
       "      <td>WORD</td>\n",
       "    </tr>\n",
       "    <tr>\n",
       "      <th>24</th>\n",
       "      <td>390268</td>\n",
       "      <td>R1001P_FR1_0_12Oct14_1034</td>\n",
       "      <td>1.02</td>\n",
       "      <td>FR1</td>\n",
       "      <td>-999</td>\n",
       "      <td>False</td>\n",
       "      <td>HAWK</td>\n",
       "      <td>120</td>\n",
       "      <td>1</td>\n",
       "      <td>0</td>\n",
       "      <td>1</td>\n",
       "      <td>1413125317107</td>\n",
       "      <td>r1</td>\n",
       "      <td>False</td>\n",
       "      <td>-999</td>\n",
       "      <td>2</td>\n",
       "      <td>0</td>\n",
       "      <td>False</td>\n",
       "      <td>[]</td>\n",
       "      <td>R1001P</td>\n",
       "      <td>WORD</td>\n",
       "    </tr>\n",
       "    <tr>\n",
       "      <th>25</th>\n",
       "      <td>391560</td>\n",
       "      <td>R1001P_FR1_0_12Oct14_1034</td>\n",
       "      <td>1.02</td>\n",
       "      <td>FR1</td>\n",
       "      <td>-999</td>\n",
       "      <td>False</td>\n",
       "      <td>WAND</td>\n",
       "      <td>288</td>\n",
       "      <td>1</td>\n",
       "      <td>0</td>\n",
       "      <td>1</td>\n",
       "      <td>1413125319691</td>\n",
       "      <td>r1</td>\n",
       "      <td>False</td>\n",
       "      <td>-999</td>\n",
       "      <td>3</td>\n",
       "      <td>0</td>\n",
       "      <td>False</td>\n",
       "      <td>[]</td>\n",
       "      <td>R1001P</td>\n",
       "      <td>WORD</td>\n",
       "    </tr>\n",
       "    <tr>\n",
       "      <th>26</th>\n",
       "      <td>392785</td>\n",
       "      <td>R1001P_FR1_0_12Oct14_1034</td>\n",
       "      <td>1.02</td>\n",
       "      <td>FR1</td>\n",
       "      <td>-999</td>\n",
       "      <td>False</td>\n",
       "      <td>GEESE</td>\n",
       "      <td>110</td>\n",
       "      <td>1</td>\n",
       "      <td>0</td>\n",
       "      <td>1</td>\n",
       "      <td>1413125322141</td>\n",
       "      <td>r1</td>\n",
       "      <td>False</td>\n",
       "      <td>-999</td>\n",
       "      <td>4</td>\n",
       "      <td>0</td>\n",
       "      <td>False</td>\n",
       "      <td>[]</td>\n",
       "      <td>R1001P</td>\n",
       "      <td>WORD</td>\n",
       "    </tr>\n",
       "    <tr>\n",
       "      <th>27</th>\n",
       "      <td>394019</td>\n",
       "      <td>R1001P_FR1_0_12Oct14_1034</td>\n",
       "      <td>1.02</td>\n",
       "      <td>FR1</td>\n",
       "      <td>-999</td>\n",
       "      <td>False</td>\n",
       "      <td>STAR</td>\n",
       "      <td>247</td>\n",
       "      <td>1</td>\n",
       "      <td>0</td>\n",
       "      <td>1</td>\n",
       "      <td>1413125324609</td>\n",
       "      <td>r1</td>\n",
       "      <td>False</td>\n",
       "      <td>-999</td>\n",
       "      <td>5</td>\n",
       "      <td>0</td>\n",
       "      <td>False</td>\n",
       "      <td>[]</td>\n",
       "      <td>R1001P</td>\n",
       "      <td>WORD</td>\n",
       "    </tr>\n",
       "    <tr>\n",
       "      <th>28</th>\n",
       "      <td>395285</td>\n",
       "      <td>R1001P_FR1_0_12Oct14_1034</td>\n",
       "      <td>1.02</td>\n",
       "      <td>FR1</td>\n",
       "      <td>-999</td>\n",
       "      <td>False</td>\n",
       "      <td>CLOUD</td>\n",
       "      <td>58</td>\n",
       "      <td>1</td>\n",
       "      <td>0</td>\n",
       "      <td>1</td>\n",
       "      <td>1413125327142</td>\n",
       "      <td>r1</td>\n",
       "      <td>False</td>\n",
       "      <td>-999</td>\n",
       "      <td>6</td>\n",
       "      <td>0</td>\n",
       "      <td>False</td>\n",
       "      <td>[]</td>\n",
       "      <td>R1001P</td>\n",
       "      <td>WORD</td>\n",
       "    </tr>\n",
       "    <tr>\n",
       "      <th>29</th>\n",
       "      <td>396544</td>\n",
       "      <td>R1001P_FR1_0_12Oct14_1034</td>\n",
       "      <td>1.02</td>\n",
       "      <td>FR1</td>\n",
       "      <td>-999</td>\n",
       "      <td>False</td>\n",
       "      <td>PEARL</td>\n",
       "      <td>178</td>\n",
       "      <td>1</td>\n",
       "      <td>0</td>\n",
       "      <td>1</td>\n",
       "      <td>1413125329660</td>\n",
       "      <td>r1</td>\n",
       "      <td>False</td>\n",
       "      <td>-999</td>\n",
       "      <td>7</td>\n",
       "      <td>0</td>\n",
       "      <td>False</td>\n",
       "      <td>[]</td>\n",
       "      <td>R1001P</td>\n",
       "      <td>WORD</td>\n",
       "    </tr>\n",
       "    <tr>\n",
       "      <th>30</th>\n",
       "      <td>397769</td>\n",
       "      <td>R1001P_FR1_0_12Oct14_1034</td>\n",
       "      <td>1.02</td>\n",
       "      <td>FR1</td>\n",
       "      <td>-999</td>\n",
       "      <td>False</td>\n",
       "      <td>SWORD</td>\n",
       "      <td>263</td>\n",
       "      <td>1</td>\n",
       "      <td>0</td>\n",
       "      <td>1</td>\n",
       "      <td>1413125332110</td>\n",
       "      <td>r1</td>\n",
       "      <td>False</td>\n",
       "      <td>-999</td>\n",
       "      <td>8</td>\n",
       "      <td>0</td>\n",
       "      <td>False</td>\n",
       "      <td>[]</td>\n",
       "      <td>R1001P</td>\n",
       "      <td>WORD</td>\n",
       "    </tr>\n",
       "    <tr>\n",
       "      <th>31</th>\n",
       "      <td>399036</td>\n",
       "      <td>R1001P_FR1_0_12Oct14_1034</td>\n",
       "      <td>1.02</td>\n",
       "      <td>FR1</td>\n",
       "      <td>-999</td>\n",
       "      <td>False</td>\n",
       "      <td>STAIR</td>\n",
       "      <td>246</td>\n",
       "      <td>1</td>\n",
       "      <td>0</td>\n",
       "      <td>1</td>\n",
       "      <td>1413125334644</td>\n",
       "      <td>r1</td>\n",
       "      <td>False</td>\n",
       "      <td>-999</td>\n",
       "      <td>9</td>\n",
       "      <td>0</td>\n",
       "      <td>False</td>\n",
       "      <td>[]</td>\n",
       "      <td>R1001P</td>\n",
       "      <td>WORD</td>\n",
       "    </tr>\n",
       "    <tr>\n",
       "      <th>32</th>\n",
       "      <td>400236</td>\n",
       "      <td>R1001P_FR1_0_12Oct14_1034</td>\n",
       "      <td>1.02</td>\n",
       "      <td>FR1</td>\n",
       "      <td>-999</td>\n",
       "      <td>False</td>\n",
       "      <td>GOLD</td>\n",
       "      <td>114</td>\n",
       "      <td>1</td>\n",
       "      <td>0</td>\n",
       "      <td>1</td>\n",
       "      <td>1413125337044</td>\n",
       "      <td>r1</td>\n",
       "      <td>False</td>\n",
       "      <td>-999</td>\n",
       "      <td>10</td>\n",
       "      <td>0</td>\n",
       "      <td>False</td>\n",
       "      <td>[]</td>\n",
       "      <td>R1001P</td>\n",
       "      <td>WORD</td>\n",
       "    </tr>\n",
       "  </tbody>\n",
       "</table>\n",
       "</div>"
      ],
      "text/plain": [
       "    eegoffset                    eegfile  exp_version experiment  intrusion  \\\n",
       "23     388959  R1001P_FR1_0_12Oct14_1034         1.02        FR1       -999   \n",
       "24     390268  R1001P_FR1_0_12Oct14_1034         1.02        FR1       -999   \n",
       "25     391560  R1001P_FR1_0_12Oct14_1034         1.02        FR1       -999   \n",
       "26     392785  R1001P_FR1_0_12Oct14_1034         1.02        FR1       -999   \n",
       "27     394019  R1001P_FR1_0_12Oct14_1034         1.02        FR1       -999   \n",
       "28     395285  R1001P_FR1_0_12Oct14_1034         1.02        FR1       -999   \n",
       "29     396544  R1001P_FR1_0_12Oct14_1034         1.02        FR1       -999   \n",
       "30     397769  R1001P_FR1_0_12Oct14_1034         1.02        FR1       -999   \n",
       "31     399036  R1001P_FR1_0_12Oct14_1034         1.02        FR1       -999   \n",
       "32     400236  R1001P_FR1_0_12Oct14_1034         1.02        FR1       -999   \n",
       "\n",
       "    is_stim item_name  item_num  list  montage  msoffset         mstime  \\\n",
       "23    False     HOUSE       130     1        0         1  1413125314490   \n",
       "24    False      HAWK       120     1        0         1  1413125317107   \n",
       "25    False      WAND       288     1        0         1  1413125319691   \n",
       "26    False     GEESE       110     1        0         1  1413125322141   \n",
       "27    False      STAR       247     1        0         1  1413125324609   \n",
       "28    False     CLOUD        58     1        0         1  1413125327142   \n",
       "29    False     PEARL       178     1        0         1  1413125329660   \n",
       "30    False     SWORD       263     1        0         1  1413125332110   \n",
       "31    False     STAIR       246     1        0         1  1413125334644   \n",
       "32    False      GOLD       114     1        0         1  1413125337044   \n",
       "\n",
       "   protocol  recalled  rectime  serialpos  session  stim_list stim_params  \\\n",
       "23       r1     False     -999          1        0      False          []   \n",
       "24       r1     False     -999          2        0      False          []   \n",
       "25       r1     False     -999          3        0      False          []   \n",
       "26       r1     False     -999          4        0      False          []   \n",
       "27       r1     False     -999          5        0      False          []   \n",
       "28       r1     False     -999          6        0      False          []   \n",
       "29       r1     False     -999          7        0      False          []   \n",
       "30       r1     False     -999          8        0      False          []   \n",
       "31       r1     False     -999          9        0      False          []   \n",
       "32       r1     False     -999         10        0      False          []   \n",
       "\n",
       "   subject  type  \n",
       "23  R1001P  WORD  \n",
       "24  R1001P  WORD  \n",
       "25  R1001P  WORD  \n",
       "26  R1001P  WORD  \n",
       "27  R1001P  WORD  \n",
       "28  R1001P  WORD  \n",
       "29  R1001P  WORD  \n",
       "30  R1001P  WORD  \n",
       "31  R1001P  WORD  \n",
       "32  R1001P  WORD  "
      ]
     },
     "execution_count": 170,
     "metadata": {},
     "output_type": "execute_result"
    }
   ],
   "source": [
    "word_evs = evs[evs['type']=='WORD']\n",
    "word_evs[:10]"
   ]
  },
  {
   "cell_type": "markdown",
   "metadata": {},
   "source": [
    "Applying these kinds of filters are useful if you're only interested in analyzing one kind of event. For instance, we could also just find recall events:"
   ]
  },
  {
   "cell_type": "code",
   "execution_count": 171,
   "metadata": {},
   "outputs": [
    {
     "data": {
      "text/html": [
       "<div>\n",
       "<style scoped>\n",
       "    .dataframe tbody tr th:only-of-type {\n",
       "        vertical-align: middle;\n",
       "    }\n",
       "\n",
       "    .dataframe tbody tr th {\n",
       "        vertical-align: top;\n",
       "    }\n",
       "\n",
       "    .dataframe thead th {\n",
       "        text-align: right;\n",
       "    }\n",
       "</style>\n",
       "<table border=\"1\" class=\"dataframe\">\n",
       "  <thead>\n",
       "    <tr style=\"text-align: right;\">\n",
       "      <th></th>\n",
       "      <th>eegoffset</th>\n",
       "      <th>eegfile</th>\n",
       "      <th>exp_version</th>\n",
       "      <th>experiment</th>\n",
       "      <th>intrusion</th>\n",
       "      <th>is_stim</th>\n",
       "      <th>item_name</th>\n",
       "      <th>item_num</th>\n",
       "      <th>list</th>\n",
       "      <th>montage</th>\n",
       "      <th>msoffset</th>\n",
       "      <th>mstime</th>\n",
       "      <th>protocol</th>\n",
       "      <th>recalled</th>\n",
       "      <th>rectime</th>\n",
       "      <th>serialpos</th>\n",
       "      <th>session</th>\n",
       "      <th>stim_list</th>\n",
       "      <th>stim_params</th>\n",
       "      <th>subject</th>\n",
       "      <th>type</th>\n",
       "    </tr>\n",
       "  </thead>\n",
       "  <tbody>\n",
       "    <tr>\n",
       "      <th>63</th>\n",
       "      <td>471989</td>\n",
       "      <td>R1001P_FR1_0_12Oct14_1034</td>\n",
       "      <td>1.02</td>\n",
       "      <td>FR1</td>\n",
       "      <td>0</td>\n",
       "      <td>False</td>\n",
       "      <td>SHEET</td>\n",
       "      <td>217</td>\n",
       "      <td>2</td>\n",
       "      <td>0</td>\n",
       "      <td>20</td>\n",
       "      <td>1413125480559</td>\n",
       "      <td>r1</td>\n",
       "      <td>True</td>\n",
       "      <td>4271</td>\n",
       "      <td>-999</td>\n",
       "      <td>0</td>\n",
       "      <td>False</td>\n",
       "      <td>[]</td>\n",
       "      <td>R1001P</td>\n",
       "      <td>REC_WORD</td>\n",
       "    </tr>\n",
       "    <tr>\n",
       "      <th>64</th>\n",
       "      <td>472388</td>\n",
       "      <td>R1001P_FR1_0_12Oct14_1034</td>\n",
       "      <td>1.02</td>\n",
       "      <td>FR1</td>\n",
       "      <td>1</td>\n",
       "      <td>False</td>\n",
       "      <td>CLOUD</td>\n",
       "      <td>58</td>\n",
       "      <td>2</td>\n",
       "      <td>0</td>\n",
       "      <td>20</td>\n",
       "      <td>1413125481356</td>\n",
       "      <td>r1</td>\n",
       "      <td>False</td>\n",
       "      <td>5068</td>\n",
       "      <td>-999</td>\n",
       "      <td>0</td>\n",
       "      <td>False</td>\n",
       "      <td>[]</td>\n",
       "      <td>R1001P</td>\n",
       "      <td>REC_WORD</td>\n",
       "    </tr>\n",
       "    <tr>\n",
       "      <th>66</th>\n",
       "      <td>481131</td>\n",
       "      <td>R1001P_FR1_0_12Oct14_1034</td>\n",
       "      <td>1.02</td>\n",
       "      <td>FR1</td>\n",
       "      <td>0</td>\n",
       "      <td>False</td>\n",
       "      <td>SHEET</td>\n",
       "      <td>217</td>\n",
       "      <td>2</td>\n",
       "      <td>0</td>\n",
       "      <td>20</td>\n",
       "      <td>1413125498843</td>\n",
       "      <td>r1</td>\n",
       "      <td>True</td>\n",
       "      <td>22555</td>\n",
       "      <td>-999</td>\n",
       "      <td>0</td>\n",
       "      <td>False</td>\n",
       "      <td>[]</td>\n",
       "      <td>R1001P</td>\n",
       "      <td>REC_WORD</td>\n",
       "    </tr>\n",
       "    <tr>\n",
       "      <th>67</th>\n",
       "      <td>481339</td>\n",
       "      <td>R1001P_FR1_0_12Oct14_1034</td>\n",
       "      <td>1.02</td>\n",
       "      <td>FR1</td>\n",
       "      <td>1</td>\n",
       "      <td>False</td>\n",
       "      <td>CLOUD</td>\n",
       "      <td>58</td>\n",
       "      <td>2</td>\n",
       "      <td>0</td>\n",
       "      <td>20</td>\n",
       "      <td>1413125499259</td>\n",
       "      <td>r1</td>\n",
       "      <td>False</td>\n",
       "      <td>22971</td>\n",
       "      <td>-999</td>\n",
       "      <td>0</td>\n",
       "      <td>False</td>\n",
       "      <td>[]</td>\n",
       "      <td>R1001P</td>\n",
       "      <td>REC_WORD</td>\n",
       "    </tr>\n",
       "    <tr>\n",
       "      <th>88</th>\n",
       "      <td>519111</td>\n",
       "      <td>R1001P_FR1_0_12Oct14_1034</td>\n",
       "      <td>1.02</td>\n",
       "      <td>FR1</td>\n",
       "      <td>-1</td>\n",
       "      <td>False</td>\n",
       "      <td>BEACH</td>\n",
       "      <td>14</td>\n",
       "      <td>3</td>\n",
       "      <td>0</td>\n",
       "      <td>20</td>\n",
       "      <td>1413125574807</td>\n",
       "      <td>r1</td>\n",
       "      <td>False</td>\n",
       "      <td>1916</td>\n",
       "      <td>-999</td>\n",
       "      <td>0</td>\n",
       "      <td>False</td>\n",
       "      <td>[]</td>\n",
       "      <td>R1001P</td>\n",
       "      <td>REC_WORD</td>\n",
       "    </tr>\n",
       "    <tr>\n",
       "      <th>89</th>\n",
       "      <td>519766</td>\n",
       "      <td>R1001P_FR1_0_12Oct14_1034</td>\n",
       "      <td>1.02</td>\n",
       "      <td>FR1</td>\n",
       "      <td>-1</td>\n",
       "      <td>False</td>\n",
       "      <td>GOD</td>\n",
       "      <td>-1</td>\n",
       "      <td>3</td>\n",
       "      <td>0</td>\n",
       "      <td>20</td>\n",
       "      <td>1413125576117</td>\n",
       "      <td>r1</td>\n",
       "      <td>False</td>\n",
       "      <td>3226</td>\n",
       "      <td>-999</td>\n",
       "      <td>0</td>\n",
       "      <td>False</td>\n",
       "      <td>[]</td>\n",
       "      <td>R1001P</td>\n",
       "      <td>REC_WORD</td>\n",
       "    </tr>\n",
       "    <tr>\n",
       "      <th>90</th>\n",
       "      <td>520302</td>\n",
       "      <td>R1001P_FR1_0_12Oct14_1034</td>\n",
       "      <td>1.02</td>\n",
       "      <td>FR1</td>\n",
       "      <td>0</td>\n",
       "      <td>False</td>\n",
       "      <td>SLIME</td>\n",
       "      <td>230</td>\n",
       "      <td>3</td>\n",
       "      <td>0</td>\n",
       "      <td>20</td>\n",
       "      <td>1413125577190</td>\n",
       "      <td>r1</td>\n",
       "      <td>True</td>\n",
       "      <td>4299</td>\n",
       "      <td>-999</td>\n",
       "      <td>0</td>\n",
       "      <td>False</td>\n",
       "      <td>[]</td>\n",
       "      <td>R1001P</td>\n",
       "      <td>REC_WORD</td>\n",
       "    </tr>\n",
       "    <tr>\n",
       "      <th>91</th>\n",
       "      <td>521777</td>\n",
       "      <td>R1001P_FR1_0_12Oct14_1034</td>\n",
       "      <td>1.02</td>\n",
       "      <td>FR1</td>\n",
       "      <td>0</td>\n",
       "      <td>False</td>\n",
       "      <td>SCHOOL</td>\n",
       "      <td>210</td>\n",
       "      <td>3</td>\n",
       "      <td>0</td>\n",
       "      <td>20</td>\n",
       "      <td>1413125580139</td>\n",
       "      <td>r1</td>\n",
       "      <td>True</td>\n",
       "      <td>7248</td>\n",
       "      <td>-999</td>\n",
       "      <td>0</td>\n",
       "      <td>False</td>\n",
       "      <td>[]</td>\n",
       "      <td>R1001P</td>\n",
       "      <td>REC_WORD</td>\n",
       "    </tr>\n",
       "    <tr>\n",
       "      <th>92</th>\n",
       "      <td>524732</td>\n",
       "      <td>R1001P_FR1_0_12Oct14_1034</td>\n",
       "      <td>1.02</td>\n",
       "      <td>FR1</td>\n",
       "      <td>0</td>\n",
       "      <td>False</td>\n",
       "      <td>SCHOOL</td>\n",
       "      <td>210</td>\n",
       "      <td>3</td>\n",
       "      <td>0</td>\n",
       "      <td>20</td>\n",
       "      <td>1413125586050</td>\n",
       "      <td>r1</td>\n",
       "      <td>True</td>\n",
       "      <td>13159</td>\n",
       "      <td>-999</td>\n",
       "      <td>0</td>\n",
       "      <td>False</td>\n",
       "      <td>[]</td>\n",
       "      <td>R1001P</td>\n",
       "      <td>REC_WORD</td>\n",
       "    </tr>\n",
       "    <tr>\n",
       "      <th>93</th>\n",
       "      <td>525077</td>\n",
       "      <td>R1001P_FR1_0_12Oct14_1034</td>\n",
       "      <td>1.02</td>\n",
       "      <td>FR1</td>\n",
       "      <td>0</td>\n",
       "      <td>False</td>\n",
       "      <td>SCHOOL</td>\n",
       "      <td>210</td>\n",
       "      <td>3</td>\n",
       "      <td>0</td>\n",
       "      <td>20</td>\n",
       "      <td>1413125586740</td>\n",
       "      <td>r1</td>\n",
       "      <td>True</td>\n",
       "      <td>13849</td>\n",
       "      <td>-999</td>\n",
       "      <td>0</td>\n",
       "      <td>False</td>\n",
       "      <td>[]</td>\n",
       "      <td>R1001P</td>\n",
       "      <td>REC_WORD</td>\n",
       "    </tr>\n",
       "  </tbody>\n",
       "</table>\n",
       "</div>"
      ],
      "text/plain": [
       "    eegoffset                    eegfile  exp_version experiment  intrusion  \\\n",
       "63     471989  R1001P_FR1_0_12Oct14_1034         1.02        FR1          0   \n",
       "64     472388  R1001P_FR1_0_12Oct14_1034         1.02        FR1          1   \n",
       "66     481131  R1001P_FR1_0_12Oct14_1034         1.02        FR1          0   \n",
       "67     481339  R1001P_FR1_0_12Oct14_1034         1.02        FR1          1   \n",
       "88     519111  R1001P_FR1_0_12Oct14_1034         1.02        FR1         -1   \n",
       "89     519766  R1001P_FR1_0_12Oct14_1034         1.02        FR1         -1   \n",
       "90     520302  R1001P_FR1_0_12Oct14_1034         1.02        FR1          0   \n",
       "91     521777  R1001P_FR1_0_12Oct14_1034         1.02        FR1          0   \n",
       "92     524732  R1001P_FR1_0_12Oct14_1034         1.02        FR1          0   \n",
       "93     525077  R1001P_FR1_0_12Oct14_1034         1.02        FR1          0   \n",
       "\n",
       "    is_stim item_name  item_num  list  montage  msoffset         mstime  \\\n",
       "63    False     SHEET       217     2        0        20  1413125480559   \n",
       "64    False     CLOUD        58     2        0        20  1413125481356   \n",
       "66    False     SHEET       217     2        0        20  1413125498843   \n",
       "67    False     CLOUD        58     2        0        20  1413125499259   \n",
       "88    False     BEACH        14     3        0        20  1413125574807   \n",
       "89    False       GOD        -1     3        0        20  1413125576117   \n",
       "90    False     SLIME       230     3        0        20  1413125577190   \n",
       "91    False    SCHOOL       210     3        0        20  1413125580139   \n",
       "92    False    SCHOOL       210     3        0        20  1413125586050   \n",
       "93    False    SCHOOL       210     3        0        20  1413125586740   \n",
       "\n",
       "   protocol  recalled  rectime  serialpos  session  stim_list stim_params  \\\n",
       "63       r1      True     4271       -999        0      False          []   \n",
       "64       r1     False     5068       -999        0      False          []   \n",
       "66       r1      True    22555       -999        0      False          []   \n",
       "67       r1     False    22971       -999        0      False          []   \n",
       "88       r1     False     1916       -999        0      False          []   \n",
       "89       r1     False     3226       -999        0      False          []   \n",
       "90       r1      True     4299       -999        0      False          []   \n",
       "91       r1      True     7248       -999        0      False          []   \n",
       "92       r1      True    13159       -999        0      False          []   \n",
       "93       r1      True    13849       -999        0      False          []   \n",
       "\n",
       "   subject      type  \n",
       "63  R1001P  REC_WORD  \n",
       "64  R1001P  REC_WORD  \n",
       "66  R1001P  REC_WORD  \n",
       "67  R1001P  REC_WORD  \n",
       "88  R1001P  REC_WORD  \n",
       "89  R1001P  REC_WORD  \n",
       "90  R1001P  REC_WORD  \n",
       "91  R1001P  REC_WORD  \n",
       "92  R1001P  REC_WORD  \n",
       "93  R1001P  REC_WORD  "
      ]
     },
     "execution_count": 171,
     "metadata": {},
     "output_type": "execute_result"
    }
   ],
   "source": [
    "rec_evs = evs[evs['type']=='REC_WORD']\n",
    "rec_evs[:10]"
   ]
  },
  {
   "cell_type": "markdown",
   "metadata": {},
   "source": [
    "**Exercise: What is R1001P's overall recall percent correct?**"
   ]
  },
  {
   "cell_type": "code",
   "execution_count": null,
   "metadata": {},
   "outputs": [],
   "source": []
  },
  {
   "cell_type": "markdown",
   "metadata": {},
   "source": [
    "**Exercise: What is R1001P's percent correct at each serial position?**"
   ]
  },
  {
   "cell_type": "code",
   "execution_count": null,
   "metadata": {},
   "outputs": [],
   "source": []
  }
 ],
 "metadata": {
  "kernelspec": {
   "display_name": "CML",
   "language": "python",
   "name": "cml"
  },
  "language_info": {
   "codemirror_mode": {
    "name": "ipython",
    "version": 3
   },
   "file_extension": ".py",
   "mimetype": "text/x-python",
   "name": "python",
   "nbconvert_exporter": "python",
   "pygments_lexer": "ipython3",
   "version": "3.6.6"
  }
 },
 "nbformat": 4,
 "nbformat_minor": 2
}
