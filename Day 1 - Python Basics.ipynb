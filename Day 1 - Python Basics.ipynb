{
 "cells": [
  {
   "cell_type": "markdown",
   "metadata": {},
   "source": [
    "# Computational Memory Lab Python Bootcamp\n",
    "\n",
    "### Introduction\n",
    "Welcome to the CML Python Bootcamp! In this Jupyter Notebook, we'll walk through the course structure, learn about Jupyter, and review the basics of Numpy. By the end of this lesson, you'll be able to start writing your own code in Jupyter Notebooks.\n",
    "\n",
    "### Python for Data Science\n",
    "For the sake of time, this bootcamp will assume you have a basic working knowledge of Python (e.g. data types, functions, loops, etc.). If you're looking for a refresher, check out some of these resources: \n",
    "* Codecademy (https://www.codecademy.com/learn/learn-python-3)\n",
    "* Coursera (https://www.coursera.org/learn/python-data-analysis)\n",
    "* Python Data Science Handbook (https://github.com/jakevdp/PythonDataScienceHandbook)\n",
    "\n",
    "Though this list is by no means exhaustive!\n",
    "\n",
    "### Basic course structure\n",
    "\n",
    "The Computational Memory Lab's Python Bootcamp will run June 3 - June 14, Monday through Friday, from 9 a.m. to noon each day. Our goal is to familiarize you with basic Python tools for data science, and the libraries developed by our lab to facilitate EEG analyses. To that end, the course outline is as follows: \n",
    "\n",
    "<ul>\n",
    "    \n",
    "Day 1 (M, June 3)\n",
    "<b>Python basics, Jupyter Notebooks, numpy, plotting</b>\n",
    "\n",
    "Day 2 (T, June 4)\n",
    "<b>Pandas, CMLReaders, experimental events</b>\n",
    "    \n",
    "Day 3 (W, June 5)\n",
    "<b>Analyzing EEG data I (MNE, electrodes, referencing, ERPs)</b>\n",
    "    \n",
    "Day 4 (Th, June 6)\n",
    "<b>Analyzing EEG data II (signal processing, time-frequency decomposition)</b>\n",
    "    \n",
    "Day 5 (F, June 7)\n",
    "<b>Analyzing EEG data III (univariate statistics)</b>\n",
    "    \n",
    "Day 6 (M, June 10)\n",
    "<b>Analyzing EEG data IV (multiple comparisons, non-parametric tests)</b>\n",
    "\n",
    "Day 7 (T, June 11)\n",
    "<b>Connectivity (circular data, phase-locking, coherence, graph theory)</b>\n",
    "\n",
    "Day 8 (W, June 12)\n",
    "<b>Machine Learning I (big concepts, sklearn, regression/classification)</b>\n",
    "\n",
    "Day 9 (Th, June 13)\n",
    "<b>Machine Learning II (cross-validation, feature selection, other classifiers)</b>\n",
    "\n",
    "Day 10 (F, June 14)\n",
    "<b>Parallel computing & wrap-up/Q&A</b>\n",
    "    \n",
    "</ul>\n",
    "\n",
    "By the end of this course, you should be able to carry out EEG/iEEG/ECoG analyses, like computing spectral power and phase, and compute statistics or apply machine learning models to those data. Note that insights into behavioral analyses will organically come along with this course, but the emphasis is on electrophysiology. \n",
    "\n",
    "### Jupyter Notebooks for Data Science\n",
    "The Jupyter Notebook (and Jupyter Lab) is a powerful interface to IPython for data science. The notebook structure keeps figures and outputs organized with their generating code, and supports integration with text and images. This lets data scientists (like you!) keep a full log of everything that went into an analysis or manuscript. The cell-based structure of Jupyter Notebooks -- as you'll see soon -- makes it easy to tweak analyses without needing to re-run your whole pipeline, saving lots of time. \n",
    "\n",
    "In the Computational Memory Lab, we run Jupyter Notebooks on a server (Rhino2), letting you access your analyses from anywhere (see referenced tutorial). This also makes it easy to load large amounts of EEG data and run parallel processes. But if you'd like, feel free to install Jupyter Notebooks on your computer and run them locally (Jupyter Lab comes with all default Anaconda installations). \n",
    "\n",
    "If you already have an account on Rhino2, you've already got access to Jupyter Lab -- congratulations! If you haven't already, please follow these instructions to install the latest version of the lab's Python framework and libraries (https://github.com/pennmem/cmlreaders ). Once that's done, you're ready to start the bootcamp!\n",
    "\n",
    "Jupyter Notebooks can do some amazing things, but we don't have the time to discuss them all. Check out this list for some inspiration: https://www.dataquest.io/blog/jupyter-notebook-tips-tricks-shortcuts/\n",
    "\n",
    "### Setting up JupyterLab\n",
    "\n",
    "1. You'll need to follow a few simple steps to get your account set up with all the important Python tools for data analysis. First, log in to your rhino account in a terminal window, then head to https://github.com/pennmem/cmlreaders and follow the installation instructions. This will set you up with the lab's custom software for reading experimental data. \n",
    "\n",
    "2. Next, you'll need to install a suite of tools for EEG analysis. First, install MNE by typing the following (be sure you're in the Anaconda \"environment\" you just created in Step 1, by typing \"source activate environmentname\"). Note that this may take a while, because MNE has a lot of dependencies: \n",
    "\n",
    "<code>conda install -c conda-forge mne</code>\n",
    "\n",
    "Next, install PTSA, which is another set of EEG tools developed by former lab members:\n",
    "\n",
    "<code>conda install -c pennmem ptsa</code>\n",
    "\n",
    "3. Finally, you'll need to link JupyterLab with your specific Python installation. While still logged in to your rhino account and in your Anaconda \"environment\", type: \n",
    "\n",
    "<code>conda install ipykernel</code>\n",
    "\n",
    "and once that's done:\n",
    "\n",
    "<code>python -m ipykernel install --user  --name environmentname --display-name \"environmentname\"</code>\n",
    "\n",
    "\n",
    "You should be all set! Next time you log in to your JupyterLab account, you should see an option to launch a new notebook with \"environmentname\" as your Python environment. If you've been logged in to JupyterLab this whole time, you may need to log out and log back in again to see this change take effect. \n",
    "\n",
    "### Remotely Accessing JupyterLab\n",
    "A key advatage of the JupyterLab server is that it can be accessed from any modern web brower, on any computer. To do so, follow these simple instructions: \n",
    "\n",
    "In a terminal window, type: \n",
    "\n",
    "<code>ssh -L8000:rhino2.psych.upenn.edu:8200 username@rhino2.psych.upenn.edu</code>\n",
    "\n",
    "using your username, and type your password. In your web browser, navigate to: \n",
    "\n",
    "<code>127.0.0.1:8000</code>\n",
    "\n",
    "and you should see the JupyterLab interface pop up!\n",
    "\n",
    "(On Windows, I recommend using Cygwin https://www.cygwin.com/ or the Ubuntu subsystem https://docs.microsoft.com/en-us/windows/wsl/install-win10 to SSH into rhino.) \n",
    "\n"
   ]
  },
  {
   "cell_type": "markdown",
   "metadata": {},
   "source": [
    "## Numpy: The MATLABification of Python\n",
    "If you've used Python before, you're likely familiar with the numpy module, which essentially gifts Python with all of othe useful array operations you might have used in MATLAB. Numpy lets you efficiently perform operations on large amounts of multidimensional data, unlike Python lists, which would require lots of for-loops. Let's explore some of Numpy's functionality. "
   ]
  },
  {
   "cell_type": "markdown",
   "metadata": {},
   "source": [
    "### Creating arrays"
   ]
  },
  {
   "cell_type": "code",
   "execution_count": 1,
   "metadata": {},
   "outputs": [
    {
     "data": {
      "text/plain": [
       "array([ 0,  1,  7,  9, 12])"
      ]
     },
     "execution_count": 1,
     "metadata": {},
     "output_type": "execute_result"
    }
   ],
   "source": [
    "#First, the import statement\n",
    "import numpy as np\n",
    "\n",
    "#Make an array from an existing list\n",
    "np.array([0, 1, 7, 9, 12])"
   ]
  },
  {
   "cell_type": "code",
   "execution_count": 2,
   "metadata": {},
   "outputs": [
    {
     "data": {
      "text/plain": [
       "array([0, 1, 2, 3, 4, 5, 6, 7, 8, 9])"
      ]
     },
     "execution_count": 2,
     "metadata": {},
     "output_type": "execute_result"
    }
   ],
   "source": [
    "#Make a sequential array\n",
    "np.arange(0, 10)"
   ]
  },
  {
   "cell_type": "code",
   "execution_count": 3,
   "metadata": {},
   "outputs": [
    {
     "data": {
      "text/plain": [
       "array([[0., 0., 0., 0.],\n",
       "       [0., 0., 0., 0.],\n",
       "       [0., 0., 0., 0.]])"
      ]
     },
     "execution_count": 3,
     "metadata": {},
     "output_type": "execute_result"
    }
   ],
   "source": [
    "#Make a matrix of zeros\n",
    "np.zeros((3, 4))"
   ]
  },
  {
   "cell_type": "code",
   "execution_count": 4,
   "metadata": {},
   "outputs": [
    {
     "data": {
      "text/plain": [
       "array([[0.25266792, 0.31125017, 0.47937921, 0.25865961],\n",
       "       [0.26517631, 0.13570708, 0.38656652, 0.32179002],\n",
       "       [0.00460461, 0.95883692, 0.72347929, 0.97215323]])"
      ]
     },
     "execution_count": 4,
     "metadata": {},
     "output_type": "execute_result"
    }
   ],
   "source": [
    "#Make a matrix of random floats from 0 to 1\n",
    "np.random.random((3, 4))"
   ]
  },
  {
   "cell_type": "code",
   "execution_count": 5,
   "metadata": {},
   "outputs": [
    {
     "data": {
      "text/plain": [
       "array([[0, 0, 0],\n",
       "       [0, 0, 0],\n",
       "       [0, 0, 0]])"
      ]
     },
     "execution_count": 5,
     "metadata": {},
     "output_type": "execute_result"
    }
   ],
   "source": [
    "#Note that data types can be specified, e.g.\n",
    "np.zeros((3, 3), dtype='int')"
   ]
  },
  {
   "cell_type": "markdown",
   "metadata": {},
   "source": [
    "### Working with arrays\n",
    "These concepts will be very familiar to MATLAB users."
   ]
  },
  {
   "cell_type": "markdown",
   "metadata": {},
   "source": [
    "#### Array attributes"
   ]
  },
  {
   "cell_type": "code",
   "execution_count": 6,
   "metadata": {},
   "outputs": [],
   "source": [
    "np.random.seed(0)  # seed for reproducibility\n",
    "\n",
    "x1 = np.random.randint(10, size=6)  # One-dimensional array\n",
    "x2 = np.random.randint(10, size=(3, 4))  # Two-dimensional array\n",
    "x3 = np.random.randint(10, size=(3, 4, 5))  # Three-dimensional array"
   ]
  },
  {
   "cell_type": "code",
   "execution_count": 7,
   "metadata": {},
   "outputs": [
    {
     "name": "stdout",
     "output_type": "stream",
     "text": [
      "x3 ndim:  3\n",
      "x3 shape: (3, 4, 5)\n",
      "x3 size:  60\n",
      "x3 dtype: int64\n"
     ]
    }
   ],
   "source": [
    "#Get some array attributes\n",
    "print(\"x3 ndim: \", x3.ndim)\n",
    "print(\"x3 shape:\", x3.shape)\n",
    "print(\"x3 size: \", x3.size)\n",
    "print(\"x3 dtype:\", x3.dtype)"
   ]
  },
  {
   "cell_type": "markdown",
   "metadata": {},
   "source": [
    "#### Array indexing"
   ]
  },
  {
   "cell_type": "code",
   "execution_count": 8,
   "metadata": {},
   "outputs": [
    {
     "data": {
      "text/plain": [
       "array([5, 0, 3, 3, 7, 9])"
      ]
     },
     "execution_count": 8,
     "metadata": {},
     "output_type": "execute_result"
    }
   ],
   "source": [
    "x1"
   ]
  },
  {
   "cell_type": "code",
   "execution_count": 9,
   "metadata": {},
   "outputs": [
    {
     "data": {
      "text/plain": [
       "5"
      ]
     },
     "execution_count": 9,
     "metadata": {},
     "output_type": "execute_result"
    }
   ],
   "source": [
    "#Remember that Python is zero-indexed!\n",
    "x1[0]"
   ]
  },
  {
   "cell_type": "code",
   "execution_count": 10,
   "metadata": {},
   "outputs": [
    {
     "data": {
      "text/plain": [
       "7"
      ]
     },
     "execution_count": 10,
     "metadata": {},
     "output_type": "execute_result"
    }
   ],
   "source": [
    "#You can index into arrays in reverse order\n",
    "x1[-2]"
   ]
  },
  {
   "cell_type": "code",
   "execution_count": 11,
   "metadata": {},
   "outputs": [
    {
     "data": {
      "text/plain": [
       "array([[3, 5, 2, 4],\n",
       "       [7, 6, 8, 8],\n",
       "       [1, 6, 7, 7]])"
      ]
     },
     "execution_count": 11,
     "metadata": {},
     "output_type": "execute_result"
    }
   ],
   "source": [
    "x2"
   ]
  },
  {
   "cell_type": "code",
   "execution_count": 12,
   "metadata": {},
   "outputs": [
    {
     "data": {
      "text/plain": [
       "8"
      ]
     },
     "execution_count": 12,
     "metadata": {},
     "output_type": "execute_result"
    }
   ],
   "source": [
    "#Indexing goes by row, column\n",
    "x2[1, 2]"
   ]
  },
  {
   "cell_type": "code",
   "execution_count": 13,
   "metadata": {},
   "outputs": [
    {
     "name": "stdout",
     "output_type": "stream",
     "text": [
      "[[ 3  5  2  4]\n",
      " [ 7  6 99  8]\n",
      " [ 1  6  7  7]]\n"
     ]
    }
   ],
   "source": [
    "#You can reset values with the same notation\n",
    "x2[1, 2] = 99\n",
    "print(x2)"
   ]
  },
  {
   "cell_type": "markdown",
   "metadata": {},
   "source": [
    "#### Array slicing\n",
    "How to access sub-arrays. The general notation is as follows: \n",
    "\n",
    "<code>\n",
    "subarr = x[start:stop:step]\n",
    "</code>"
   ]
  },
  {
   "cell_type": "code",
   "execution_count": 14,
   "metadata": {},
   "outputs": [
    {
     "data": {
      "text/plain": [
       "array([0, 1, 2, 3, 4, 5, 6, 7, 8, 9])"
      ]
     },
     "execution_count": 14,
     "metadata": {},
     "output_type": "execute_result"
    }
   ],
   "source": [
    "x = np.arange(10)\n",
    "x"
   ]
  },
  {
   "cell_type": "code",
   "execution_count": 15,
   "metadata": {},
   "outputs": [
    {
     "data": {
      "text/plain": [
       "array([0, 1, 2, 3, 4])"
      ]
     },
     "execution_count": 15,
     "metadata": {},
     "output_type": "execute_result"
    }
   ],
   "source": [
    "x[:5] #the first five elements "
   ]
  },
  {
   "cell_type": "code",
   "execution_count": 16,
   "metadata": {},
   "outputs": [
    {
     "data": {
      "text/plain": [
       "array([5, 6, 7, 8, 9])"
      ]
     },
     "execution_count": 16,
     "metadata": {},
     "output_type": "execute_result"
    }
   ],
   "source": [
    "x[5:] #elements after index 5"
   ]
  },
  {
   "cell_type": "code",
   "execution_count": 17,
   "metadata": {},
   "outputs": [
    {
     "data": {
      "text/plain": [
       "array([3, 4, 5, 6])"
      ]
     },
     "execution_count": 17,
     "metadata": {},
     "output_type": "execute_result"
    }
   ],
   "source": [
    "x[3:7] #elements from index 3 to 7"
   ]
  },
  {
   "cell_type": "code",
   "execution_count": 18,
   "metadata": {},
   "outputs": [
    {
     "data": {
      "text/plain": [
       "array([0, 2, 4, 6, 8])"
      ]
     },
     "execution_count": 18,
     "metadata": {},
     "output_type": "execute_result"
    }
   ],
   "source": [
    "x[::2] #every other element"
   ]
  },
  {
   "cell_type": "code",
   "execution_count": 19,
   "metadata": {},
   "outputs": [
    {
     "data": {
      "text/plain": [
       "array([9, 8, 7, 6, 5, 4, 3, 2, 1, 0])"
      ]
     },
     "execution_count": 19,
     "metadata": {},
     "output_type": "execute_result"
    }
   ],
   "source": [
    "x[::-1] #array in reverse!"
   ]
  },
  {
   "cell_type": "code",
   "execution_count": 20,
   "metadata": {},
   "outputs": [
    {
     "data": {
      "text/plain": [
       "array([7, 8, 9])"
      ]
     },
     "execution_count": 20,
     "metadata": {},
     "output_type": "execute_result"
    }
   ],
   "source": [
    "x[-3:] #last three elements"
   ]
  },
  {
   "cell_type": "code",
   "execution_count": 21,
   "metadata": {},
   "outputs": [
    {
     "data": {
      "text/plain": [
       "array([[ 3,  5,  2],\n",
       "       [ 7,  6, 99]])"
      ]
     },
     "execution_count": 21,
     "metadata": {},
     "output_type": "execute_result"
    }
   ],
   "source": [
    "x2[:2, :3]  # two rows, three columns"
   ]
  },
  {
   "cell_type": "code",
   "execution_count": 36,
   "metadata": {},
   "outputs": [
    {
     "name": "stdout",
     "output_type": "stream",
     "text": [
      "[75 50 37 78 47 76 42 49 28 84]\n"
     ]
    }
   ],
   "source": [
    "#\"Fancy indexing\" lets us use arrays/lists to access multiple elements of an array\n",
    "x = np.random.randint(100, size=10)\n",
    "print(x)"
   ]
  },
  {
   "cell_type": "code",
   "execution_count": 37,
   "metadata": {},
   "outputs": [
    {
     "data": {
      "text/plain": [
       "array([78, 49, 47])"
      ]
     },
     "execution_count": 37,
     "metadata": {},
     "output_type": "execute_result"
    }
   ],
   "source": [
    "ind = [3, 7, 4]\n",
    "x[ind]"
   ]
  },
  {
   "cell_type": "code",
   "execution_count": 39,
   "metadata": {},
   "outputs": [
    {
     "data": {
      "text/plain": [
       "array([[78, 49],\n",
       "       [47, 76]])"
      ]
     },
     "execution_count": 39,
     "metadata": {},
     "output_type": "execute_result"
    }
   ],
   "source": [
    "#One thing to note is that fancy indexing yields an array with the shape of the index, not the original array. Watch how we create a 2D array by indexing into a 1D array.\n",
    "ind = np.array([[3, 7],\n",
    "                [4, 5]])\n",
    "x[ind]"
   ]
  },
  {
   "cell_type": "markdown",
   "metadata": {},
   "source": [
    "#### Boolean Operations\n",
    "Boolean operations are a key way to filter data by their values (called \"masks\"). The syntax is pretty simple (and almost identical to MATLAB):"
   ]
  },
  {
   "cell_type": "code",
   "execution_count": 22,
   "metadata": {},
   "outputs": [
    {
     "data": {
      "text/plain": [
       "array([False, False, False, False, False, False,  True,  True,  True,\n",
       "        True])"
      ]
     },
     "execution_count": 22,
     "metadata": {},
     "output_type": "execute_result"
    }
   ],
   "source": [
    "y = np.arange(5, 15, 1)\n",
    "y > 10"
   ]
  },
  {
   "cell_type": "code",
   "execution_count": 23,
   "metadata": {},
   "outputs": [
    {
     "data": {
      "text/plain": [
       "array([11, 12, 13, 14])"
      ]
     },
     "execution_count": 23,
     "metadata": {},
     "output_type": "execute_result"
    }
   ],
   "source": [
    "#Index according to a boolean operation\n",
    "y[y > 10]"
   ]
  },
  {
   "cell_type": "code",
   "execution_count": 34,
   "metadata": {},
   "outputs": [
    {
     "name": "stdout",
     "output_type": "stream",
     "text": [
      "[False False False False  True  True  True False False False]\n",
      "[ True  True  True False False False False False  True  True]\n"
     ]
    }
   ],
   "source": [
    "#Multiple operations can be combined \n",
    "print((y > 8) & (y < 12))\n",
    "\n",
    "print((y > 12) | (y < 8))"
   ]
  },
  {
   "cell_type": "markdown",
   "metadata": {},
   "source": [
    "Note that <code>and</code> and <code>or</code> are also used to make Boolean comparisons in Python, but these refer to the entire object, not to bits within the object. So for most array manipulations and masking purposes, you should use \"&\" and \" | \""
   ]
  },
  {
   "cell_type": "markdown",
   "metadata": {},
   "source": [
    "#### Numpy Recarrays\n",
    "Numpy arrays can store more than numerical data in rows and columns. They can also be given attributes (like column headers), such that each column corresponds to a different kind of information. These kinds of arrays are called structured arrays or recarrays (\"record arrays\"). You'll see them pop up a few times in CML datasets, though typically you'll be using pandas (covered tomorrow). So, we'll touch on them very briefly.\n",
    "\n",
    "Imagine that we have several categories of data on a number of people (say, name, age, and weight), and we'd like to store these values for use in a Python program. It would be possible to store these in three separate arrays:"
   ]
  },
  {
   "cell_type": "code",
   "execution_count": 43,
   "metadata": {},
   "outputs": [
    {
     "name": "stdout",
     "output_type": "stream",
     "text": [
      "[('name', '<U10'), ('age', '<i4'), ('weight', '<f8')]\n"
     ]
    }
   ],
   "source": [
    "name = ['Alice', 'Bob', 'Cathy', 'Doug']\n",
    "age = [25, 45, 37, 19]\n",
    "weight = [55.0, 85.5, 68.0, 61.5]\n",
    "\n",
    "# Use a compound data type for structured arrays\n",
    "data = np.zeros(4, dtype={'names':('name', 'age', 'weight'),\n",
    "                          'formats':('U10', 'i4', 'f8')})\n",
    "print(data.dtype)"
   ]
  },
  {
   "cell_type": "markdown",
   "metadata": {},
   "source": [
    "Here 'U10' translates to \"Unicode string of maximum length 10,\" 'i4' translates to \"4-byte (i.e., 32 bit) integer,\" and 'f8' translates to \"8-byte (i.e., 64 bit) float.\" We'll discuss other options for these type codes in the following section.\n",
    "\n",
    "Now that we've created an empty container array, we can fill the array with our lists of values:"
   ]
  },
  {
   "cell_type": "code",
   "execution_count": 44,
   "metadata": {},
   "outputs": [
    {
     "name": "stdout",
     "output_type": "stream",
     "text": [
      "[('Alice', 25, 55. ) ('Bob', 45, 85.5) ('Cathy', 37, 68. )\n",
      " ('Doug', 19, 61.5)]\n"
     ]
    }
   ],
   "source": [
    "data['name'] = name\n",
    "data['age'] = age\n",
    "data['weight'] = weight\n",
    "print(data)"
   ]
  },
  {
   "cell_type": "markdown",
   "metadata": {},
   "source": [
    "NumPy also provides the np.recarray class, which is almost identical to the structured arrays just described, but with one additional feature: fields can be accessed as attributes rather than as dictionary keys."
   ]
  },
  {
   "cell_type": "code",
   "execution_count": 45,
   "metadata": {},
   "outputs": [
    {
     "data": {
      "text/plain": [
       "array([25, 45, 37, 19], dtype=int32)"
      ]
     },
     "execution_count": 45,
     "metadata": {},
     "output_type": "execute_result"
    }
   ],
   "source": [
    "data_rec = data.view(np.recarray)\n",
    "data_rec.age"
   ]
  },
  {
   "cell_type": "markdown",
   "metadata": {},
   "source": [
    "For anything more complicated than this, you're much better off using pandas! (To be covered tomorrow.)"
   ]
  },
  {
   "cell_type": "markdown",
   "metadata": {},
   "source": [
    "## Plotting (matplotlib)"
   ]
  },
  {
   "cell_type": "markdown",
   "metadata": {},
   "source": [
    "You'll be plotting often in data science, especially with the ease-of-use of the Jupyter notebook. As with other Python topics, we're going to assume some level of familiarity with basic plotting functionality and the matplotlib library. These functions should also be very familiar to those of you coming in with a MATLAB background. But let's walk through a few examples, just to re-orient ourselves. "
   ]
  },
  {
   "cell_type": "code",
   "execution_count": 25,
   "metadata": {},
   "outputs": [],
   "source": [
    "#This 'magic' command tells the notebook how to display plots. We'll use 'inline' throughout this course.\n",
    "%matplotlib inline\n",
    "\n",
    "#import statement -- many opt for 'import pylab as plt', but I find it easier to just 'from pylab import *'\n",
    "import pylab as plt"
   ]
  },
  {
   "cell_type": "code",
   "execution_count": 27,
   "metadata": {},
   "outputs": [
    {
     "data": {
      "image/png": "[encoded data removed]",
      "text/plain": [
       "<Figure size 432x288 with 1 Axes>"
      ]
     },
     "metadata": {},
     "output_type": "display_data"
    }
   ],
   "source": [
    "#Basic line plotting examples\n",
    "import numpy as np\n",
    "x = np.linspace(0, 10, 100)\n",
    "\n",
    "fig = plt.figure()\n",
    "plt.plot(x, np.sin(x), '-')\n",
    "plt.plot(x, np.cos(x), '--');\n",
    "\n",
    "#And always be sure to label your axes!\n",
    "plt.xlabel('My X Values')\n",
    "plt.ylabel('My Y Values')\n",
    "\n",
    "#Saving figures is pretty easy\n",
    "fig.savefig('my_figure.pdf')"
   ]
  },
  {
   "cell_type": "markdown",
   "metadata": {},
   "source": [
    "matplotlib also gives us access to a set of styles, which are kinda fun. "
   ]
  },
  {
   "cell_type": "code",
   "execution_count": 29,
   "metadata": {},
   "outputs": [
    {
     "data": {
      "text/plain": [
       "Text(0,0.5,'Y Vals')"
      ]
     },
     "execution_count": 29,
     "metadata": {},
     "output_type": "execute_result"
    },
    {
     "data": {
      "image/png": "[encoded data removed]",
      "text/plain": [
       "<Figure size 432x288 with 1 Axes>"
      ]
     },
     "metadata": {},
     "output_type": "display_data"
    }
   ],
   "source": [
    "plt.style.use('seaborn-whitegrid')\n",
    "\n",
    "fig = plt.figure()\n",
    "ax = plt.axes()\n",
    "\n",
    "x = np.linspace(0, 10, 1000)\n",
    "ax.plot(x, np.sin(x));\n",
    "\n",
    "#Try playing around with colors and styles!\n",
    "ax.plot(x, np.cos(x), color='C2', linewidth=3, linestyle='--')\n",
    "\n",
    "plt.title('My New Plot', fontsize=14)\n",
    "plt.xlabel('X Vals'); plt.ylabel('Y Vals', fontsize=12)"
   ]
  },
  {
   "cell_type": "markdown",
   "metadata": {},
   "source": [
    "Histograms are also incredibly useful in data science."
   ]
  },
  {
   "cell_type": "code",
   "execution_count": 31,
   "metadata": {},
   "outputs": [
    {
     "data": {
      "text/plain": [
       "Text(0,0.5,'Count')"
      ]
     },
     "execution_count": 31,
     "metadata": {},
     "output_type": "execute_result"
    },
    {
     "data": {
      "image/png": "[encoded data removed]",
      "text/plain": [
       "<Figure size 252x216 with 1 Axes>"
      ]
     },
     "metadata": {},
     "output_type": "display_data"
    }
   ],
   "source": [
    "fig = plt.figure(figsize=(3.5, 3))\n",
    "ax = plt.subplot(111)\n",
    "\n",
    "#Let's look at some synthetic distributions\n",
    "a = np.random.randn(100)+1.5\n",
    "b = np.random.randn(100)\n",
    "\n",
    "#alpha values let us set the transparency of plotted objects\n",
    "plt.hist(a, color='C0', alpha=0.5)\n",
    "plt.hist(b, color='C1', alpha=0.5)\n",
    "plt.xlabel('Value'); plt.ylabel('Count')"
   ]
  },
  {
   "cell_type": "code",
   "execution_count": 33,
   "metadata": {},
   "outputs": [
    {
     "data": {
      "image/png": "[encoded data removed]",
      "text/plain": [
       "<Figure size 432x216 with 2 Axes>"
      ]
     },
     "metadata": {},
     "output_type": "display_data"
    }
   ],
   "source": [
    "#The matshow function is incredibly useful for plotting time-frequency information, or anything 2D\n",
    "fig = plt.figure(figsize=(6, 3)); ax=plt.subplot(111)\n",
    "\n",
    "#Generate some fake 2D data\n",
    "mydata = np.random.randn(30, 60)\n",
    "\n",
    "#I like the RdBu_r colormap! It's often useful to set the range to be symmetrical\n",
    "plt.matshow(mydata, fignum=0, aspect='auto', cmap='RdBu_r', vmin=-3.5, vmax=3.5)\n",
    "plt.colorbar();"
   ]
  },
  {
   "cell_type": "markdown",
   "metadata": {},
   "source": [
    "**Exercise: Load power T-stats from an example subject (\"R1001P_powers.npy\") and create a time-frequency plot of electrode 70**"
   ]
  },
  {
   "cell_type": "code",
   "execution_count": 46,
   "metadata": {},
   "outputs": [],
   "source": [
    "#Load the data\n",
    "t = np.load('R1001P_tstats.npy')  #dimensions are frequencies, electrodes, time bins"
   ]
  },
  {
   "cell_type": "markdown",
   "metadata": {},
   "source": [
    "**Exercise: Create a time-frequency plot where only power values exceeding a T-stat of 2 are shown**"
   ]
  },
  {
   "cell_type": "markdown",
   "metadata": {},
   "source": [
    "## Brain Plotting\n",
    "\n",
    "There is a frequent need to plot electrodes on a 3D brain rendering, but unfortunately, such rendering is currently not possible in the online JupyterLab interface. However, it can be accomplished on your local machine with an Anaconda install and a few key toolboxes. See below for sample code that can plot electrodes on a brain, plot connections between them, and arbitrarily color elements. \n",
    "\n",
    "Toolboxes to install (both available through conda install): \n",
    "\n",
    "* mayavi\n",
    "* vtk\n",
    "\n",
    "Mayavi is actually an API wrapper around VTK, enabling easy 3D rendering of objects with a Python interface. Other packages, such as pysurfer ( https://pysurfer.github.io/ ), are themselves wrappers around mayavi. \n",
    "\n",
    "For 2D renderings, nilearn ( https://nilearn.github.io/auto_examples/index.html ) is a powerful visualization tool that will work in online Jupyter notebooks. "
   ]
  },
  {
   "cell_type": "code",
   "execution_count": null,
   "metadata": {},
   "outputs": [],
   "source": [
    "### NOTE: This code will not run in the rhino2 Jupyter notebooks! Please run on a local Anaconda install ###\n",
    "\n",
    "import os\n",
    "from mayavi.core.api import Engine\n",
    "from mayavi.sources.vtk_file_reader import VTKFileReader\n",
    "from mayavi.modules.surface import Surface\n",
    "\n",
    "# Define the path location for each side of the Freesurfer brain. Feel free to access them in /home1/esolo/\n",
    "vtkFile_l = 'lh.vtk'\n",
    "vtkFile_r = 'rh.vtk'\n",
    "\n",
    "# Create the MayaVi engine and start it.\n",
    "engine = Engine()\n",
    "engine.start()\n",
    "#scene = engine.new_scene()\n",
    "\n",
    "# Read in VTK file and add as source\n",
    "surface1 = Surface()\n",
    "reader1 = VTKFileReader()\n",
    "reader1.initialize(vtkFile_l)\n",
    "engine.add_source(reader1)\n",
    "engine.add_filter(surface1, reader1)\n",
    "\n",
    "surface2 = Surface()\n",
    "reader2 = VTKFileReader()\n",
    "reader2.initialize(vtkFile_r)\n",
    "engine.add_source(reader2)\n",
    "engine.add_filter(surface2, reader2) \n",
    "\n",
    "from mayavi import mlab\n",
    "import numpy as np\n",
    "\n",
    "coords = np.load('electrode_xyzs.npy')   # Nx3 array of that give electrode XYZ coordinates\n",
    "mycolors = np.load('electrode_colors.npy')*-1   #array of values that correspond to electrode colors\n",
    "coords = coords[np.isfinite(mycolors), :]   #not plotting electrodes with NaN values\n",
    "\n",
    "#Instantiating the Mayavi scene object\n",
    "figure = mlab.figure(1, bgcolor=(1.0, 1.0, 1.0))\n",
    "figure.scene.disable_render = True\n",
    "\n",
    "#Plot the electrodes\n",
    "pts = mlab.points3d(coords[:, 0], coords[:, 1], coords[:, 2],\n",
    "                        mycolors[np.isfinite(mycolors)], vmin=-2, vmax=2,\n",
    "                        scale_factor=4 ,\n",
    "                        scale_mode='none',\n",
    "                        colormap='RdBu',\n",
    "                        resolution=40)  \n",
    "\n",
    "figure.scene.disable_render = False\n",
    "\n",
    "#Make things look pretty.\n",
    "scene = engine.scenes[0]\n",
    "scene.scene.background = (1.0, 1.0, 1.0)\n",
    "surface = engine.scenes[0].children[0].children[0].children[0]\n",
    "surface.actor.property.opacity = 0.2\n",
    "surface = engine.scenes[0].children[1].children[0].children[0]\n",
    "surface.actor.property.opacity = 0.2\n",
    "\n",
    "mlab.show() # Launch an interactive window"
   ]
  },
  {
   "cell_type": "markdown",
   "metadata": {},
   "source": [
    "<img src=\"https://github.com/esolomon/PythonBootcamp2019/blob/master/figures/mayavi.png?raw=true\" width=650>"
   ]
  },
  {
   "cell_type": "markdown",
   "metadata": {},
   "source": [
    "## Pre-rendered brains\n",
    "\n",
    "Simply visualizing the electrode layout on any subject's brain is easy. 3D renders have been precomputed and are available via rhino:\n",
    "\n",
    "http://memory.psych.upenn.edu/public/reports/r1/subjects/001/reports/iEEG_surface/iEEG_surface.html\n",
    "\n",
    "Just modify the subject code in the middle of the url (i.e. R1111M becomes 111) to navigate to the desired subject."
   ]
  },
  {
   "cell_type": "markdown",
   "metadata": {},
   "source": [
    "### Seaborn"
   ]
  },
  {
   "cell_type": "markdown",
   "metadata": {},
   "source": [
    "If time allows, include a discussion of Seaborn functionality here. "
   ]
  },
  {
   "cell_type": "code",
   "execution_count": null,
   "metadata": {},
   "outputs": [],
   "source": []
  }
 ],
 "metadata": {
  "kernelspec": {
   "display_name": "CML",
   "language": "python",
   "name": "cml"
  },
  "language_info": {
   "codemirror_mode": {
    "name": "ipython",
    "version": 3
   },
   "file_extension": ".py",
   "mimetype": "text/x-python",
   "name": "python",
   "nbconvert_exporter": "python",
   "pygments_lexer": "ipython3",
   "version": "3.6.6"
  }
 },
 "nbformat": 4,
 "nbformat_minor": 2
}
