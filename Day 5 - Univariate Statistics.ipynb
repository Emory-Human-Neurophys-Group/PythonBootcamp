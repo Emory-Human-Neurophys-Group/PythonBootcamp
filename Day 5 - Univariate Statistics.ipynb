{
 "cells": [
  {
   "cell_type": "markdown",
   "metadata": {},
   "source": [
    "## Univariate Statistics and the SME\n",
    "\n",
    "Yesterday, we learned how to extract measures of spectral power from EEG signals. Today, we're going to extend that work by analyzing **how spectral power correlates with cognitive, behavioral, or physiological variables** of interest. This is the core of almost any analysis you'll carry out in the Computational Memory Lab. \n",
    "\n",
    "The statistical approach we'll use today will be mostly straightforward T-tests to assess differences between normal distributions of power values. In particular, we'll focus on the contrast between power during successfully-encoded versus forgotten words. You'll see this called the **Subsequent Memory Effect** (SME) in the literature. In general, you can take an SME-style approach to any physiological variable.  \n",
    "\n",
    "The basic analysis scheme is as follows: \n",
    "\n",
    "1. Extract spectral power for all encoding events (e.g. wavelet transform)\n",
    "2. Normalize spectral power for each experimental session\n",
    "3. Use a 2-sample T-test to compare distributions of power between remembered and not-remembered items\n",
    "4. *Optional:* Average results into time windows or frequency bands of interest. \n",
    "5. Repeat for each subject in the dataset.\n",
    "\n",
    "Let's get to work!"
   ]
  },
  {
   "cell_type": "code",
   "execution_count": 1,
   "metadata": {},
   "outputs": [],
   "source": [
    "#First, let's use our tried-and-true code for loading R1001P's metadata\n",
    "from cmlreaders import CMLReader, get_data_index\n",
    "import numpy as np\n",
    "\n",
    "#The \"r1\" database corresponds to all of the RAM subjects\n",
    "df = get_data_index(\"r1\")\n",
    "\n",
    "#Specify which subject and experiment we want\n",
    "sub = 'R1001P'\n",
    "exp = 'FR1'\n",
    "\n",
    "#Find out the sessions, localization, and montage for this subject\n",
    "sessions = list(df[(df['subject']==sub) & (df['experiment']==exp)]['session'])\n",
    "mont = int(df[(df['subject']==sub) & (df['experiment']==exp)].iloc()[0]['montage'])      #note that *usually* mont and loc will be 0.\n",
    "loc = int(df[(df['subject']==sub) & (df['experiment']==exp)].iloc()[0]['localization'])"
   ]
  },
  {
   "cell_type": "code",
   "execution_count": 7,
   "metadata": {},
   "outputs": [
    {
     "name": "stderr",
     "output_type": "stream",
     "text": [
      "/home1/esolo/anaconda3/envs/CML/lib/python3.6/site-packages/cmlreaders/path_finder.py:238: MultiplePathsFoundWarning: Multiple files found: /protocols/r1/subjects/R1001P/experiments/FR1/sessions/0/ephys/current_processed/sources.json\n",
      "/data/eeg/R1001P/eeg.noreref/params.txt returning the first file found\n",
      "  warnings.warn(msg, MultiplePathsFoundWarning)\n"
     ]
    },
    {
     "name": "stdout",
     "output_type": "stream",
     "text": [
      "CPP total time wavelet loop:  14.142930746078491\n",
      "0 completed successfully!\n"
     ]
    },
    {
     "name": "stderr",
     "output_type": "stream",
     "text": [
      "/home1/esolo/anaconda3/envs/CML/lib/python3.6/site-packages/cmlreaders/path_finder.py:238: MultiplePathsFoundWarning: Multiple files found: /protocols/r1/subjects/R1001P/experiments/FR1/sessions/1/ephys/current_processed/sources.json\n",
      "/data/eeg/R1001P/eeg.noreref/params.txt returning the first file found\n",
      "  warnings.warn(msg, MultiplePathsFoundWarning)\n"
     ]
    },
    {
     "name": "stdout",
     "output_type": "stream",
     "text": [
      "CPP total time wavelet loop:  14.395814180374146\n",
      "1 completed successfully!\n"
     ]
    }
   ],
   "source": [
    "#Instead of just looking at session 1, we want to analyze data from all sessions. To do that, we'll use a for loop.\n",
    "\n",
    "recalled = []  #for storing encoding success\n",
    "sess_pows = []  #for storing our computed spectral powers\n",
    "\n",
    "for sess in sessions:\n",
    "    \n",
    "    #Load session i events and elecs\n",
    "    reader = CMLReader(sub, exp, sess, montage=mont, localization=loc)\n",
    "    evs = reader.load('events')\n",
    "    pairs = reader.load('pairs')\n",
    "    \n",
    "    #We only want to analyze word encoding events\n",
    "    word_evs = evs.query('type == \"WORD\"')    #could also have written word_evs = evs[evs['type']=='WORD']\n",
    "    \n",
    "    #Grab some EEG and convert to MNE/PTSA (for this example, let's use PTSA)\n",
    "    buf = 1000  #to remove edge effects during wavelet convolution\n",
    "    eeg = reader.load_eeg(events=word_evs, rel_start=-1*buf, rel_stop=1600+buf, scheme=pairs)\n",
    "    eeg_ptsa = eeg.to_ptsa()\n",
    "    \n",
    "    from ptsa.data.filters import ButterworthFilter\n",
    "    from ptsa.data.filters import MorletWaveletFilter\n",
    "    \n",
    "    sr = eeg.samplerate\n",
    "    \n",
    "    #Filter out line noise\n",
    "    freq_range = [58., 62.]\n",
    "    b_filter = ButterworthFilter(timeseries=eeg_ptsa, freq_range=freq_range, filt_type='stop', order=4)\n",
    "    eeg_filtered = b_filter.filter()\n",
    "    \n",
    "    #Get spectral power\n",
    "    myfreqs = np.logspace(np.log10(3), np.log10(170), 20)  #let's start with 3-170 Hz, 20 frequencies\n",
    "    wf = MorletWaveletFilter(timeseries=eeg_filtered, freqs=myfreqs, width=5, output='power')\n",
    "    pow_wavelet = wf.filter()   #output is freqs, events, elecs, and time\n",
    "    pows = pow_wavelet.data[:, :, :, int((buf/1000.)*sr):-1*int((buf/1000.)*sr)]  #remove buffer period\n",
    "    pows = np.log10(pows)\n",
    "    \n",
    "    #Reshape array to average into 100 ms bins\n",
    "    samps = int(sr/10.)  #samples per window\n",
    "    numwins = int(pows.shape[3]/samps)\n",
    "    reshaped_arr = np.reshape(pows[:, :, :, :samps*numwins], (pows.shape[0], pows.shape[1], pows.shape[2], numwins, samps))\n",
    "    avg_pows = np.mean(reshaped_arr, axis=4)\n",
    "\n",
    "    from scipy.stats import zscore\n",
    "    z_pows = zscore(avg_pows, axis=1)  #z-score power values across events (important to do within-session)\n",
    "    sess_pows.append(z_pows)\n",
    "\n",
    "    recalled.extend(list(word_evs['recalled'])) # we need to store this data across-sessions\n",
    "\n",
    "    print(str(sess)+' completed successfully!')    "
   ]
  },
  {
   "cell_type": "markdown",
   "metadata": {},
   "source": [
    "Let's unpack what just happened up there: \n",
    "\n",
    "```\n",
    "#Load session i events and elecs\n",
    "reader = CMLReader(sub, exp, sess, montage=mont, localization=loc)\n",
    "evs = reader.load('events')\n",
    "pairs = reader.load('pairs')\n",
    "\n",
    "#We only want to analyze word encoding events\n",
    "word_evs = evs.query('type == \"WORD\"')    #could also have written word_evs = evs[evs['type']=='WORD']\n",
    "```\n",
    "\n",
    "You should be pretty used to this syntax by now; this is just how we load CML event and electrode information from a given subject, experiment, and session. We filtered our events dataframe for only the **word encoding events**.\n",
    "\n",
    "```\n",
    "#Grab some EEG and convert to MNE/PTSA (for this example, let's use PTSA)\n",
    "buf = 1000  #to remove edge effects during wavelet convolution\n",
    "eeg = reader.load_eeg(events=word_evs, rel_start=-1*buf, rel_stop=1600+buf, scheme=pairs)\n",
    "eeg_ptsa = eeg.to_ptsa()\n",
    "```\n",
    "\n",
    "Also the same as last time! We're loading the 1600 ms that correspond to the word presentation interval for each word event, and we're adding **1 second buffers** to account for edge effects of our wavelet filter.\n",
    "\n",
    "```\n",
    "#Filter out line noise\n",
    "freq_range = [58., 62.]\n",
    "b_filter = ButterworthFilter(timeseries=eeg_ptsa, freq_range=freq_range, filt_type='stop', order=4)\n",
    "eeg_filtered = b_filter.filter()\n",
    "```\n",
    "\n",
    "This is our standard stop-band filter to remove the effects of 60 Hz line noise. We could also have applied one to the 120 Hz harmonic, but typically that's less of an issue.\n",
    "\n",
    "```\n",
    "#Get spectral power\n",
    "myfreqs = np.logspace(np.log10(3), np.log10(170), 20)  #let's start with 3-170 Hz, 20 frequencies\n",
    "wf = MorletWaveletFilter(timeseries=eeg_filtered, freqs=myfreqs, width=5, output='power')\n",
    "pow_wavelet = wf.filter()   #output is freqs, events, elecs, and time\n",
    "pows = pow_wavelet.data[:, :, :, int((buf/1000.)*sr):-1*int((buf/1000.)*sr)]  #remove buffer period\n",
    "pows = np.log10(pows)\n",
    "```\n",
    "\n",
    "The meat of the analysis! We defined our desired frequencies (note that they're **log spaced** since a wavelet is less sensitive to differences at higher frequencies), created a wavelet filter object, ran the convolution, removed the buffer period, and took the log transform. \n",
    "\n",
    "```\n",
    "#Reshape array to average into 100 ms bins\n",
    "samps = int(sr/10.)  #samples per window\n",
    "numwins = int(pows.shape[3]/samps)\n",
    "reshaped_arr = np.reshape(pows[:, :, :, :samps*numwins], (pows.shape[0], pows.shape[1], pows.shape[2], numwins, samps))\n",
    "avg_pows = np.mean(reshaped_arr, axis=4)\n",
    "```\n",
    "\n",
    "This is new, and technically optional. Here, we're averaging spectral power into 16 100 ms bins that span the entire 1.6 second interval. It's effectively a **data-smoothing technique**. You'll find spectral analyses to often involve some type of temporal windowing, which is important because the precise timing of effects differs somewhat between electrodes, brain regions, and subjects. Averaging into reasonable windows of interest removes some of that variability and let's the true signal come through. There's no \"right\" choice for your windows, but I find that nonoverlapping 100-200 ms works well for these types of data. (And it's really only important for the high frequencies, since the wavelet already smoothed our low-frequency signals). \n",
    "\n",
    "```\n",
    "from scipy.stats import zscore\n",
    "z_pows = zscore(avg_pows, axis=1)  #z-score power values across events (important to do within-session)\n",
    "sess_pows.append(z_pows)\n",
    "```\n",
    "\n",
    "Finally, our last step is to **z-score, or normalize, the power values** across events but within each experimental session. Why? Properties of the recording hardware can change from session-to-session, yielding power values that may fall in entirely different ranges from one day to the next. If we averaged these raw values together, we'd get an innaccurate read of the underlying neural signals. We can account for this by z-scoring the power across all the events in each session. Be sure you're z-scoring across events and not some other dimension!"
   ]
  },
  {
   "cell_type": "code",
   "execution_count": 9,
   "metadata": {},
   "outputs": [
    {
     "name": "stdout",
     "output_type": "stream",
     "text": [
      "(600,)\n",
      "(20, 600, 72, 16)\n"
     ]
    }
   ],
   "source": [
    "#Now let's compute some statistics!\n",
    "from scipy.stats import ttest_ind  #this is our 2-sample t-test\n",
    "\n",
    "recalled = np.array(recalled)\n",
    "all_pows = np.concatenate(sess_pows, axis=1)\n",
    "\n",
    "print(recalled.shape)\n",
    "print(all_pows.shape)  #dimensions are freqs, events, elecs, and time bins"
   ]
  },
  {
   "cell_type": "code",
   "execution_count": 11,
   "metadata": {},
   "outputs": [],
   "source": [
    "#Compare remembered vs. not-remembered (final output in shape [freqs, elecs, time])\n",
    "tstats, pvals = ttest_ind(all_pows[:, recalled==1, :, :], all_pows[:, recalled==0, :, :], equal_var=False, axis=1)  #equal_var=False applies Welch's t-test, which assumes unequal population variances"
   ]
  },
  {
   "cell_type": "code",
   "execution_count": 90,
   "metadata": {},
   "outputs": [
    {
     "name": "stdout",
     "output_type": "stream",
     "text": [
      "fusiform\n"
     ]
    },
    {
     "data": {
      "image/png": "[encoded data removed]",
      "text/plain": [
       "<Figure size 360x288 with 2 Axes>"
      ]
     },
     "metadata": {},
     "output_type": "display_data"
    }
   ],
   "source": [
    "#Visualize results for one electrode\n",
    "%matplotlib inline\n",
    "from pylab import *\n",
    "\n",
    "#Electrode 7 shows a classic tilt response, electrode 4 shows a theta response\n",
    "elec = 59\n",
    "figure(figsize=(5, 4)); ax=subplot(111)\n",
    "matshow(tstats[:, elec, :], fignum=0, cmap='RdBu_r', aspect='auto', vmin=-2.5, vmax=2.5)\n",
    "yticks(np.arange(len(myfreqs)), np.round(myfreqs))\n",
    "ax.invert_yaxis()\n",
    "xlabel('Time Bin', fontsize=14); ylabel('Frequency (Hz)', fontsize=14)\n",
    "colorbar();\n",
    "\n",
    "print(pairs.iloc()[elec]['ind.region'])"
   ]
  },
  {
   "cell_type": "code",
   "execution_count": 96,
   "metadata": {},
   "outputs": [
    {
     "data": {
      "text/plain": [
       "Text(0,0.5,'Count')"
      ]
     },
     "execution_count": 96,
     "metadata": {},
     "output_type": "execute_result"
    },
    {
     "data": {
      "image/png": "[encoded data removed]",
      "text/plain": [
       "<Figure size 432x216 with 1 Axes>"
      ]
     },
     "metadata": {},
     "output_type": "display_data"
    }
   ],
   "source": [
    "#Let's take a look at exactly what we were comparing by drilling down into one of the pixels from the plot above\n",
    "freq_idx = 0\n",
    "time_idx = 3\n",
    "\n",
    "rec_pows = all_pows[freq_idx, recalled==1, elec, time_idx]\n",
    "nrec_pows = all_pows[freq_idx, recalled==0, elec, time_idx]\n",
    "\n",
    "figure(figsize=(6, 3)); ax=subplot(111)\n",
    "hist(rec_pows, alpha=0.5, label='Rec');\n",
    "hist(nrec_pows, 35, alpha=0.5, label='NRec')\n",
    "legend()\n",
    "vlines(np.mean(rec_pows), ymin=ax.get_ylim()[0], ymax=ax.get_ylim()[1], color='C0', linewidth=3)\n",
    "vlines(np.mean(nrec_pows), ymin=ax.get_ylim()[0], ymax=ax.get_ylim()[1], color='C1', linewidth=3)\n",
    "xlabel('T-stat', fontsize=12); ylabel('Count', fontsize=12)"
   ]
  },
  {
   "cell_type": "code",
   "execution_count": 55,
   "metadata": {},
   "outputs": [
    {
     "name": "stdout",
     "output_type": "stream",
     "text": [
      "parstriangularis\n"
     ]
    },
    {
     "data": {
      "image/png": "[encoded data removed]",
      "text/plain": [
       "<Figure size 360x288 with 2 Axes>"
      ]
     },
     "metadata": {},
     "output_type": "display_data"
    }
   ],
   "source": [
    "#Electrode 7 shows a classic tilt response, electrode 4 shows a theta response\n",
    "elec = 4\n",
    "figure(figsize=(5, 4)); ax=subplot(111)\n",
    "matshow(tstats[:, elec, :], fignum=0, cmap='RdBu_r', aspect='auto', vmin=-2.5, vmax=2.5)\n",
    "yticks(np.arange(len(myfreqs)), np.round(myfreqs))\n",
    "ax.invert_yaxis()\n",
    "xlabel('Time Bin', fontsize=14); ylabel('Frequency (Hz)', fontsize=14)\n",
    "colorbar();\n",
    "\n",
    "print(pairs.iloc()[elec]['ind.region'])"
   ]
  },
  {
   "cell_type": "markdown",
   "metadata": {},
   "source": [
    "**Exercise: Compute the SME for all electrodes in R1002P, and plot time-frequency spectrograms averaged across hippocampal electrodes**"
   ]
  },
  {
   "cell_type": "code",
   "execution_count": null,
   "metadata": {},
   "outputs": [],
   "source": []
  },
  {
   "cell_type": "markdown",
   "metadata": {},
   "source": [
    "**Exercise: Compute the SME for all electrodes in R1001P using MNE**"
   ]
  },
  {
   "cell_type": "code",
   "execution_count": null,
   "metadata": {},
   "outputs": [],
   "source": []
  }
 ],
 "metadata": {
  "kernelspec": {
   "display_name": "CML",
   "language": "python",
   "name": "cml"
  },
  "language_info": {
   "codemirror_mode": {
    "name": "ipython",
    "version": 3
   },
   "file_extension": ".py",
   "mimetype": "text/x-python",
   "name": "python",
   "nbconvert_exporter": "python",
   "pygments_lexer": "ipython3",
   "version": "3.6.6"
  }
 },
 "nbformat": 4,
 "nbformat_minor": 2
}
