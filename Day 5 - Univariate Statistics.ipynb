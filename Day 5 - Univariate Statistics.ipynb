{
 "cells": [
  {
   "cell_type": "markdown",
   "metadata": {},
   "source": [
    "## Univariate Statistics and the SME\n",
    "\n",
    "Yesterday, we learned how to extract measures of spectral power from EEG signals. Today, we're going to extend that work by analyzing **how spectral power correlates with cognitive, behavioral, or physiological variables** of interest. This is the core of almost any analysis you'll carry out in the Computational Memory Lab. \n",
    "\n",
    "The statistical approach we'll use today will be mostly straightforward T-tests to assess differences between normal distributions of power values. In particular, we'll focus on the contrast between power during successfully-encoded versus forgotten words. You'll see this called the **Subsequent Memory Effect** (SME) in the literature. In general, you can take an SME-style approach to any physiological variable.  \n",
    "\n",
    "The basic analysis scheme is as follows: \n",
    "\n",
    "1. Extract spectral power for all encoding events (e.g. wavelet transform)\n",
    "2. Normalize spectral power for each experimental session\n",
    "3. Use a 2-sample T-test to compare distributions of power between remembered and not-remembered items\n",
    "4. *Optional:* Average results into time windows or frequency bands of interest. \n",
    "5. Repeat for each subject in the dataset.\n",
    "\n",
    "Let's get to work!"
   ]
  },
  {
   "cell_type": "code",
   "execution_count": 1,
   "metadata": {},
   "outputs": [],
   "source": [
    "from CMLLoad import CMLLoad\n",
    "\n",
    "# Remember to update this to where your CMLExamples data is located.\n",
    "load = CMLLoad('./CMLExamples')\n",
    "\n",
    "# We load the dataframe for all sessions.\n",
    "df = load.Index()\n",
    "\n",
    "# Specify which subject and experiment we want\n",
    "sub = 'R1111M'\n",
    "exp = 'FR1'\n",
    "\n",
    "# Select the dataframes for our subject and experiment.\n",
    "df_select = df[(df['subject']==sub) & (df['experiment']==exp)]\n",
    "# Pick the first session\n",
    "df_sess = df_select.iloc[0]\n",
    "\n",
    "# For first session...\n",
    "evs = load.Load(df_sess, 'events')\n",
    "word_evs = evs[evs['type']=='WORD']\n"
   ]
  },
  {
   "cell_type": "code",
   "execution_count": 2,
   "metadata": {},
   "outputs": [
    {
     "name": "stdout",
     "output_type": "stream",
     "text": [
      "CPP total time wavelet loop:  12.540498971939087\n",
      "0 completed successfully!\n",
      "CPP total time wavelet loop:  9.192278861999512\n",
      "1 completed successfully!\n",
      "CPP total time wavelet loop:  13.955910444259644\n",
      "2 completed successfully!\n",
      "CPP total time wavelet loop:  11.25844693183899\n",
      "3 completed successfully!\n"
     ]
    }
   ],
   "source": [
    "import numpy as np\n",
    "\n",
    "# Instead of just looking at session 1,\n",
    "# we want to analyze data from all sessions.\n",
    "# To do that, we'll use a for loop.\n",
    "\n",
    "recalled = []  #for storing encoding success\n",
    "sess_pows = []  #for storing our computed spectral powers\n",
    "\n",
    "# Iterate over the DataFrame rows for each session\n",
    "for df_sess in df_select.itertuples():\n",
    "    # Load this session's events, and select word events.\n",
    "    evs = load.Load(df_sess, 'events')\n",
    "    word_evs = evs[evs['type']=='WORD']\n",
    "\n",
    "    # Grab the events as a PTSA object.\n",
    "    buf = 1000  #to remove edge effects during wavelet convolution\n",
    "    eeg_ptsa = load.LoadPTSA(df_sess, -buf, buf+1600+buf)\n",
    "    # Select the word events.\n",
    "    eeg_ptsa = eeg_ptsa[word_evs.index]\n",
    "    \n",
    "    from ptsa.data.filters import ButterworthFilter\n",
    "    from ptsa.data.filters import MorletWaveletFilter\n",
    "    \n",
    "    sess = df_sess._asdict()['session']\n",
    "    sr = eeg_ptsa.samplerate\n",
    "    \n",
    "    # Filter out line noise.\n",
    "    freq_range = [58., 62.]\n",
    "    b_filter = ButterworthFilter(timeseries=eeg_ptsa, freq_range=freq_range, filt_type='stop', order=4)\n",
    "    eeg_filtered = b_filter.filter()\n",
    "    \n",
    "    # Get spectral power.\n",
    "    myfreqs = np.logspace(np.log10(3), np.log10(170), 10)  #let's start with 3-170 Hz, 10 frequencies\n",
    "    wf = MorletWaveletFilter(timeseries=eeg_filtered, freqs=myfreqs, width=5, output='power')\n",
    "    # Output is freqs, events, elecs, and time.\n",
    "    pow_wavelet = wf.filter()\n",
    "    pows = pow_wavelet.data[:, :, :, int((buf/1000.)*sr):-1*int((buf/1000.)*sr)]  #remove buffer period\n",
    "    pows = np.log10(pows)\n",
    "    \n",
    "    # Reshape array to average into 100 ms bins.\n",
    "    samps = int(sr/10.)  # samples per window\n",
    "    numwins = int(pows.shape[3]/samps)\n",
    "    reshaped_arr = np.reshape(pows[:, :, :, :samps*numwins], (pows.shape[0], pows.shape[1], pows.shape[2], numwins, samps))\n",
    "    avg_pows = np.mean(reshaped_arr, axis=4)\n",
    "\n",
    "    from scipy.stats import zscore\n",
    "    # z-score power values across events (important to do within-session).\n",
    "    z_pows = zscore(avg_pows, axis=1)\n",
    "    sess_pows.append(z_pows)\n",
    "\n",
    "    # We need to store this data across-sessions.\n",
    "    recalled.extend(list(word_evs['recalled']))\n",
    "\n",
    "    print(str(sess)+' completed successfully!')    "
   ]
  },
  {
   "cell_type": "markdown",
   "metadata": {},
   "source": [
    "Let's unpack what just happened up there: \n",
    "\n",
    "```\n",
    "# Load this session's events, and select word events.\n",
    "evs = load.Load(df_sess, 'events')\n",
    "word_evs = evs[evs['type']=='WORD']\n",
    "```\n",
    "\n",
    "You should be pretty used to this syntax by now; this is just how we load the events, and filter the events dataframe for only the **word encoding events**.\n",
    "\n",
    "```\n",
    "# Grab the events as a PTSA object.\n",
    "buf = 1000  #to remove edge effects during wavelet convolution\n",
    "eeg_ptsa = load.LoadPTSA(df_sess, -buf, buf+1600+buf)\n",
    "# Select the word events.\n",
    "eeg_ptsa = eeg_ptsa[word_evs.index]\n",
    "```\n",
    "\n",
    "Also the same as last time! We're loading the 1600 ms that correspond to the word presentation interval, and we're adding **1 second buffers** to account for edge effects of our wavelet filter.  Then we are reassigning the eeg_ptsa data to a selection of just the word encoding events.\n",
    "\n",
    "```\n",
    "# Filter out line noise.\n",
    "freq_range = [58., 62.]\n",
    "b_filter = ButterworthFilter(timeseries=eeg_ptsa, freq_range=freq_range, filt_type='stop', order=4)\n",
    "eeg_filtered = b_filter.filter()\n",
    "```\n",
    "\n",
    "This is our standard stop-band filter to remove the effects of 60 Hz line noise. We could also have applied one to the 120 Hz harmonic, but typically that's less of an issue.\n",
    "\n",
    "```\n",
    "# Get spectral power.\n",
    "myfreqs = np.logspace(np.log10(3), np.log10(170), 20)  #let's start with 3-170 Hz, 10 frequencies\n",
    "wf = MorletWaveletFilter(timeseries=eeg_filtered, freqs=myfreqs, width=5, output='power')\n",
    "# Output is freqs, events, elecs, and time.\n",
    "pow_wavelet = wf.filter()\n",
    "pows = pow_wavelet.data[:, :, :, int((buf/1000.)*sr):-1*int((buf/1000.)*sr)]  # Remove buffer period.\n",
    "pows = np.log10(pows)\n",
    "```\n",
    "\n",
    "The meat of the analysis! We defined our desired frequencies (note that they're **log spaced** since a wavelet is less sensitive to differences at higher frequencies), created a wavelet filter object, ran the convolution, removed the buffer period, and took the log transform. \n",
    "\n",
    "```\n",
    "# Reshape array to average into 100 ms bins.\n",
    "samps = int(sr/10.)  # samples per window\n",
    "numwins = int(pows.shape[3]/samps)\n",
    "reshaped_arr = np.reshape(pows[:, :, :, :samps*numwins], (pows.shape[0], pows.shape[1], pows.shape[2], numwins, samps))\n",
    "avg_pows = np.mean(reshaped_arr, axis=4)\n",
    "```\n",
    "\n",
    "This is new, and technically optional. Here, we're averaging spectral power into 16 100 ms bins that span the entire 1.6 second interval. It's effectively a **data-smoothing technique**. You'll find spectral analyses to often involve some type of temporal windowing, which is important because the precise timing of effects differs somewhat between electrodes, brain regions, and subjects. Averaging into reasonable windows of interest removes some of that variability and let's the true signal come through. There's no \"right\" choice for your windows, but I find that nonoverlapping 100-200 ms works well for these types of data. (And it's really only important for the high frequencies, since the wavelet already smoothed our low-frequency signals). \n",
    "\n",
    "```\n",
    "from scipy.stats import zscore\n",
    "# z-score power values across events (important to do within-session).\n",
    "z_pows = zscore(avg_pows, axis=1)\n",
    "sess_pows.append(z_pows)\n",
    "```\n",
    "\n",
    "Finally, our last step is to **z-score, or normalize, the power values** across events but within each experimental session. Why? Properties of the recording hardware can change from session-to-session, yielding power values that may fall in entirely different ranges from one day to the next. If we averaged these raw values together, we'd get an innaccurate read of the underlying neural signals. We can account for this by z-scoring the power across all the events in each session. Be sure you're z-scoring across events and not some other dimension!"
   ]
  },
  {
   "cell_type": "code",
   "execution_count": 3,
   "metadata": {},
   "outputs": [
    {
     "name": "stdout",
     "output_type": "stream",
     "text": [
      "(1020,)\n",
      "(10, 1020, 141, 16)\n"
     ]
    }
   ],
   "source": [
    "# Now let's compute some statistics!\n",
    "from scipy.stats import ttest_ind  # this is our 2-sample t-test\n",
    "\n",
    "recalled = np.array(recalled)\n",
    "all_pows = np.concatenate(sess_pows, axis=1)\n",
    "\n",
    "print(recalled.shape)\n",
    "print(all_pows.shape)  # dimensions are freqs, events, elecs, and time bins"
   ]
  },
  {
   "cell_type": "code",
   "execution_count": 4,
   "metadata": {},
   "outputs": [],
   "source": [
    "# Compare remembered vs. not-remembered.\n",
    "# Final output in shape [freqs, elecs, time].\n",
    "# equal_var=False applies Welch's t-test,\n",
    "# which assumes unequal population variances\n",
    "tstats, pvals = ttest_ind(all_pows[:, recalled==1, :, :], all_pows[:, recalled==0, :, :], equal_var=False, axis=1)\n"
   ]
  },
  {
   "cell_type": "markdown",
   "metadata": {},
   "source": [
    "### T-tests\n",
    "\n",
    "Brief aside on t-tests and how to use them.\n",
    "\n",
    "For more information, see: https://blog.minitab.com/blog/adventures-in-statistics-2/understanding-t-tests-t-values-and-t-distributions"
   ]
  },
  {
   "cell_type": "code",
   "execution_count": 5,
   "metadata": {},
   "outputs": [
    {
     "name": "stdout",
     "output_type": "stream",
     "text": [
      "middletemporal\n"
     ]
    },
    {
     "data": {
      "image/png": "[encoded data removed]",
      "text/plain": [
       "<Figure size 360x180 with 2 Axes>"
      ]
     },
     "metadata": {
      "needs_background": "light"
     },
     "output_type": "display_data"
    }
   ],
   "source": [
    "# Visualize results for one electrode\n",
    "%matplotlib inline\n",
    "import matplotlib.pyplot as plt\n",
    "\n",
    "# Electrode 1 shows a classic tilt response,\n",
    "# electrode 11 shows a theta response.\n",
    "elec = 1\n",
    "plt.figure(figsize=(5, 2.5))\n",
    "ax = plt.subplot(111)\n",
    "plt.matshow(tstats[:, elec, :], fignum=0, cmap='RdBu_r', aspect='auto', vmin=-2.5, vmax=2.5)\n",
    "plt.yticks(np.arange(len(myfreqs)), np.round(myfreqs))\n",
    "ax.invert_yaxis()\n",
    "plt.xlabel('Time Bin', fontsize=14)\n",
    "plt.ylabel('Frequency (Hz)', fontsize=14)\n",
    "cb = plt.colorbar()\n",
    "cb.set_label('T-stat')\n",
    "\n",
    "channels = load.Load(df_select.iloc[0], 'channels')\n",
    "print(channels.iloc[elec]['ind.region'])"
   ]
  },
  {
   "cell_type": "code",
   "execution_count": 6,
   "metadata": {},
   "outputs": [
    {
     "name": "stdout",
     "output_type": "stream",
     "text": [
      "Ttest_indResult(statistic=-2.5067252687493564, pvalue=0.012342128124738515)\n"
     ]
    },
    {
     "data": {
      "image/png": "[encoded data removed]",
      "text/plain": [
       "<Figure size 432x216 with 1 Axes>"
      ]
     },
     "metadata": {
      "needs_background": "light"
     },
     "output_type": "display_data"
    }
   ],
   "source": [
    "# Let's take a look at exactly what we were comparing\n",
    "# by drilling down into one of the pixels from the plot above\n",
    "freq_idx = 1  # 5Hz\n",
    "time_idx = 2  # 200ms-300ms after word event\n",
    "\n",
    "rec_pows = all_pows[freq_idx, recalled==1, elec, time_idx]\n",
    "nrec_pows = all_pows[freq_idx, recalled==0, elec, time_idx]\n",
    "\n",
    "plt.figure(figsize=(6, 3))\n",
    "ax = plt.subplot(111)\n",
    "plt.hist(nrec_pows, 30, alpha=0.75, label='NRec', color='C1')\n",
    "plt.hist(rec_pows, alpha=0.5, label='Rec', color='C0');\n",
    "plt.legend()\n",
    "plt.vlines(np.mean(rec_pows), ymin=ax.get_ylim()[0], ymax=ax.get_ylim()[1], color='C0', linewidth=3)\n",
    "plt.vlines(np.mean(nrec_pows), ymin=ax.get_ylim()[0], ymax=ax.get_ylim()[1], color='C1', linewidth=3)\n",
    "plt.xlabel('Z-scored Power', fontsize=12)\n",
    "plt.ylabel('Count', fontsize=12)\n",
    "\n",
    "print(ttest_ind(rec_pows, nrec_pows, equal_var=False))"
   ]
  },
  {
   "cell_type": "code",
   "execution_count": 7,
   "metadata": {},
   "outputs": [
    {
     "name": "stdout",
     "output_type": "stream",
     "text": [
      "supramarginal\n"
     ]
    },
    {
     "data": {
      "image/png": "[encoded data removed]",
      "text/plain": [
       "<Figure size 360x180 with 2 Axes>"
      ]
     },
     "metadata": {
      "needs_background": "light"
     },
     "output_type": "display_data"
    }
   ],
   "source": [
    "# Electrode 1 shows a classic tilt response,\n",
    "# electrode 11 shows a theta response.\n",
    "elec = 11\n",
    "plt.figure(figsize=(5, 2.5))\n",
    "ax = plt.subplot(111)\n",
    "plt.matshow(tstats[:, elec, :], fignum=0, cmap='RdBu_r', aspect='auto', vmin=-2.5, vmax=2.5)\n",
    "plt.yticks(np.arange(len(myfreqs)), np.round(myfreqs))\n",
    "ax.invert_yaxis()\n",
    "plt.xlabel('Time Bin', fontsize=14)\n",
    "plt.ylabel('Frequency (Hz)', fontsize=14)\n",
    "cb = plt.colorbar(); cb.set_label('T-stat')\n",
    "\n",
    "print(channels.iloc[elec]['ind.region'])"
   ]
  },
  {
   "cell_type": "markdown",
   "metadata": {},
   "source": [
    "**Exercise: Compute the SME for all electrodes in R1002P, and plot time-frequency spectrograms averaged across hippocampal electrodes**"
   ]
  },
  {
   "cell_type": "code",
   "execution_count": null,
   "metadata": {},
   "outputs": [],
   "source": []
  },
  {
   "cell_type": "markdown",
   "metadata": {},
   "source": [
    "**Exercise: Compute the SME for all electrodes in R1001P using MNE**"
   ]
  },
  {
   "cell_type": "code",
   "execution_count": null,
   "metadata": {},
   "outputs": [],
   "source": []
  }
 ],
 "metadata": {
  "kernelspec": {
   "display_name": "environmentname",
   "language": "python",
   "name": "environmentname"
  },
  "language_info": {
   "codemirror_mode": {
    "name": "ipython",
    "version": 3
   },
   "file_extension": ".py",
   "mimetype": "text/x-python",
   "name": "python",
   "nbconvert_exporter": "python",
   "pygments_lexer": "ipython3",
   "version": "3.7.4"
  }
 },
 "nbformat": 4,
 "nbformat_minor": 4
}
