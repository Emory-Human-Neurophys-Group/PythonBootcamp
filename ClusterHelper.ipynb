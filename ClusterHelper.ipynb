{
 "cells": [
  {
   "cell_type": "code",
   "execution_count": 1,
   "metadata": {},
   "outputs": [],
   "source": [
    "def ClusterRun(function, parameter_list, max_cores=100):\n",
    "    '''function: The routine run in parallel, which must contain all necessary\n",
    "       imports internally.\n",
    "    \n",
    "       parameter_list: should be an iterable of elements, for which each element\n",
    "       will be passed as the parameter to function for each parallel execution.\n",
    "       \n",
    "       max_cores: Standard Rhino cluster etiquette is to stay within 100 cores\n",
    "       at a time.  Please ask for permission before using more.\n",
    "       \n",
    "       In jupyterlab, the number of engines reported as initially running may\n",
    "       be smaller than the number actually running.  Check usage from an ssh\n",
    "       terminal using:  qstat -f | egrep \"$USER|node\" | less\n",
    "       \n",
    "       Undesired running jobs can be killed by reading the JOBID at the left\n",
    "       of that qstat command, then doing:  qdel JOBID\n",
    "    '''\n",
    "    import cluster_helper.cluster\n",
    "    from pathlib import Path\n",
    "\n",
    "    num_cores = len(parameter_list)\n",
    "    num_cores = min(num_cores, max_cores)\n",
    "\n",
    "    myhomedir = str(Path.home())\n",
    "\n",
    "    with cluster_helper.cluster.cluster_view(scheduler=\"sge\", queue=\"RAM.q\", \\\n",
    "        num_jobs=1, cores_per_job=num_cores, \\\n",
    "        extra_params={'resources':'pename=python-round-robin'}, \\\n",
    "        profile=myhomedir + '/.ipython/') \\\n",
    "        as view:\n",
    "        # 'map' applies a function to each value within an interable\n",
    "        res = view.map(function, parameter_list)\n",
    "        \n",
    "    return res\n"
   ]
  },
  {
   "cell_type": "code",
   "execution_count": 2,
   "metadata": {},
   "outputs": [
    {
     "name": "stdout",
     "output_type": "stream",
     "text": [
      "1 Engines running\n",
      "Sending a shutdown signal to the controller and engines.\n"
     ]
    },
    {
     "data": {
      "text/plain": [
       "[True, True, True, True, True, True, True, True, True, True]"
      ]
     },
     "execution_count": 2,
     "metadata": {},
     "output_type": "execute_result"
    }
   ],
   "source": [
    "def squared(x):\n",
    "    try:\n",
    "        import numpy as np\n",
    "    \n",
    "        res = x**2\n",
    "        \n",
    "        # You can directly return results, but saving them in separate files is\n",
    "        # better practice for large jobs.\n",
    "        np.save('squared_result_'+str(x)+'.npy', res)\n",
    "        \n",
    "        # We return True for success\n",
    "        return True\n",
    "    \n",
    "    except Exception as e:\n",
    "        # Handle your exceptions appropriately.\n",
    "        # For large runs, you will probably want to write the exception to a log file.\n",
    "        # Try to handle more exceptions closer to where they happen, so that few\n",
    "        # get here to the top level.\n",
    "        \n",
    "        np.savetxt('squared_error_'+str(x)+'.txt', \\\n",
    "                   [str(x), str(e.__class__.__name__), str(e)], \\\n",
    "                   fmt='%s')\n",
    "        return False\n",
    "    \n",
    "\n",
    "parameters = range(0, 10)\n",
    "ClusterRun(squared, parameters)"
   ]
  },
  {
   "cell_type": "code",
   "execution_count": 3,
   "metadata": {},
   "outputs": [
    {
     "name": "stdout",
     "output_type": "stream",
     "text": [
      "0\n",
      "1\n",
      "4\n",
      "9\n",
      "16\n",
      "25\n",
      "36\n",
      "49\n",
      "64\n",
      "81\n"
     ]
    }
   ],
   "source": [
    "import numpy as np\n",
    "for x in parameters:\n",
    "    print(np.load('squared_result_'+str(x)+'.npy', allow_pickle=True))"
   ]
  },
  {
   "cell_type": "code",
   "execution_count": null,
   "metadata": {},
   "outputs": [],
   "source": []
  }
 ],
 "metadata": {
  "kernelspec": {
   "display_name": "environmentname",
   "language": "python",
   "name": "environmentname"
  },
  "language_info": {
   "codemirror_mode": {
    "name": "ipython",
    "version": 3
   },
   "file_extension": ".py",
   "mimetype": "text/x-python",
   "name": "python",
   "nbconvert_exporter": "python",
   "pygments_lexer": "ipython3",
   "version": "3.7.4"
  }
 },
 "nbformat": 4,
 "nbformat_minor": 4
}
