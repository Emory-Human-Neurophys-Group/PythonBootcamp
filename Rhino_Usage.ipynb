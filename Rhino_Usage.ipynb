{
 "cells": [
  {
   "cell_type": "markdown",
   "metadata": {},
   "source": [
    "# Getting started on Rhino\n",
    "\n",
    "If you have been provided with an account on the Rhino computing cluster, these instructions will help you access and setup your account to the point where you can follow these bootcamp notes and perform analyses.\n",
    "\n",
    "### Setting up your Rhino2 Account\n",
    "\n",
    "1\\. You can log in to Rhino2 in a terminal window by using any ssh client\n",
    "to ssh into rhino as follows, replacing the \"username\" with your username:\n",
    "\n",
    "    ssh username@rhino2.psych.upenn.edu\n",
    "\n",
    "and then typing your temporary password when prompted. Once successfully\n",
    "connected, type:\n",
    "\n",
    "    passwd\n",
    "\n",
    "to change your password to something only you know. Please do this as soon as\n",
    "you have the time!\n",
    "\n",
    "(As a general tip to Windows users without access to Terminal, we recommend\n",
    "using Cygwin <https://www.cygwin.com/> or the Ubuntu subsystem\n",
    "<https://docs.microsoft.com/en-us/windows/wsl/install-win10>)\n",
    "\n",
    "2\\. Once you have your password set up, check to be sure you can log in to\n",
    "JupyterLab, where you'll be doing most of the bootcamp work. If you are\n",
    "connected to the internet on UPenn's campus, you only need to go to\n",
    "[https://rhino2.psych.upenn.edu:8200](https://rhino2.psych.upenn.edu:8200/) to\n",
    "access JupyterLab. If you are connecting remotely, follow the rest of this\n",
    "step. In a terminal where ssh is accessible, replace the \"username\" with your\n",
    "username, and type:\n",
    "\n",
    "    ssh -L8000:rhino2.psych.upenn.edu:8200 username@rhino2.psych.upenn.edu\n",
    "\n",
    "followed by entering your rhino password. In your web browser, navigate to:\n",
    "\n",
    "[https://127.0.0.1:8000](https://127.0.0.1:8000)\n",
    "\n",
    "and you should see the JupyterLab interface pop up!\n",
    "\n",
    "### Installing CMLReader\n",
    "\n",
    "From within JupyterLab, click File, New, Terminal. (Alternatively, you\n",
    "can use any ssh client to do these steps.) Then enter the following\n",
    "commands:\n",
    "\n",
    "    conda create -y -n environmentname python=3.7\n",
    "    source activate environmentname\n",
    "    conda install -c pennmem cmlreaders\n",
    "\n",
    "### Setting up JupyterLab\n",
    "\n",
    "Next, you'll need to install a suite of tools for EEG analysis. First,\n",
    "install MNE by typing the following (be sure you're in the Anaconda\n",
    "\"environment\" you just created in Step 1, by typing \"source activate\n",
    "environmentname\"). Note that this may take a while, because MNE has a\n",
    "lot of dependencies:\n",
    "\n",
    "    conda install -c conda-forge mne\n",
    "\n",
    "Next, install PTSA, which is another set of EEG tools developed by\n",
    "former lab members:\n",
    "\n",
    "    conda install -c pennmem ptsa\n",
    "\n",
    "Finally, you'll need to link JupyterLab with your specific Python\n",
    "installation. While still logged in to your rhino account and in your\n",
    "Anaconda \"environment\", type:\n",
    "\n",
    "    conda install ipykernel\n",
    "\n",
    "and once that's done:\n",
    "\n",
    "    python -m ipykernel install --user --name environmentname --display-name \"environmentname\"\n",
    "\n",
    "You should be all set! Next time you log in to your JupyterLab account,\n",
    "you should see an option to launch a new notebook with \"environmentname\"\n",
    "as your Python environment. If you've been logged in to JupyterLab this\n",
    "whole time, you may need to log out and log back in again to see this\n",
    "change take effect.\n",
    "\n",
    "### Getting the PythonBootcamp JupyterLab notes\n",
    "\n",
    "Open a terminal inside JupyterLab, or by ssh, and type:\n",
    "\n",
    "    git clone 'https://github.com/pennmem/PythonBootcamp'\n",
    "\n",
    "### Learning how to use the tools and perform analyses\n",
    "\n",
    "In JupyterLab, navigate to the lecture notes you downloaded using\n",
    "the file browser section on the left, open the lecture notes, and\n",
    "proceed through them in order. If appropriate for your background and\n",
    "situation, jump ahead to the relevant sections to see syntax examples\n",
    "for common analyses and for using the common tools used by the\n",
    "Computational Memory Lab."
   ]
  },
  {
   "cell_type": "markdown",
   "metadata": {},
   "source": [
    "## Explore the RAM database on the Rhino cluster"
   ]
  },
  {
   "cell_type": "markdown",
   "metadata": {},
   "source": [
    "### Jupyter Notebooks on Rhino\n",
    "The Jupyter Notebook (and Jupyter Lab) is a powerful interface to IPython for data science. The notebook structure keeps figures and outputs organized with their generating code, and supports integration with text and images. This lets data scientists (like you!) keep a full log of everything that went into an analysis or manuscript. The cell-based structure of Jupyter Notebooks -- as you'll see soon -- makes it easy to tweak analyses without needing to re-run your whole pipeline, saving lots of time.\n",
    "\n",
    "In the Computational Memory Lab, we run Jupyter Notebooks on a server (Rhino2), letting you access your analyses from anywhere (see referenced tutorial). This also makes it easy to load large amounts of EEG data and run parallel processes. But if you'd like, feel free to install Jupyter Notebooks on your computer and run them locally (Jupyter Lab comes with all default Anaconda installations).\n",
    "\n",
    "Jupyter Notebooks can do some amazing things, but we don't have the time to discuss them all. Check out this list for some inspiration: https://www.dataquest.io/blog/jupyter-notebook-tips-tricks-shortcuts/"
   ]
  },
  {
   "cell_type": "markdown",
   "metadata": {},
   "source": [
    "### Accessing CML data\n",
    "\n",
    "The CML's database of intracranial and scalp EEG comes in a pandas dataframe format. All the pertinent data about each experimental session is recorded in a row of a large dataframe. These databases are organized around experimental protocols. For example, the <b>'r1'</b> database contains all DARPA RAM data, while the **'pyfr'** database includes all free-recall intracranial data collected in the years prior to RAM. \n",
    "\n",
    "Let's load the RAM database to get a better sense of these formats. We're going to use **CMLReaders**, which is a custom library with helper functions to load data for any experiments run by the CML. If you don't already have CMLReaders installed, please follow the instructions here: https://github.com/pennmem/cmlreaders"
   ]
  },
  {
   "cell_type": "code",
   "execution_count": 166,
   "metadata": {
    "collapsed": true,
    "jupyter": {
     "outputs_hidden": true
    }
   },
   "outputs": [],
   "source": [
    "#First, our import statements. The CMLReader class is your gateway to all experimental data, including electrodes and EEG. The get_data_index function specifically loads experimental databases. \n",
    "from cmlreaders import CMLReader, get_data_index\n",
    "\n",
    "#The \"r1\" database corresponds to all of the RAM subjects. Use \"pyfr\" for the pre-RAM iEEG data.\n",
    "df = get_data_index(\"r1\")"
   ]
  },
  {
   "cell_type": "code",
   "execution_count": 53,
   "metadata": {
    "collapsed": false,
    "jupyter": {
     "outputs_hidden": false
    }
   },
   "outputs": [
    {
     "data": {
      "text/html": [
       "<div>\n",
       "<style scoped>\n",
       "    .dataframe tbody tr th:only-of-type {\n",
       "        vertical-align: middle;\n",
       "    }\n",
       "\n",
       "    .dataframe tbody tr th {\n",
       "        vertical-align: top;\n",
       "    }\n",
       "\n",
       "    .dataframe thead th {\n",
       "        text-align: right;\n",
       "    }\n",
       "</style>\n",
       "<table border=\"1\" class=\"dataframe\">\n",
       "  <thead>\n",
       "    <tr style=\"text-align: right;\">\n",
       "      <th></th>\n",
       "      <th>Recognition</th>\n",
       "      <th>all_events</th>\n",
       "      <th>contacts</th>\n",
       "      <th>experiment</th>\n",
       "      <th>import_type</th>\n",
       "      <th>localization</th>\n",
       "      <th>math_events</th>\n",
       "      <th>montage</th>\n",
       "      <th>original_experiment</th>\n",
       "      <th>original_session</th>\n",
       "      <th>pairs</th>\n",
       "      <th>ps4_events</th>\n",
       "      <th>session</th>\n",
       "      <th>subject</th>\n",
       "      <th>subject_alias</th>\n",
       "      <th>system_version</th>\n",
       "      <th>task_events</th>\n",
       "    </tr>\n",
       "  </thead>\n",
       "  <tbody>\n",
       "    <tr>\n",
       "      <th>0</th>\n",
       "      <td>NaN</td>\n",
       "      <td>protocols/r1/subjects/R1001P/experiments/FR1/s...</td>\n",
       "      <td>protocols/r1/subjects/R1001P/localizations/0/m...</td>\n",
       "      <td>FR1</td>\n",
       "      <td>build</td>\n",
       "      <td>0</td>\n",
       "      <td>protocols/r1/subjects/R1001P/experiments/FR1/s...</td>\n",
       "      <td>0</td>\n",
       "      <td>NaN</td>\n",
       "      <td>0</td>\n",
       "      <td>protocols/r1/subjects/R1001P/localizations/0/m...</td>\n",
       "      <td>NaN</td>\n",
       "      <td>0</td>\n",
       "      <td>R1001P</td>\n",
       "      <td>R1001P</td>\n",
       "      <td>NaN</td>\n",
       "      <td>protocols/r1/subjects/R1001P/experiments/FR1/s...</td>\n",
       "    </tr>\n",
       "    <tr>\n",
       "      <th>1</th>\n",
       "      <td>NaN</td>\n",
       "      <td>protocols/r1/subjects/R1001P/experiments/FR1/s...</td>\n",
       "      <td>protocols/r1/subjects/R1001P/localizations/0/m...</td>\n",
       "      <td>FR1</td>\n",
       "      <td>build</td>\n",
       "      <td>0</td>\n",
       "      <td>protocols/r1/subjects/R1001P/experiments/FR1/s...</td>\n",
       "      <td>0</td>\n",
       "      <td>NaN</td>\n",
       "      <td>1</td>\n",
       "      <td>protocols/r1/subjects/R1001P/localizations/0/m...</td>\n",
       "      <td>NaN</td>\n",
       "      <td>1</td>\n",
       "      <td>R1001P</td>\n",
       "      <td>R1001P</td>\n",
       "      <td>NaN</td>\n",
       "      <td>protocols/r1/subjects/R1001P/experiments/FR1/s...</td>\n",
       "    </tr>\n",
       "    <tr>\n",
       "      <th>2</th>\n",
       "      <td>NaN</td>\n",
       "      <td>protocols/r1/subjects/R1001P/experiments/FR2/s...</td>\n",
       "      <td>protocols/r1/subjects/R1001P/localizations/0/m...</td>\n",
       "      <td>FR2</td>\n",
       "      <td>build</td>\n",
       "      <td>0</td>\n",
       "      <td>protocols/r1/subjects/R1001P/experiments/FR2/s...</td>\n",
       "      <td>0</td>\n",
       "      <td>NaN</td>\n",
       "      <td>0</td>\n",
       "      <td>protocols/r1/subjects/R1001P/localizations/0/m...</td>\n",
       "      <td>NaN</td>\n",
       "      <td>0</td>\n",
       "      <td>R1001P</td>\n",
       "      <td>R1001P</td>\n",
       "      <td>NaN</td>\n",
       "      <td>protocols/r1/subjects/R1001P/experiments/FR2/s...</td>\n",
       "    </tr>\n",
       "    <tr>\n",
       "      <th>3</th>\n",
       "      <td>NaN</td>\n",
       "      <td>protocols/r1/subjects/R1001P/experiments/FR2/s...</td>\n",
       "      <td>protocols/r1/subjects/R1001P/localizations/0/m...</td>\n",
       "      <td>FR2</td>\n",
       "      <td>build</td>\n",
       "      <td>0</td>\n",
       "      <td>protocols/r1/subjects/R1001P/experiments/FR2/s...</td>\n",
       "      <td>0</td>\n",
       "      <td>NaN</td>\n",
       "      <td>1</td>\n",
       "      <td>protocols/r1/subjects/R1001P/localizations/0/m...</td>\n",
       "      <td>NaN</td>\n",
       "      <td>1</td>\n",
       "      <td>R1001P</td>\n",
       "      <td>R1001P</td>\n",
       "      <td>NaN</td>\n",
       "      <td>protocols/r1/subjects/R1001P/experiments/FR2/s...</td>\n",
       "    </tr>\n",
       "    <tr>\n",
       "      <th>4</th>\n",
       "      <td>NaN</td>\n",
       "      <td>protocols/r1/subjects/R1001P/experiments/PAL1/...</td>\n",
       "      <td>protocols/r1/subjects/R1001P/localizations/0/m...</td>\n",
       "      <td>PAL1</td>\n",
       "      <td>build</td>\n",
       "      <td>0</td>\n",
       "      <td>protocols/r1/subjects/R1001P/experiments/PAL1/...</td>\n",
       "      <td>0</td>\n",
       "      <td>NaN</td>\n",
       "      <td>0</td>\n",
       "      <td>protocols/r1/subjects/R1001P/localizations/0/m...</td>\n",
       "      <td>NaN</td>\n",
       "      <td>0</td>\n",
       "      <td>R1001P</td>\n",
       "      <td>R1001P</td>\n",
       "      <td>NaN</td>\n",
       "      <td>protocols/r1/subjects/R1001P/experiments/PAL1/...</td>\n",
       "    </tr>\n",
       "    <tr>\n",
       "      <th>5</th>\n",
       "      <td>NaN</td>\n",
       "      <td>protocols/r1/subjects/R1001P/experiments/PAL1/...</td>\n",
       "      <td>protocols/r1/subjects/R1001P/localizations/0/m...</td>\n",
       "      <td>PAL1</td>\n",
       "      <td>build</td>\n",
       "      <td>0</td>\n",
       "      <td>protocols/r1/subjects/R1001P/experiments/PAL1/...</td>\n",
       "      <td>0</td>\n",
       "      <td>NaN</td>\n",
       "      <td>1</td>\n",
       "      <td>protocols/r1/subjects/R1001P/localizations/0/m...</td>\n",
       "      <td>NaN</td>\n",
       "      <td>1</td>\n",
       "      <td>R1001P</td>\n",
       "      <td>R1001P</td>\n",
       "      <td>NaN</td>\n",
       "      <td>protocols/r1/subjects/R1001P/experiments/PAL1/...</td>\n",
       "    </tr>\n",
       "    <tr>\n",
       "      <th>6</th>\n",
       "      <td>NaN</td>\n",
       "      <td>NaN</td>\n",
       "      <td>protocols/r1/subjects/R1001P/localizations/0/m...</td>\n",
       "      <td>YC1</td>\n",
       "      <td>conversion</td>\n",
       "      <td>0</td>\n",
       "      <td>NaN</td>\n",
       "      <td>0</td>\n",
       "      <td>NaN</td>\n",
       "      <td>0</td>\n",
       "      <td>protocols/r1/subjects/R1001P/localizations/0/m...</td>\n",
       "      <td>NaN</td>\n",
       "      <td>0</td>\n",
       "      <td>R1001P</td>\n",
       "      <td>R1001P</td>\n",
       "      <td>NaN</td>\n",
       "      <td>protocols/r1/subjects/R1001P/experiments/YC1/s...</td>\n",
       "    </tr>\n",
       "    <tr>\n",
       "      <th>7</th>\n",
       "      <td>NaN</td>\n",
       "      <td>NaN</td>\n",
       "      <td>protocols/r1/subjects/R1001P/localizations/0/m...</td>\n",
       "      <td>YC1</td>\n",
       "      <td>conversion</td>\n",
       "      <td>0</td>\n",
       "      <td>NaN</td>\n",
       "      <td>0</td>\n",
       "      <td>NaN</td>\n",
       "      <td>1</td>\n",
       "      <td>protocols/r1/subjects/R1001P/localizations/0/m...</td>\n",
       "      <td>NaN</td>\n",
       "      <td>1</td>\n",
       "      <td>R1001P</td>\n",
       "      <td>R1001P</td>\n",
       "      <td>NaN</td>\n",
       "      <td>protocols/r1/subjects/R1001P/experiments/YC1/s...</td>\n",
       "    </tr>\n",
       "    <tr>\n",
       "      <th>8</th>\n",
       "      <td>NaN</td>\n",
       "      <td>NaN</td>\n",
       "      <td>protocols/r1/subjects/R1001P/localizations/0/m...</td>\n",
       "      <td>YC1</td>\n",
       "      <td>conversion</td>\n",
       "      <td>0</td>\n",
       "      <td>NaN</td>\n",
       "      <td>0</td>\n",
       "      <td>NaN</td>\n",
       "      <td>2</td>\n",
       "      <td>protocols/r1/subjects/R1001P/localizations/0/m...</td>\n",
       "      <td>NaN</td>\n",
       "      <td>2</td>\n",
       "      <td>R1001P</td>\n",
       "      <td>R1001P</td>\n",
       "      <td>NaN</td>\n",
       "      <td>protocols/r1/subjects/R1001P/experiments/YC1/s...</td>\n",
       "    </tr>\n",
       "    <tr>\n",
       "      <th>9</th>\n",
       "      <td>NaN</td>\n",
       "      <td>protocols/r1/subjects/R1002P/experiments/FR1/s...</td>\n",
       "      <td>protocols/r1/subjects/R1002P/localizations/0/m...</td>\n",
       "      <td>FR1</td>\n",
       "      <td>build</td>\n",
       "      <td>0</td>\n",
       "      <td>protocols/r1/subjects/R1002P/experiments/FR1/s...</td>\n",
       "      <td>0</td>\n",
       "      <td>NaN</td>\n",
       "      <td>0</td>\n",
       "      <td>protocols/r1/subjects/R1002P/localizations/0/m...</td>\n",
       "      <td>NaN</td>\n",
       "      <td>0</td>\n",
       "      <td>R1002P</td>\n",
       "      <td>R1002P</td>\n",
       "      <td>NaN</td>\n",
       "      <td>protocols/r1/subjects/R1002P/experiments/FR1/s...</td>\n",
       "    </tr>\n",
       "  </tbody>\n",
       "</table>\n",
       "</div>"
      ],
      "text/plain": [
       "  Recognition                                         all_events  \\\n",
       "0         NaN  protocols/r1/subjects/R1001P/experiments/FR1/s...   \n",
       "1         NaN  protocols/r1/subjects/R1001P/experiments/FR1/s...   \n",
       "2         NaN  protocols/r1/subjects/R1001P/experiments/FR2/s...   \n",
       "3         NaN  protocols/r1/subjects/R1001P/experiments/FR2/s...   \n",
       "4         NaN  protocols/r1/subjects/R1001P/experiments/PAL1/...   \n",
       "5         NaN  protocols/r1/subjects/R1001P/experiments/PAL1/...   \n",
       "6         NaN                                                NaN   \n",
       "7         NaN                                                NaN   \n",
       "8         NaN                                                NaN   \n",
       "9         NaN  protocols/r1/subjects/R1002P/experiments/FR1/s...   \n",
       "\n",
       "                                            contacts experiment import_type  \\\n",
       "0  protocols/r1/subjects/R1001P/localizations/0/m...        FR1       build   \n",
       "1  protocols/r1/subjects/R1001P/localizations/0/m...        FR1       build   \n",
       "2  protocols/r1/subjects/R1001P/localizations/0/m...        FR2       build   \n",
       "3  protocols/r1/subjects/R1001P/localizations/0/m...        FR2       build   \n",
       "4  protocols/r1/subjects/R1001P/localizations/0/m...       PAL1       build   \n",
       "5  protocols/r1/subjects/R1001P/localizations/0/m...       PAL1       build   \n",
       "6  protocols/r1/subjects/R1001P/localizations/0/m...        YC1  conversion   \n",
       "7  protocols/r1/subjects/R1001P/localizations/0/m...        YC1  conversion   \n",
       "8  protocols/r1/subjects/R1001P/localizations/0/m...        YC1  conversion   \n",
       "9  protocols/r1/subjects/R1002P/localizations/0/m...        FR1       build   \n",
       "\n",
       "   localization                                        math_events  montage  \\\n",
       "0             0  protocols/r1/subjects/R1001P/experiments/FR1/s...        0   \n",
       "1             0  protocols/r1/subjects/R1001P/experiments/FR1/s...        0   \n",
       "2             0  protocols/r1/subjects/R1001P/experiments/FR2/s...        0   \n",
       "3             0  protocols/r1/subjects/R1001P/experiments/FR2/s...        0   \n",
       "4             0  protocols/r1/subjects/R1001P/experiments/PAL1/...        0   \n",
       "5             0  protocols/r1/subjects/R1001P/experiments/PAL1/...        0   \n",
       "6             0                                                NaN        0   \n",
       "7             0                                                NaN        0   \n",
       "8             0                                                NaN        0   \n",
       "9             0  protocols/r1/subjects/R1002P/experiments/FR1/s...        0   \n",
       "\n",
       "  original_experiment original_session  \\\n",
       "0                 NaN                0   \n",
       "1                 NaN                1   \n",
       "2                 NaN                0   \n",
       "3                 NaN                1   \n",
       "4                 NaN                0   \n",
       "5                 NaN                1   \n",
       "6                 NaN                0   \n",
       "7                 NaN                1   \n",
       "8                 NaN                2   \n",
       "9                 NaN                0   \n",
       "\n",
       "                                               pairs ps4_events  session  \\\n",
       "0  protocols/r1/subjects/R1001P/localizations/0/m...        NaN        0   \n",
       "1  protocols/r1/subjects/R1001P/localizations/0/m...        NaN        1   \n",
       "2  protocols/r1/subjects/R1001P/localizations/0/m...        NaN        0   \n",
       "3  protocols/r1/subjects/R1001P/localizations/0/m...        NaN        1   \n",
       "4  protocols/r1/subjects/R1001P/localizations/0/m...        NaN        0   \n",
       "5  protocols/r1/subjects/R1001P/localizations/0/m...        NaN        1   \n",
       "6  protocols/r1/subjects/R1001P/localizations/0/m...        NaN        0   \n",
       "7  protocols/r1/subjects/R1001P/localizations/0/m...        NaN        1   \n",
       "8  protocols/r1/subjects/R1001P/localizations/0/m...        NaN        2   \n",
       "9  protocols/r1/subjects/R1002P/localizations/0/m...        NaN        0   \n",
       "\n",
       "  subject subject_alias  system_version  \\\n",
       "0  R1001P        R1001P             NaN   \n",
       "1  R1001P        R1001P             NaN   \n",
       "2  R1001P        R1001P             NaN   \n",
       "3  R1001P        R1001P             NaN   \n",
       "4  R1001P        R1001P             NaN   \n",
       "5  R1001P        R1001P             NaN   \n",
       "6  R1001P        R1001P             NaN   \n",
       "7  R1001P        R1001P             NaN   \n",
       "8  R1001P        R1001P             NaN   \n",
       "9  R1002P        R1002P             NaN   \n",
       "\n",
       "                                         task_events  \n",
       "0  protocols/r1/subjects/R1001P/experiments/FR1/s...  \n",
       "1  protocols/r1/subjects/R1001P/experiments/FR1/s...  \n",
       "2  protocols/r1/subjects/R1001P/experiments/FR2/s...  \n",
       "3  protocols/r1/subjects/R1001P/experiments/FR2/s...  \n",
       "4  protocols/r1/subjects/R1001P/experiments/PAL1/...  \n",
       "5  protocols/r1/subjects/R1001P/experiments/PAL1/...  \n",
       "6  protocols/r1/subjects/R1001P/experiments/YC1/s...  \n",
       "7  protocols/r1/subjects/R1001P/experiments/YC1/s...  \n",
       "8  protocols/r1/subjects/R1001P/experiments/YC1/s...  \n",
       "9  protocols/r1/subjects/R1002P/experiments/FR1/s...  "
      ]
     },
     "execution_count": 53,
     "metadata": {},
     "output_type": "execute_result"
    }
   ],
   "source": [
    "#This dataframe contains all the information about every experimental sessions collected in the RAM project\n",
    "df[:10]"
   ]
  },
  {
   "cell_type": "code",
   "execution_count": 11,
   "metadata": {
    "collapsed": false,
    "jupyter": {
     "outputs_hidden": false
    }
   },
   "outputs": [
    {
     "data": {
      "text/plain": [
       "array(['FR1', 'FR2', 'PAL1', 'YC1', 'PAL2', 'catFR1', 'YC2', 'catFR2',\n",
       "       'PS1', 'PS3', 'PS2', 'TH1', 'FR3', 'PS2.1', 'PAL3', 'TH3',\n",
       "       'catFR3', 'FR5', 'PS4_catFR', 'THR', 'PS4_FR', 'PAL5', 'THR1',\n",
       "       'catFR5', 'FR6', 'PS5_catFR', 'catFR6', 'TICL_FR',\n",
       "       'LocationSearch', 'TICL_catFR', 'PS4_catFR5'], dtype=object)"
      ]
     },
     "execution_count": 11,
     "metadata": {},
     "output_type": "execute_result"
    }
   ],
   "source": [
    "#Let's see what experiments we have access to\n",
    "df['experiment'].unique()"
   ]
  },
  {
   "cell_type": "markdown",
   "metadata": {},
   "source": [
    "**Exercise: How many RAM sessions were run on Jefferson subjects?**"
   ]
  },
  {
   "cell_type": "code",
   "execution_count": 156,
   "metadata": {
    "collapsed": false,
    "jupyter": {
     "outputs_hidden": false
    }
   },
   "outputs": [
    {
     "data": {
      "text/plain": [
       "414"
      ]
     },
     "execution_count": 156,
     "metadata": {},
     "output_type": "execute_result"
    }
   ],
   "source": [
    "np.sum(df['subject'].str.endswith('J'))"
   ]
  },
  {
   "cell_type": "markdown",
   "metadata": {},
   "source": [
    "### Verbal free-recall tasks (no-stim)\n",
    "* FR1\n",
    "* catFR1\n",
    "\n",
    "### Paired-associates tasks\n",
    "* PAL1\n",
    "* PAL2 (open-loop stim)\n",
    "* PAL3 (closed-loop stim)\n",
    "* PAL5 (closed-loop stim)\n",
    "\n",
    "### Spatial navigation tasks\n",
    "* YC1\n",
    "* TH1\n",
    "* THR\n",
    "* THR1\n",
    "* YC2 (open-loop stim)\n",
    "* TH3 (closed-loop stim)\n",
    "\n",
    "### Verbal free-recall w/ stim\n",
    "(Basically, any FR task with a number above 1 somewhere)\n",
    "* FR2 (open-loop)\n",
    "* catFR2\n",
    "* FR3 (closed-loop)\n",
    "* catFR3\n",
    "* FR5 (closed-loop)\n",
    "* catFR5\n",
    "* PS4_FR (closed-loop)\n",
    "* PS4_catFR (closed-loop)\n",
    "* PS5_catFR (closed-loop)\n",
    "* FR6 (multi-target stim)\n",
    "* catFR6 (multi-target stim)\n",
    "* TICL_FR (encoding/math/retrieval stim)\n",
    "\n",
    "### No-task stimulation (\"parameter search\")\n",
    "* PS1\n",
    "* PS2/PS2.1\n",
    "* PS3\n",
    "* LocationSearch\n"
   ]
  },
  {
   "cell_type": "code",
   "execution_count": 30,
   "metadata": {
    "collapsed": false,
    "jupyter": {
     "outputs_hidden": false
    }
   },
   "outputs": [
    {
     "data": {
      "text/plain": [
       "array(['R1001P', 'R1002P', 'R1003P', 'R1006P', 'R1010J', 'R1015J',\n",
       "       'R1018P', 'R1020J', 'R1022J', 'R1023J', 'R1026D', 'R1027J',\n",
       "       'R1030J', 'R1031M', 'R1032D', 'R1033D', 'R1034D', 'R1035M',\n",
       "       'R1036M', 'R1039M', 'R1042M', 'R1044J', 'R1045E', 'R1048E',\n",
       "       'R1049J', 'R1050M', 'R1051J', 'R1052E', 'R1053M', 'R1054J',\n",
       "       'R1056M', 'R1057E', 'R1059J', 'R1060M', 'R1061T', 'R1062J',\n",
       "       'R1063C', 'R1065J', 'R1066P', 'R1067P', 'R1068J', 'R1069M',\n",
       "       'R1070T', 'R1074M', 'R1075J', 'R1076D', 'R1077T', 'R1080E',\n",
       "       'R1081J', 'R1083J', 'R1084T', 'R1086M', 'R1089P', 'R1092J',\n",
       "       'R1093J', 'R1094T', 'R1096E', 'R1098D', 'R1100D', 'R1101T',\n",
       "       'R1102P', 'R1104D', 'R1105E', 'R1106M', 'R1108J', 'R1111M',\n",
       "       'R1112M', 'R1113T', 'R1114C', 'R1115T', 'R1118N', 'R1120E',\n",
       "       'R1121M', 'R1122E', 'R1123C', 'R1124J', 'R1125T', 'R1127P',\n",
       "       'R1128E', 'R1129D', 'R1130M', 'R1131M', 'R1134T', 'R1135E',\n",
       "       'R1136N', 'R1137E', 'R1138T', 'R1142N', 'R1145J', 'R1146E',\n",
       "       'R1147P', 'R1148P', 'R1149N', 'R1150J', 'R1151E', 'R1153T',\n",
       "       'R1154D', 'R1155D', 'R1156D', 'R1158T', 'R1159P', 'R1161E',\n",
       "       'R1162N', 'R1163T', 'R1164E', 'R1166D', 'R1167M', 'R1168T',\n",
       "       'R1169P', 'R1170J', 'R1171M', 'R1172E', 'R1173J', 'R1174T',\n",
       "       'R1175N', 'R1176M', 'R1177M', 'R1178P', 'R1184M', 'R1185N',\n",
       "       'R1186P', 'R1187P', 'R1189M', 'R1191J', 'R1193T', 'R1195E',\n",
       "       'R1196N', 'R1198M', 'R1200T', 'R1201P', 'R1202M', 'R1203T',\n",
       "       'R1204T', 'R1207J', 'R1212P', 'R1214M', 'R1215M', 'R1216E',\n",
       "       'R1217T', 'R1221P', 'R1222M', 'R1223E', 'R1226D', 'R1228M',\n",
       "       'R1229M', 'R1230J', 'R1231M', 'R1232N', 'R1234D', 'R1236J',\n",
       "       'R1240T', 'R1241J', 'R1243T', 'R1247P', 'R1250N', 'R1251M',\n",
       "       'R1260D', 'R1264P', 'R1268T', 'R1274T', 'R1275D', 'R1277J',\n",
       "       'R1281E', 'R1283T', 'R1286J', 'R1288P', 'R1290M', 'R1291M',\n",
       "       'R1292E', 'R1293P', 'R1297T', 'R1298E', 'R1299T', 'R1302M',\n",
       "       'R1304N', 'R1306E', 'R1307N', 'R1308T', 'R1309M', 'R1310J',\n",
       "       'R1311T', 'R1313J', 'R1315T', 'R1316T', 'R1317D', 'R1318N',\n",
       "       'R1320D', 'R1321M', 'R1323T', 'R1324M', 'R1325C', 'R1328E',\n",
       "       'R1329T', 'R1330D', 'R1331T', 'R1332M', 'R1334T', 'R1336T',\n",
       "       'R1337E', 'R1338T', 'R1339D', 'R1341T', 'R1342M', 'R1345D',\n",
       "       'R1346T', 'R1347D', 'R1349T', 'R1350D', 'R1351M', 'R1354E',\n",
       "       'R1355T', 'R1358T', 'R1361C', 'R1363T', 'R1364C', 'R1367D',\n",
       "       'R1368T', 'R1373T', 'R1374T', 'R1375C', 'R1376D', 'R1377M',\n",
       "       'R1378T', 'R1379E', 'R1380D', 'R1381T', 'R1383J', 'R1384J',\n",
       "       'R1385E', 'R1386T', 'R1387E', 'R1390M', 'R1391T', 'R1393T',\n",
       "       'R1394E', 'R1395M', 'R1396T', 'R1397D', 'R1398J', 'R1401J',\n",
       "       'R1402E', 'R1404E', 'R1405E', 'R1406M', 'R1409D', 'R1412M',\n",
       "       'R1414E', 'R1415T', 'R1416T', 'R1420T', 'R1421M', 'R1422T',\n",
       "       'R1423E', 'R1425D', 'R1427T', 'R1431J', 'R1433E', 'R1436J',\n",
       "       'R1438M', 'R1441T', 'R1443D', 'R1446T', 'R1447M', 'R1448T',\n",
       "       'R1449T', 'R1454M', 'R1457T', 'R1459M', 'R1460M', 'R1461T',\n",
       "       'R1462M', 'R1463E', 'R1466J', 'R1467M'], dtype=object)"
      ]
     },
     "execution_count": 30,
     "metadata": {},
     "output_type": "execute_result"
    }
   ],
   "source": [
    "#And now let's find all the subjects who did the FR1 task\n",
    "fr1_df = df.query('experiment == \"FR1\"')\n",
    "fr1_df['subject'].unique()"
   ]
  },
  {
   "cell_type": "markdown",
   "metadata": {},
   "source": [
    "### Load data from an example subject\n",
    "Here, let's go through an example of loading experimental events and EEG from one subject"
   ]
  },
  {
   "cell_type": "code",
   "execution_count": 17,
   "metadata": {
    "collapsed": true,
    "jupyter": {
     "outputs_hidden": true
    }
   },
   "outputs": [],
   "source": [
    "#First, our import statements\n",
    "from cmlreaders import CMLReader, get_data_index\n",
    "\n",
    "#The \"r1\" database corresponds to all of the RAM subjects\n",
    "df = get_data_index(\"r1\")\n",
    "\n",
    "#Specify which subject and experiment we want\n",
    "sub = 'R1001P'\n",
    "exp = 'FR1'\n",
    "\n",
    "#Find out the sessions, localization, and montage for this subject\n",
    "sessions = list(df[(df['subject']==sub) & (df['experiment']==exp)]['session'])\n",
    "mont = int(df[(df['subject']==sub) & (df['experiment']==exp)].iloc()[0]['montage'])      #note that *usually* mont and loc will be 0.\n",
    "loc = int(df[(df['subject']==sub) & (df['experiment']==exp)].iloc()[0]['localization'])"
   ]
  },
  {
   "cell_type": "code",
   "execution_count": 18,
   "metadata": {
    "collapsed": false,
    "jupyter": {
     "outputs_hidden": false
    }
   },
   "outputs": [
    {
     "name": "stdout",
     "output_type": "stream",
     "text": [
      "R1001P sessions: [0, 1]\n",
      "R1001P montage: 0\n",
      "R1001P localization: 0\n"
     ]
    }
   ],
   "source": [
    "print(sub+' sessions: '+str(sessions))\n",
    "print(sub+' montage: '+str(mont))\n",
    "print(sub+' localization: '+str(loc))"
   ]
  },
  {
   "cell_type": "markdown",
   "metadata": {},
   "source": [
    "<i>Usually, montage and localization are both zero, meaning a subject had only one surgery and the subset of recorded electrodes did not change. But not always!</i>\n",
    "\n",
    "<b>Montage:</b> Refers to set of a subject's electrodes that were recorded in a given experimental session.\n",
    "\n",
    "<b>Localization:</b> A subject will get a new localization if they were reimplanted after another surgery. Therefore, electrodes may be in different places altogether. "
   ]
  },
  {
   "cell_type": "markdown",
   "metadata": {},
   "source": [
    "This subject completed two sessions of FR1, and only had one montage/localization. Let's load data from the first session. First, we'll need to instantiate an instance of the 'CMLReader' object, which is the object class for accessing any CML data. Think of it as a \"finder\" for any kind of experimental data. At a minimum, you'll need to give it a subject and experiment for it to find anything."
   ]
  },
  {
   "cell_type": "code",
   "execution_count": 52,
   "metadata": {
    "collapsed": false,
    "jupyter": {
     "outputs_hidden": false
    }
   },
   "outputs": [
    {
     "data": {
      "text/plain": [
       "dict_keys(['voxel_coordinates', 'jacksheet', 'classifier_excluded_leads', 'good_leads', 'leads', 'area', 'electrode_coordinates', 'prior_stim_results', 'target_selection_table', 'experiment_log', 'all_events', 'events', 'math_events', 'ps4_events', 'task_events', 'used_classifier', 'baseline_classifier', 'sources', 'eeg', 'matlab_contacts', 'matlab_pairs', 'pairs', 'contacts', 'localization', 'electrode_categories', 'classifier_summary', 'session_summary', 'math_summary'])"
      ]
     },
     "execution_count": 52,
     "metadata": {},
     "output_type": "execute_result"
    }
   ],
   "source": [
    "#For first session...\n",
    "reader = CMLReader(sub, exp, sessions[0], montage=mont, localization=loc)   #reader for loading CML data\n",
    "\n",
    "#What kind of data can the reader get for us?\n",
    "reader.reader_names.keys()"
   ]
  },
  {
   "cell_type": "markdown",
   "metadata": {},
   "source": [
    "Many of these readers aren't necessary for day-to-day analyses. We'll focus on how to reader experimental events, electrode information, and EEG. "
   ]
  },
  {
   "cell_type": "markdown",
   "metadata": {},
   "source": [
    "#### Load experimental events"
   ]
  },
  {
   "cell_type": "code",
   "execution_count": 59,
   "metadata": {
    "collapsed": true,
    "jupyter": {
     "outputs_hidden": true
    }
   },
   "outputs": [],
   "source": [
    "evs = reader.load('task_events')  #'events' will also do, but you'll get some extra stuff"
   ]
  },
  {
   "cell_type": "markdown",
   "metadata": {},
   "source": [
    "The events dataframe contains information about everything that happened during an experimental session. It indicates the time at which every word appeared on the screen, and when those words were later recalled. It also contains information about events that you might not care about, such as when the countdown timer starts and ends.\n",
    "<center>\n",
    "<img src=\"https://github.com/esolomon/PythonBootcamp2019/blob/master/figures/task_design-01.jpg?raw=true\" width=650>\n",
    "</center>\n",
    "Let's take a look at all the columns in this dataframe."
   ]
  },
  {
   "cell_type": "code",
   "execution_count": 60,
   "metadata": {
    "collapsed": false,
    "jupyter": {
     "outputs_hidden": false
    }
   },
   "outputs": [
    {
     "data": {
      "text/plain": [
       "Index(['eegoffset', 'eegfile', 'exp_version', 'experiment', 'intrusion',\n",
       "       'is_stim', 'item_name', 'item_num', 'list', 'montage', 'msoffset',\n",
       "       'mstime', 'protocol', 'recalled', 'rectime', 'serialpos', 'session',\n",
       "       'stim_list', 'stim_params', 'subject', 'type'],\n",
       "      dtype='object')"
      ]
     },
     "execution_count": 60,
     "metadata": {},
     "output_type": "execute_result"
    }
   ],
   "source": [
    "evs.columns"
   ]
  },
  {
   "cell_type": "markdown",
   "metadata": {},
   "source": [
    "* 'eegoffset' indicates where (in samples) in the EEG file this event occurred. CMLReaders needs this info, but usually you won't need to deal with it directly.\n",
    "* 'eegfile' is the path to the corresponding file where raw EEG is saved.\n",
    "* 'experiment' is the behavioral task we're looking at. \n",
    "* 'intrusion' is an indicator of intrusion events during the recall period. -1 indicates an extra-list intrusion, otherwise, it's the list number from which the word came.\n",
    "* 'is_stim' flags whether stimulation occurred during this event. We won't be dealing with stimulation data in this bootcamp. \n",
    "* <b>'item_name'</b> is the word that was presented or recalled.\n",
    "* 'item_num' is the index for this word in the word pool. \n",
    "* 'list' is the list number. \n",
    "* 'montage' is the subject montage, which you loaded earlier.\n",
    "* 'mstime' is a time indicator, in ms. Good for comparing between events, but the absolute value is meaningless. \n",
    "* <b>'recalled'</b> is a indicator of whether an encoding word was later recalled successfully.\n",
    "* 'rectime' is the time, in ms, when a word was recalled relative to the start of the recall period for that list.\n",
    "* <b>'serialpos'</b> is the serial position of a presented/recalled word\n",
    "* 'stim_list' is an indicator of whether stimulation was active during this list. \n",
    "* 'stim_params' is a dictionary of stimulation parameters.\n",
    "* 'subject' is the subject you're analyzing!\n",
    "* <b>'type'</b> is the type of event, e.g. 'WORD' or 'REC_WORD'\n",
    "\n",
    "Please see https://pennmem.github.io/cmlreaders/html/events.html for even more information!\n",
    "\n",
    "Say we're just interested in analyzing word encoding events. To filter by event type, use handy pandas functionality:"
   ]
  },
  {
   "cell_type": "code",
   "execution_count": 169,
   "metadata": {
    "collapsed": true,
    "jupyter": {
     "outputs_hidden": true
    }
   },
   "outputs": [],
   "source": [
    "pd.set_option('display.max_columns', 100)  #an optional command that lets us view the full dataframe within Jupyter notebooks"
   ]
  },
  {
   "cell_type": "code",
   "execution_count": 170,
   "metadata": {
    "collapsed": false,
    "jupyter": {
     "outputs_hidden": false
    }
   },
   "outputs": [
    {
     "data": {
      "text/html": [
       "<div>\n",
       "<style scoped>\n",
       "    .dataframe tbody tr th:only-of-type {\n",
       "        vertical-align: middle;\n",
       "    }\n",
       "\n",
       "    .dataframe tbody tr th {\n",
       "        vertical-align: top;\n",
       "    }\n",
       "\n",
       "    .dataframe thead th {\n",
       "        text-align: right;\n",
       "    }\n",
       "</style>\n",
       "<table border=\"1\" class=\"dataframe\">\n",
       "  <thead>\n",
       "    <tr style=\"text-align: right;\">\n",
       "      <th></th>\n",
       "      <th>eegoffset</th>\n",
       "      <th>eegfile</th>\n",
       "      <th>exp_version</th>\n",
       "      <th>experiment</th>\n",
       "      <th>intrusion</th>\n",
       "      <th>is_stim</th>\n",
       "      <th>item_name</th>\n",
       "      <th>item_num</th>\n",
       "      <th>list</th>\n",
       "      <th>montage</th>\n",
       "      <th>msoffset</th>\n",
       "      <th>mstime</th>\n",
       "      <th>protocol</th>\n",
       "      <th>recalled</th>\n",
       "      <th>rectime</th>\n",
       "      <th>serialpos</th>\n",
       "      <th>session</th>\n",
       "      <th>stim_list</th>\n",
       "      <th>stim_params</th>\n",
       "      <th>subject</th>\n",
       "      <th>type</th>\n",
       "    </tr>\n",
       "  </thead>\n",
       "  <tbody>\n",
       "    <tr>\n",
       "      <th>23</th>\n",
       "      <td>388959</td>\n",
       "      <td>R1001P_FR1_0_12Oct14_1034</td>\n",
       "      <td>1.02</td>\n",
       "      <td>FR1</td>\n",
       "      <td>-999</td>\n",
       "      <td>False</td>\n",
       "      <td>HOUSE</td>\n",
       "      <td>130</td>\n",
       "      <td>1</td>\n",
       "      <td>0</td>\n",
       "      <td>1</td>\n",
       "      <td>1413125314490</td>\n",
       "      <td>r1</td>\n",
       "      <td>False</td>\n",
       "      <td>-999</td>\n",
       "      <td>1</td>\n",
       "      <td>0</td>\n",
       "      <td>False</td>\n",
       "      <td>[]</td>\n",
       "      <td>R1001P</td>\n",
       "      <td>WORD</td>\n",
       "    </tr>\n",
       "    <tr>\n",
       "      <th>24</th>\n",
       "      <td>390268</td>\n",
       "      <td>R1001P_FR1_0_12Oct14_1034</td>\n",
       "      <td>1.02</td>\n",
       "      <td>FR1</td>\n",
       "      <td>-999</td>\n",
       "      <td>False</td>\n",
       "      <td>HAWK</td>\n",
       "      <td>120</td>\n",
       "      <td>1</td>\n",
       "      <td>0</td>\n",
       "      <td>1</td>\n",
       "      <td>1413125317107</td>\n",
       "      <td>r1</td>\n",
       "      <td>False</td>\n",
       "      <td>-999</td>\n",
       "      <td>2</td>\n",
       "      <td>0</td>\n",
       "      <td>False</td>\n",
       "      <td>[]</td>\n",
       "      <td>R1001P</td>\n",
       "      <td>WORD</td>\n",
       "    </tr>\n",
       "    <tr>\n",
       "      <th>25</th>\n",
       "      <td>391560</td>\n",
       "      <td>R1001P_FR1_0_12Oct14_1034</td>\n",
       "      <td>1.02</td>\n",
       "      <td>FR1</td>\n",
       "      <td>-999</td>\n",
       "      <td>False</td>\n",
       "      <td>WAND</td>\n",
       "      <td>288</td>\n",
       "      <td>1</td>\n",
       "      <td>0</td>\n",
       "      <td>1</td>\n",
       "      <td>1413125319691</td>\n",
       "      <td>r1</td>\n",
       "      <td>False</td>\n",
       "      <td>-999</td>\n",
       "      <td>3</td>\n",
       "      <td>0</td>\n",
       "      <td>False</td>\n",
       "      <td>[]</td>\n",
       "      <td>R1001P</td>\n",
       "      <td>WORD</td>\n",
       "    </tr>\n",
       "    <tr>\n",
       "      <th>26</th>\n",
       "      <td>392785</td>\n",
       "      <td>R1001P_FR1_0_12Oct14_1034</td>\n",
       "      <td>1.02</td>\n",
       "      <td>FR1</td>\n",
       "      <td>-999</td>\n",
       "      <td>False</td>\n",
       "      <td>GEESE</td>\n",
       "      <td>110</td>\n",
       "      <td>1</td>\n",
       "      <td>0</td>\n",
       "      <td>1</td>\n",
       "      <td>1413125322141</td>\n",
       "      <td>r1</td>\n",
       "      <td>False</td>\n",
       "      <td>-999</td>\n",
       "      <td>4</td>\n",
       "      <td>0</td>\n",
       "      <td>False</td>\n",
       "      <td>[]</td>\n",
       "      <td>R1001P</td>\n",
       "      <td>WORD</td>\n",
       "    </tr>\n",
       "    <tr>\n",
       "      <th>27</th>\n",
       "      <td>394019</td>\n",
       "      <td>R1001P_FR1_0_12Oct14_1034</td>\n",
       "      <td>1.02</td>\n",
       "      <td>FR1</td>\n",
       "      <td>-999</td>\n",
       "      <td>False</td>\n",
       "      <td>STAR</td>\n",
       "      <td>247</td>\n",
       "      <td>1</td>\n",
       "      <td>0</td>\n",
       "      <td>1</td>\n",
       "      <td>1413125324609</td>\n",
       "      <td>r1</td>\n",
       "      <td>False</td>\n",
       "      <td>-999</td>\n",
       "      <td>5</td>\n",
       "      <td>0</td>\n",
       "      <td>False</td>\n",
       "      <td>[]</td>\n",
       "      <td>R1001P</td>\n",
       "      <td>WORD</td>\n",
       "    </tr>\n",
       "    <tr>\n",
       "      <th>28</th>\n",
       "      <td>395285</td>\n",
       "      <td>R1001P_FR1_0_12Oct14_1034</td>\n",
       "      <td>1.02</td>\n",
       "      <td>FR1</td>\n",
       "      <td>-999</td>\n",
       "      <td>False</td>\n",
       "      <td>CLOUD</td>\n",
       "      <td>58</td>\n",
       "      <td>1</td>\n",
       "      <td>0</td>\n",
       "      <td>1</td>\n",
       "      <td>1413125327142</td>\n",
       "      <td>r1</td>\n",
       "      <td>False</td>\n",
       "      <td>-999</td>\n",
       "      <td>6</td>\n",
       "      <td>0</td>\n",
       "      <td>False</td>\n",
       "      <td>[]</td>\n",
       "      <td>R1001P</td>\n",
       "      <td>WORD</td>\n",
       "    </tr>\n",
       "    <tr>\n",
       "      <th>29</th>\n",
       "      <td>396544</td>\n",
       "      <td>R1001P_FR1_0_12Oct14_1034</td>\n",
       "      <td>1.02</td>\n",
       "      <td>FR1</td>\n",
       "      <td>-999</td>\n",
       "      <td>False</td>\n",
       "      <td>PEARL</td>\n",
       "      <td>178</td>\n",
       "      <td>1</td>\n",
       "      <td>0</td>\n",
       "      <td>1</td>\n",
       "      <td>1413125329660</td>\n",
       "      <td>r1</td>\n",
       "      <td>False</td>\n",
       "      <td>-999</td>\n",
       "      <td>7</td>\n",
       "      <td>0</td>\n",
       "      <td>False</td>\n",
       "      <td>[]</td>\n",
       "      <td>R1001P</td>\n",
       "      <td>WORD</td>\n",
       "    </tr>\n",
       "    <tr>\n",
       "      <th>30</th>\n",
       "      <td>397769</td>\n",
       "      <td>R1001P_FR1_0_12Oct14_1034</td>\n",
       "      <td>1.02</td>\n",
       "      <td>FR1</td>\n",
       "      <td>-999</td>\n",
       "      <td>False</td>\n",
       "      <td>SWORD</td>\n",
       "      <td>263</td>\n",
       "      <td>1</td>\n",
       "      <td>0</td>\n",
       "      <td>1</td>\n",
       "      <td>1413125332110</td>\n",
       "      <td>r1</td>\n",
       "      <td>False</td>\n",
       "      <td>-999</td>\n",
       "      <td>8</td>\n",
       "      <td>0</td>\n",
       "      <td>False</td>\n",
       "      <td>[]</td>\n",
       "      <td>R1001P</td>\n",
       "      <td>WORD</td>\n",
       "    </tr>\n",
       "    <tr>\n",
       "      <th>31</th>\n",
       "      <td>399036</td>\n",
       "      <td>R1001P_FR1_0_12Oct14_1034</td>\n",
       "      <td>1.02</td>\n",
       "      <td>FR1</td>\n",
       "      <td>-999</td>\n",
       "      <td>False</td>\n",
       "      <td>STAIR</td>\n",
       "      <td>246</td>\n",
       "      <td>1</td>\n",
       "      <td>0</td>\n",
       "      <td>1</td>\n",
       "      <td>1413125334644</td>\n",
       "      <td>r1</td>\n",
       "      <td>False</td>\n",
       "      <td>-999</td>\n",
       "      <td>9</td>\n",
       "      <td>0</td>\n",
       "      <td>False</td>\n",
       "      <td>[]</td>\n",
       "      <td>R1001P</td>\n",
       "      <td>WORD</td>\n",
       "    </tr>\n",
       "    <tr>\n",
       "      <th>32</th>\n",
       "      <td>400236</td>\n",
       "      <td>R1001P_FR1_0_12Oct14_1034</td>\n",
       "      <td>1.02</td>\n",
       "      <td>FR1</td>\n",
       "      <td>-999</td>\n",
       "      <td>False</td>\n",
       "      <td>GOLD</td>\n",
       "      <td>114</td>\n",
       "      <td>1</td>\n",
       "      <td>0</td>\n",
       "      <td>1</td>\n",
       "      <td>1413125337044</td>\n",
       "      <td>r1</td>\n",
       "      <td>False</td>\n",
       "      <td>-999</td>\n",
       "      <td>10</td>\n",
       "      <td>0</td>\n",
       "      <td>False</td>\n",
       "      <td>[]</td>\n",
       "      <td>R1001P</td>\n",
       "      <td>WORD</td>\n",
       "    </tr>\n",
       "  </tbody>\n",
       "</table>\n",
       "</div>"
      ],
      "text/plain": [
       "    eegoffset                    eegfile  exp_version experiment  intrusion  \\\n",
       "23     388959  R1001P_FR1_0_12Oct14_1034         1.02        FR1       -999   \n",
       "24     390268  R1001P_FR1_0_12Oct14_1034         1.02        FR1       -999   \n",
       "25     391560  R1001P_FR1_0_12Oct14_1034         1.02        FR1       -999   \n",
       "26     392785  R1001P_FR1_0_12Oct14_1034         1.02        FR1       -999   \n",
       "27     394019  R1001P_FR1_0_12Oct14_1034         1.02        FR1       -999   \n",
       "28     395285  R1001P_FR1_0_12Oct14_1034         1.02        FR1       -999   \n",
       "29     396544  R1001P_FR1_0_12Oct14_1034         1.02        FR1       -999   \n",
       "30     397769  R1001P_FR1_0_12Oct14_1034         1.02        FR1       -999   \n",
       "31     399036  R1001P_FR1_0_12Oct14_1034         1.02        FR1       -999   \n",
       "32     400236  R1001P_FR1_0_12Oct14_1034         1.02        FR1       -999   \n",
       "\n",
       "    is_stim item_name  item_num  list  montage  msoffset         mstime  \\\n",
       "23    False     HOUSE       130     1        0         1  1413125314490   \n",
       "24    False      HAWK       120     1        0         1  1413125317107   \n",
       "25    False      WAND       288     1        0         1  1413125319691   \n",
       "26    False     GEESE       110     1        0         1  1413125322141   \n",
       "27    False      STAR       247     1        0         1  1413125324609   \n",
       "28    False     CLOUD        58     1        0         1  1413125327142   \n",
       "29    False     PEARL       178     1        0         1  1413125329660   \n",
       "30    False     SWORD       263     1        0         1  1413125332110   \n",
       "31    False     STAIR       246     1        0         1  1413125334644   \n",
       "32    False      GOLD       114     1        0         1  1413125337044   \n",
       "\n",
       "   protocol  recalled  rectime  serialpos  session  stim_list stim_params  \\\n",
       "23       r1     False     -999          1        0      False          []   \n",
       "24       r1     False     -999          2        0      False          []   \n",
       "25       r1     False     -999          3        0      False          []   \n",
       "26       r1     False     -999          4        0      False          []   \n",
       "27       r1     False     -999          5        0      False          []   \n",
       "28       r1     False     -999          6        0      False          []   \n",
       "29       r1     False     -999          7        0      False          []   \n",
       "30       r1     False     -999          8        0      False          []   \n",
       "31       r1     False     -999          9        0      False          []   \n",
       "32       r1     False     -999         10        0      False          []   \n",
       "\n",
       "   subject  type  \n",
       "23  R1001P  WORD  \n",
       "24  R1001P  WORD  \n",
       "25  R1001P  WORD  \n",
       "26  R1001P  WORD  \n",
       "27  R1001P  WORD  \n",
       "28  R1001P  WORD  \n",
       "29  R1001P  WORD  \n",
       "30  R1001P  WORD  \n",
       "31  R1001P  WORD  \n",
       "32  R1001P  WORD  "
      ]
     },
     "execution_count": 170,
     "metadata": {},
     "output_type": "execute_result"
    }
   ],
   "source": [
    "word_evs = evs[evs['type']=='WORD']\n",
    "word_evs[:10]"
   ]
  },
  {
   "cell_type": "markdown",
   "metadata": {},
   "source": [
    "Applying these kinds of filters are useful if you're only interested in analyzing one kind of event. For instance, we could also just find recall events:"
   ]
  },
  {
   "cell_type": "code",
   "execution_count": 171,
   "metadata": {
    "collapsed": false,
    "jupyter": {
     "outputs_hidden": false
    }
   },
   "outputs": [
    {
     "data": {
      "text/html": [
       "<div>\n",
       "<style scoped>\n",
       "    .dataframe tbody tr th:only-of-type {\n",
       "        vertical-align: middle;\n",
       "    }\n",
       "\n",
       "    .dataframe tbody tr th {\n",
       "        vertical-align: top;\n",
       "    }\n",
       "\n",
       "    .dataframe thead th {\n",
       "        text-align: right;\n",
       "    }\n",
       "</style>\n",
       "<table border=\"1\" class=\"dataframe\">\n",
       "  <thead>\n",
       "    <tr style=\"text-align: right;\">\n",
       "      <th></th>\n",
       "      <th>eegoffset</th>\n",
       "      <th>eegfile</th>\n",
       "      <th>exp_version</th>\n",
       "      <th>experiment</th>\n",
       "      <th>intrusion</th>\n",
       "      <th>is_stim</th>\n",
       "      <th>item_name</th>\n",
       "      <th>item_num</th>\n",
       "      <th>list</th>\n",
       "      <th>montage</th>\n",
       "      <th>msoffset</th>\n",
       "      <th>mstime</th>\n",
       "      <th>protocol</th>\n",
       "      <th>recalled</th>\n",
       "      <th>rectime</th>\n",
       "      <th>serialpos</th>\n",
       "      <th>session</th>\n",
       "      <th>stim_list</th>\n",
       "      <th>stim_params</th>\n",
       "      <th>subject</th>\n",
       "      <th>type</th>\n",
       "    </tr>\n",
       "  </thead>\n",
       "  <tbody>\n",
       "    <tr>\n",
       "      <th>63</th>\n",
       "      <td>471989</td>\n",
       "      <td>R1001P_FR1_0_12Oct14_1034</td>\n",
       "      <td>1.02</td>\n",
       "      <td>FR1</td>\n",
       "      <td>0</td>\n",
       "      <td>False</td>\n",
       "      <td>SHEET</td>\n",
       "      <td>217</td>\n",
       "      <td>2</td>\n",
       "      <td>0</td>\n",
       "      <td>20</td>\n",
       "      <td>1413125480559</td>\n",
       "      <td>r1</td>\n",
       "      <td>True</td>\n",
       "      <td>4271</td>\n",
       "      <td>-999</td>\n",
       "      <td>0</td>\n",
       "      <td>False</td>\n",
       "      <td>[]</td>\n",
       "      <td>R1001P</td>\n",
       "      <td>REC_WORD</td>\n",
       "    </tr>\n",
       "    <tr>\n",
       "      <th>64</th>\n",
       "      <td>472388</td>\n",
       "      <td>R1001P_FR1_0_12Oct14_1034</td>\n",
       "      <td>1.02</td>\n",
       "      <td>FR1</td>\n",
       "      <td>1</td>\n",
       "      <td>False</td>\n",
       "      <td>CLOUD</td>\n",
       "      <td>58</td>\n",
       "      <td>2</td>\n",
       "      <td>0</td>\n",
       "      <td>20</td>\n",
       "      <td>1413125481356</td>\n",
       "      <td>r1</td>\n",
       "      <td>False</td>\n",
       "      <td>5068</td>\n",
       "      <td>-999</td>\n",
       "      <td>0</td>\n",
       "      <td>False</td>\n",
       "      <td>[]</td>\n",
       "      <td>R1001P</td>\n",
       "      <td>REC_WORD</td>\n",
       "    </tr>\n",
       "    <tr>\n",
       "      <th>66</th>\n",
       "      <td>481131</td>\n",
       "      <td>R1001P_FR1_0_12Oct14_1034</td>\n",
       "      <td>1.02</td>\n",
       "      <td>FR1</td>\n",
       "      <td>0</td>\n",
       "      <td>False</td>\n",
       "      <td>SHEET</td>\n",
       "      <td>217</td>\n",
       "      <td>2</td>\n",
       "      <td>0</td>\n",
       "      <td>20</td>\n",
       "      <td>1413125498843</td>\n",
       "      <td>r1</td>\n",
       "      <td>True</td>\n",
       "      <td>22555</td>\n",
       "      <td>-999</td>\n",
       "      <td>0</td>\n",
       "      <td>False</td>\n",
       "      <td>[]</td>\n",
       "      <td>R1001P</td>\n",
       "      <td>REC_WORD</td>\n",
       "    </tr>\n",
       "    <tr>\n",
       "      <th>67</th>\n",
       "      <td>481339</td>\n",
       "      <td>R1001P_FR1_0_12Oct14_1034</td>\n",
       "      <td>1.02</td>\n",
       "      <td>FR1</td>\n",
       "      <td>1</td>\n",
       "      <td>False</td>\n",
       "      <td>CLOUD</td>\n",
       "      <td>58</td>\n",
       "      <td>2</td>\n",
       "      <td>0</td>\n",
       "      <td>20</td>\n",
       "      <td>1413125499259</td>\n",
       "      <td>r1</td>\n",
       "      <td>False</td>\n",
       "      <td>22971</td>\n",
       "      <td>-999</td>\n",
       "      <td>0</td>\n",
       "      <td>False</td>\n",
       "      <td>[]</td>\n",
       "      <td>R1001P</td>\n",
       "      <td>REC_WORD</td>\n",
       "    </tr>\n",
       "    <tr>\n",
       "      <th>88</th>\n",
       "      <td>519111</td>\n",
       "      <td>R1001P_FR1_0_12Oct14_1034</td>\n",
       "      <td>1.02</td>\n",
       "      <td>FR1</td>\n",
       "      <td>-1</td>\n",
       "      <td>False</td>\n",
       "      <td>BEACH</td>\n",
       "      <td>14</td>\n",
       "      <td>3</td>\n",
       "      <td>0</td>\n",
       "      <td>20</td>\n",
       "      <td>1413125574807</td>\n",
       "      <td>r1</td>\n",
       "      <td>False</td>\n",
       "      <td>1916</td>\n",
       "      <td>-999</td>\n",
       "      <td>0</td>\n",
       "      <td>False</td>\n",
       "      <td>[]</td>\n",
       "      <td>R1001P</td>\n",
       "      <td>REC_WORD</td>\n",
       "    </tr>\n",
       "    <tr>\n",
       "      <th>89</th>\n",
       "      <td>519766</td>\n",
       "      <td>R1001P_FR1_0_12Oct14_1034</td>\n",
       "      <td>1.02</td>\n",
       "      <td>FR1</td>\n",
       "      <td>-1</td>\n",
       "      <td>False</td>\n",
       "      <td>GOD</td>\n",
       "      <td>-1</td>\n",
       "      <td>3</td>\n",
       "      <td>0</td>\n",
       "      <td>20</td>\n",
       "      <td>1413125576117</td>\n",
       "      <td>r1</td>\n",
       "      <td>False</td>\n",
       "      <td>3226</td>\n",
       "      <td>-999</td>\n",
       "      <td>0</td>\n",
       "      <td>False</td>\n",
       "      <td>[]</td>\n",
       "      <td>R1001P</td>\n",
       "      <td>REC_WORD</td>\n",
       "    </tr>\n",
       "    <tr>\n",
       "      <th>90</th>\n",
       "      <td>520302</td>\n",
       "      <td>R1001P_FR1_0_12Oct14_1034</td>\n",
       "      <td>1.02</td>\n",
       "      <td>FR1</td>\n",
       "      <td>0</td>\n",
       "      <td>False</td>\n",
       "      <td>SLIME</td>\n",
       "      <td>230</td>\n",
       "      <td>3</td>\n",
       "      <td>0</td>\n",
       "      <td>20</td>\n",
       "      <td>1413125577190</td>\n",
       "      <td>r1</td>\n",
       "      <td>True</td>\n",
       "      <td>4299</td>\n",
       "      <td>-999</td>\n",
       "      <td>0</td>\n",
       "      <td>False</td>\n",
       "      <td>[]</td>\n",
       "      <td>R1001P</td>\n",
       "      <td>REC_WORD</td>\n",
       "    </tr>\n",
       "    <tr>\n",
       "      <th>91</th>\n",
       "      <td>521777</td>\n",
       "      <td>R1001P_FR1_0_12Oct14_1034</td>\n",
       "      <td>1.02</td>\n",
       "      <td>FR1</td>\n",
       "      <td>0</td>\n",
       "      <td>False</td>\n",
       "      <td>SCHOOL</td>\n",
       "      <td>210</td>\n",
       "      <td>3</td>\n",
       "      <td>0</td>\n",
       "      <td>20</td>\n",
       "      <td>1413125580139</td>\n",
       "      <td>r1</td>\n",
       "      <td>True</td>\n",
       "      <td>7248</td>\n",
       "      <td>-999</td>\n",
       "      <td>0</td>\n",
       "      <td>False</td>\n",
       "      <td>[]</td>\n",
       "      <td>R1001P</td>\n",
       "      <td>REC_WORD</td>\n",
       "    </tr>\n",
       "    <tr>\n",
       "      <th>92</th>\n",
       "      <td>524732</td>\n",
       "      <td>R1001P_FR1_0_12Oct14_1034</td>\n",
       "      <td>1.02</td>\n",
       "      <td>FR1</td>\n",
       "      <td>0</td>\n",
       "      <td>False</td>\n",
       "      <td>SCHOOL</td>\n",
       "      <td>210</td>\n",
       "      <td>3</td>\n",
       "      <td>0</td>\n",
       "      <td>20</td>\n",
       "      <td>1413125586050</td>\n",
       "      <td>r1</td>\n",
       "      <td>True</td>\n",
       "      <td>13159</td>\n",
       "      <td>-999</td>\n",
       "      <td>0</td>\n",
       "      <td>False</td>\n",
       "      <td>[]</td>\n",
       "      <td>R1001P</td>\n",
       "      <td>REC_WORD</td>\n",
       "    </tr>\n",
       "    <tr>\n",
       "      <th>93</th>\n",
       "      <td>525077</td>\n",
       "      <td>R1001P_FR1_0_12Oct14_1034</td>\n",
       "      <td>1.02</td>\n",
       "      <td>FR1</td>\n",
       "      <td>0</td>\n",
       "      <td>False</td>\n",
       "      <td>SCHOOL</td>\n",
       "      <td>210</td>\n",
       "      <td>3</td>\n",
       "      <td>0</td>\n",
       "      <td>20</td>\n",
       "      <td>1413125586740</td>\n",
       "      <td>r1</td>\n",
       "      <td>True</td>\n",
       "      <td>13849</td>\n",
       "      <td>-999</td>\n",
       "      <td>0</td>\n",
       "      <td>False</td>\n",
       "      <td>[]</td>\n",
       "      <td>R1001P</td>\n",
       "      <td>REC_WORD</td>\n",
       "    </tr>\n",
       "  </tbody>\n",
       "</table>\n",
       "</div>"
      ],
      "text/plain": [
       "    eegoffset                    eegfile  exp_version experiment  intrusion  \\\n",
       "63     471989  R1001P_FR1_0_12Oct14_1034         1.02        FR1          0   \n",
       "64     472388  R1001P_FR1_0_12Oct14_1034         1.02        FR1          1   \n",
       "66     481131  R1001P_FR1_0_12Oct14_1034         1.02        FR1          0   \n",
       "67     481339  R1001P_FR1_0_12Oct14_1034         1.02        FR1          1   \n",
       "88     519111  R1001P_FR1_0_12Oct14_1034         1.02        FR1         -1   \n",
       "89     519766  R1001P_FR1_0_12Oct14_1034         1.02        FR1         -1   \n",
       "90     520302  R1001P_FR1_0_12Oct14_1034         1.02        FR1          0   \n",
       "91     521777  R1001P_FR1_0_12Oct14_1034         1.02        FR1          0   \n",
       "92     524732  R1001P_FR1_0_12Oct14_1034         1.02        FR1          0   \n",
       "93     525077  R1001P_FR1_0_12Oct14_1034         1.02        FR1          0   \n",
       "\n",
       "    is_stim item_name  item_num  list  montage  msoffset         mstime  \\\n",
       "63    False     SHEET       217     2        0        20  1413125480559   \n",
       "64    False     CLOUD        58     2        0        20  1413125481356   \n",
       "66    False     SHEET       217     2        0        20  1413125498843   \n",
       "67    False     CLOUD        58     2        0        20  1413125499259   \n",
       "88    False     BEACH        14     3        0        20  1413125574807   \n",
       "89    False       GOD        -1     3        0        20  1413125576117   \n",
       "90    False     SLIME       230     3        0        20  1413125577190   \n",
       "91    False    SCHOOL       210     3        0        20  1413125580139   \n",
       "92    False    SCHOOL       210     3        0        20  1413125586050   \n",
       "93    False    SCHOOL       210     3        0        20  1413125586740   \n",
       "\n",
       "   protocol  recalled  rectime  serialpos  session  stim_list stim_params  \\\n",
       "63       r1      True     4271       -999        0      False          []   \n",
       "64       r1     False     5068       -999        0      False          []   \n",
       "66       r1      True    22555       -999        0      False          []   \n",
       "67       r1     False    22971       -999        0      False          []   \n",
       "88       r1     False     1916       -999        0      False          []   \n",
       "89       r1     False     3226       -999        0      False          []   \n",
       "90       r1      True     4299       -999        0      False          []   \n",
       "91       r1      True     7248       -999        0      False          []   \n",
       "92       r1      True    13159       -999        0      False          []   \n",
       "93       r1      True    13849       -999        0      False          []   \n",
       "\n",
       "   subject      type  \n",
       "63  R1001P  REC_WORD  \n",
       "64  R1001P  REC_WORD  \n",
       "66  R1001P  REC_WORD  \n",
       "67  R1001P  REC_WORD  \n",
       "88  R1001P  REC_WORD  \n",
       "89  R1001P  REC_WORD  \n",
       "90  R1001P  REC_WORD  \n",
       "91  R1001P  REC_WORD  \n",
       "92  R1001P  REC_WORD  \n",
       "93  R1001P  REC_WORD  "
      ]
     },
     "execution_count": 171,
     "metadata": {},
     "output_type": "execute_result"
    }
   ],
   "source": [
    "rec_evs = evs[evs['type']=='REC_WORD']\n",
    "rec_evs[:10]"
   ]
  },
  {
   "cell_type": "markdown",
   "metadata": {},
   "source": [
    "**Exercise: What is R1001P's overall recall percent correct?**"
   ]
  },
  {
   "cell_type": "code",
   "execution_count": null,
   "metadata": {
    "collapsed": false,
    "jupyter": {
     "outputs_hidden": false
    }
   },
   "outputs": [],
   "source": []
  },
  {
   "cell_type": "markdown",
   "metadata": {},
   "source": [
    "**Exercise: What is R1001P's percent correct at each serial position?**"
   ]
  },
  {
   "cell_type": "code",
   "execution_count": null,
   "metadata": {
    "collapsed": false,
    "jupyter": {
     "outputs_hidden": false
    }
   },
   "outputs": [],
   "source": []
  },
  {
   "cell_type": "markdown",
   "metadata": {},
   "source": [
    "**Exercise: Plot the distribution of inter-response times for R1001P's recalled words**"
   ]
  },
  {
   "cell_type": "code",
   "execution_count": null,
   "metadata": {
    "collapsed": false,
    "jupyter": {
     "outputs_hidden": false
    }
   },
   "outputs": [],
   "source": []
  },
  {
   "cell_type": "markdown",
   "metadata": {},
   "source": [
    "## Working with EEG data\n",
    "Yesterday, we learned how to load basic information about CML experiments and experimental events. Today, we're going to load EEG/iEEG data that correspond to those events.\n",
    "\n",
    "### What is EEG?\n",
    "Before we get into the weeds, let's briefly review exactly what EEG is, how we collect it, and what we can learn from it. Much of this material is sources from this paper by Pesaran, et al. (2018): https://www.nature.com/articles/s41593-018-0171-8\n",
    "\n",
    "The fundamental signal detected by any electrical brain sensor is the **field potential**, or the change in extracellular voltage induced by aggregated electrical currents across a population of neurons. In other words, as neurons communicate with one another, ions flow across channels at synapses (and along the axon during action potentials). These ionic flows set up a difference in the electrical potential between two areas of brain tissue, which is detected by a sensor placed within the brain (iEEG/sEEG), on the cortical surface (ECoG), or on the scalp (EEG). \n",
    "\n",
    "Typically, we refer to the **local field potential (LFP)** when we're talking about field potentials detected by electrodes inserted directly into brain tissue -- such as stereo-EEG depth electrodes -- and **electrocorticography (ECoG)** when we're talking about field potentials detected by electrodes that sit on the surface of the brain. Often, you'll find both of these types of signals in one patient. \n",
    "\n",
    "<br>\n",
    "<center>\n",
    "<img src=\"https://media.springernature.com/m685/springer-static/image/art%3A10.1038%2Fs41593-018-0171-8/MediaObjects/41593_2018_171_Fig1_HTML.jpg\" width=400>\n",
    "</center>\n",
    "\n",
    "The exact neural source of a field potential is not always clear, and it can depend on the placement of an electrode relative to the underlying geometry of neurons and their component parts. For example, a scalp EEG electrode is detecting a field potential generated by the activity of millions of cells in a broad area of the brain near the electrode -- and filtered through the skull and scalp -- while a depth electrode placed in the hippocampus directly records the activity from only a few thousand cells.\n",
    "\n",
    "The synchronized activity of many cells near an electrode gives rise to an **oscillation**, or a rhythmic fluctuation of the field potential at a particular frequency. The presence of an oscillation is thought to indicate the coordinated neural activity of (or inputs to) a given region, but their origins are multifactorial. Oscillations themselves can affect the firing of neurons, making them an important phenomenon to study in the context of cognition and behavior. We'll talk more about oscillations tomorrow. \n",
    "\n",
    "### Invasive Monitoring for Epilepsy Surgery\n",
    "\n",
    "<center>\n",
    "<img src=\"https://github.com/esolomon/PythonBootcamp2019/blob/master/figures/iEEG_methods-01.jpg?raw=true\" width=700>\n",
    "</center>\n",
    "\n",
    "Why do we collect EEG? Noninvasive methods, such as scalp EEG and MEG, are safe to use on healthy people. But invasive recordings such as stereo-EEG and ECoG must be justified with a clinical need. Patients with medication-resistant epilepsy come to the hospital for surgical treatment of their epilepsy, in which epileptogenic brain tissue is ablated or removed. But in order to precisely localize this tissue, patients undergo monitoring during which EEG signals are recorded intracranially for several days or weeks, until sufficient seizure events are documented. \n",
    "\n",
    "* **(A)** shows a craniotomy, during which a part of the skull is removed so that a grid or strip electrode can be placed on the cortical surface. This method was more common several years ago, and comprises the bulk of early RAM and pre-RAM datasets. \n",
    "* **(B)** is a CT-MRI fusion depecting a depth electrode placed in the MTL. So-called \"stereo-EEG\" depth electrodes are far less invasive, since even a tiny hole in the skull is sufficient to slip one of these wires through. Nowadays, many patients are exclusively stereo-EEG. "
   ]
  },
  {
   "cell_type": "markdown",
   "metadata": {},
   "source": [
    "### Load the data (same as yesterday)"
   ]
  },
  {
   "cell_type": "code",
   "execution_count": 124,
   "metadata": {},
   "outputs": [],
   "source": [
    "#First, our import statements\n",
    "from cmlreaders import CMLReader, get_data_index\n",
    "\n",
    "#The \"r1\" database corresponds to all of the RAM subjects\n",
    "df = get_data_index(\"r1\")\n",
    "\n",
    "#Specify which subject and experiment we want\n",
    "sub = 'R1001P'\n",
    "exp = 'FR1'\n",
    "\n",
    "#Find out the sessions, localization, and montage for this subject\n",
    "sessions = list(df[(df['subject']==sub) & (df['experiment']==exp)]['session'])\n",
    "mont = int(df[(df['subject']==sub) & (df['experiment']==exp)].iloc()[0]['montage'])      #note that *usually* mont and loc will be 0.\n",
    "loc = int(df[(df['subject']==sub) & (df['experiment']==exp)].iloc()[0]['localization'])\n",
    "\n",
    "#For first session...\n",
    "reader = CMLReader(sub, exp, sessions[0], montage=mont, localization=loc)   #reader for loading CML data\n",
    "evs = reader.load('task_events')\n",
    "word_evs = evs[evs['type']=='WORD']\n",
    "pairs = reader.load('pairs')"
   ]
  },
  {
   "cell_type": "markdown",
   "metadata": {},
   "source": [
    "#### Load subject electrodes"
   ]
  },
  {
   "cell_type": "code",
   "execution_count": 125,
   "metadata": {},
   "outputs": [
    {
     "data": {
      "text/html": [
       "<div>\n",
       "<style scoped>\n",
       "    .dataframe tbody tr th:only-of-type {\n",
       "        vertical-align: middle;\n",
       "    }\n",
       "\n",
       "    .dataframe tbody tr th {\n",
       "        vertical-align: top;\n",
       "    }\n",
       "\n",
       "    .dataframe thead th {\n",
       "        text-align: right;\n",
       "    }\n",
       "</style>\n",
       "<table border=\"1\" class=\"dataframe\">\n",
       "  <thead>\n",
       "    <tr style=\"text-align: right;\">\n",
       "      <th></th>\n",
       "      <th>contact_1</th>\n",
       "      <th>contact_2</th>\n",
       "      <th>label</th>\n",
       "      <th>is_stim_only</th>\n",
       "      <th>type_1</th>\n",
       "      <th>type_2</th>\n",
       "      <th>avg.dural.region</th>\n",
       "      <th>avg.dural.x</th>\n",
       "      <th>avg.dural.y</th>\n",
       "      <th>avg.dural.z</th>\n",
       "      <th>...</th>\n",
       "      <th>ind.z</th>\n",
       "      <th>is_explicit</th>\n",
       "      <th>stein.region</th>\n",
       "      <th>stein.x</th>\n",
       "      <th>stein.y</th>\n",
       "      <th>stein.z</th>\n",
       "      <th>tal.region</th>\n",
       "      <th>tal.x</th>\n",
       "      <th>tal.y</th>\n",
       "      <th>tal.z</th>\n",
       "    </tr>\n",
       "  </thead>\n",
       "  <tbody>\n",
       "    <tr>\n",
       "      <th>0</th>\n",
       "      <td>2</td>\n",
       "      <td>3</td>\n",
       "      <td>LAF1-LAF2</td>\n",
       "      <td>False</td>\n",
       "      <td>S</td>\n",
       "      <td>S</td>\n",
       "      <td>rostralmiddlefrontal</td>\n",
       "      <td>-39.192639</td>\n",
       "      <td>50.946599</td>\n",
       "      <td>4.152569</td>\n",
       "      <td>...</td>\n",
       "      <td>3.955</td>\n",
       "      <td>False</td>\n",
       "      <td>NaN</td>\n",
       "      <td>NaN</td>\n",
       "      <td>NaN</td>\n",
       "      <td>NaN</td>\n",
       "      <td>NaN</td>\n",
       "      <td>-41.03220</td>\n",
       "      <td>59.643900</td>\n",
       "      <td>3.984425</td>\n",
       "    </tr>\n",
       "    <tr>\n",
       "      <th>1</th>\n",
       "      <td>3</td>\n",
       "      <td>4</td>\n",
       "      <td>LAF2-LAF3</td>\n",
       "      <td>False</td>\n",
       "      <td>S</td>\n",
       "      <td>S</td>\n",
       "      <td>rostralmiddlefrontal</td>\n",
       "      <td>-44.917132</td>\n",
       "      <td>42.021149</td>\n",
       "      <td>2.935475</td>\n",
       "      <td>...</td>\n",
       "      <td>2.135</td>\n",
       "      <td>False</td>\n",
       "      <td>NaN</td>\n",
       "      <td>NaN</td>\n",
       "      <td>NaN</td>\n",
       "      <td>NaN</td>\n",
       "      <td>NaN</td>\n",
       "      <td>-47.39695</td>\n",
       "      <td>50.175950</td>\n",
       "      <td>2.985235</td>\n",
       "    </tr>\n",
       "    <tr>\n",
       "      <th>2</th>\n",
       "      <td>4</td>\n",
       "      <td>5</td>\n",
       "      <td>LAF3-LAF4</td>\n",
       "      <td>False</td>\n",
       "      <td>S</td>\n",
       "      <td>S</td>\n",
       "      <td>parstriangularis</td>\n",
       "      <td>-51.443475</td>\n",
       "      <td>32.776203</td>\n",
       "      <td>0.906133</td>\n",
       "      <td>...</td>\n",
       "      <td>0.275</td>\n",
       "      <td>False</td>\n",
       "      <td>NaN</td>\n",
       "      <td>NaN</td>\n",
       "      <td>NaN</td>\n",
       "      <td>NaN</td>\n",
       "      <td>NaN</td>\n",
       "      <td>-52.58225</td>\n",
       "      <td>40.205850</td>\n",
       "      <td>2.020270</td>\n",
       "    </tr>\n",
       "    <tr>\n",
       "      <th>3</th>\n",
       "      <td>5</td>\n",
       "      <td>6</td>\n",
       "      <td>LAF4-LAF5</td>\n",
       "      <td>False</td>\n",
       "      <td>S</td>\n",
       "      <td>S</td>\n",
       "      <td>parstriangularis</td>\n",
       "      <td>-53.127559</td>\n",
       "      <td>20.610749</td>\n",
       "      <td>1.078647</td>\n",
       "      <td>...</td>\n",
       "      <td>-2.170</td>\n",
       "      <td>False</td>\n",
       "      <td>NaN</td>\n",
       "      <td>NaN</td>\n",
       "      <td>NaN</td>\n",
       "      <td>NaN</td>\n",
       "      <td>NaN</td>\n",
       "      <td>-55.65790</td>\n",
       "      <td>29.229950</td>\n",
       "      <td>0.533825</td>\n",
       "    </tr>\n",
       "    <tr>\n",
       "      <th>4</th>\n",
       "      <td>6</td>\n",
       "      <td>7</td>\n",
       "      <td>LAF5-LAF6</td>\n",
       "      <td>False</td>\n",
       "      <td>S</td>\n",
       "      <td>S</td>\n",
       "      <td>superiortemporal</td>\n",
       "      <td>-54.827944</td>\n",
       "      <td>9.408506</td>\n",
       "      <td>-1.535033</td>\n",
       "      <td>...</td>\n",
       "      <td>-4.580</td>\n",
       "      <td>False</td>\n",
       "      <td>NaN</td>\n",
       "      <td>NaN</td>\n",
       "      <td>NaN</td>\n",
       "      <td>NaN</td>\n",
       "      <td>NaN</td>\n",
       "      <td>-58.16045</td>\n",
       "      <td>18.282000</td>\n",
       "      <td>-0.864941</td>\n",
       "    </tr>\n",
       "    <tr>\n",
       "      <th>5</th>\n",
       "      <td>8</td>\n",
       "      <td>9</td>\n",
       "      <td>LPF1-LPF2</td>\n",
       "      <td>False</td>\n",
       "      <td>S</td>\n",
       "      <td>S</td>\n",
       "      <td>precentral</td>\n",
       "      <td>-24.288266</td>\n",
       "      <td>-21.993433</td>\n",
       "      <td>69.449639</td>\n",
       "      <td>...</td>\n",
       "      <td>58.145</td>\n",
       "      <td>False</td>\n",
       "      <td>NaN</td>\n",
       "      <td>NaN</td>\n",
       "      <td>NaN</td>\n",
       "      <td>NaN</td>\n",
       "      <td>NaN</td>\n",
       "      <td>-23.28825</td>\n",
       "      <td>-6.502335</td>\n",
       "      <td>75.985550</td>\n",
       "    </tr>\n",
       "    <tr>\n",
       "      <th>6</th>\n",
       "      <td>9</td>\n",
       "      <td>10</td>\n",
       "      <td>LPF2-LPF3</td>\n",
       "      <td>False</td>\n",
       "      <td>S</td>\n",
       "      <td>S</td>\n",
       "      <td>precentral</td>\n",
       "      <td>-34.375836</td>\n",
       "      <td>-21.925594</td>\n",
       "      <td>64.057323</td>\n",
       "      <td>...</td>\n",
       "      <td>52.900</td>\n",
       "      <td>False</td>\n",
       "      <td>NaN</td>\n",
       "      <td>NaN</td>\n",
       "      <td>NaN</td>\n",
       "      <td>NaN</td>\n",
       "      <td>NaN</td>\n",
       "      <td>-33.01185</td>\n",
       "      <td>-5.731280</td>\n",
       "      <td>69.615850</td>\n",
       "    </tr>\n",
       "    <tr>\n",
       "      <th>7</th>\n",
       "      <td>10</td>\n",
       "      <td>11</td>\n",
       "      <td>LPF3-LPF4</td>\n",
       "      <td>False</td>\n",
       "      <td>S</td>\n",
       "      <td>S</td>\n",
       "      <td>postcentral</td>\n",
       "      <td>-43.291239</td>\n",
       "      <td>-19.573794</td>\n",
       "      <td>57.242586</td>\n",
       "      <td>...</td>\n",
       "      <td>47.170</td>\n",
       "      <td>False</td>\n",
       "      <td>NaN</td>\n",
       "      <td>NaN</td>\n",
       "      <td>NaN</td>\n",
       "      <td>NaN</td>\n",
       "      <td>NaN</td>\n",
       "      <td>-42.69825</td>\n",
       "      <td>-4.948475</td>\n",
       "      <td>62.679950</td>\n",
       "    </tr>\n",
       "    <tr>\n",
       "      <th>8</th>\n",
       "      <td>11</td>\n",
       "      <td>12</td>\n",
       "      <td>LPF4-LPF5</td>\n",
       "      <td>False</td>\n",
       "      <td>S</td>\n",
       "      <td>S</td>\n",
       "      <td>postcentral</td>\n",
       "      <td>-49.751530</td>\n",
       "      <td>-16.783382</td>\n",
       "      <td>49.261240</td>\n",
       "      <td>...</td>\n",
       "      <td>40.485</td>\n",
       "      <td>False</td>\n",
       "      <td>NaN</td>\n",
       "      <td>NaN</td>\n",
       "      <td>NaN</td>\n",
       "      <td>NaN</td>\n",
       "      <td>NaN</td>\n",
       "      <td>-50.27110</td>\n",
       "      <td>-4.605505</td>\n",
       "      <td>54.716850</td>\n",
       "    </tr>\n",
       "    <tr>\n",
       "      <th>9</th>\n",
       "      <td>12</td>\n",
       "      <td>13</td>\n",
       "      <td>LPF5-LPF6</td>\n",
       "      <td>False</td>\n",
       "      <td>S</td>\n",
       "      <td>S</td>\n",
       "      <td>postcentral</td>\n",
       "      <td>-56.118505</td>\n",
       "      <td>-16.779853</td>\n",
       "      <td>40.019078</td>\n",
       "      <td>...</td>\n",
       "      <td>32.655</td>\n",
       "      <td>False</td>\n",
       "      <td>NaN</td>\n",
       "      <td>NaN</td>\n",
       "      <td>NaN</td>\n",
       "      <td>NaN</td>\n",
       "      <td>NaN</td>\n",
       "      <td>-56.84330</td>\n",
       "      <td>-5.308500</td>\n",
       "      <td>45.571450</td>\n",
       "    </tr>\n",
       "  </tbody>\n",
       "</table>\n",
       "<p>10 rows × 40 columns</p>\n",
       "</div>"
      ],
      "text/plain": [
       "   contact_1  contact_2      label  is_stim_only type_1 type_2  \\\n",
       "0          2          3  LAF1-LAF2         False      S      S   \n",
       "1          3          4  LAF2-LAF3         False      S      S   \n",
       "2          4          5  LAF3-LAF4         False      S      S   \n",
       "3          5          6  LAF4-LAF5         False      S      S   \n",
       "4          6          7  LAF5-LAF6         False      S      S   \n",
       "5          8          9  LPF1-LPF2         False      S      S   \n",
       "6          9         10  LPF2-LPF3         False      S      S   \n",
       "7         10         11  LPF3-LPF4         False      S      S   \n",
       "8         11         12  LPF4-LPF5         False      S      S   \n",
       "9         12         13  LPF5-LPF6         False      S      S   \n",
       "\n",
       "       avg.dural.region  avg.dural.x  avg.dural.y  avg.dural.z    ...      \\\n",
       "0  rostralmiddlefrontal   -39.192639    50.946599     4.152569    ...       \n",
       "1  rostralmiddlefrontal   -44.917132    42.021149     2.935475    ...       \n",
       "2      parstriangularis   -51.443475    32.776203     0.906133    ...       \n",
       "3      parstriangularis   -53.127559    20.610749     1.078647    ...       \n",
       "4      superiortemporal   -54.827944     9.408506    -1.535033    ...       \n",
       "5            precentral   -24.288266   -21.993433    69.449639    ...       \n",
       "6            precentral   -34.375836   -21.925594    64.057323    ...       \n",
       "7           postcentral   -43.291239   -19.573794    57.242586    ...       \n",
       "8           postcentral   -49.751530   -16.783382    49.261240    ...       \n",
       "9           postcentral   -56.118505   -16.779853    40.019078    ...       \n",
       "\n",
       "    ind.z  is_explicit  stein.region  stein.x stein.y  stein.z  tal.region  \\\n",
       "0   3.955        False           NaN      NaN     NaN      NaN         NaN   \n",
       "1   2.135        False           NaN      NaN     NaN      NaN         NaN   \n",
       "2   0.275        False           NaN      NaN     NaN      NaN         NaN   \n",
       "3  -2.170        False           NaN      NaN     NaN      NaN         NaN   \n",
       "4  -4.580        False           NaN      NaN     NaN      NaN         NaN   \n",
       "5  58.145        False           NaN      NaN     NaN      NaN         NaN   \n",
       "6  52.900        False           NaN      NaN     NaN      NaN         NaN   \n",
       "7  47.170        False           NaN      NaN     NaN      NaN         NaN   \n",
       "8  40.485        False           NaN      NaN     NaN      NaN         NaN   \n",
       "9  32.655        False           NaN      NaN     NaN      NaN         NaN   \n",
       "\n",
       "      tal.x      tal.y      tal.z  \n",
       "0 -41.03220  59.643900   3.984425  \n",
       "1 -47.39695  50.175950   2.985235  \n",
       "2 -52.58225  40.205850   2.020270  \n",
       "3 -55.65790  29.229950   0.533825  \n",
       "4 -58.16045  18.282000  -0.864941  \n",
       "5 -23.28825  -6.502335  75.985550  \n",
       "6 -33.01185  -5.731280  69.615850  \n",
       "7 -42.69825  -4.948475  62.679950  \n",
       "8 -50.27110  -4.605505  54.716850  \n",
       "9 -56.84330  -5.308500  45.571450  \n",
       "\n",
       "[10 rows x 40 columns]"
      ]
     },
     "execution_count": 125,
     "metadata": {},
     "output_type": "execute_result"
    }
   ],
   "source": [
    "contacts = reader.load('contacts')\n",
    "pairs = reader.load('pairs')  #loading all bipolar pairs, but use 'contacts' for non-rereferenced data\n",
    "pairs[:10]"
   ]
  },
  {
   "cell_type": "markdown",
   "metadata": {},
   "source": [
    "Some key attributes you may need in your analyses include: \n",
    "* label: The clinical label for each electrode, as determined in the hospital\n",
    "* ind.region: The anatomical region using the Desikan-Killiany atlas. \n",
    "* ind.x/y/z: Electrode coordinates in individual FreeSurfer space. \n",
    "* avg.x/y/z: Electrode coordintes in average FreeSurfer space. \n",
    "* tal.x/y/z or mni.x/y/z: Coordinates in Talairach or MNI space. \n",
    "* stein.region or das.region: Manually-confirmed labels for MTL subfields (mostly). Talk to me offline about getting these labels for recent subjects.\n",
    "\n",
    "(The x axis points to the right, the y axis to the front, and the z axis up.)\n",
    "\n",
    "* For a full description of fields in 'pairs' or 'contacts' structures, see: https://github.com/pennmem/neurorad_pipeline/blob/master/RELEASE_NOTES.md\n",
    "* For more information on brain coordinate systems, see: http://www.fieldtriptoolbox.org/faq/how_are_the_different_head_and_mri_coordinate_systems_defined/"
   ]
  },
  {
   "cell_type": "markdown",
   "metadata": {},
   "source": [
    "**Exercise: Plot the distributions of 'ind' x, y, and z values for all of R1001Ps electrodes.**"
   ]
  },
  {
   "cell_type": "markdown",
   "metadata": {},
   "source": [
    "**Exercise: How many electrodes does R1001P have placed in the postcentral gyrus? How many on the left and how many on the right?**"
   ]
  },
  {
   "cell_type": "markdown",
   "metadata": {},
   "source": [
    "### Load EEG"
   ]
  },
  {
   "cell_type": "markdown",
   "metadata": {},
   "source": [
    "Loading EEG is pretty simple -- use your reader's **'load_eeg'** method, and pass it an events dataframe, when you want to start/stop the EEG clip (in ms), and the electrodes you want. Use a **'pairs'** dataframe for bipolar data (see below) or a **'contacts'** dataframe for unrereferenced data.\n",
    "\n",
    "* Note that events and electrodes dataframes must be passed as slices, not individual rows. So index them like 'pairs[0:1]' or 'pairs.loc[0:1]' for the first electrode pair, not 'pairs.loc[0]'. Same goes for events!\n",
    "* Unrereferenced data is **not available** for subjects collected on the newer RAM ENS system. The ENS inherently records in bipolar fashion (to mitigate stimulation artifact). Passing a 'contacts' structure should yield an error if this is the case. "
   ]
  },
  {
   "cell_type": "code",
   "execution_count": 76,
   "metadata": {},
   "outputs": [
    {
     "data": {
      "text/plain": [
       "\u001b[0;31mSignature:\u001b[0m \u001b[0mreader\u001b[0m\u001b[0;34m.\u001b[0m\u001b[0mload_eeg\u001b[0m\u001b[0;34m(\u001b[0m\u001b[0mevents\u001b[0m\u001b[0;34m:\u001b[0m\u001b[0mUnion\u001b[0m\u001b[0;34m[\u001b[0m\u001b[0mpandas\u001b[0m\u001b[0;34m.\u001b[0m\u001b[0mcore\u001b[0m\u001b[0;34m.\u001b[0m\u001b[0mframe\u001b[0m\u001b[0;34m.\u001b[0m\u001b[0mDataFrame\u001b[0m\u001b[0;34m,\u001b[0m \u001b[0mNoneType\u001b[0m\u001b[0;34m]\u001b[0m\u001b[0;34m=\u001b[0m\u001b[0;32mNone\u001b[0m\u001b[0;34m,\u001b[0m \u001b[0mrel_start\u001b[0m\u001b[0;34m:\u001b[0m\u001b[0mint\u001b[0m\u001b[0;34m=\u001b[0m\u001b[0;32mNone\u001b[0m\u001b[0;34m,\u001b[0m \u001b[0mrel_stop\u001b[0m\u001b[0;34m:\u001b[0m\u001b[0mint\u001b[0m\u001b[0;34m=\u001b[0m\u001b[0;32mNone\u001b[0m\u001b[0;34m,\u001b[0m \u001b[0mscheme\u001b[0m\u001b[0;34m:\u001b[0m\u001b[0mUnion\u001b[0m\u001b[0;34m[\u001b[0m\u001b[0mpandas\u001b[0m\u001b[0;34m.\u001b[0m\u001b[0mcore\u001b[0m\u001b[0;34m.\u001b[0m\u001b[0mframe\u001b[0m\u001b[0;34m.\u001b[0m\u001b[0mDataFrame\u001b[0m\u001b[0;34m,\u001b[0m \u001b[0mNoneType\u001b[0m\u001b[0;34m]\u001b[0m\u001b[0;34m=\u001b[0m\u001b[0;32mNone\u001b[0m\u001b[0;34m)\u001b[0m\u001b[0;34m\u001b[0m\u001b[0m\n",
       "\u001b[0;31mDocstring:\u001b[0m\n",
       "Load EEG data.\n",
       "\n",
       "Keyword arguments\n",
       "-----------------\n",
       "events\n",
       "    Events to load EEG epochs from. Incompatible with passing\n",
       "    ``epochs``.\n",
       "rel_start\n",
       "    Start time in ms relative to passed event onsets. This parameter is\n",
       "    required when passing events and not used otherwise.\n",
       "rel_stop\n",
       "    Stop time in ms relative to passed event onsets. This  parameter is\n",
       "    required when passing events and not used otherwise.\n",
       "scheme\n",
       "    When specified, a bipolar scheme to rereference the data with and/or\n",
       "    filter by channel. Rereferencing is only possible if the data were\n",
       "    recorded in monopolar (a.k.a. common reference) mode.\n",
       "\n",
       "Returns\n",
       "-------\n",
       "EEGContainer\n",
       "\n",
       "Raises\n",
       "------\n",
       "RereferencingNotPossibleError\n",
       "    When passing ``scheme`` and the data do not support rereferencing.\n",
       "IncompatibleParametersError\n",
       "    When both ``events`` and ``epochs`` are specified or ``events`` are\n",
       "    used without passing ``rel_start`` and/or ``rel_stop``.\n",
       "\u001b[0;31mFile:\u001b[0m      ~/anaconda3/envs/CML/lib/python3.6/site-packages/cmlreaders/cmlreader.py\n",
       "\u001b[0;31mType:\u001b[0m      method\n"
      ]
     },
     "metadata": {},
     "output_type": "display_data"
    }
   ],
   "source": [
    "reader.load_eeg?"
   ]
  },
  {
   "cell_type": "code",
   "execution_count": 233,
   "metadata": {},
   "outputs": [
    {
     "name": "stderr",
     "output_type": "stream",
     "text": [
      "/home1/esolo/anaconda3/envs/CML/lib/python3.6/site-packages/cmlreaders/path_finder.py:238: MultiplePathsFoundWarning: Multiple files found: /protocols/r1/subjects/R1001P/experiments/FR1/sessions/0/ephys/current_processed/sources.json\n",
      "/data/eeg/R1001P/eeg.noreref/params.txt returning the first file found\n",
      "  warnings.warn(msg, MultiplePathsFoundWarning)\n"
     ]
    }
   ],
   "source": [
    "#Grab EEG for the first five events from the first seven electrodes\n",
    "eeg = reader.load_eeg(events=word_evs[0:5], rel_start=0, rel_stop=1600, scheme=pairs[0:7])"
   ]
  },
  {
   "cell_type": "code",
   "execution_count": 234,
   "metadata": {},
   "outputs": [
    {
     "name": "stdout",
     "output_type": "stream",
     "text": [
      "(5, 7, 800)\n",
      "28000\n"
     ]
    }
   ],
   "source": [
    "#The output is a CMLReaders 'EEGContainer' object, which has several attributes you can explore with TAB. \n",
    "print(eeg.shape)  #the output shape is events x electrodes x samples\n",
    "\n",
    "#Access the EEG data with the 'data' attribute\n",
    "print(eeg.data.size)\n",
    "\n",
    "#As we'll explore later, you may want the EEG in a PTSA or MNE format:\n",
    "eeg_ptsa = eeg.to_ptsa()\n",
    "eeg_mne = eeg.to_mne()"
   ]
  },
  {
   "cell_type": "code",
   "execution_count": 235,
   "metadata": {},
   "outputs": [
    {
     "data": {
      "text/plain": [
       "Text(0.5,1,'Sample EEG trace')"
      ]
     },
     "execution_count": 235,
     "metadata": {},
     "output_type": "execute_result"
    },
    {
     "data": {
      "image/png": "[encoded data removed]",
      "text/plain": [
       "<Figure size 540x216 with 1 Axes>"
      ]
     },
     "metadata": {},
     "output_type": "display_data"
    }
   ],
   "source": [
    "#Plot some example data\n",
    "plt.figure(figsize=(7.5, 3)); ax=plt.subplot(111)\n",
    "plt.plot(eeg.data[2, 2, :])\n",
    "plt.ylabel('EEG Voltage'); plt.xlabel('Time (samples)')\n",
    "plt.title('Sample EEG trace')"
   ]
  },
  {
   "cell_type": "markdown",
   "metadata": {},
   "source": [
    "This is the fundamental unit of all of the analyses you'll do in the lab -- the EEG timeseries! Whether from scalp or intracranial, our core interest is understanding the properties of these timeseries relative to interesting behavioral or cognitive events. Typically, we understand EEG signals with **spectral decomposition**, which will be covered tomorrow."
   ]
  },
  {
   "cell_type": "markdown",
   "metadata": {},
   "source": [
    "**Exercise: Get EEG data for the first five word events from all (bipolar) electrodes placed in the temporal cortex, and plot it.**"
   ]
  },
  {
   "cell_type": "code",
   "execution_count": null,
   "metadata": {},
   "outputs": [],
   "source": []
  },
  {
   "cell_type": "markdown",
   "metadata": {},
   "source": [
    "### Referencing"
   ]
  },
  {
   "cell_type": "markdown",
   "metadata": {},
   "source": [
    "Electrical potentials inherently reflect some kind of differential. In the case of EEG data, the voltage fluctuations we measure really reflect a difference between an electrode of interest and a \"reference\" electrode placed elsewhere (such as the mastoid or an arbitrary location in the brain). As such, noise on the reference electrode -- and other sources -- can contaminate our measurement of true neural signal in the raw data. \n",
    "\n",
    "To solve this, it is common to \"re-reference\" EEG data to mitigate sources of noise. We could have a whole discussion about different ways to re-reference data, and the advantages/disadvantages of each, but there are two common ways of re-referencing I'll mention here. \n",
    "\n",
    "The most common re-reference used in this lab is the **bipolar** reference, in which the signal from each channel is subtracted from its neighbor. The result is an estimate of a cleaner signal that putatively reflects activity at the midpoint of the two physical recording contacts (we sometimes call this midpoint a **virtual electrode**). The bipolar reference has several advantages: (1) it's very simple to implement, (2) it typically does a good job at removing widespread noise, and (3) it ensures that your re-referenced traces reflect activity that is very close to the original electrodes. \n",
    "\n",
    "(One downside is that bipolar re-referencing can actually reduce your ability to detect true neural signals, or mislocalize its origin, especially if two adjancent electrodes were detecting a common source of electrical activity.)\n",
    "\n",
    "You may also encounter the **common average** reference, in which the average signal across all electrodes (or perhaps within a predefined anatomical region) is subtracted from each. This method is less likely to destroy local signals, and also does a good job removing widespread noise or reference noise, but can potentially contaminate originally-clean electrodes with unmitigated noise from a completely different part of the brain. \n",
    "\n",
    "Neither method is perfect, and there are more sophisiticated approaches out there. For the sake of this tutorial, we're going to focus on the bipolar reference. But it is often nice to try different referencing schemes in your analysis to ensure that your results don't change drastically from one to the other. \n",
    "\n",
    "<center>\n",
    "<img src=\"http://www.bem.fi/book/13/fi/1303.gif\">\n",
    "</center>"
   ]
  },
  {
   "cell_type": "code",
   "execution_count": 136,
   "metadata": {},
   "outputs": [
    {
     "name": "stderr",
     "output_type": "stream",
     "text": [
      "/home1/esolo/anaconda3/envs/CML/lib/python3.6/site-packages/cmlreaders/path_finder.py:238: MultiplePathsFoundWarning: Multiple files found: /protocols/r1/subjects/R1001P/experiments/FR1/sessions/0/ephys/current_processed/sources.json\n",
      "/data/eeg/R1001P/eeg.noreref/params.txt returning the first file found\n",
      "  warnings.warn(msg, MultiplePathsFoundWarning)\n"
     ]
    },
    {
     "data": {
      "text/plain": [
       "Text(0.5,1,'Database bipolar')"
      ]
     },
     "execution_count": 136,
     "metadata": {},
     "output_type": "execute_result"
    },
    {
     "data": {
      "image/png": "[encoded data removed]",
      "text/plain": [
       "<Figure size 540x216 with 1 Axes>"
      ]
     },
     "metadata": {},
     "output_type": "display_data"
    },
    {
     "data": {
      "image/png": "[encoded data removed]",
      "text/plain": [
       "<Figure size 540x216 with 1 Axes>"
      ]
     },
     "metadata": {},
     "output_type": "display_data"
    }
   ],
   "source": [
    "%matplotlib inline\n",
    "import pylab as plt\n",
    "import numpy as np\n",
    "\n",
    "#Let's take a look at how bipolar referencing actually works\n",
    "eeg1 = reader.load_eeg(events=word_evs[0:1], rel_start=0, rel_stop=1600, scheme=contacts[0:1])\n",
    "eeg2 = reader.load_eeg(events=word_evs[0:1], rel_start=0, rel_stop=1600, scheme=contacts[1:2])\n",
    "eeg_bipol = eeg1.data-eeg2.data\n",
    "\n",
    "plt.figure(figsize=(7.5, 3)); ax=plt.subplot(111)\n",
    "plt.plot(eeg_bipol[0, 0, :])\n",
    "plt.ylabel('EEG Voltage'); plt.xlabel('Time (samples)')\n",
    "plt.title('Manual bipolar')\n",
    "\n",
    "#Does this match our database's bipolar data?\n",
    "eeg = reader.load_eeg(events=word_evs[0:1], rel_start=0, rel_stop=1600, scheme=pairs[0:1])\n",
    "\n",
    "#First, let's load a clip of EEG from one electrode. For that, we'll need to use our reader's 'load_eeg' method:\n",
    "eeg = reader.load_eeg(events=word_evs[0:1], rel_start=0, rel_stop=1600, scheme=pairs[0:1])  #the reader requires slices, not single events\n",
    "\n",
    "plt.figure(figsize=(7.5, 3)); ax=plt.subplot(111)\n",
    "plt.plot(np.arange(eeg.shape[2])/float(eeg.samplerate), eeg.data[0, 0, :])\n",
    "plt.ylabel('EEG Voltage'); plt.xlabel('Time (samples)')\n",
    "plt.title('Database bipolar')"
   ]
  },
  {
   "cell_type": "markdown",
   "metadata": {},
   "source": [
    "## Check out some ERPs\n",
    "To carry out an ERP analysis on the voltage data, we must 1. Load the desired events, 2. Filter to only encoding\n",
    "events, 3. Get the voltage for all encoding events, 4. Z-Score the voltage, 5. Get a logical index of recall status, 6. Plot\n",
    "the average subsequently recalled and subsequently forgotten voltage traces."
   ]
  },
  {
   "cell_type": "code",
   "execution_count": 258,
   "metadata": {},
   "outputs": [
    {
     "name": "stderr",
     "output_type": "stream",
     "text": [
      "/home1/esolo/anaconda3/envs/CML/lib/python3.6/site-packages/cmlreaders/path_finder.py:238: MultiplePathsFoundWarning: Multiple files found: /protocols/r1/subjects/R1001P/experiments/FR1/sessions/0/ephys/current_processed/sources.json\n",
      "/data/eeg/R1001P/eeg.noreref/params.txt returning the first file found\n",
      "  warnings.warn(msg, MultiplePathsFoundWarning)\n"
     ]
    },
    {
     "data": {
      "text/plain": [
       "Text(0,0.5,'Z-scored Voltage')"
      ]
     },
     "execution_count": 258,
     "metadata": {},
     "output_type": "execute_result"
    },
    {
     "data": {
      "image/png": "[encoded data removed]",
      "text/plain": [
       "<Figure size 540x216 with 1 Axes>"
      ]
     },
     "metadata": {},
     "output_type": "display_data"
    },
    {
     "data": {
      "image/png": "[encoded data removed]",
      "text/plain": [
       "<Figure size 540x216 with 1 Axes>"
      ]
     },
     "metadata": {},
     "output_type": "display_data"
    }
   ],
   "source": [
    "#Load the EEG for encoding events\n",
    "eeg = reader.load_eeg(events=word_evs, rel_start=-100, rel_stop=1600, scheme=pairs[18:19])  #this is an occipital electrode\n",
    "\n",
    "#Get recalled/not recalled status\n",
    "rec_status = word_evs['recalled']\n",
    "\n",
    "mu = np.mean(np.mean(eeg.data[:, 0, :], 1), 0)\n",
    "std_ = np.std(np.mean(eeg.data[:, 0, :], 1), 0)\n",
    "\n",
    "zeeg = (eeg.data-mu)/std_\n",
    "\n",
    "#Plot the trace averaged across all events\n",
    "plt.figure(figsize=(7.5, 3)); ax=plt.subplot(111)\n",
    "plt.plot(np.mean(zeeg[:, 0, :], 0), linewidth=2,)\n",
    "plt.vlines([0.1*sr], ymin=ax.get_ylim()[0], ymax=ax.get_ylim()[1], linestyle='-', color='k')\n",
    "plt.hlines([0], xmin=ax.get_xlim()[0], xmax=ax.get_xlim()[1], linestyle='--', color='k')\n",
    "plt.xlabel('Time (samples)'); plt.ylabel('Z-scored Voltage')\n",
    "\n",
    "#Plot the trace for rec/nrec separately\n",
    "plt.figure(figsize=(7.5, 3)); ax=plt.subplot(111)\n",
    "plt.plot(np.mean(zeeg[rec_status, 0, :], 0), linewidth=2, label='Rec')\n",
    "plt.plot(np.mean(zeeg[~rec_status, 0, :], 0), linewidth=2, label='NRec')\n",
    "plt.vlines([0.1*sr], ymin=ax.get_ylim()[0], ymax=ax.get_ylim()[1], linestyle='-', color='k')\n",
    "plt.hlines([0], xmin=ax.get_xlim()[0], xmax=ax.get_xlim()[1], linestyle='--', color='k')\n",
    "plt.legend()\n",
    "plt.xlabel('Time (samples)'); plt.ylabel('Z-scored Voltage')"
   ]
  },
  {
   "cell_type": "markdown",
   "metadata": {},
   "source": [
    "**Exercise: Plot the ERP from a lateral occipital electrode using the common average reference instead of the bipolar. How does it differ?**"
   ]
  },
  {
   "cell_type": "code",
   "execution_count": null,
   "metadata": {},
   "outputs": [],
   "source": []
  },
  {
   "cell_type": "markdown",
   "metadata": {},
   "source": [
    "**Exercise: Plot the ERP in a 2-second span surrounding the recall of each word event. Does our occipital electrode show an effect? What about elsewhere in the brain?**"
   ]
  },
  {
   "cell_type": "code",
   "execution_count": null,
   "metadata": {},
   "outputs": [],
   "source": []
  },
  {
   "cell_type": "markdown",
   "metadata": {},
   "source": [
    "## Time-Frequency Decomposition\n",
    "\n",
    "Now we know how to load event data, electrode data, and EEG data. We're finally ready to start looking at some electrophysiology!\n",
    "\n",
    "Besides ERPs, the primary way neuroscientists understand EEG signals is to look for oscillations, or rhythmic fluctations in the voltage of an EEG signal. Some fluctuations occur very fast, cycling dozens of times in the span of a second, while others will see only 3 or 4 cycles a second. Breaking down EEG according to the contributions of oscillations at various frequencies is key to electrophysiological analysis. \n",
    "\n",
    "There are many ways to break down an EEG signal into its component frequencies and measure the contribution of each. In class, we'll switch gears to a short presentation on the Fourier Transform and time-frequency analysis ( https://github.com/pennmem/PythonBootcamp2018/blob/master/time_freq_analysis.pdf ). Don't worry if you don't get everything right away -- this is really meant to convey the big-picture ideas. \n",
    "\n",
    "<center>\n",
    "<img src=\"http://neurosky.com/wp-content/uploads/2015/05/Screen-Shot-2015-05-14-at-10.41.17-AM.png\" width=300>\n",
    "</center>\n",
    "\n",
    "Here's a few tips to keep in mind as you're analyzing spectral power in EEG signals: \n",
    "\n",
    "* We're often interested in **contrasts between conditions**, e.g. rememebered vs. not-remembered, or stimulus vs. baseline, etc. Interpreting raw power values can be difficult and should be done with care. \n",
    "* Many filters, like the Morlet wavelet, induce edge effects. Be sure to add an appropriately-sized **buffer** and remove it after filtering!\n",
    "* **Line noise** and harmonics (60 Hz, 120 Hz) can contaminate analyses of high-frequency activity. Re-referencing can mitigate it somewhat, but either avoid analyzing frequencies around 60 and 120 Hz or apply a notch filter to remove residual line noise. \n",
    "* **Nyquist limit**: The maximum frequency that can be resolved is equal to the sampling rate divided by two (F_s/2). Subjects are often sampled at 500 Hz or 1000 Hz, corresponding to maximum resolved frequencies of 250 Hz or 500 Hz. In practice, try not to get too close to the limit anyway. This is typically not an issue for any recent subjects, since our maximum frequency of interest is rarely >200 Hz or so.\n",
    "* **Bandwidth**: The lowest frequency that can be resolved in a timeseries, equal to 1/T, where T is the duration of the available time window. (Same as the smallest-possible frequency spacing.)\n",
    "* There is a **fundamental trade-off** between time resolution and frequency resolution. With greater frequency resolution comes worse time resolution, and vice versa. So resolving frequencies within ~1 Hz of each other, like in the theta range, is possible, but you will not be able to make judgments about the timing of effects beyond ~1 second. Try to use time windows that contain at least **3 cycles** of your lowest frequency of interest. \n",
    "\n",
    "<center>\n",
    "<img src=\"https://github.com/esolomon/PythonBootcamp2019/blob/master/figures/nyquist.png?raw=true\" width=700>\n",
    "</center>"
   ]
  },
  {
   "cell_type": "markdown",
   "metadata": {},
   "source": [
    "## Implementing time-frequency analyses in Python\n",
    "\n",
    "There are several Python toolboxes that have good implementations of various spectral decomposition methods. For the sake of the bootcamp, we're going to focus on two popular choices in the lab: MNE and PTSA (Python Time Series Analysis). \n",
    "\n",
    "* **MNE Python** is a suite of tools for analysis of neurophysiologic timeseries data. It's especially useful for EEG, but still has incredible functionality for ECoG/iEEG, which we're focusing on here. (https://martinos.org/mne/stable/index.html)\n",
    "\n",
    "* **PTSA** is another Python-based timeseries toolbox, designed by former members of the CML. It doesnt' have nearly the breadth of MNE, but does feature a very fast implementation of the Morlet Wavelet Transform. (https://github.com/pennmem/ptsa_new)\n",
    "\n",
    "Which toolbox you choose to use for your analyses is ultimately up to you. However, note that MNE is a well-documented and well-curated software suite with active professional backing, while PTSA is more of a home-grown approach to specific timeseries functionality. You may find that MNE's flexibility, and the wide variety of spectral analyses it supports, make it a better choice for most things."
   ]
  },
  {
   "cell_type": "markdown",
   "metadata": {},
   "source": [
    "### MNE Python\n",
    "Let's take a look at doing some basic spectral analyses with MNE! First, we'll load up the same dataset we've been working with the past few days. "
   ]
  },
  {
   "cell_type": "code",
   "execution_count": 1,
   "metadata": {},
   "outputs": [],
   "source": [
    "#First, our import statements\n",
    "from cmlreaders import CMLReader, get_data_index\n",
    "\n",
    "#The \"r1\" database corresponds to all of the RAM subjects\n",
    "df = get_data_index(\"r1\")\n",
    "\n",
    "#Specify which subject and experiment we want\n",
    "sub = 'R1001P'\n",
    "exp = 'FR1'\n",
    "\n",
    "#Find out the sessions, localization, and montage for this subject\n",
    "sessions = list(df[(df['subject']==sub) & (df['experiment']==exp)]['session'])\n",
    "mont = int(df[(df['subject']==sub) & (df['experiment']==exp)].iloc()[0]['montage'])      #note that *usually* mont and loc will be 0.\n",
    "loc = int(df[(df['subject']==sub) & (df['experiment']==exp)].iloc()[0]['localization'])\n",
    "\n",
    "#For first session...\n",
    "reader = CMLReader(sub, exp, sessions[0], montage=mont, localization=loc)   #reader for loading CML data\n",
    "evs = reader.load('task_events')\n",
    "word_evs = evs[evs['type']=='WORD']\n",
    "pairs = reader.load('pairs')"
   ]
  },
  {
   "cell_type": "code",
   "execution_count": 2,
   "metadata": {},
   "outputs": [
    {
     "name": "stderr",
     "output_type": "stream",
     "text": [
      "/home1/esolo/anaconda3/envs/CML/lib/python3.6/site-packages/cmlreaders/path_finder.py:238: MultiplePathsFoundWarning: Multiple files found: /protocols/r1/subjects/R1001P/experiments/FR1/sessions/0/ephys/current_processed/sources.json\n",
      "/data/eeg/R1001P/eeg.noreref/params.txt returning the first file found\n",
      "  warnings.warn(msg, MultiplePathsFoundWarning)\n"
     ]
    }
   ],
   "source": [
    "#Grab EEG for all events from the 70th electrode\n",
    "eeg_cml = reader.load_eeg(events=word_evs, rel_start=0, rel_stop=1000, scheme=pairs[70:71])"
   ]
  },
  {
   "cell_type": "markdown",
   "metadata": {},
   "source": [
    "First, we'll need to convert our CMLReaders data into an MNE format. Fortunately, this has been made ridiculously simple:"
   ]
  },
  {
   "cell_type": "code",
   "execution_count": 3,
   "metadata": {},
   "outputs": [],
   "source": [
    "import mne\n",
    "eeg = eeg_cml.to_mne()"
   ]
  },
  {
   "cell_type": "markdown",
   "metadata": {},
   "source": [
    "The basis of MNE is the **EpochsArray** structure. It's a Python object that nicely wraps up pertinent information about an EEG-type timeseries, including channel names, sample rates, and event information. Note how our eeg object has information about events and time, among others. It also supports more advanced functionality like filtering, re-referencing, and channel rejection, which we won't get in to right now.\n",
    "\n",
    "**(Tip: MNE functions can often take raw numpy arrays just as well as an EpochsArray -- just be sure you've got the array dimensions right!)**"
   ]
  },
  {
   "cell_type": "code",
   "execution_count": 4,
   "metadata": {},
   "outputs": [
    {
     "data": {
      "text/plain": [
       "\u001b[0;31mType:\u001b[0m        EpochsArray\n",
       "\u001b[0;31mString form:\u001b[0m\n",
       "<EpochsArray  |   300 events (all good), 0 - 0.998 sec, baseline off, ~1.2 MB, data loaded,\n",
       " '1': 300>\n",
       "\u001b[0;31mLength:\u001b[0m      300\n",
       "\u001b[0;31mFile:\u001b[0m        ~/anaconda3/envs/CML/lib/python3.6/site-packages/mne/epochs.py\n",
       "\u001b[0;31mDocstring:\u001b[0m  \n",
       "Epochs object from numpy array.\n",
       "\n",
       "Parameters\n",
       "----------\n",
       "data : array, shape (n_epochs, n_channels, n_times)\n",
       "    The channels' time series for each epoch. See notes for proper units of\n",
       "    measure.\n",
       "info : instance of Info\n",
       "    Info dictionary. Consider using ``create_info`` to populate\n",
       "    this structure.\n",
       "events : None | array of int, shape (n_events, 3)\n",
       "    The events typically returned by the read_events function.\n",
       "    If some events don't match the events of interest as specified\n",
       "    by event_id, they will be marked as 'IGNORED' in the drop log.\n",
       "    If None (default), all event values are set to 1 and event time-samples\n",
       "    are set to range(n_epochs).\n",
       "tmin : float\n",
       "    Start time before event. If nothing provided, defaults to 0.\n",
       "event_id : int | list of int | dict | None\n",
       "    The id of the event to consider. If dict,\n",
       "    the keys can later be used to access associated events. Example:\n",
       "    dict(auditory=1, visual=3). If int, a dict will be created with\n",
       "    the id as string. If a list, all events with the IDs specified\n",
       "    in the list are used. If None, all events will be used with\n",
       "    and a dict is created with string integer names corresponding\n",
       "    to the event id integers.\n",
       "reject : dict | None\n",
       "    Rejection parameters based on peak-to-peak amplitude.\n",
       "    Valid keys are 'grad' | 'mag' | 'eeg' | 'eog' | 'ecg'.\n",
       "    If reject is None then no rejection is done. Example::\n",
       "\n",
       "        reject = dict(grad=4000e-13, # T / m (gradiometers)\n",
       "                      mag=4e-12, # T (magnetometers)\n",
       "                      eeg=40e-6, # V (EEG channels)\n",
       "                      eog=250e-6 # V (EOG channels)\n",
       "                      )\n",
       "\n",
       "flat : dict | None\n",
       "    Rejection parameters based on flatness of signal.\n",
       "    Valid keys are 'grad' | 'mag' | 'eeg' | 'eog' | 'ecg', and values\n",
       "    are floats that set the minimum acceptable peak-to-peak amplitude.\n",
       "    If flat is None then no rejection is done.\n",
       "reject_tmin : scalar | None\n",
       "    Start of the time window used to reject epochs (with the default None,\n",
       "    the window will start with tmin).\n",
       "reject_tmax : scalar | None\n",
       "    End of the time window used to reject epochs (with the default None,\n",
       "    the window will end with tmax).\n",
       "baseline : None or tuple of length 2 (default None)\n",
       "    The time interval to apply baseline correction. If None do not apply\n",
       "    it. If baseline is (a, b) the interval is between \"a (s)\" and \"b (s)\".\n",
       "    If a is None the beginning of the data is used and if b is None then b\n",
       "    is set to the end of the interval. If baseline is equal to (None, None)\n",
       "    all the time interval is used. Correction is applied by computing mean\n",
       "    of the baseline period and subtracting it from the data. The baseline\n",
       "    (a, b) includes both endpoints, i.e. all timepoints t such that\n",
       "    a <= t <= b.\n",
       "proj : bool | 'delayed'\n",
       "    Apply SSP projection vectors. See :class:`mne.Epochs` for details.\n",
       "on_missing : str\n",
       "    See :class:`mne.Epochs` docstring for details.\n",
       "metadata : instance of pandas.DataFrame | None\n",
       "    See :class:`mne.Epochs` docstring for details.\n",
       "\n",
       "    .. versionadded:: 0.16\n",
       "selection : ndarray | None\n",
       "    The selection compared to the original set of epochs.\n",
       "    Can be None to use ``np.arange(len(events))``.\n",
       "\n",
       "    .. versionadded:: 0.16\n",
       "verbose : bool, str, int, or None\n",
       "    If not None, override default verbose level (see :func:`mne.verbose`\n",
       "    and :ref:`Logging documentation <tut_logging>` for more).\n",
       "\n",
       "Notes\n",
       "-----\n",
       "Proper units of measure:\n",
       "\n",
       "* V: eeg, eog, seeg, emg, ecg, bio, ecog\n",
       "* T: mag\n",
       "* T/m: grad\n",
       "* M: hbo, hbr\n",
       "* Am: dipole\n",
       "* AU: misc\n",
       "\n",
       "See Also\n",
       "--------\n",
       "create_info\n",
       "EvokedArray\n",
       "io.RawArray\n"
      ]
     },
     "metadata": {},
     "output_type": "display_data"
    }
   ],
   "source": [
    "eeg?"
   ]
  },
  {
   "cell_type": "code",
   "execution_count": 5,
   "metadata": {},
   "outputs": [
    {
     "data": {
      "text/plain": [
       "500.0"
      ]
     },
     "execution_count": 5,
     "metadata": {},
     "output_type": "execute_result"
    }
   ],
   "source": [
    "#Use this opportunity to tab-complete eeg's attributes.\n",
    "eeg.info['sfreq']"
   ]
  },
  {
   "cell_type": "code",
   "execution_count": 6,
   "metadata": {},
   "outputs": [
    {
     "name": "stdout",
     "output_type": "stream",
     "text": [
      "Effective window size : 0.512 (s)\n"
     ]
    }
   ],
   "source": [
    "#Let's take a look at the average power spectrum across these events (Welch's method)\n",
    "from mne import time_frequency\n",
    "\n",
    "psds, freqs = time_frequency.psd_welch(eeg, fmin=3, fmax=150)  #the output is size (events x channels x freqs)"
   ]
  },
  {
   "cell_type": "code",
   "execution_count": 7,
   "metadata": {},
   "outputs": [
    {
     "data": {
      "image/png": "[encoded data removed]",
      "text/plain": [
       "<Figure size 504x216 with 2 Axes>"
      ]
     },
     "metadata": {},
     "output_type": "display_data"
    },
    {
     "data": {
      "image/png": "[encoded data removed]",
      "text/plain": [
       "<Figure size 252x216 with 1 Axes>"
      ]
     },
     "metadata": {},
     "output_type": "display_data"
    }
   ],
   "source": [
    "#Plot our results\n",
    "%matplotlib inline\n",
    "from pylab import *\n",
    "\n",
    "#Plot individual trial example\n",
    "figure(figsize=(7, 3)); ax=subplot(121);\n",
    "plot(eeg.get_data()[10, 0, :]);\n",
    "title('EEG trace'); xlabel('Time (samples)'); ylabel('Voltage')\n",
    "ax=subplot(122);\n",
    "plot(freqs, np.log10(psds[10, 0, :]))\n",
    "title('Power Spectral Density'); xlabel('Frequency'); ylabel('log Power');\n",
    "tight_layout()\n",
    "\n",
    "figure(figsize=(3.5, 3)); ax=subplot(111)\n",
    "plot(freqs, np.mean(psds[:, 0, :], 0), linewidth=2)\n",
    "ylabel('PSD'); xlabel('Frequency (Hz)');"
   ]
  },
  {
   "cell_type": "markdown",
   "metadata": {},
   "source": [
    "Note how the power at high frequencies is significantly smaller than at low frequencies. This is a classic relationship found in many natural signals, called the **\"1/f\"** phenomenon. It means that the amplitude of high-frequency signals tends to be much smaller than the amplitude of low-frequency signals. \n",
    "\n",
    "Unfortunately, this relationship makes it difficult to visualize changes at high frequencies, or properly assess differences between frequency bands. This is why we almost always take the log of power values before going forward with our analyses. "
   ]
  },
  {
   "cell_type": "code",
   "execution_count": 273,
   "metadata": {},
   "outputs": [
    {
     "data": {
      "image/png": "[encoded data removed]",
      "text/plain": [
       "<Figure size 504x216 with 2 Axes>"
      ]
     },
     "metadata": {},
     "output_type": "display_data"
    }
   ],
   "source": [
    "log_psds = np.log10(psds)\n",
    "\n",
    "figure(figsize=(7, 3)); ax=subplot(121)\n",
    "plot(freqs, np.mean(log_psds[:, 0, :], 0), linewidth=2)\n",
    "ylabel('log(PSD)'); xlabel('Frequency (Hz)');\n",
    "\n",
    "#Plot on a log axis to better see low frequencies\n",
    "ax=subplot(122)\n",
    "semilogx(freqs, np.mean(log_psds[:, 0, :], 0), linewidth=2)\n",
    "ylabel('log(PSD)'); xlabel('Frequency (Hz)');\n",
    "\n",
    "tight_layout()  #This cleans up our plots a bit"
   ]
  },
  {
   "cell_type": "markdown",
   "metadata": {},
   "source": [
    "That's much better! We can definitely see more things going on at all points throughout our frequency range. Note that there are several other ways to normalize power values -- some of which we will discuss -- than can also be applied after an initial log transform."
   ]
  },
  {
   "cell_type": "markdown",
   "metadata": {},
   "source": [
    "**Exercise: Analyze 3 seconds of the power sectrum of the first channel. What do you notice?**"
   ]
  },
  {
   "cell_type": "code",
   "execution_count": 431,
   "metadata": {},
   "outputs": [
    {
     "name": "stdout",
     "output_type": "stream",
     "text": [
      "Effective window size : 0.512 (s)\n"
     ]
    },
    {
     "name": "stderr",
     "output_type": "stream",
     "text": [
      "/home1/esolo/anaconda3/envs/CML/lib/python3.6/site-packages/cmlreaders/path_finder.py:238: MultiplePathsFoundWarning: Multiple files found: /protocols/r1/subjects/R1001P/experiments/FR1/sessions/0/ephys/current_processed/sources.json\n",
      "/data/eeg/R1001P/eeg.noreref/params.txt returning the first file found\n",
      "  warnings.warn(msg, MultiplePathsFoundWarning)\n"
     ]
    },
    {
     "data": {
      "image/png": "[encoded data removed]",
      "text/plain": [
       "<Figure size 504x216 with 2 Axes>"
      ]
     },
     "metadata": {},
     "output_type": "display_data"
    },
    {
     "data": {
      "image/png": "[encoded data removed]",
      "text/plain": [
       "<Figure size 252x216 with 1 Axes>"
      ]
     },
     "metadata": {},
     "output_type": "display_data"
    }
   ],
   "source": [
    "eeg_cml = reader.load_eeg(events=word_evs, rel_start=0, rel_stop=3000, scheme=pairs[0:1])\n",
    "eeg = eeg_cml.to_mne()\n",
    "\n",
    "#Get power spectral densities\n",
    "psds, freqs = time_frequency.psd_welch(eeg, fmin=3, fmax=150)  #the output is size (events x channels x freqs)\n",
    "\n",
    "#Plot individual trial example\n",
    "figure(figsize=(7, 3)); ax=subplot(121);\n",
    "plot(eeg.get_data()[0, 0, :]);\n",
    "title('EEG trace'); xlabel('Time (samples)'); ylabel('Voltage')\n",
    "ax=subplot(122);\n",
    "plot(freqs, np.log10(psds[0, 0, :]))\n",
    "title('Power Spectral Density'); xlabel('Frequency'); ylabel('log Power');\n",
    "tight_layout()\n",
    "\n",
    "#Plot average PSD over all trials\n",
    "figure(figsize=(3.5, 3)); ax=subplot(111)\n",
    "plot(freqs, np.log10(np.mean(psds[:, 0, :], 0)), linewidth=2)\n",
    "title('Average PSD'); xlabel('Frequency (Hz)'); ylabel('log Power');"
   ]
  },
  {
   "cell_type": "code",
   "execution_count": 429,
   "metadata": {},
   "outputs": [
    {
     "data": {
      "text/plain": [
       "<matplotlib.collections.LineCollection at 0x2ae4b0bfcfd0>"
      ]
     },
     "execution_count": 429,
     "metadata": {},
     "output_type": "execute_result"
    },
    {
     "data": {
      "image/png": "[encoded data removed]",
      "text/plain": [
       "<Figure size 252x216 with 1 Axes>"
      ]
     },
     "metadata": {},
     "output_type": "display_data"
    }
   ],
   "source": [
    "#Where's the line noise?\n",
    "figure(figsize=(3.5, 3)); ax=subplot(111)\n",
    "plot(freqs, np.log10(np.mean(psds[:, 0, :], 0)), linewidth=2)\n",
    "title('Average PSD'); xlabel('Frequency (Hz)'); ylabel('log Power')\n",
    "vlines([60, 120], ymin=ax.get_ylim()[0], ymax=ax.get_ylim()[1], color='red', alpha=0.5)"
   ]
  },
  {
   "cell_type": "code",
   "execution_count": 432,
   "metadata": {},
   "outputs": [
    {
     "name": "stdout",
     "output_type": "stream",
     "text": [
      "Setting up band-stop filter from 58 - 62 Hz\n",
      "Setting up band-stop filter from 1.2e+02 - 1.2e+02 Hz\n",
      "Effective window size : 0.512 (s)\n"
     ]
    },
    {
     "data": {
      "text/plain": [
       "Text(0.5,1,'Notch Filtered Data')"
      ]
     },
     "execution_count": 432,
     "metadata": {},
     "output_type": "execute_result"
    },
    {
     "data": {
      "image/png": "[encoded data removed]",
      "text/plain": [
       "<Figure size 504x216 with 2 Axes>"
      ]
     },
     "metadata": {},
     "output_type": "display_data"
    },
    {
     "data": {
      "image/png": "[encoded data removed]",
      "text/plain": [
       "<Figure size 252x216 with 1 Axes>"
      ]
     },
     "metadata": {},
     "output_type": "display_data"
    }
   ],
   "source": [
    "#Here's a potential solution -- filtering out the 60 Hz electrical line noise and its harmonic at 120 Hz\n",
    "\n",
    "#Butterworth filtering: 60 Hz and 120 Hz\n",
    "filt_data = eeg.filter(l_freq=62., h_freq=58., method='iir')\n",
    "filt_data = filt_data.filter(l_freq=122., h_freq=118., method='iir')\n",
    "\n",
    "#Get power spectral densities\n",
    "psds, freqs = time_frequency.psd_welch(filt_data, fmin=3, fmax=150)  #the output is size (events x channels x freqs)\n",
    "\n",
    "#Plot individual trial example\n",
    "figure(figsize=(7, 3)); ax=subplot(121);\n",
    "plot(filt_data.get_data()[0, 0, :]);\n",
    "title('EEG trace'); xlabel('Time (samples)'); ylabel('Voltage')\n",
    "ax=subplot(122);\n",
    "plot(freqs, np.log10(psds[0, 0, :]))\n",
    "title('Power Spectral Density'); xlabel('Frequency'); ylabel('log Power')\n",
    "tight_layout()\n",
    "\n",
    "#Plot average PSD\n",
    "figure(figsize=(3.5, 3)); ax=subplot(111)\n",
    "plot(freqs, np.log10(np.mean(psds[:, 0, :], 0)), linewidth=2)\n",
    "title('Notch Filtered Data')"
   ]
  },
  {
   "cell_type": "code",
   "execution_count": 310,
   "metadata": {},
   "outputs": [
    {
     "name": "stdout",
     "output_type": "stream",
     "text": [
      "Effective window size : 0.512 (s)\n"
     ]
    },
    {
     "data": {
      "text/plain": [
       "Text(0.5,1,'Notch Filtered Data')"
      ]
     },
     "execution_count": 310,
     "metadata": {},
     "output_type": "execute_result"
    },
    {
     "data": {
      "image/png": "[encoded data removed]",
      "text/plain": [
       "<Figure size 252x216 with 1 Axes>"
      ]
     },
     "metadata": {},
     "output_type": "display_data"
    }
   ],
   "source": [
    "#spectrum_fit method\n",
    "filt_data = mne.filter.notch_filter(eeg.get_data(), Fs=500., freqs=[60, 120], method='spectrum_fit')\n",
    "\n",
    "#Get power spectral densities\n",
    "psds, freqs = time_frequency.psd_array_welch(filt_data, sfreq=500., fmin=3, fmax=150)  #the output is size (events x channels x freqs)\n",
    "\n",
    "figure(figsize=(3.5, 3)); ax=subplot(111)\n",
    "plot(freqs, np.log10(np.mean(psds[:, 0, :], 0)), linewidth=2)\n",
    "title('Notch Filtered Data')"
   ]
  },
  {
   "cell_type": "markdown",
   "metadata": {},
   "source": [
    "**Exercise: Compare the power spectra for channel 31 between remembered and not-remembered items. Do you notice any differences?**"
   ]
  },
  {
   "cell_type": "code",
   "execution_count": 276,
   "metadata": {},
   "outputs": [
    {
     "name": "stdout",
     "output_type": "stream",
     "text": [
      "Effective window size : 0.512 (s)\n",
      "Effective window size : 0.512 (s)\n"
     ]
    },
    {
     "name": "stderr",
     "output_type": "stream",
     "text": [
      "/home1/esolo/anaconda3/envs/CML/lib/python3.6/site-packages/cmlreaders/path_finder.py:238: MultiplePathsFoundWarning: Multiple files found: /protocols/r1/subjects/R1001P/experiments/FR1/sessions/0/ephys/current_processed/sources.json\n",
      "/data/eeg/R1001P/eeg.noreref/params.txt returning the first file found\n",
      "  warnings.warn(msg, MultiplePathsFoundWarning)\n"
     ]
    },
    {
     "data": {
      "image/png": "[encoded data removed]",
      "text/plain": [
       "<Figure size 252x216 with 1 Axes>"
      ]
     },
     "metadata": {},
     "output_type": "display_data"
    }
   ],
   "source": []
  },
  {
   "cell_type": "markdown",
   "metadata": {},
   "source": [
    "### Wavelet transform \n",
    "The wavelet transform is a powerful spectral decomposition method, since it explicitly lets us changes in the power spectrum over time. However, because this method involves convolving wavelets with our timeseries, we need to be sure to add buffers to either end of the signal (which we can clip off later). Otherwise, we'll end up eith edge effects that contaminate our results."
   ]
  },
  {
   "cell_type": "code",
   "execution_count": 382,
   "metadata": {},
   "outputs": [
    {
     "name": "stderr",
     "output_type": "stream",
     "text": [
      "/home1/esolo/anaconda3/envs/CML/lib/python3.6/site-packages/cmlreaders/path_finder.py:238: MultiplePathsFoundWarning: Multiple files found: /protocols/r1/subjects/R1001P/experiments/FR1/sessions/0/ephys/current_processed/sources.json\n",
      "/data/eeg/R1001P/eeg.noreref/params.txt returning the first file found\n",
      "  warnings.warn(msg, MultiplePathsFoundWarning)\n"
     ]
    },
    {
     "data": {
      "image/png": "[encoded data removed]",
      "text/plain": [
       "<Figure size 504x288 with 2 Axes>"
      ]
     },
     "metadata": {},
     "output_type": "display_data"
    }
   ],
   "source": [
    "##### Load EEG\n",
    "buf = 1000  #define the buffer (in ms) here. Should be at least half the total wavelet length at lowest frequency (i.e. 1/2f * n_cycles). With standard params, 1 sec usually suffices. \n",
    "sr = eeg_cml.samplerate #we'll need this soon\n",
    "eeg = reader.load_eeg(events=word_evs, rel_start=-1*buf, rel_stop=1000+buf, scheme=pairs[70:71]).to_mne()\n",
    "\n",
    "#Pre-define an array of frequencies. We can log-space them since wavelets are less sensitive to differences at higher frequencies\n",
    "myfreqs = np.logspace(np.log10(3), np.log10(150), num=15)\n",
    "\n",
    "#Run TF decomposition\n",
    "power = time_frequency.tfr_morlet(eeg, freqs=myfreqs, n_cycles=5, return_itc=False, average=True) #we're setting it to automatically average across trials\n",
    "\n",
    "#Plot results\n",
    "figure(figsize=(7., 4)); ax=subplot(111)\n",
    "matshow(np.log10(power.data[0, :, int(buf/1000.*sr):-1*int(buf/1000.*sr)]), fignum=0, aspect='auto', cmap='RdBu_r');  #we're cutting off the buffers manually here\n",
    "ax.invert_yaxis()\n",
    "yticks(np.arange(0, len(myfreqs)), np.round(myfreqs), fontsize=12)\n",
    "xlabel('Time (samples)', fontsize=14); ylabel('Frequency (Hz)', fontsize=14)\n",
    "cb = colorbar(); cb.set_label('log Power',)"
   ]
  },
  {
   "cell_type": "markdown",
   "metadata": {},
   "source": [
    "This is nice, but we're not seeing much interesting activity because our color scale is still getting squished by the difference between low and high frequency power (despite our log transform). What if we just look at low frequencies?"
   ]
  },
  {
   "cell_type": "code",
   "execution_count": 380,
   "metadata": {},
   "outputs": [
    {
     "data": {
      "image/png": "[encoded data removed]",
      "text/plain": [
       "<Figure size 504x288 with 2 Axes>"
      ]
     },
     "metadata": {},
     "output_type": "display_data"
    }
   ],
   "source": [
    "#Plot results\n",
    "figure(figsize=(7., 4)); ax=subplot(111)\n",
    "to_plot = power.data[0, 0:5, 500:-500]\n",
    "matshow(np.log10(to_plot), fignum=0, aspect='auto', cmap='RdBu_r');  #we're cutting off the buffers manually here\n",
    "ax.invert_yaxis()\n",
    "yticks(np.arange(0, len(myfreqs[0:5])), np.round(myfreqs[0:5]), fontsize=12)\n",
    "xticks(np.arange(0, to_plot.shape[1])[::100], np.arange(0, to_plot.shape[1])[::100]/500.)\n",
    "xlabel('Time (seconds)', fontsize=14); ylabel('Frequency (Hz)', fontsize=14)\n",
    "cb = colorbar(); cb.set_label('log Power',)"
   ]
  },
  {
   "cell_type": "markdown",
   "metadata": {},
   "source": [
    "Cool! looks like there's an increase in 7 Hz power shortly after word onset which dies out after a few hundred milliseconds.\n",
    "\n",
    "But what we *really* want to do is find the difference in power between rememebered and not-remembered trials, in order to isolate the neural activity specific to good episodic memory. Come back tomorrow to see how that's done!"
   ]
  },
  {
   "cell_type": "markdown",
   "metadata": {},
   "source": [
    "**Exercise: Try a different number of wavelet cycles. What happens to the 7 Hz effect?**"
   ]
  },
  {
   "cell_type": "code",
   "execution_count": null,
   "metadata": {},
   "outputs": [],
   "source": []
  },
  {
   "cell_type": "markdown",
   "metadata": {},
   "source": [
    "**Exercise: Play around with the number of wavelet cycles, frequency, and buffer sizes. What happens as you adjust these parameters?**"
   ]
  },
  {
   "cell_type": "code",
   "execution_count": null,
   "metadata": {},
   "outputs": [],
   "source": []
  },
  {
   "cell_type": "markdown",
   "metadata": {},
   "source": [
    "## PTSA\n",
    "\n",
    "PTSA is similar to MNE in its mission: To provide a general framework for timeseries analyses. While PTSA has much less institutional muscle behind it, it has a highly efficient implementation of the Morlet Wavelet Transform and the Butterworth Filter.\n",
    "\n",
    "The core of PTSA is the **TimeSeriesX object**, which is an elaborated form of the numpy recarray. In particular, the TimeSeriesX object enables users to keep track of dimension metadata even after filtering or transforming the data within the object. For example, TimeSeriesX objects in PTSA nicely wrap together EEG data or power data with event information. Let's take a look:"
   ]
  },
  {
   "cell_type": "code",
   "execution_count": 279,
   "metadata": {},
   "outputs": [
    {
     "name": "stderr",
     "output_type": "stream",
     "text": [
      "/home1/esolo/anaconda3/envs/CML/lib/python3.6/site-packages/cmlreaders/path_finder.py:238: MultiplePathsFoundWarning: Multiple files found: /protocols/r1/subjects/R1001P/experiments/FR1/sessions/0/ephys/current_processed/sources.json\n",
      "/data/eeg/R1001P/eeg.noreref/params.txt returning the first file found\n",
      "  warnings.warn(msg, MultiplePathsFoundWarning)\n"
     ]
    },
    {
     "data": {
      "text/plain": [
       "<xarray.TimeSeries (event: 300, channel: 1, time: 1500)>\n",
       "array([[[-2178, -2178, ..., -2280, -2283]],\n",
       "\n",
       "       [[-2193, -2199, ..., -2177, -2181]],\n",
       "\n",
       "       ...,\n",
       "\n",
       "       [[-2164, -2165, ..., -2124, -2121]],\n",
       "\n",
       "       [[-2190, -2186, ..., -2193, -2195]]], dtype=int16)\n",
       "Coordinates:\n",
       "  * event       (event) (numpy.record, [('index', '<i8'), ('eegfile', 'O'), ('eegoffset', '<i8'), ('exp_version', '<f8'), ('experiment', 'O'), ('intrusion', '<i8'), ('is_stim', '?'), ('item_name', 'O'), ('item_num', '<i8'), ('list', '<i8'), ('montage', '<i8'), ('msoffset', '<i8'), ('mstime', '<i8'), ('protocol', 'O'), ('recalled', '?'), ('rectime', '<i8'), ('serialpos', '<i8'), ('session', '<i8'), ('stim_list', '?'), ('stim_params', 'O'), ('subject', 'O'), ('type', 'O')]) (23, '/protocols/r1/subjects/R1001P/experiments/FR1/sessions/0/ephys/current_processed/noreref/R1001P_FR1_0_12Oct14_1034', 388959, 1.02, 'FR1', -999, False, 'HOUSE', 130, 1, 0, 1, 1413125314490, 'r1', False, -999, 1, 0, False, list([]), 'R1001P', 'WORD') ...\n",
       "  * channel     (channel) <U7 'RP6-RP7'\n",
       "  * time        (time) float64 -1e+03 -998.0 -996.0 -994.0 -992.0 -990.0 ...\n",
       "    samplerate  float64 500.0"
      ]
     },
     "execution_count": 279,
     "metadata": {},
     "output_type": "execute_result"
    }
   ],
   "source": [
    "#We need our data in the PTSA TimeseriesX format\n",
    "buf = 1000\n",
    "eeg_ptsa = reader.load_eeg(events=word_evs, rel_start=-1*buf, rel_stop=1000+buf, scheme=pairs[70:71]).to_ptsa()\n",
    "eeg_ptsa"
   ]
  },
  {
   "cell_type": "code",
   "execution_count": 280,
   "metadata": {},
   "outputs": [
    {
     "data": {
      "text/plain": [
       "array(['HOUSE', 'HAWK', 'WAND', 'GEESE', 'STAR'], dtype=object)"
      ]
     },
     "execution_count": 280,
     "metadata": {},
     "output_type": "execute_result"
    }
   ],
   "source": [
    "#We can access the original event information as follows: \n",
    "eeg_ptsa.event.data['item_name'][0:5]"
   ]
  },
  {
   "cell_type": "code",
   "execution_count": 281,
   "metadata": {},
   "outputs": [
    {
     "data": {
      "text/plain": [
       "(53, 1, 1500)"
      ]
     },
     "execution_count": 281,
     "metadata": {},
     "output_type": "execute_result"
    }
   ],
   "source": [
    "#And we can index our EEG data by information from the events structure!\n",
    "eeg_rec = eeg_ptsa[eeg_ptsa.event.data['recalled']==1]\n",
    "eeg_rec.shape"
   ]
  },
  {
   "cell_type": "markdown",
   "metadata": {},
   "source": [
    "(Note that MNE EpochsArray also supports events metadata, but the current implementation in CMLReaders discards events information.)"
   ]
  },
  {
   "cell_type": "code",
   "execution_count": 282,
   "metadata": {},
   "outputs": [
    {
     "data": {
      "text/plain": [
       "(1, 300, 1500)"
      ]
     },
     "execution_count": 282,
     "metadata": {},
     "output_type": "execute_result"
    }
   ],
   "source": [
    "#TimeSeriesX objects also support handy manipulations of the array structure, e.g.\n",
    "eeg_ptsa_alt = eeg_ptsa.transpose('channel', 'event', 'time')\n",
    "eeg_ptsa_alt.shape"
   ]
  },
  {
   "cell_type": "markdown",
   "metadata": {},
   "source": [
    "### Spectral Analysis"
   ]
  },
  {
   "cell_type": "code",
   "execution_count": 305,
   "metadata": {},
   "outputs": [],
   "source": [
    "from ptsa.data.filters import ButterworthFilter\n",
    "\n",
    "#Filter out line noise\n",
    "freq_range = [58., 62.]\n",
    "b_filter = ButterworthFilter(timeseries=eeg_ptsa, freq_range=freq_range, filt_type='stop', order=4)\n",
    "eeg_filtered = b_filter.filter()"
   ]
  },
  {
   "cell_type": "code",
   "execution_count": 284,
   "metadata": {},
   "outputs": [
    {
     "name": "stdout",
     "output_type": "stream",
     "text": [
      "CPP total time wavelet loop:  0.17738032341003418\n"
     ]
    }
   ],
   "source": [
    "from ptsa.data.filters import MorletWaveletFilter\n",
    "\n",
    "#Get spectral power\n",
    "myfreqs = np.logspace(np.log10(3), np.log10(150), 15)  #let's start with 3-170 Hz, 20 frequencies\n",
    "wf = MorletWaveletFilter(timeseries=eeg_filtered, freqs=myfreqs, width=5, output='power')\n",
    "pow_wavelet = wf.filter()  #output is freqs, events, elecs, and time\n",
    "pows = pow_wavelet.data[:, :, :, int((buf/1000.)*sr):-1*int((buf/1000.)*sr)]  #remove buffer period\n",
    "pows = np.log10(pows)   #take log of powers"
   ]
  },
  {
   "cell_type": "code",
   "execution_count": 285,
   "metadata": {},
   "outputs": [
    {
     "data": {
      "image/png": "[encoded data removed]",
      "text/plain": [
       "<Figure size 504x288 with 2 Axes>"
      ]
     },
     "metadata": {},
     "output_type": "display_data"
    }
   ],
   "source": [
    "#Plot results\n",
    "figure(figsize=(7., 4)); ax=subplot(111)\n",
    "matshow(np.mean(pows[:, :, 0, :], 1), fignum=0, aspect='auto', cmap='RdBu_r');  #we're cutting off the buffers manually here\n",
    "ax.invert_yaxis()\n",
    "yticks(np.arange(0, len(myfreqs)), np.round(myfreqs), fontsize=12)\n",
    "xlabel('Time (samples)', fontsize=14); ylabel('Frequency (Hz)', fontsize=14)\n",
    "colorbar();"
   ]
  },
  {
   "cell_type": "code",
   "execution_count": 287,
   "metadata": {},
   "outputs": [
    {
     "data": {
      "image/png": "[encoded data removed]",
      "text/plain": [
       "<Figure size 504x216 with 2 Axes>"
      ]
     },
     "metadata": {},
     "output_type": "display_data"
    }
   ],
   "source": [
    "#look at the average spectrum, and compare to our earlier results\n",
    "figure(figsize=(7, 3)); ax=subplot(121)\n",
    "plot(myfreqs, np.mean(np.mean(pows[:, :, 0, :], 1), 1), linewidth=2)\n",
    "ylabel('log Power'); xlabel('Frequency (Hz)')\n",
    "\n",
    "#Plot on a log axis to better see differences at low frequencies\n",
    "ax=subplot(122)\n",
    "semilogx(myfreqs, np.mean(np.mean(pows[:, :, 0, :], 1), 1), linewidth=2)\n",
    "ylabel('log Power'); xlabel('Frequency (Hz)')\n",
    "\n",
    "tight_layout()"
   ]
  },
  {
   "cell_type": "markdown",
   "metadata": {},
   "source": [
    "**Exercise: Compute the average time-frequency plot across all temporal cortex electrodes in subject R1111M**"
   ]
  },
  {
   "cell_type": "code",
   "execution_count": null,
   "metadata": {},
   "outputs": [],
   "source": []
  }
 ],
 "metadata": {
  "kernelspec": {
   "display_name": "environmentname",
   "language": "python",
   "name": "environmentname"
  },
  "language_info": {
   "codemirror_mode": {
    "name": "ipython",
    "version": 3
   },
   "file_extension": ".py",
   "mimetype": "text/x-python",
   "name": "python",
   "nbconvert_exporter": "python",
   "pygments_lexer": "ipython3",
   "version": "3.7.4"
  }
 },
 "nbformat": 4,
 "nbformat_minor": 4
}
